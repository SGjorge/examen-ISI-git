{
 "cells": [
  {
   "cell_type": "markdown",
   "metadata": {},
   "source": [
    "## EVA GARCIA DOMINGO"
   ]
  },
  {
   "cell_type": "code",
   "execution_count": 1,
   "metadata": {
    "collapsed": false,
    "scrolled": true
   },
   "outputs": [
    {
     "name": "stderr",
     "output_type": "stream",
     "text": [
      "/usr/local/lib/python3.4/dist-packages/IPython/config.py:13: ShimWarning: The `IPython.config` package has been deprecated. You should import from traitlets.config instead.\n",
      "  \"You should import from traitlets.config instead.\", ShimWarning)\n",
      "/usr/local/lib/python3.4/dist-packages/IPython/utils/traitlets.py:5: UserWarning: IPython.utils.traitlets has moved to a top-level traitlets package.\n",
      "  warn(\"IPython.utils.traitlets has moved to a top-level traitlets package.\")\n"
     ]
    },
    {
     "data": {
      "text/plain": [
       "'Connected: None@Baloncesto.db'"
      ]
     },
     "execution_count": 1,
     "metadata": {},
     "output_type": "execute_result"
    }
   ],
   "source": [
    "%load_ext sql\n",
    "%sql sqlite:///Baloncesto.db"
   ]
  },
  {
   "cell_type": "markdown",
   "metadata": {},
   "source": [
    "![Diagrama E/R](ER_2.jpg),"
   ]
  },
  {
   "cell_type": "code",
   "execution_count": 2,
   "metadata": {
    "collapsed": false,
    "scrolled": true
   },
   "outputs": [
    {
     "name": "stdout",
     "output_type": "stream",
     "text": [
      "Done.\n"
     ]
    },
    {
     "data": {
      "text/plain": [
       "[]"
      ]
     },
     "execution_count": 2,
     "metadata": {},
     "output_type": "execute_result"
    }
   ],
   "source": [
    "%%sql\n",
    "CREATE TABLE Participante\n",
    "(nif VARCHAR(10),\n",
    "nombre VARCHAR(30),\n",
    "primer_apell VARCHAR(30),\n",
    "seg_apell VARCHAR(30),\n",
    "fecha_nac DATETIME,\n",
    "PRIMARY KEY (nif));"
   ]
  },
  {
   "cell_type": "code",
   "execution_count": 3,
   "metadata": {
    "collapsed": false
   },
   "outputs": [
    {
     "name": "stdout",
     "output_type": "stream",
     "text": [
      "Done.\n"
     ]
    },
    {
     "data": {
      "text/plain": [
       "[]"
      ]
     },
     "execution_count": 3,
     "metadata": {},
     "output_type": "execute_result"
    }
   ],
   "source": [
    "%%sql\n",
    "CREATE TABLE Entrenador \n",
    "(nif VARCHAR(10),\n",
    "PRIMARY KEY (nif),\n",
    "FOREIGN KEY (nif) REFERENCES Participante(nif));"
   ]
  },
  {
   "cell_type": "code",
   "execution_count": 25,
   "metadata": {
    "collapsed": false
   },
   "outputs": [
    {
     "name": "stdout",
     "output_type": "stream",
     "text": [
      "Done.\n",
      "Done.\n"
     ]
    },
    {
     "data": {
      "text/plain": [
       "[]"
      ]
     },
     "execution_count": 25,
     "metadata": {},
     "output_type": "execute_result"
    }
   ],
   "source": [
    "%%sql\n",
    "DROP TABLE Jugador;\n",
    "CREATE TABLE Jugador \n",
    "(nif VARCHAR(10),\n",
    " estatura FLOAT,\n",
    " equipo VARCHAR(50) NOT NULL,\n",
    "PRIMARY KEY (nif),\n",
    "FOREIGN KEY (equipo) REFERENCES Equipo(nombre),\n",
    "FOREIGN KEY (nif) REFERENCES Participante(nif));"
   ]
  },
  {
   "cell_type": "code",
   "execution_count": 5,
   "metadata": {
    "collapsed": false
   },
   "outputs": [
    {
     "name": "stdout",
     "output_type": "stream",
     "text": [
      "1 rows affected.\n",
      "1 rows affected.\n",
      "1 rows affected.\n"
     ]
    },
    {
     "data": {
      "text/plain": [
       "[]"
      ]
     },
     "execution_count": 5,
     "metadata": {},
     "output_type": "execute_result"
    }
   ],
   "source": [
    "%%sql\n",
    "INSERT INTO Participante (nif, nombre, primer_apell, seg_apell, fecha_nac)\n",
    "VALUES('12345678L', 'Juan', 'Ramirez', 'Garcia', \"1992-12-15 12:00:00\");\n",
    "\n",
    "INSERT INTO Participante (nif, nombre, primer_apell, fecha_nac)\n",
    "VALUES('87654321S', 'Pedro', 'Gasol', \"1980-03-02 12:00:00\");\n",
    "\n",
    "INSERT INTO Participante (nif, nombre, primer_apell, seg_apell, fecha_nac)\n",
    "VALUES('87125476P', 'Jorge', 'Gordon', 'Llamo', \"1992-02-28 01:00:00\");"
   ]
  },
  {
   "cell_type": "code",
   "execution_count": 26,
   "metadata": {
    "collapsed": false
   },
   "outputs": [
    {
     "name": "stdout",
     "output_type": "stream",
     "text": [
      "1 rows affected.\n",
      "1 rows affected.\n"
     ]
    },
    {
     "data": {
      "text/plain": [
       "[]"
      ]
     },
     "execution_count": 26,
     "metadata": {},
     "output_type": "execute_result"
    }
   ],
   "source": [
    "%%sql\n",
    "INSERT INTO Jugador (nif, estatura, equipo) VALUES ('12345678L', 1.85, 'Estudiantes');\n",
    "INSERT INTO Jugador (nif, estatura, equipo) VALUES ('87125476P', 1.90, 'Real Madrid');"
   ]
  },
  {
   "cell_type": "code",
   "execution_count": 12,
   "metadata": {
    "collapsed": false
   },
   "outputs": [
    {
     "name": "stdout",
     "output_type": "stream",
     "text": [
      "1 rows affected.\n"
     ]
    },
    {
     "data": {
      "text/plain": [
       "[]"
      ]
     },
     "execution_count": 12,
     "metadata": {},
     "output_type": "execute_result"
    }
   ],
   "source": [
    "%sql INSERT INTO Entrenador(nif) VALUES ('87654321S');"
   ]
  },
  {
   "cell_type": "code",
   "execution_count": 13,
   "metadata": {
    "collapsed": false
   },
   "outputs": [
    {
     "name": "stdout",
     "output_type": "stream",
     "text": [
      "Done.\n"
     ]
    },
    {
     "data": {
      "text/html": [
       "<table>\n",
       "    <tr>\n",
       "        <th>nif</th>\n",
       "        <th>nombre</th>\n",
       "        <th>primer_apell</th>\n",
       "        <th>seg_apell</th>\n",
       "        <th>fecha_nac</th>\n",
       "    </tr>\n",
       "    <tr>\n",
       "        <td>12345678L</td>\n",
       "        <td>Juan</td>\n",
       "        <td>Ramirez</td>\n",
       "        <td>Garcia</td>\n",
       "        <td>1992-12-15 12:00:00</td>\n",
       "    </tr>\n",
       "    <tr>\n",
       "        <td>87654321S</td>\n",
       "        <td>Pedro</td>\n",
       "        <td>Gasol</td>\n",
       "        <td>None</td>\n",
       "        <td>1980-03-02 12:00:00</td>\n",
       "    </tr>\n",
       "    <tr>\n",
       "        <td>87125476P</td>\n",
       "        <td>Jorge</td>\n",
       "        <td>Gordon</td>\n",
       "        <td>Llamo</td>\n",
       "        <td>1992-02-28 01:00:00</td>\n",
       "    </tr>\n",
       "</table>"
      ],
      "text/plain": [
       "[('12345678L', 'Juan', 'Ramirez', 'Garcia', '1992-12-15 12:00:00'),\n",
       " ('87654321S', 'Pedro', 'Gasol', None, '1980-03-02 12:00:00'),\n",
       " ('87125476P', 'Jorge', 'Gordon', 'Llamo', '1992-02-28 01:00:00')]"
      ]
     },
     "execution_count": 13,
     "metadata": {},
     "output_type": "execute_result"
    }
   ],
   "source": [
    "%sql SELECT * FROM Participante"
   ]
  },
  {
   "cell_type": "code",
   "execution_count": 22,
   "metadata": {
    "collapsed": false
   },
   "outputs": [
    {
     "name": "stdout",
     "output_type": "stream",
     "text": [
      "Done.\n"
     ]
    },
    {
     "data": {
      "text/plain": [
       "[]"
      ]
     },
     "execution_count": 22,
     "metadata": {},
     "output_type": "execute_result"
    }
   ],
   "source": [
    "%%sql \n",
    "CREATE TABLE Ciudad\n",
    "(nombre VARCHAR(50),\n",
    "comunidad VARCHAR(50),\n",
    "PRIMARY KEY (nombre, comunidad))"
   ]
  },
  {
   "cell_type": "code",
   "execution_count": 37,
   "metadata": {
    "collapsed": false
   },
   "outputs": [
    {
     "name": "stdout",
     "output_type": "stream",
     "text": [
      "1 rows affected.\n",
      "1 rows affected.\n",
      "1 rows affected.\n",
      "1 rows affected.\n",
      "1 rows affected.\n",
      "1 rows affected.\n",
      "1 rows affected.\n"
     ]
    },
    {
     "data": {
      "text/plain": [
       "[]"
      ]
     },
     "execution_count": 37,
     "metadata": {},
     "output_type": "execute_result"
    }
   ],
   "source": [
    "%%sql\n",
    "INSERT INTO Ciudad (nombre, comunidad)\n",
    "VALUES ('Alcala', 'Madrid');\n",
    "\n",
    "INSERT INTO Ciudad (nombre, comunidad)\n",
    "VALUES ('Alcala', 'Granada');\n",
    "\n",
    "INSERT INTO Ciudad (nombre, comunidad)\n",
    "VALUES ('Madrid', 'Madrid');\n",
    "\n",
    "INSERT INTO Ciudad (nombre, comunidad)\n",
    "VALUES ('Navalcarnero', 'Madrid');\n",
    "\n",
    "INSERT INTO Ciudad (nombre, comunidad)\n",
    "VALUES ('Bilbao', 'Euskadi');\n",
    "\n",
    "INSERT INTO Ciudad (nombre, comunidad)\n",
    "VALUES ('Donosti', 'Euskadi');\n",
    "\n",
    "INSERT INTO Ciudad (nombre, comunidad)\n",
    "VALUES ('Vallecas', 'Madrid');"
   ]
  },
  {
   "cell_type": "code",
   "execution_count": 23,
   "metadata": {
    "collapsed": false
   },
   "outputs": [
    {
     "name": "stdout",
     "output_type": "stream",
     "text": [
      "Done.\n"
     ]
    },
    {
     "data": {
      "text/plain": [
       "[]"
      ]
     },
     "execution_count": 23,
     "metadata": {},
     "output_type": "execute_result"
    }
   ],
   "source": [
    "%%sql\n",
    "CREATE TABLE Equipo\n",
    "(nombre VARCHAR (50),\n",
    "nombre_ciudad VARCHAR(50),\n",
    "CA_ciudad VARCHAR(50),\n",
    "PRIMARY KEY (nombre, nombre_ciudad, CA_ciudad),\n",
    "FOREIGN KEY (nombre_ciudad) REFERENCES Ciudad(nombre),\n",
    "FOREIGN KEY (CA_ciudad) REFERENCES Ciudad(comunidad))"
   ]
  },
  {
   "cell_type": "code",
   "execution_count": 38,
   "metadata": {
    "collapsed": false
   },
   "outputs": [
    {
     "name": "stdout",
     "output_type": "stream",
     "text": [
      "1 rows affected.\n",
      "1 rows affected.\n",
      "1 rows affected.\n",
      "1 rows affected.\n",
      "1 rows affected.\n",
      "1 rows affected.\n"
     ]
    },
    {
     "data": {
      "text/plain": [
       "[]"
      ]
     },
     "execution_count": 38,
     "metadata": {},
     "output_type": "execute_result"
    }
   ],
   "source": [
    "%%sql\n",
    "INSERT INTO Equipo (nombre, nombre_ciudad, CA_ciudad)\n",
    "VALUES ('Estudiantes', 'Madrid', 'Madrid');\n",
    "\n",
    "INSERT INTO Equipo (nombre, nombre_ciudad, CA_ciudad)\n",
    "VALUES ('Bilbao Basket', 'Bilbao', 'Euskadi');\n",
    "\n",
    "INSERT INTO Equipo (nombre, nombre_ciudad, CA_ciudad)\n",
    "VALUES ('Ensanche de Vallecas', 'Vallecas', 'Madrid');\n",
    "\n",
    "INSERT INTO Equipo (nombre, nombre_ciudad, CA_ciudad)\n",
    "VALUES ('Real Madrid', 'Madrid', 'Madrid');\n",
    "\n",
    "INSERT INTO Equipo (nombre, nombre_ciudad, CA_ciudad)\n",
    "VALUES ('Atletico de Madrid', 'Madrid', 'Madrid');\n",
    "\n",
    "INSERT INTO Equipo (nombre, nombre_ciudad, CA_ciudad)\n",
    "VALUES ('Donosti Basket', 'Donosti', 'Euskadi');"
   ]
  },
  {
   "cell_type": "code",
   "execution_count": 4,
   "metadata": {
    "collapsed": false
   },
   "outputs": [
    {
     "name": "stdout",
     "output_type": "stream",
     "text": [
      "Done.\n"
     ]
    },
    {
     "data": {
      "text/html": [
       "<table>\n",
       "    <tr>\n",
       "        <th>nombre</th>\n",
       "        <th>Ciudad</th>\n",
       "        <th>Comunidad_autonoma</th>\n",
       "    </tr>\n",
       "    <tr>\n",
       "        <td>Estudiantes</td>\n",
       "        <td>Madrid</td>\n",
       "        <td>Madrid</td>\n",
       "    </tr>\n",
       "    <tr>\n",
       "        <td>Bilbao Basket</td>\n",
       "        <td>Bilbao</td>\n",
       "        <td>Euskadi</td>\n",
       "    </tr>\n",
       "    <tr>\n",
       "        <td>Ensanche de Vallecas</td>\n",
       "        <td>Vallecas</td>\n",
       "        <td>Madrid</td>\n",
       "    </tr>\n",
       "    <tr>\n",
       "        <td>Real Madrid</td>\n",
       "        <td>Madrid</td>\n",
       "        <td>Madrid</td>\n",
       "    </tr>\n",
       "    <tr>\n",
       "        <td>Atletico de Madrid</td>\n",
       "        <td>Madrid</td>\n",
       "        <td>Madrid</td>\n",
       "    </tr>\n",
       "    <tr>\n",
       "        <td>Donosti Basket</td>\n",
       "        <td>Donosti</td>\n",
       "        <td>Euskadi</td>\n",
       "    </tr>\n",
       "</table>"
      ],
      "text/plain": [
       "[('Estudiantes', 'Madrid', 'Madrid'),\n",
       " ('Bilbao Basket', 'Bilbao', 'Euskadi'),\n",
       " ('Ensanche de Vallecas', 'Vallecas', 'Madrid'),\n",
       " ('Real Madrid', 'Madrid', 'Madrid'),\n",
       " ('Atletico de Madrid', 'Madrid', 'Madrid'),\n",
       " ('Donosti Basket', 'Donosti', 'Euskadi')]"
      ]
     },
     "execution_count": 4,
     "metadata": {},
     "output_type": "execute_result"
    }
   ],
   "source": [
    "%%sql\n",
    "SELECT Equipo.nombre, nombre_ciudad AS 'Ciudad', CA_ciudad AS 'Comunidad_autonoma'\n",
    "FROM Equipo\n",
    "JOIN Ciudad\n",
    "ON Equipo.nombre_ciudad = Ciudad.nombre"
   ]
  },
  {
   "cell_type": "code",
   "execution_count": 49,
   "metadata": {
    "collapsed": false
   },
   "outputs": [
    {
     "name": "stdout",
     "output_type": "stream",
     "text": [
      "Done.\n"
     ]
    },
    {
     "data": {
      "text/html": [
       "<table>\n",
       "    <tr>\n",
       "        <th>Ciudad</th>\n",
       "        <th>Comunidad_autonoma</th>\n",
       "        <th>Equipo</th>\n",
       "    </tr>\n",
       "    <tr>\n",
       "        <td>Alcala</td>\n",
       "        <td>Madrid</td>\n",
       "        <td>None</td>\n",
       "    </tr>\n",
       "    <tr>\n",
       "        <td>Alcala</td>\n",
       "        <td>Granada</td>\n",
       "        <td>None</td>\n",
       "    </tr>\n",
       "    <tr>\n",
       "        <td>Madrid</td>\n",
       "        <td>Madrid</td>\n",
       "        <td>Atletico de Madrid</td>\n",
       "    </tr>\n",
       "    <tr>\n",
       "        <td>Madrid</td>\n",
       "        <td>Madrid</td>\n",
       "        <td>Estudiantes</td>\n",
       "    </tr>\n",
       "    <tr>\n",
       "        <td>Madrid</td>\n",
       "        <td>Madrid</td>\n",
       "        <td>Real Madrid</td>\n",
       "    </tr>\n",
       "    <tr>\n",
       "        <td>Navalcarnero</td>\n",
       "        <td>Madrid</td>\n",
       "        <td>None</td>\n",
       "    </tr>\n",
       "    <tr>\n",
       "        <td>Bilbao</td>\n",
       "        <td>Euskadi</td>\n",
       "        <td>Bilbao Basket</td>\n",
       "    </tr>\n",
       "    <tr>\n",
       "        <td>Donosti</td>\n",
       "        <td>Euskadi</td>\n",
       "        <td>Donosti Basket</td>\n",
       "    </tr>\n",
       "    <tr>\n",
       "        <td>Vallecas</td>\n",
       "        <td>Madrid</td>\n",
       "        <td>Ensanche de Vallecas</td>\n",
       "    </tr>\n",
       "</table>"
      ],
      "text/plain": [
       "[('Alcala', 'Madrid', None),\n",
       " ('Alcala', 'Granada', None),\n",
       " ('Madrid', 'Madrid', 'Atletico de Madrid'),\n",
       " ('Madrid', 'Madrid', 'Estudiantes'),\n",
       " ('Madrid', 'Madrid', 'Real Madrid'),\n",
       " ('Navalcarnero', 'Madrid', None),\n",
       " ('Bilbao', 'Euskadi', 'Bilbao Basket'),\n",
       " ('Donosti', 'Euskadi', 'Donosti Basket'),\n",
       " ('Vallecas', 'Madrid', 'Ensanche de Vallecas')]"
      ]
     },
     "execution_count": 49,
     "metadata": {},
     "output_type": "execute_result"
    }
   ],
   "source": [
    "%%sql\n",
    "SELECT Ciudad.nombre AS 'Ciudad', Ciudad.comunidad AS 'Comunidad_autonoma', Equipo.nombre AS 'Equipo'\n",
    "FROM Ciudad\n",
    "LEFT JOIN Equipo\n",
    "ON Equipo.nombre_ciudad = Ciudad.nombre"
   ]
  },
  {
   "cell_type": "code",
   "execution_count": 25,
   "metadata": {
    "collapsed": false
   },
   "outputs": [
    {
     "name": "stdout",
     "output_type": "stream",
     "text": [
      "Done.\n"
     ]
    },
    {
     "data": {
      "text/html": [
       "<table>\n",
       "    <tr>\n",
       "        <th>cid</th>\n",
       "        <th>name</th>\n",
       "        <th>type</th>\n",
       "        <th>notnull</th>\n",
       "        <th>dflt_value</th>\n",
       "        <th>pk</th>\n",
       "    </tr>\n",
       "    <tr>\n",
       "        <td>0</td>\n",
       "        <td>nombre</td>\n",
       "        <td>VARCHAR (50)</td>\n",
       "        <td>0</td>\n",
       "        <td>None</td>\n",
       "        <td>1</td>\n",
       "    </tr>\n",
       "    <tr>\n",
       "        <td>1</td>\n",
       "        <td>nombre_ciudad</td>\n",
       "        <td>VARCHAR(50)</td>\n",
       "        <td>0</td>\n",
       "        <td>None</td>\n",
       "        <td>2</td>\n",
       "    </tr>\n",
       "    <tr>\n",
       "        <td>2</td>\n",
       "        <td>CA_ciudad</td>\n",
       "        <td>VARCHAR(50)</td>\n",
       "        <td>0</td>\n",
       "        <td>None</td>\n",
       "        <td>3</td>\n",
       "    </tr>\n",
       "</table>"
      ],
      "text/plain": [
       "[(0, 'nombre', 'VARCHAR (50)', 0, None, 1),\n",
       " (1, 'nombre_ciudad', 'VARCHAR(50)', 0, None, 2),\n",
       " (2, 'CA_ciudad', 'VARCHAR(50)', 0, None, 3)]"
      ]
     },
     "execution_count": 25,
     "metadata": {},
     "output_type": "execute_result"
    }
   ],
   "source": [
    "%sql PRAGMA table_info(Equipo)"
   ]
  },
  {
   "cell_type": "code",
   "execution_count": 27,
   "metadata": {
    "collapsed": false
   },
   "outputs": [
    {
     "name": "stdout",
     "output_type": "stream",
     "text": [
      "Done.\n"
     ]
    },
    {
     "data": {
      "text/plain": [
       "[]"
      ]
     },
     "execution_count": 27,
     "metadata": {},
     "output_type": "execute_result"
    }
   ],
   "source": [
    "%%sql\n",
    "CREATE TABLE Cancha\n",
    "(nombre VARCHAR(20),\n",
    "direccion VARCHAR (60),\n",
    "nombre_ciudad VARCHAR(50),\n",
    "CA_ciudad VARCHAR(50),\n",
    "PRIMARY KEY (nombre, nombre_ciudad, CA_ciudad),\n",
    "FOREIGN KEY (nombre_ciudad) REFERENCES Ciudad(nombre),\n",
    "FOREIGN KEY (CA_ciudad) REFERENCES Ciudad(comunidad))"
   ]
  },
  {
   "cell_type": "code",
   "execution_count": 5,
   "metadata": {
    "collapsed": false
   },
   "outputs": [
    {
     "name": "stdout",
     "output_type": "stream",
     "text": [
      "Done.\n"
     ]
    },
    {
     "data": {
      "text/html": [
       "<table>\n",
       "    <tr>\n",
       "        <th>nombre</th>\n",
       "        <th>comunidad</th>\n",
       "    </tr>\n",
       "    <tr>\n",
       "        <td>Alcala</td>\n",
       "        <td>Madrid</td>\n",
       "    </tr>\n",
       "    <tr>\n",
       "        <td>Alcala</td>\n",
       "        <td>Granada</td>\n",
       "    </tr>\n",
       "    <tr>\n",
       "        <td>Madrid</td>\n",
       "        <td>Madrid</td>\n",
       "    </tr>\n",
       "    <tr>\n",
       "        <td>Navalcarnero</td>\n",
       "        <td>Madrid</td>\n",
       "    </tr>\n",
       "    <tr>\n",
       "        <td>Bilbao</td>\n",
       "        <td>Euskadi</td>\n",
       "    </tr>\n",
       "    <tr>\n",
       "        <td>Donosti</td>\n",
       "        <td>Euskadi</td>\n",
       "    </tr>\n",
       "    <tr>\n",
       "        <td>Vallecas</td>\n",
       "        <td>Madrid</td>\n",
       "    </tr>\n",
       "</table>"
      ],
      "text/plain": [
       "[('Alcala', 'Madrid'),\n",
       " ('Alcala', 'Granada'),\n",
       " ('Madrid', 'Madrid'),\n",
       " ('Navalcarnero', 'Madrid'),\n",
       " ('Bilbao', 'Euskadi'),\n",
       " ('Donosti', 'Euskadi'),\n",
       " ('Vallecas', 'Madrid')]"
      ]
     },
     "execution_count": 5,
     "metadata": {},
     "output_type": "execute_result"
    }
   ],
   "source": [
    "%sql SELECT * FROM Ciudad"
   ]
  },
  {
   "cell_type": "code",
   "execution_count": 7,
   "metadata": {
    "collapsed": false
   },
   "outputs": [
    {
     "name": "stdout",
     "output_type": "stream",
     "text": [
      "Done.\n"
     ]
    },
    {
     "data": {
      "text/html": [
       "<table>\n",
       "    <tr>\n",
       "        <th>nombre</th>\n",
       "        <th>nombre_ciudad</th>\n",
       "        <th>CA_ciudad</th>\n",
       "    </tr>\n",
       "    <tr>\n",
       "        <td>Estudiantes</td>\n",
       "        <td>Madrid</td>\n",
       "        <td>Madrid</td>\n",
       "    </tr>\n",
       "    <tr>\n",
       "        <td>Bilbao Basket</td>\n",
       "        <td>Bilbao</td>\n",
       "        <td>Euskadi</td>\n",
       "    </tr>\n",
       "    <tr>\n",
       "        <td>Ensanche de Vallecas</td>\n",
       "        <td>Vallecas</td>\n",
       "        <td>Madrid</td>\n",
       "    </tr>\n",
       "    <tr>\n",
       "        <td>Real Madrid</td>\n",
       "        <td>Madrid</td>\n",
       "        <td>Madrid</td>\n",
       "    </tr>\n",
       "    <tr>\n",
       "        <td>Atletico de Madrid</td>\n",
       "        <td>Madrid</td>\n",
       "        <td>Madrid</td>\n",
       "    </tr>\n",
       "    <tr>\n",
       "        <td>Donosti Basket</td>\n",
       "        <td>Donosti</td>\n",
       "        <td>Euskadi</td>\n",
       "    </tr>\n",
       "</table>"
      ],
      "text/plain": [
       "[('Estudiantes', 'Madrid', 'Madrid'),\n",
       " ('Bilbao Basket', 'Bilbao', 'Euskadi'),\n",
       " ('Ensanche de Vallecas', 'Vallecas', 'Madrid'),\n",
       " ('Real Madrid', 'Madrid', 'Madrid'),\n",
       " ('Atletico de Madrid', 'Madrid', 'Madrid'),\n",
       " ('Donosti Basket', 'Donosti', 'Euskadi')]"
      ]
     },
     "execution_count": 7,
     "metadata": {},
     "output_type": "execute_result"
    }
   ],
   "source": [
    "%sql Select * FROM Equipo"
   ]
  },
  {
   "cell_type": "code",
   "execution_count": 8,
   "metadata": {
    "collapsed": false
   },
   "outputs": [
    {
     "name": "stdout",
     "output_type": "stream",
     "text": [
      "1 rows affected.\n",
      "1 rows affected.\n",
      "1 rows affected.\n",
      "1 rows affected.\n",
      "1 rows affected.\n",
      "1 rows affected.\n"
     ]
    },
    {
     "data": {
      "text/plain": [
       "[]"
      ]
     },
     "execution_count": 8,
     "metadata": {},
     "output_type": "execute_result"
    }
   ],
   "source": [
    "%%sql\n",
    "INSERT INTO Cancha (nombre, direccion, nombre_ciudad, CA_ciudad)\n",
    "VALUES ('A', 'Askatasuna Etorb, 13', 'Bilbao', 'Euskadi');\n",
    "\n",
    "INSERT INTO Cancha (nombre, direccion, nombre_ciudad, CA_ciudad)\n",
    "VALUES ('B', 'C/ Hortaleza, 1', 'Madrid', 'Madrid');\n",
    "\n",
    "INSERT INTO Cancha (nombre, direccion, nombre_ciudad, CA_ciudad)\n",
    "VALUES ('C', 'Camino Sintra, s/n' , 'Madrid', 'Madrid');\n",
    "\n",
    "INSERT INTO Cancha (nombre, direccion, nombre_ciudad, CA_ciudad)\n",
    "VALUES ('D', 'Paseo de la Virgen del puerto, 67', 'Madrid', 'Madrid');\n",
    "\n",
    "INSERT INTO Cancha (nombre, direccion, nombre_ciudad, CA_ciudad)\n",
    "VALUES ('E', 'C/ Felipe Alvarez, 3', 'Vallecas', 'Madrid');\n",
    "\n",
    "INSERT INTO Cancha (nombre, direccion, nombre_ciudad, CA_ciudad)\n",
    "VALUES ('F', 'Paseo de Anoeta, 22', 'Donosti', 'Euskadi');"
   ]
  },
  {
   "cell_type": "markdown",
   "metadata": {},
   "source": [
    "En la relacion entrena_en, cuando un entrenador deje de entrenar a un equipo, habrá que cambiar fecha_fin\n",
    "(por defecto null) y añadir luego la entrada para el entrenador nuevo.\n",
    "\n",
    "Habrá que especificar al usuario que añada entradas que un equipo tiene que tener obligatoriamente una cancha \n",
    "asociada"
   ]
  },
  {
   "cell_type": "code",
   "execution_count": 34,
   "metadata": {
    "collapsed": false
   },
   "outputs": [
    {
     "name": "stdout",
     "output_type": "stream",
     "text": [
      "Done.\n"
     ]
    },
    {
     "data": {
      "text/plain": [
       "[]"
      ]
     },
     "execution_count": 34,
     "metadata": {},
     "output_type": "execute_result"
    }
   ],
   "source": [
    "%%sql\n",
    "CREATE TABLE Entrena_en\n",
    "(nif_entrenador VARCHAR(10),\n",
    "cancha VARCHAR(20),\n",
    "equipo VARCHAR(50),\n",
    "inicio DATETIME,\n",
    "fin DATETIME,\n",
    "PRIMARY KEY (nif_entrenador, cancha, equipo)\n",
    "FOREIGN KEY (nif_entrenador) REFERENCES Entrenador (nif),\n",
    "FOREIGN KEY (cancha) REFERENCES Cancha(nombre),\n",
    "FOREIGN KEY (equipo) REFERENCES Equipo (nombre))"
   ]
  },
  {
   "cell_type": "code",
   "execution_count": 9,
   "metadata": {
    "collapsed": false
   },
   "outputs": [
    {
     "name": "stdout",
     "output_type": "stream",
     "text": [
      "Done.\n"
     ]
    },
    {
     "data": {
      "text/html": [
       "<table>\n",
       "    <tr>\n",
       "        <th>nif</th>\n",
       "    </tr>\n",
       "    <tr>\n",
       "        <td>87654321S</td>\n",
       "    </tr>\n",
       "</table>"
      ],
      "text/plain": [
       "[('87654321S',)]"
      ]
     },
     "execution_count": 9,
     "metadata": {},
     "output_type": "execute_result"
    }
   ],
   "source": [
    "%sql SELECT * FROM Entrenador"
   ]
  },
  {
   "cell_type": "code",
   "execution_count": 10,
   "metadata": {
    "collapsed": false
   },
   "outputs": [
    {
     "name": "stdout",
     "output_type": "stream",
     "text": [
      "1 rows affected.\n",
      "1 rows affected.\n",
      "1 rows affected.\n",
      "1 rows affected.\n",
      "1 rows affected.\n",
      "1 rows affected.\n"
     ]
    },
    {
     "data": {
      "text/plain": [
       "[]"
      ]
     },
     "execution_count": 10,
     "metadata": {},
     "output_type": "execute_result"
    }
   ],
   "source": [
    "%%sql \n",
    "INSERT INTO Participante (nif, nombre, primer_apell, seg_apell, fecha_nac)\n",
    "VALUES('34566688S', 'Sergio', 'Valdeolmillos', 'Moreno', \"1967-04-04 12:00:00\");\n",
    "\n",
    "INSERT INTO Participante (nif, nombre, primer_apell, fecha_nac)\n",
    "VALUES('34293589K', 'Pablo', 'Laso', \"1967-10-13 12:00:00\");\n",
    "\n",
    "INSERT INTO Participante (nif, nombre, primer_apell, fecha_nac)\n",
    "VALUES('14312129P', 'Jesus', 'Gil', \"1933-03-12 12:00:00\");\n",
    "\n",
    "INSERT INTO Participante (nif, nombre, primer_apell, fecha_nac)\n",
    "VALUES('87125000P', 'Alexander', 'Theriault', \"0000-00-00 01:00:00\");\n",
    "\n",
    "INSERT INTO Participante (nif, nombre, primer_apell, fecha_nac)\n",
    "VALUES('76129834J', 'Carles', 'Duran', \"1976-01-15 01:00:00\");\n",
    "\n",
    "INSERT INTO Participante (nif, nombre, primer_apell, fecha_nac)\n",
    "VALUES('77125000P', 'Sergio', 'Beristain', \"0000-00-00 01:00:00\");\n",
    "\n"
   ]
  },
  {
   "cell_type": "code",
   "execution_count": 11,
   "metadata": {
    "collapsed": false
   },
   "outputs": [
    {
     "name": "stdout",
     "output_type": "stream",
     "text": [
      "1 rows affected.\n",
      "1 rows affected.\n",
      "1 rows affected.\n",
      "1 rows affected.\n",
      "1 rows affected.\n",
      "1 rows affected.\n"
     ]
    },
    {
     "data": {
      "text/plain": [
       "[]"
      ]
     },
     "execution_count": 11,
     "metadata": {},
     "output_type": "execute_result"
    }
   ],
   "source": [
    "%%sql\n",
    "INSERT INTO Entrenador(nif) VALUES ('34566688S');\n",
    "INSERT INTO Entrenador(nif) VALUES ('34293589K');\n",
    "INSERT INTO Entrenador(nif) VALUES ('14312129P');\n",
    "INSERT INTO Entrenador(nif) VALUES ('87125000P');\n",
    "INSERT INTO Entrenador(nif) VALUES ('76129834J');\n",
    "INSERT INTO Entrenador(nif) VALUES ('77125000P');"
   ]
  },
  {
   "cell_type": "code",
   "execution_count": 13,
   "metadata": {
    "collapsed": false
   },
   "outputs": [
    {
     "name": "stdout",
     "output_type": "stream",
     "text": [
      "Done.\n"
     ]
    },
    {
     "data": {
      "text/html": [
       "<table>\n",
       "    <tr>\n",
       "        <th>nombre</th>\n",
       "        <th>direccion</th>\n",
       "        <th>nombre_ciudad</th>\n",
       "        <th>CA_ciudad</th>\n",
       "    </tr>\n",
       "    <tr>\n",
       "        <td>A</td>\n",
       "        <td>Askatasuna Etorb, 13</td>\n",
       "        <td>Bilbao</td>\n",
       "        <td>Euskadi</td>\n",
       "    </tr>\n",
       "    <tr>\n",
       "        <td>B</td>\n",
       "        <td>C/ Hortaleza, 1</td>\n",
       "        <td>Madrid</td>\n",
       "        <td>Madrid</td>\n",
       "    </tr>\n",
       "    <tr>\n",
       "        <td>C</td>\n",
       "        <td>Camino Sintra, s/n</td>\n",
       "        <td>Madrid</td>\n",
       "        <td>Madrid</td>\n",
       "    </tr>\n",
       "    <tr>\n",
       "        <td>D</td>\n",
       "        <td>Paseo de la Virgen del puerto, 67</td>\n",
       "        <td>Madrid</td>\n",
       "        <td>Madrid</td>\n",
       "    </tr>\n",
       "    <tr>\n",
       "        <td>E</td>\n",
       "        <td>C/ Felipe Alvarez, 3</td>\n",
       "        <td>Vallecas</td>\n",
       "        <td>Madrid</td>\n",
       "    </tr>\n",
       "    <tr>\n",
       "        <td>F</td>\n",
       "        <td>Paseo de Anoeta, 22</td>\n",
       "        <td>Donosti</td>\n",
       "        <td>Euskadi</td>\n",
       "    </tr>\n",
       "</table>"
      ],
      "text/plain": [
       "[('A', 'Askatasuna Etorb, 13', 'Bilbao', 'Euskadi'),\n",
       " ('B', 'C/ Hortaleza, 1', 'Madrid', 'Madrid'),\n",
       " ('C', 'Camino Sintra, s/n', 'Madrid', 'Madrid'),\n",
       " ('D', 'Paseo de la Virgen del puerto, 67', 'Madrid', 'Madrid'),\n",
       " ('E', 'C/ Felipe Alvarez, 3', 'Vallecas', 'Madrid'),\n",
       " ('F', 'Paseo de Anoeta, 22', 'Donosti', 'Euskadi')]"
      ]
     },
     "execution_count": 13,
     "metadata": {},
     "output_type": "execute_result"
    }
   ],
   "source": [
    "%sql SELECT * FROM Cancha;\n"
   ]
  },
  {
   "cell_type": "code",
   "execution_count": 17,
   "metadata": {
    "collapsed": false,
    "scrolled": true
   },
   "outputs": [
    {
     "name": "stdout",
     "output_type": "stream",
     "text": [
      "Done.\n"
     ]
    },
    {
     "data": {
      "text/html": [
       "<table>\n",
       "    <tr>\n",
       "        <th>nif</th>\n",
       "        <th>nif_1</th>\n",
       "        <th>nombre</th>\n",
       "        <th>primer_apell</th>\n",
       "        <th>seg_apell</th>\n",
       "        <th>fecha_nac</th>\n",
       "    </tr>\n",
       "    <tr>\n",
       "        <td>87654321S</td>\n",
       "        <td>87654321S</td>\n",
       "        <td>Pedro</td>\n",
       "        <td>Gasol</td>\n",
       "        <td>None</td>\n",
       "        <td>1980-03-02 12:00:00</td>\n",
       "    </tr>\n",
       "    <tr>\n",
       "        <td>34566688S</td>\n",
       "        <td>34566688S</td>\n",
       "        <td>Sergio</td>\n",
       "        <td>Valdeolmillos</td>\n",
       "        <td>Moreno</td>\n",
       "        <td>1967-04-04 12:00:00</td>\n",
       "    </tr>\n",
       "    <tr>\n",
       "        <td>34293589K</td>\n",
       "        <td>34293589K</td>\n",
       "        <td>Pablo</td>\n",
       "        <td>Laso</td>\n",
       "        <td>None</td>\n",
       "        <td>1967-10-13 12:00:00</td>\n",
       "    </tr>\n",
       "    <tr>\n",
       "        <td>14312129P</td>\n",
       "        <td>14312129P</td>\n",
       "        <td>Jesus</td>\n",
       "        <td>Gil</td>\n",
       "        <td>None</td>\n",
       "        <td>1933-03-12 12:00:00</td>\n",
       "    </tr>\n",
       "    <tr>\n",
       "        <td>87125000P</td>\n",
       "        <td>87125000P</td>\n",
       "        <td>Alexander</td>\n",
       "        <td>Theriault</td>\n",
       "        <td>None</td>\n",
       "        <td>0000-00-00 01:00:00</td>\n",
       "    </tr>\n",
       "    <tr>\n",
       "        <td>76129834J</td>\n",
       "        <td>76129834J</td>\n",
       "        <td>Carles</td>\n",
       "        <td>Duran</td>\n",
       "        <td>None</td>\n",
       "        <td>1976-01-15 01:00:00</td>\n",
       "    </tr>\n",
       "    <tr>\n",
       "        <td>77125000P</td>\n",
       "        <td>77125000P</td>\n",
       "        <td>Sergio</td>\n",
       "        <td>Beristain</td>\n",
       "        <td>None</td>\n",
       "        <td>0000-00-00 01:00:00</td>\n",
       "    </tr>\n",
       "</table>"
      ],
      "text/plain": [
       "[('87654321S', '87654321S', 'Pedro', 'Gasol', None, '1980-03-02 12:00:00'),\n",
       " ('34566688S', '34566688S', 'Sergio', 'Valdeolmillos', 'Moreno', '1967-04-04 12:00:00'),\n",
       " ('34293589K', '34293589K', 'Pablo', 'Laso', None, '1967-10-13 12:00:00'),\n",
       " ('14312129P', '14312129P', 'Jesus', 'Gil', None, '1933-03-12 12:00:00'),\n",
       " ('87125000P', '87125000P', 'Alexander', 'Theriault', None, '0000-00-00 01:00:00'),\n",
       " ('76129834J', '76129834J', 'Carles', 'Duran', None, '1976-01-15 01:00:00'),\n",
       " ('77125000P', '77125000P', 'Sergio', 'Beristain', None, '0000-00-00 01:00:00')]"
      ]
     },
     "execution_count": 17,
     "metadata": {},
     "output_type": "execute_result"
    }
   ],
   "source": [
    "%sql SELECT * FROM Entrenador JOIN Participante ON Entrenador.nif = Participante.nif;"
   ]
  },
  {
   "cell_type": "code",
   "execution_count": 16,
   "metadata": {
    "collapsed": false
   },
   "outputs": [
    {
     "name": "stdout",
     "output_type": "stream",
     "text": [
      "Done.\n"
     ]
    },
    {
     "data": {
      "text/html": [
       "<table>\n",
       "    <tr>\n",
       "        <th>nombre</th>\n",
       "        <th>nombre_ciudad</th>\n",
       "        <th>CA_ciudad</th>\n",
       "    </tr>\n",
       "    <tr>\n",
       "        <td>Estudiantes</td>\n",
       "        <td>Madrid</td>\n",
       "        <td>Madrid</td>\n",
       "    </tr>\n",
       "    <tr>\n",
       "        <td>Bilbao Basket</td>\n",
       "        <td>Bilbao</td>\n",
       "        <td>Euskadi</td>\n",
       "    </tr>\n",
       "    <tr>\n",
       "        <td>Ensanche de Vallecas</td>\n",
       "        <td>Vallecas</td>\n",
       "        <td>Madrid</td>\n",
       "    </tr>\n",
       "    <tr>\n",
       "        <td>Real Madrid</td>\n",
       "        <td>Madrid</td>\n",
       "        <td>Madrid</td>\n",
       "    </tr>\n",
       "    <tr>\n",
       "        <td>Atletico de Madrid</td>\n",
       "        <td>Madrid</td>\n",
       "        <td>Madrid</td>\n",
       "    </tr>\n",
       "    <tr>\n",
       "        <td>Donosti Basket</td>\n",
       "        <td>Donosti</td>\n",
       "        <td>Euskadi</td>\n",
       "    </tr>\n",
       "</table>"
      ],
      "text/plain": [
       "[('Estudiantes', 'Madrid', 'Madrid'),\n",
       " ('Bilbao Basket', 'Bilbao', 'Euskadi'),\n",
       " ('Ensanche de Vallecas', 'Vallecas', 'Madrid'),\n",
       " ('Real Madrid', 'Madrid', 'Madrid'),\n",
       " ('Atletico de Madrid', 'Madrid', 'Madrid'),\n",
       " ('Donosti Basket', 'Donosti', 'Euskadi')]"
      ]
     },
     "execution_count": 16,
     "metadata": {},
     "output_type": "execute_result"
    }
   ],
   "source": [
    "%sql SELECT * FROM Equipo"
   ]
  },
  {
   "cell_type": "code",
   "execution_count": 18,
   "metadata": {
    "collapsed": false
   },
   "outputs": [
    {
     "name": "stdout",
     "output_type": "stream",
     "text": [
      "1 rows affected.\n",
      "1 rows affected.\n",
      "1 rows affected.\n",
      "1 rows affected.\n",
      "1 rows affected.\n",
      "1 rows affected.\n"
     ]
    },
    {
     "data": {
      "text/plain": [
       "[]"
      ]
     },
     "execution_count": 18,
     "metadata": {},
     "output_type": "execute_result"
    }
   ],
   "source": [
    "%%sql \n",
    "INSERT INTO Entrena_en (nif_entrenador, cancha, equipo, inicio)\n",
    "VALUES ('34566688S', 'B', 'Estudiantes', '2016-09-01 00:00:00');\n",
    "\n",
    "INSERT INTO Entrena_en (nif_entrenador, cancha, equipo, inicio)\n",
    "VALUES ('34293589K', 'C', 'Real Madrid', '2016-09-01 00:00:00');\n",
    "\n",
    "INSERT INTO Entrena_en (nif_entrenador, cancha, equipo, inicio)\n",
    "VALUES ('14312129P', 'D', 'Aletico de Madrid', '2016-09-01 00:00:00');\n",
    "\n",
    "INSERT INTO Entrena_en (nif_entrenador, cancha, equipo, inicio)\n",
    "VALUES ('87125000P', 'E', 'Ensanche de Vallecas', '2016-09-01 00:00:00');\n",
    "\n",
    "INSERT INTO Entrena_en (nif_entrenador, cancha, equipo, inicio)\n",
    "VALUES ('76129834J', 'A', 'Bilbao Basket', '2016-09-01 00:00:00');\n",
    "\n",
    "INSERT INTO Entrena_en (nif_entrenador, cancha, equipo, inicio)\n",
    "VALUES ('77125000P', 'F', 'Donosti Basket', '2016-09-01 00:00:00');"
   ]
  },
  {
   "cell_type": "code",
   "execution_count": 35,
   "metadata": {
    "collapsed": false
   },
   "outputs": [
    {
     "name": "stdout",
     "output_type": "stream",
     "text": [
      "Done.\n"
     ]
    },
    {
     "data": {
      "text/plain": [
       "[]"
      ]
     },
     "execution_count": 35,
     "metadata": {},
     "output_type": "execute_result"
    }
   ],
   "source": [
    "%%sql\n",
    "CREATE TABLE Empresa\n",
    "(nombre VARCHAR (50),\n",
    "cif VARCHAR(15),\n",
    "PRIMARY KEY (cif))"
   ]
  },
  {
   "cell_type": "code",
   "execution_count": 19,
   "metadata": {
    "collapsed": false
   },
   "outputs": [
    {
     "name": "stdout",
     "output_type": "stream",
     "text": [
      "1 rows affected.\n",
      "1 rows affected.\n",
      "1 rows affected.\n"
     ]
    },
    {
     "data": {
      "text/plain": [
       "[]"
      ]
     },
     "execution_count": 19,
     "metadata": {},
     "output_type": "execute_result"
    }
   ],
   "source": [
    "%%sql \n",
    "INSERT INTO Empresa (nombre, cif)\n",
    "VALUES ('DOMINION', 'A58818501');\n",
    "\n",
    "INSERT INTO Empresa (nombre, cif)\n",
    "VALUES ('IDK Elektronika', 'A58534501');\n",
    "\n",
    "INSERT INTO Empresa (nombre, cif)\n",
    "VALUES ('Adidas', 'A12393351');"
   ]
  },
  {
   "cell_type": "markdown",
   "metadata": {},
   "source": [
    "De esta forma, una empresa puede patrocinar a varios equipos y un equipo puede ser patrocinado por varias empresas pero solo hay una pareja de empresa-equipo (siendo este equipo el de una ciudad, ya que puede haber varios equipos con el mismo nombre)"
   ]
  },
  {
   "cell_type": "code",
   "execution_count": 36,
   "metadata": {
    "collapsed": false
   },
   "outputs": [
    {
     "name": "stdout",
     "output_type": "stream",
     "text": [
      "Done.\n"
     ]
    },
    {
     "data": {
      "text/plain": [
       "[]"
      ]
     },
     "execution_count": 36,
     "metadata": {},
     "output_type": "execute_result"
    }
   ],
   "source": [
    "%%sql\n",
    "CREATE TABLE Patrocina_eq\n",
    "(cif VARCHAR(15),\n",
    "equipo VARCHAR(50),\n",
    "nombre_ciudad VARCHAR(50),\n",
    "CA_ciudad VARCHAR(50),\n",
    "PRIMARY KEY (cif, equipo, nombre_ciudad, CA_ciudad),\n",
    "FOREIGN KEY (nombre_ciudad) REFERENCES Ciudad(nombre),\n",
    "FOREIGN KEY (CA_ciudad) REFERENCES Ciudad(comunidad),\n",
    "FOREIGN KEY (cif) REFERENCES Empresa(cif),\n",
    "FOREIGN KEY (equipo) REFERENCES Equipo(nombre))"
   ]
  },
  {
   "cell_type": "code",
   "execution_count": 20,
   "metadata": {
    "collapsed": false
   },
   "outputs": [
    {
     "name": "stdout",
     "output_type": "stream",
     "text": [
      "1 rows affected.\n",
      "1 rows affected.\n",
      "1 rows affected.\n"
     ]
    },
    {
     "data": {
      "text/plain": [
       "[]"
      ]
     },
     "execution_count": 20,
     "metadata": {},
     "output_type": "execute_result"
    }
   ],
   "source": [
    "%%sql\n",
    "INSERT INTO Patrocina_eq (cif, equipo, nombre_ciudad, CA_ciudad)\n",
    "VALUES ('A58818501', 'Bilbao Basket', 'Bilbao', 'Euskadi');\n",
    "\n",
    "INSERT INTO Patrocina_eq (cif, equipo, nombre_ciudad, CA_ciudad)\n",
    "VALUES ('A58534501', 'Donosti Basket', 'Donosti', 'Euskadi');\n",
    "\n",
    "INSERT INTO Patrocina_eq (cif, equipo, nombre_ciudad, CA_ciudad)\n",
    "VALUES ('A12393351', 'Real Madrid', 'Madrid', 'Madrid');"
   ]
  },
  {
   "cell_type": "markdown",
   "metadata": {},
   "source": [
    "![Diagrama E/R](ER_3.jpg)"
   ]
  },
  {
   "cell_type": "markdown",
   "metadata": {},
   "source": [
    "Editada tabla Jugador para que contenga el equipo al que pertence"
   ]
  },
  {
   "cell_type": "code",
   "execution_count": 24,
   "metadata": {
    "collapsed": false
   },
   "outputs": [
    {
     "name": "stdout",
     "output_type": "stream",
     "text": [
      "Done.\n"
     ]
    },
    {
     "data": {
      "text/html": [
       "<table>\n",
       "    <tr>\n",
       "        <th>nif</th>\n",
       "        <th>estatura</th>\n",
       "        <th>equipo</th>\n",
       "    </tr>\n",
       "    <tr>\n",
       "        <td>12345678L</td>\n",
       "        <td>1.85</td>\n",
       "        <td>Estudiantes</td>\n",
       "    </tr>\n",
       "    <tr>\n",
       "        <td>87125476P</td>\n",
       "        <td>1.9</td>\n",
       "        <td>Real Madrid</td>\n",
       "    </tr>\n",
       "</table>"
      ],
      "text/plain": [
       "[('12345678L', 1.85, 'Estudiantes'), ('87125476P', 1.9, 'Real Madrid')]"
      ]
     },
     "execution_count": 24,
     "metadata": {},
     "output_type": "execute_result"
    }
   ],
   "source": [
    "%sql SELECT * FROM Jugador"
   ]
  },
  {
   "cell_type": "code",
   "execution_count": 10,
   "metadata": {
    "collapsed": false
   },
   "outputs": [
    {
     "name": "stdout",
     "output_type": "stream",
     "text": [
      "Done.\n",
      "Done.\n"
     ]
    },
    {
     "data": {
      "text/plain": [
       "[]"
      ]
     },
     "execution_count": 10,
     "metadata": {},
     "output_type": "execute_result"
    }
   ],
   "source": [
    "%%sql \n",
    "DROP TABLE Partido;\n",
    "CREATE TABLE Partido\n",
    "(id INTEGER PRIMARY KEY AUTOINCREMENT,\n",
    "inicio DATETIME,\n",
    "fin DATETIME,\n",
    "primer_tiempo INT,\n",
    "seg_tiempo INT,\n",
    "tercer_tiempo INT,\n",
    "cuarto_tiempo INT,\n",
    "FOREIGN KEY (primer_tiempo) REFERENCES Tiempo(id),\n",
    "FOREIGN KEY (seg_tiempo) REFERENCES Tiempo(id),\n",
    "FOREIGN KEY (tercer_tiempo) REFERENCES Tiempo(id),\n",
    "FOREIGN KEY (cuarto_tiempo) REFERENCES Tiempo(id));"
   ]
  },
  {
   "cell_type": "code",
   "execution_count": 15,
   "metadata": {
    "collapsed": false
   },
   "outputs": [
    {
     "name": "stdout",
     "output_type": "stream",
     "text": [
      "1 rows affected.\n",
      "1 rows affected.\n",
      "1 rows affected.\n"
     ]
    },
    {
     "data": {
      "text/plain": [
       "[]"
      ]
     },
     "execution_count": 15,
     "metadata": {},
     "output_type": "execute_result"
    }
   ],
   "source": [
    "%%sql\n",
    "INSERT INTO Partido (inicio, fin, primer_tiempo, seg_tiempo, tercer_tiempo, cuarto_tiempo)\n",
    "VALUES ('2016-09-01 20:00:00', '2016-09-01 21:45:30',1, 2, 3, 4);\n",
    "\n",
    "INSERT INTO Partido (inicio, fin, primer_tiempo, seg_tiempo, tercer_tiempo, cuarto_tiempo)\n",
    "VALUES ('2016-09-01 20:00:00', '2016-09-01 21:43:00', 5, 6, 7, 8);\n",
    "\n",
    "INSERT INTO Partido (inicio, fin, primer_tiempo, seg_tiempo, tercer_tiempo, cuarto_tiempo)\n",
    "VALUES ('2016-09-08 19:30:00', '2016-09-01 21:16:10', 9, 10, 11, 12);"
   ]
  },
  {
   "cell_type": "code",
   "execution_count": 17,
   "metadata": {
    "collapsed": false
   },
   "outputs": [
    {
     "name": "stdout",
     "output_type": "stream",
     "text": [
      "Done.\n"
     ]
    },
    {
     "data": {
      "text/html": [
       "<table>\n",
       "    <tr>\n",
       "        <th>id</th>\n",
       "        <th>inicio</th>\n",
       "        <th>fin</th>\n",
       "        <th>primer_tiempo</th>\n",
       "        <th>seg_tiempo</th>\n",
       "        <th>tercer_tiempo</th>\n",
       "        <th>cuarto_tiempo</th>\n",
       "    </tr>\n",
       "    <tr>\n",
       "        <td>1</td>\n",
       "        <td>2016-09-01 20:00:00</td>\n",
       "        <td>2016-09-01 21:45:30</td>\n",
       "        <td>1</td>\n",
       "        <td>2</td>\n",
       "        <td>3</td>\n",
       "        <td>4</td>\n",
       "    </tr>\n",
       "    <tr>\n",
       "        <td>2</td>\n",
       "        <td>2016-09-01 20:00:00</td>\n",
       "        <td>2016-09-01 21:43:00</td>\n",
       "        <td>5</td>\n",
       "        <td>6</td>\n",
       "        <td>7</td>\n",
       "        <td>8</td>\n",
       "    </tr>\n",
       "    <tr>\n",
       "        <td>3</td>\n",
       "        <td>2016-09-08 19:30:00</td>\n",
       "        <td>2016-09-01 21:16:10</td>\n",
       "        <td>9</td>\n",
       "        <td>10</td>\n",
       "        <td>11</td>\n",
       "        <td>12</td>\n",
       "    </tr>\n",
       "</table>"
      ],
      "text/plain": [
       "[(1, '2016-09-01 20:00:00', '2016-09-01 21:45:30', 1, 2, 3, 4),\n",
       " (2, '2016-09-01 20:00:00', '2016-09-01 21:43:00', 5, 6, 7, 8),\n",
       " (3, '2016-09-08 19:30:00', '2016-09-01 21:16:10', 9, 10, 11, 12)]"
      ]
     },
     "execution_count": 17,
     "metadata": {},
     "output_type": "execute_result"
    }
   ],
   "source": [
    "%sql SELECT * FROM Partido"
   ]
  },
  {
   "cell_type": "code",
   "execution_count": 37,
   "metadata": {
    "collapsed": false
   },
   "outputs": [
    {
     "name": "stdout",
     "output_type": "stream",
     "text": [
      "Done.\n",
      "Done.\n"
     ]
    },
    {
     "data": {
      "text/plain": [
       "[]"
      ]
     },
     "execution_count": 37,
     "metadata": {},
     "output_type": "execute_result"
    }
   ],
   "source": [
    "%%sql\n",
    "DROP TABLE Juega;\n",
    "CREATE TABLE Juega\n",
    "(equipo1 VARCHAR(50) NOT NULL,\n",
    "equipo2 VARCHAR(50) NOT NULL,\n",
    "partido_id INTEGER NOT NULL,\n",
    "cancha VARCHAR(30),\n",
    "PRIMARY KEY (equipo1, equipo2, partido_id),\n",
    "FOREIGN KEY (equipo1) REFERENCES Equipo(nombre),\n",
    "FOREIGN KEY (equipo2) REFERENCES Equipo(nombre),\n",
    "FOREIGN KEY (partido_id) REFERENCES Partido(id),\n",
    "FOREIGN KEY (cancha) REFERENCES Cancha(nombre));"
   ]
  },
  {
   "cell_type": "code",
   "execution_count": 30,
   "metadata": {
    "collapsed": false
   },
   "outputs": [
    {
     "name": "stdout",
     "output_type": "stream",
     "text": [
      "Done.\n"
     ]
    },
    {
     "data": {
      "text/html": [
       "<table>\n",
       "    <tr>\n",
       "        <th>cid</th>\n",
       "        <th>name</th>\n",
       "        <th>type</th>\n",
       "        <th>notnull</th>\n",
       "        <th>dflt_value</th>\n",
       "        <th>pk</th>\n",
       "    </tr>\n",
       "    <tr>\n",
       "        <td>0</td>\n",
       "        <td>equipo1</td>\n",
       "        <td>VARCHAR(50)</td>\n",
       "        <td>0</td>\n",
       "        <td>None</td>\n",
       "        <td>1</td>\n",
       "    </tr>\n",
       "    <tr>\n",
       "        <td>1</td>\n",
       "        <td>equipo2</td>\n",
       "        <td>VARCHAR(50)</td>\n",
       "        <td>0</td>\n",
       "        <td>None</td>\n",
       "        <td>2</td>\n",
       "    </tr>\n",
       "    <tr>\n",
       "        <td>2</td>\n",
       "        <td>partido_id</td>\n",
       "        <td>INTEGER</td>\n",
       "        <td>0</td>\n",
       "        <td>None</td>\n",
       "        <td>3</td>\n",
       "    </tr>\n",
       "    <tr>\n",
       "        <td>3</td>\n",
       "        <td>cancha_nombre</td>\n",
       "        <td>VARCHAR(30)</td>\n",
       "        <td>0</td>\n",
       "        <td>None</td>\n",
       "        <td>0</td>\n",
       "    </tr>\n",
       "</table>"
      ],
      "text/plain": [
       "[(0, 'equipo1', 'VARCHAR(50)', 0, None, 1),\n",
       " (1, 'equipo2', 'VARCHAR(50)', 0, None, 2),\n",
       " (2, 'partido_id', 'INTEGER', 0, None, 3),\n",
       " (3, 'cancha_nombre', 'VARCHAR(30)', 0, None, 0)]"
      ]
     },
     "execution_count": 30,
     "metadata": {},
     "output_type": "execute_result"
    }
   ],
   "source": [
    "%sql PRAGMA table_info (Juega)"
   ]
  },
  {
   "cell_type": "code",
   "execution_count": 33,
   "metadata": {
    "collapsed": false
   },
   "outputs": [
    {
     "name": "stdout",
     "output_type": "stream",
     "text": [
      "Done.\n"
     ]
    },
    {
     "data": {
      "text/html": [
       "<table>\n",
       "    <tr>\n",
       "        <th>nombre</th>\n",
       "        <th>nombre_ciudad</th>\n",
       "        <th>CA_ciudad</th>\n",
       "    </tr>\n",
       "    <tr>\n",
       "        <td>Estudiantes</td>\n",
       "        <td>Madrid</td>\n",
       "        <td>Madrid</td>\n",
       "    </tr>\n",
       "    <tr>\n",
       "        <td>Bilbao Basket</td>\n",
       "        <td>Bilbao</td>\n",
       "        <td>Euskadi</td>\n",
       "    </tr>\n",
       "    <tr>\n",
       "        <td>Ensanche de Vallecas</td>\n",
       "        <td>Vallecas</td>\n",
       "        <td>Madrid</td>\n",
       "    </tr>\n",
       "    <tr>\n",
       "        <td>Real Madrid</td>\n",
       "        <td>Madrid</td>\n",
       "        <td>Madrid</td>\n",
       "    </tr>\n",
       "    <tr>\n",
       "        <td>Atletico de Madrid</td>\n",
       "        <td>Madrid</td>\n",
       "        <td>Madrid</td>\n",
       "    </tr>\n",
       "    <tr>\n",
       "        <td>Donosti Basket</td>\n",
       "        <td>Donosti</td>\n",
       "        <td>Euskadi</td>\n",
       "    </tr>\n",
       "</table>"
      ],
      "text/plain": [
       "[('Estudiantes', 'Madrid', 'Madrid'),\n",
       " ('Bilbao Basket', 'Bilbao', 'Euskadi'),\n",
       " ('Ensanche de Vallecas', 'Vallecas', 'Madrid'),\n",
       " ('Real Madrid', 'Madrid', 'Madrid'),\n",
       " ('Atletico de Madrid', 'Madrid', 'Madrid'),\n",
       " ('Donosti Basket', 'Donosti', 'Euskadi')]"
      ]
     },
     "execution_count": 33,
     "metadata": {},
     "output_type": "execute_result"
    }
   ],
   "source": [
    "%sql SELECT * FROM Equipo"
   ]
  },
  {
   "cell_type": "code",
   "execution_count": 34,
   "metadata": {
    "collapsed": false
   },
   "outputs": [
    {
     "name": "stdout",
     "output_type": "stream",
     "text": [
      "Done.\n"
     ]
    },
    {
     "data": {
      "text/html": [
       "<table>\n",
       "    <tr>\n",
       "        <th>nombre</th>\n",
       "        <th>direccion</th>\n",
       "        <th>nombre_ciudad</th>\n",
       "        <th>CA_ciudad</th>\n",
       "    </tr>\n",
       "    <tr>\n",
       "        <td>A</td>\n",
       "        <td>Askatasuna Etorb, 13</td>\n",
       "        <td>Bilbao</td>\n",
       "        <td>Euskadi</td>\n",
       "    </tr>\n",
       "    <tr>\n",
       "        <td>B</td>\n",
       "        <td>C/ Hortaleza, 1</td>\n",
       "        <td>Madrid</td>\n",
       "        <td>Madrid</td>\n",
       "    </tr>\n",
       "    <tr>\n",
       "        <td>C</td>\n",
       "        <td>Camino Sintra, s/n</td>\n",
       "        <td>Madrid</td>\n",
       "        <td>Madrid</td>\n",
       "    </tr>\n",
       "    <tr>\n",
       "        <td>D</td>\n",
       "        <td>Paseo de la Virgen del puerto, 67</td>\n",
       "        <td>Madrid</td>\n",
       "        <td>Madrid</td>\n",
       "    </tr>\n",
       "    <tr>\n",
       "        <td>E</td>\n",
       "        <td>C/ Felipe Alvarez, 3</td>\n",
       "        <td>Vallecas</td>\n",
       "        <td>Madrid</td>\n",
       "    </tr>\n",
       "    <tr>\n",
       "        <td>F</td>\n",
       "        <td>Paseo de Anoeta, 22</td>\n",
       "        <td>Donosti</td>\n",
       "        <td>Euskadi</td>\n",
       "    </tr>\n",
       "</table>"
      ],
      "text/plain": [
       "[('A', 'Askatasuna Etorb, 13', 'Bilbao', 'Euskadi'),\n",
       " ('B', 'C/ Hortaleza, 1', 'Madrid', 'Madrid'),\n",
       " ('C', 'Camino Sintra, s/n', 'Madrid', 'Madrid'),\n",
       " ('D', 'Paseo de la Virgen del puerto, 67', 'Madrid', 'Madrid'),\n",
       " ('E', 'C/ Felipe Alvarez, 3', 'Vallecas', 'Madrid'),\n",
       " ('F', 'Paseo de Anoeta, 22', 'Donosti', 'Euskadi')]"
      ]
     },
     "execution_count": 34,
     "metadata": {},
     "output_type": "execute_result"
    }
   ],
   "source": [
    "%sql SELECT * FROM Cancha"
   ]
  },
  {
   "cell_type": "code",
   "execution_count": 38,
   "metadata": {
    "collapsed": false
   },
   "outputs": [
    {
     "name": "stdout",
     "output_type": "stream",
     "text": [
      "1 rows affected.\n",
      "1 rows affected.\n",
      "1 rows affected.\n"
     ]
    },
    {
     "data": {
      "text/plain": [
       "[]"
      ]
     },
     "execution_count": 38,
     "metadata": {},
     "output_type": "execute_result"
    }
   ],
   "source": [
    "%%sql\n",
    "INSERT INTO Juega(equipo1, equipo2, partido_id, cancha)\n",
    "VALUES ('Real Madrid', 'Estudiantes', 1, 'C');\n",
    "\n",
    "INSERT INTO Juega(equipo1, equipo2, partido_id, cancha)\n",
    "VALUES ('Donosti Basket', 'Bilbao Basket', 2, 'F');\n",
    "\n",
    "INSERT INTO Juega(equipo1, equipo2, partido_id, cancha)\n",
    "VALUES ('Real Madrid', 'Bilbao Basket', 3, 'A');"
   ]
  },
  {
   "cell_type": "code",
   "execution_count": 11,
   "metadata": {
    "collapsed": false
   },
   "outputs": [
    {
     "name": "stdout",
     "output_type": "stream",
     "text": [
      "Done.\n",
      "Done.\n"
     ]
    },
    {
     "data": {
      "text/plain": [
       "[]"
      ]
     },
     "execution_count": 11,
     "metadata": {},
     "output_type": "execute_result"
    }
   ],
   "source": [
    "%%sql\n",
    "DROP TABLE Posicion;\n",
    "CREATE TABLE Posicion\n",
    "(id INTEGER PRIMARY KEY AUTOINCREMENT,\n",
    "nombre VARCAHR(20),\n",
    "inicio DATETIME,\n",
    "fin DATETIME);"
   ]
  },
  {
   "cell_type": "markdown",
   "metadata": {},
   "source": [
    "Para añadir la posicion en la que ha jugado un jugador durante un periodo de tiempo de un partido, habrá que añadir primero en la tabla 'posicion' y luego añadirlo en la tabla 'jugó', para que no sea un atributo de esta relacion (tal posicion en tal periodo es un triplete propio y hay que guardarlos todos de cada partido)"
   ]
  },
  {
   "cell_type": "code",
   "execution_count": 3,
   "metadata": {
    "collapsed": false
   },
   "outputs": [
    {
     "name": "stdout",
     "output_type": "stream",
     "text": [
      "Done.\n"
     ]
    },
    {
     "data": {
      "text/html": [
       "<table>\n",
       "    <tr>\n",
       "        <th>id</th>\n",
       "        <th>inicio</th>\n",
       "        <th>fin</th>\n",
       "    </tr>\n",
       "    <tr>\n",
       "        <td>1</td>\n",
       "        <td>2016-09-01 20:00:00</td>\n",
       "        <td>2016-09-01 21:45:30</td>\n",
       "    </tr>\n",
       "    <tr>\n",
       "        <td>2</td>\n",
       "        <td>2016-09-01 20:00:00</td>\n",
       "        <td>2016-09-01 21:43:00</td>\n",
       "    </tr>\n",
       "    <tr>\n",
       "        <td>3</td>\n",
       "        <td>2016-09-08 19:30:00</td>\n",
       "        <td>2016-09-01 21:16:10</td>\n",
       "    </tr>\n",
       "</table>"
      ],
      "text/plain": [
       "[(1, '2016-09-01 20:00:00', '2016-09-01 21:45:30'),\n",
       " (2, '2016-09-01 20:00:00', '2016-09-01 21:43:00'),\n",
       " (3, '2016-09-08 19:30:00', '2016-09-01 21:16:10')]"
      ]
     },
     "execution_count": 3,
     "metadata": {},
     "output_type": "execute_result"
    }
   ],
   "source": [
    "%sql SELECT * FROM Partido"
   ]
  },
  {
   "cell_type": "code",
   "execution_count": 12,
   "metadata": {
    "collapsed": false
   },
   "outputs": [
    {
     "name": "stdout",
     "output_type": "stream",
     "text": [
      "1 rows affected.\n",
      "1 rows affected.\n",
      "1 rows affected.\n"
     ]
    },
    {
     "data": {
      "text/plain": [
       "[]"
      ]
     },
     "execution_count": 12,
     "metadata": {},
     "output_type": "execute_result"
    }
   ],
   "source": [
    "%%sql\n",
    "INSERT INTO Posicion (nombre, inicio, fin)\n",
    "VALUES ('pivot', '2016-09-01 20:00:00', '2016-09-01 20:15:10');\n",
    "\n",
    "INSERT INTO Posicion (nombre, inicio, fin)\n",
    "VALUES ('base', '2016-09-01 20:35:00', '2016-09-01 20:50:10');\n",
    "\n",
    "INSERT INTO Posicion (nombre, inicio, fin)\n",
    "VALUES ('alero', '2016-09-08 20:10:00', '2016-09-08 20:25:35');"
   ]
  },
  {
   "cell_type": "code",
   "execution_count": 19,
   "metadata": {
    "collapsed": false
   },
   "outputs": [
    {
     "name": "stdout",
     "output_type": "stream",
     "text": [
      "Done.\n"
     ]
    },
    {
     "data": {
      "text/plain": [
       "[]"
      ]
     },
     "execution_count": 19,
     "metadata": {},
     "output_type": "execute_result"
    }
   ],
   "source": [
    "%%sql\n",
    "CREATE TABLE Jugo_partido \n",
    "(partido INTEGER,\n",
    "posicion INT,\n",
    "jugador_nif VARCHAR(10),\n",
    "peso FLOAT,\n",
    "FOREIGN KEY (partido) REFERENCES Partido(partido_id),\n",
    "FOREIGN KEY (posicion) REFERENCES Partido (id),\n",
    "FOREIGN KEY (jugador_nif) REFERENCES Jugador(nif))"
   ]
  },
  {
   "cell_type": "code",
   "execution_count": 10,
   "metadata": {
    "collapsed": false
   },
   "outputs": [
    {
     "name": "stdout",
     "output_type": "stream",
     "text": [
      "Done.\n"
     ]
    },
    {
     "data": {
      "text/html": [
       "<table>\n",
       "    <tr>\n",
       "        <th>nif</th>\n",
       "        <th>estatura</th>\n",
       "        <th>equipo</th>\n",
       "    </tr>\n",
       "    <tr>\n",
       "        <td>12345678L</td>\n",
       "        <td>1.85</td>\n",
       "        <td>Estudiantes</td>\n",
       "    </tr>\n",
       "    <tr>\n",
       "        <td>87125476P</td>\n",
       "        <td>1.9</td>\n",
       "        <td>Real Madrid</td>\n",
       "    </tr>\n",
       "</table>"
      ],
      "text/plain": [
       "[('12345678L', 1.85, 'Estudiantes'), ('87125476P', 1.9, 'Real Madrid')]"
      ]
     },
     "execution_count": 10,
     "metadata": {},
     "output_type": "execute_result"
    }
   ],
   "source": [
    "%sql SELECT * FROM Jugador"
   ]
  },
  {
   "cell_type": "code",
   "execution_count": 20,
   "metadata": {
    "collapsed": false
   },
   "outputs": [
    {
     "name": "stdout",
     "output_type": "stream",
     "text": [
      "1 rows affected.\n",
      "1 rows affected.\n",
      "1 rows affected.\n"
     ]
    },
    {
     "data": {
      "text/plain": [
       "[]"
      ]
     },
     "execution_count": 20,
     "metadata": {},
     "output_type": "execute_result"
    }
   ],
   "source": [
    "%%sql\n",
    "INSERT INTO Jugo_partido (partido, posicion, jugador_nif, peso)\n",
    "VALUES (1, 1, '12345678L', 90.0);\n",
    "\n",
    "INSERT INTO Jugo_partido (partido, posicion, jugador_nif, peso)\n",
    "VALUES (1, 2, '12345678L', 90.0);\n",
    "\n",
    "INSERT INTO Jugo_partido (partido, posicion, jugador_nif, peso)\n",
    "VALUES (2, 3, '87125476P', 85.2);"
   ]
  },
  {
   "cell_type": "code",
   "execution_count": 22,
   "metadata": {
    "collapsed": false
   },
   "outputs": [
    {
     "name": "stdout",
     "output_type": "stream",
     "text": [
      "Done.\n"
     ]
    },
    {
     "data": {
      "text/html": [
       "<table>\n",
       "    <tr>\n",
       "        <th>nif</th>\n",
       "        <th>estatura</th>\n",
       "        <th>equipo</th>\n",
       "        <th>partido</th>\n",
       "        <th>posicion</th>\n",
       "        <th>jugador_nif</th>\n",
       "        <th>peso</th>\n",
       "    </tr>\n",
       "    <tr>\n",
       "        <td>12345678L</td>\n",
       "        <td>1.85</td>\n",
       "        <td>Estudiantes</td>\n",
       "        <td>1</td>\n",
       "        <td>1</td>\n",
       "        <td>12345678L</td>\n",
       "        <td>90.0</td>\n",
       "    </tr>\n",
       "    <tr>\n",
       "        <td>12345678L</td>\n",
       "        <td>1.85</td>\n",
       "        <td>Estudiantes</td>\n",
       "        <td>1</td>\n",
       "        <td>2</td>\n",
       "        <td>12345678L</td>\n",
       "        <td>90.0</td>\n",
       "    </tr>\n",
       "    <tr>\n",
       "        <td>87125476P</td>\n",
       "        <td>1.9</td>\n",
       "        <td>Real Madrid</td>\n",
       "        <td>2</td>\n",
       "        <td>3</td>\n",
       "        <td>87125476P</td>\n",
       "        <td>85.2</td>\n",
       "    </tr>\n",
       "</table>"
      ],
      "text/plain": [
       "[('12345678L', 1.85, 'Estudiantes', 1, 1, '12345678L', 90.0),\n",
       " ('12345678L', 1.85, 'Estudiantes', 1, 2, '12345678L', 90.0),\n",
       " ('87125476P', 1.9, 'Real Madrid', 2, 3, '87125476P', 85.2)]"
      ]
     },
     "execution_count": 22,
     "metadata": {},
     "output_type": "execute_result"
    }
   ],
   "source": [
    "%%sql\n",
    "SELECT * FROM Jugador\n",
    "JOIN Jugo_partido\n",
    "ON Jugador.nif = Jugo_partido.jugador_nif"
   ]
  },
  {
   "cell_type": "markdown",
   "metadata": {},
   "source": [
    "![DiagramaE/R](ER_4.jpg)"
   ]
  },
  {
   "cell_type": "code",
   "execution_count": 2,
   "metadata": {
    "collapsed": false
   },
   "outputs": [
    {
     "name": "stdout",
     "output_type": "stream",
     "text": [
      "Done.\n"
     ]
    },
    {
     "data": {
      "text/plain": [
       "[]"
      ]
     },
     "execution_count": 2,
     "metadata": {},
     "output_type": "execute_result"
    }
   ],
   "source": [
    "%%sql\n",
    "CREATE TABLE Jugada\n",
    "(id INTEGER PRIMARY KEY AUTOINCREMENT,\n",
    "inicio DATETIME,\n",
    "fin DATETIME)"
   ]
  },
  {
   "cell_type": "code",
   "execution_count": 74,
   "metadata": {
    "collapsed": false
   },
   "outputs": [
    {
     "name": "stdout",
     "output_type": "stream",
     "text": [
      "1 rows affected.\n",
      "1 rows affected.\n",
      "1 rows affected.\n",
      "1 rows affected.\n"
     ]
    },
    {
     "data": {
      "text/plain": [
       "[]"
      ]
     },
     "execution_count": 74,
     "metadata": {},
     "output_type": "execute_result"
    }
   ],
   "source": [
    "%%sql\n",
    "INSERT INTO Jugada (inicio, fin)\n",
    "VALUES ('2016-09-01 20:10:03', '2016-09-01 20:10:50');\n",
    "\n",
    "INSERT INTO Jugada (inicio, fin)\n",
    "VALUES ('2016-09-01 21:04:13', '2016-09-01 21:05:50');\n",
    "\n",
    "INSERT INTO Jugada (inicio, fin)\n",
    "VALUES ('2016-09-08 20:10:03', '2016-09-01 20:10:50');\n",
    "\n",
    "INSERT INTO Jugada (inicio, fin)\n",
    "VALUES ('2016-09-01 21:40:03', '2016-09-01 20:41:50');"
   ]
  },
  {
   "cell_type": "code",
   "execution_count": 5,
   "metadata": {
    "collapsed": false
   },
   "outputs": [
    {
     "name": "stdout",
     "output_type": "stream",
     "text": [
      "Done.\n",
      "Done.\n"
     ]
    },
    {
     "data": {
      "text/plain": [
       "[]"
      ]
     },
     "execution_count": 5,
     "metadata": {},
     "output_type": "execute_result"
    }
   ],
   "source": [
    "%%sql\n",
    "DROP TABLE Jug_cambio_posicion;\n",
    "CREATE TABLE Jug_cambio_posicion\n",
    "(id INTEGER,\n",
    "jugador_nif VARCHAR(10),\n",
    "coor_x FLOAT,\n",
    "coor_y FLOAT,\n",
    "PRIMARY KEY (id),\n",
    "FOREIGN KEY (id) REFERENCES Jugada(id),\n",
    "FOREIGN KEY (jugador_nif) REFERENCES Jugador(nif))"
   ]
  },
  {
   "cell_type": "code",
   "execution_count": 6,
   "metadata": {
    "collapsed": false
   },
   "outputs": [
    {
     "name": "stdout",
     "output_type": "stream",
     "text": [
      "Done.\n"
     ]
    },
    {
     "data": {
      "text/plain": [
       "[]"
      ]
     },
     "execution_count": 6,
     "metadata": {},
     "output_type": "execute_result"
    }
   ],
   "source": [
    "%%sql\n",
    "CREATE TABLE Jug_defensiva\n",
    "(id INTEGER,\n",
    "jug_defensor VARCHAR(10),\n",
    "jug_defendido VARCHAR(10),\n",
    "PRIMARY KEY (id),\n",
    "FOREIGN KEY (id) REFERENCES Jugada(id),\n",
    "FOREIGN KEY (jug_defensor) REFERENCES Jugador(nif),\n",
    "FOREIGN KEY (jug_defendido) REFERENCES Jugador(nif))"
   ]
  },
  {
   "cell_type": "code",
   "execution_count": 7,
   "metadata": {
    "collapsed": false
   },
   "outputs": [
    {
     "name": "stdout",
     "output_type": "stream",
     "text": [
      "Done.\n"
     ]
    },
    {
     "data": {
      "text/plain": [
       "[]"
      ]
     },
     "execution_count": 7,
     "metadata": {},
     "output_type": "execute_result"
    }
   ],
   "source": [
    "%%sql\n",
    "CREATE TABLE Sucede_en\n",
    "(jugada INT,\n",
    "partido INT,\n",
    "PRIMARY KEY (jugada, partido))"
   ]
  },
  {
   "cell_type": "code",
   "execution_count": 8,
   "metadata": {
    "collapsed": false
   },
   "outputs": [
    {
     "name": "stdout",
     "output_type": "stream",
     "text": [
      "Done.\n"
     ]
    },
    {
     "data": {
      "text/plain": [
       "[]"
      ]
     },
     "execution_count": 8,
     "metadata": {},
     "output_type": "execute_result"
    }
   ],
   "source": [
    "%%sql\n",
    "CREATE TABLE Record\n",
    "(jugador_nif VARCHAR(10),\n",
    "partido INT,\n",
    "jugada INT,\n",
    "tipo VARCHAR(50),\n",
    "PRIMARY KEY (jugador_nif, partido, jugada),\n",
    "FOREIGN KEY (jugador_nif) REFERENCES Jugador(nif),\n",
    "FOREIGN KEY (partido) REFERENCES Partido(id),\n",
    "FOREIGN KEY (jugada) REFERENCES Jugada(id))"
   ]
  },
  {
   "cell_type": "code",
   "execution_count": 76,
   "metadata": {
    "collapsed": false
   },
   "outputs": [
    {
     "name": "stdout",
     "output_type": "stream",
     "text": [
      "1 rows affected.\n",
      "1 rows affected.\n",
      "1 rows affected.\n",
      "1 rows affected.\n"
     ]
    },
    {
     "data": {
      "text/plain": [
       "[]"
      ]
     },
     "execution_count": 76,
     "metadata": {},
     "output_type": "execute_result"
    }
   ],
   "source": [
    "%%sql \n",
    "INSERT INTO Record (jugador_nif, partido, jugada, tipo)\n",
    "VALUES ('12345678L', 1, 1, 'maxima puntuacion');\n",
    "\n",
    "INSERT INTO Record (jugador_nif, partido, jugada, tipo)\n",
    "VALUES ('12345678L', 1, 2, 'maxima puntuacion');\n",
    "\n",
    "INSERT INTO Record (jugador_nif, partido, jugada, tipo)\n",
    "VALUES ('12345678L', 2, 3, 'maxima puntuacion');\n",
    "\n",
    "INSERT INTO Record (jugador_nif, partido, jugada, tipo)\n",
    "VALUES ('87125476P', 1, 4, 'rebotes');\n",
    "\n"
   ]
  },
  {
   "cell_type": "code",
   "execution_count": 72,
   "metadata": {
    "collapsed": false
   },
   "outputs": [
    {
     "name": "stdout",
     "output_type": "stream",
     "text": [
      "Done.\n"
     ]
    },
    {
     "data": {
      "text/html": [
       "<table>\n",
       "    <tr>\n",
       "        <th>nif</th>\n",
       "        <th>estatura</th>\n",
       "        <th>equipo</th>\n",
       "    </tr>\n",
       "    <tr>\n",
       "        <td>12345678L</td>\n",
       "        <td>1.85</td>\n",
       "        <td>Estudiantes</td>\n",
       "    </tr>\n",
       "    <tr>\n",
       "        <td>87125476P</td>\n",
       "        <td>1.9</td>\n",
       "        <td>Real Madrid</td>\n",
       "    </tr>\n",
       "</table>"
      ],
      "text/plain": [
       "[('12345678L', 1.85, 'Estudiantes'), ('87125476P', 1.9, 'Real Madrid')]"
      ]
     },
     "execution_count": 72,
     "metadata": {},
     "output_type": "execute_result"
    }
   ],
   "source": [
    "%sql SELECT * FROM Jugador"
   ]
  },
  {
   "cell_type": "code",
   "execution_count": 75,
   "metadata": {
    "collapsed": false
   },
   "outputs": [
    {
     "name": "stdout",
     "output_type": "stream",
     "text": [
      "Done.\n"
     ]
    },
    {
     "data": {
      "text/html": [
       "<table>\n",
       "    <tr>\n",
       "        <th>id</th>\n",
       "        <th>inicio</th>\n",
       "        <th>fin</th>\n",
       "    </tr>\n",
       "    <tr>\n",
       "        <td>1</td>\n",
       "        <td>2016-09-01 20:10:03</td>\n",
       "        <td>2016-09-01 20:10:50</td>\n",
       "    </tr>\n",
       "    <tr>\n",
       "        <td>2</td>\n",
       "        <td>2016-09-01 21:04:13</td>\n",
       "        <td>2016-09-01 21:05:50</td>\n",
       "    </tr>\n",
       "    <tr>\n",
       "        <td>3</td>\n",
       "        <td>2016-09-08 20:10:03</td>\n",
       "        <td>2016-09-01 20:10:50</td>\n",
       "    </tr>\n",
       "    <tr>\n",
       "        <td>4</td>\n",
       "        <td>2016-09-01 21:40:03</td>\n",
       "        <td>2016-09-01 20:41:50</td>\n",
       "    </tr>\n",
       "</table>"
      ],
      "text/plain": [
       "[(1, '2016-09-01 20:10:03', '2016-09-01 20:10:50'),\n",
       " (2, '2016-09-01 21:04:13', '2016-09-01 21:05:50'),\n",
       " (3, '2016-09-08 20:10:03', '2016-09-01 20:10:50'),\n",
       " (4, '2016-09-01 21:40:03', '2016-09-01 20:41:50')]"
      ]
     },
     "execution_count": 75,
     "metadata": {},
     "output_type": "execute_result"
    }
   ],
   "source": [
    "%sql SELECT * FROM Jugada"
   ]
  },
  {
   "cell_type": "markdown",
   "metadata": {},
   "source": [
    "![Diagrama E/R](ER_5.jpg)"
   ]
  },
  {
   "cell_type": "code",
   "execution_count": 13,
   "metadata": {
    "collapsed": false
   },
   "outputs": [
    {
     "name": "stdout",
     "output_type": "stream",
     "text": [
      "Done.\n",
      "Done.\n"
     ]
    },
    {
     "data": {
      "text/plain": [
       "[]"
      ]
     },
     "execution_count": 13,
     "metadata": {},
     "output_type": "execute_result"
    }
   ],
   "source": [
    "%%sql \n",
    "DROP TABLE Tiempo;\n",
    "CREATE TABLE Tiempo \n",
    "(id INTEGER PRIMARY KEY AUTOINCREMENT,\n",
    "inicio DATETIME,\n",
    "fin DATETIME,\n",
    "puntuacion VARCHAR(10))"
   ]
  },
  {
   "cell_type": "markdown",
   "metadata": {},
   "source": [
    "Edito la tabla de Partido para meter la informacion de los tiempos"
   ]
  },
  {
   "cell_type": "code",
   "execution_count": 14,
   "metadata": {
    "collapsed": false
   },
   "outputs": [
    {
     "name": "stdout",
     "output_type": "stream",
     "text": [
      "1 rows affected.\n",
      "1 rows affected.\n",
      "1 rows affected.\n",
      "1 rows affected.\n",
      "1 rows affected.\n",
      "1 rows affected.\n",
      "1 rows affected.\n",
      "1 rows affected.\n",
      "1 rows affected.\n",
      "1 rows affected.\n",
      "1 rows affected.\n",
      "1 rows affected.\n"
     ]
    },
    {
     "data": {
      "text/plain": [
       "[]"
      ]
     },
     "execution_count": 14,
     "metadata": {},
     "output_type": "execute_result"
    }
   ],
   "source": [
    "%%sql\n",
    "INSERT INTO Tiempo (inicio, fin, puntuacion)\n",
    "VALUES ('2016-09-01 20:00:00', '2016-09-01 20:21:00', '10-23');\n",
    "\n",
    "INSERT INTO Tiempo (inicio, fin, puntuacion)\n",
    "VALUES ('2016-09-01 20:30:00', '2016-09-01 20:41:00', '30-36');\n",
    "\n",
    "INSERT INTO Tiempo (inicio, fin, puntuacion)\n",
    "VALUES ('2016-09-01 21:10:00', '2016-09-01 21:25:00', '50-48');\n",
    "\n",
    "INSERT INTO Tiempo (inicio, fin, puntuacion)\n",
    "VALUES ('2016-09-01 21:30:00', '2016-09-01 21:45:30', '60-65');\n",
    "\n",
    "\n",
    "INSERT INTO Tiempo (inicio, fin, puntuacion)\n",
    "VALUES ('2016-09-01 20:00:00', '2016-09-01 20:21:00', '7-15');\n",
    "\n",
    "INSERT INTO Tiempo (inicio, fin, puntuacion)\n",
    "VALUES ('2016-09-01 20:30:00', '2016-09-01 20:41:00', '20-40');\n",
    "\n",
    "INSERT INTO Tiempo (inicio, fin, puntuacion)\n",
    "VALUES ('2016-09-01 21:10:00', '2016-09-01 21:25:00', '30-60');\n",
    "\n",
    "INSERT INTO Tiempo (inicio, fin, puntuacion)\n",
    "VALUES ('2016-09-01 21:30:00', '2016-09-01 21:45:30', '43-70');\n",
    "\n",
    "\n",
    "INSERT INTO Tiempo (inicio, fin, puntuacion)\n",
    "VALUES ('2016-09-08 19:33:00', '2016-09-08 19:35:30', '20-15');\n",
    "\n",
    "INSERT INTO Tiempo (inicio, fin, puntuacion)\n",
    "VALUES ('2016-09-08 19:50:00', '2016-09-08 20:01:50', '30-36');\n",
    "\n",
    "INSERT INTO Tiempo (inicio, fin, puntuacion)\n",
    "VALUES ('2016-09-08 20:40:00', '2016-09-08 20:51:00', '50-48');\n",
    "\n",
    "INSERT INTO Tiempo (inicio, fin, puntuacion)\n",
    "VALUES ('2016-09-08 21:03:00', '2016-09-08 21:15:30', '60-65');"
   ]
  },
  {
   "cell_type": "code",
   "execution_count": 20,
   "metadata": {
    "collapsed": false,
    "scrolled": true
   },
   "outputs": [
    {
     "name": "stdout",
     "output_type": "stream",
     "text": [
      "Done.\n"
     ]
    },
    {
     "data": {
      "text/html": [
       "<table>\n",
       "    <tr>\n",
       "        <th>id</th>\n",
       "        <th>inicio</th>\n",
       "        <th>fin</th>\n",
       "        <th>puntuacion</th>\n",
       "    </tr>\n",
       "    <tr>\n",
       "        <td>1</td>\n",
       "        <td>2016-09-01 20:00:00</td>\n",
       "        <td>2016-09-01 20:21:00</td>\n",
       "        <td>10-23</td>\n",
       "    </tr>\n",
       "    <tr>\n",
       "        <td>2</td>\n",
       "        <td>2016-09-01 20:30:00</td>\n",
       "        <td>2016-09-01 20:41:00</td>\n",
       "        <td>30-36</td>\n",
       "    </tr>\n",
       "    <tr>\n",
       "        <td>3</td>\n",
       "        <td>2016-09-01 21:10:00</td>\n",
       "        <td>2016-09-01 21:25:00</td>\n",
       "        <td>50-48</td>\n",
       "    </tr>\n",
       "    <tr>\n",
       "        <td>4</td>\n",
       "        <td>2016-09-01 21:30:00</td>\n",
       "        <td>2016-09-01 21:45:30</td>\n",
       "        <td>60-65</td>\n",
       "    </tr>\n",
       "    <tr>\n",
       "        <td>5</td>\n",
       "        <td>2016-09-01 20:00:00</td>\n",
       "        <td>2016-09-01 20:21:00</td>\n",
       "        <td>7-15</td>\n",
       "    </tr>\n",
       "    <tr>\n",
       "        <td>6</td>\n",
       "        <td>2016-09-01 20:30:00</td>\n",
       "        <td>2016-09-01 20:41:00</td>\n",
       "        <td>20-40</td>\n",
       "    </tr>\n",
       "    <tr>\n",
       "        <td>7</td>\n",
       "        <td>2016-09-01 21:10:00</td>\n",
       "        <td>2016-09-01 21:25:00</td>\n",
       "        <td>30-60</td>\n",
       "    </tr>\n",
       "    <tr>\n",
       "        <td>8</td>\n",
       "        <td>2016-09-01 21:30:00</td>\n",
       "        <td>2016-09-01 21:45:30</td>\n",
       "        <td>43-70</td>\n",
       "    </tr>\n",
       "    <tr>\n",
       "        <td>9</td>\n",
       "        <td>2016-09-08 19:33:00</td>\n",
       "        <td>2016-09-08 19:35:30</td>\n",
       "        <td>20-15</td>\n",
       "    </tr>\n",
       "    <tr>\n",
       "        <td>10</td>\n",
       "        <td>2016-09-08 19:50:00</td>\n",
       "        <td>2016-09-08 20:01:50</td>\n",
       "        <td>30-36</td>\n",
       "    </tr>\n",
       "    <tr>\n",
       "        <td>11</td>\n",
       "        <td>2016-09-08 20:40:00</td>\n",
       "        <td>2016-09-08 20:51:00</td>\n",
       "        <td>50-48</td>\n",
       "    </tr>\n",
       "    <tr>\n",
       "        <td>12</td>\n",
       "        <td>2016-09-08 21:03:00</td>\n",
       "        <td>2016-09-08 21:15:30</td>\n",
       "        <td>60-65</td>\n",
       "    </tr>\n",
       "</table>"
      ],
      "text/plain": [
       "[(1, '2016-09-01 20:00:00', '2016-09-01 20:21:00', '10-23'),\n",
       " (2, '2016-09-01 20:30:00', '2016-09-01 20:41:00', '30-36'),\n",
       " (3, '2016-09-01 21:10:00', '2016-09-01 21:25:00', '50-48'),\n",
       " (4, '2016-09-01 21:30:00', '2016-09-01 21:45:30', '60-65'),\n",
       " (5, '2016-09-01 20:00:00', '2016-09-01 20:21:00', '7-15'),\n",
       " (6, '2016-09-01 20:30:00', '2016-09-01 20:41:00', '20-40'),\n",
       " (7, '2016-09-01 21:10:00', '2016-09-01 21:25:00', '30-60'),\n",
       " (8, '2016-09-01 21:30:00', '2016-09-01 21:45:30', '43-70'),\n",
       " (9, '2016-09-08 19:33:00', '2016-09-08 19:35:30', '20-15'),\n",
       " (10, '2016-09-08 19:50:00', '2016-09-08 20:01:50', '30-36'),\n",
       " (11, '2016-09-08 20:40:00', '2016-09-08 20:51:00', '50-48'),\n",
       " (12, '2016-09-08 21:03:00', '2016-09-08 21:15:30', '60-65')]"
      ]
     },
     "execution_count": 20,
     "metadata": {},
     "output_type": "execute_result"
    }
   ],
   "source": [
    "%sql SELECT * FROM Tiempo"
   ]
  },
  {
   "cell_type": "markdown",
   "metadata": {},
   "source": [
    "# Tercera parte; queries"
   ]
  },
  {
   "cell_type": "markdown",
   "metadata": {},
   "source": [
    "## 1 - Los jugadores que han jugado un partido dado y pesan más de 85 kg"
   ]
  },
  {
   "cell_type": "code",
   "execution_count": 71,
   "metadata": {
    "collapsed": false
   },
   "outputs": [
    {
     "name": "stdout",
     "output_type": "stream",
     "text": [
      "Done.\n"
     ]
    },
    {
     "data": {
      "text/html": [
       "<table>\n",
       "    <tr>\n",
       "        <th>peso</th>\n",
       "        <th>nif</th>\n",
       "        <th>equipo</th>\n",
       "    </tr>\n",
       "    <tr>\n",
       "        <td>90.0</td>\n",
       "        <td>12345678L</td>\n",
       "        <td>Estudiantes</td>\n",
       "    </tr>\n",
       "    <tr>\n",
       "        <td>90.0</td>\n",
       "        <td>12345678L</td>\n",
       "        <td>Estudiantes</td>\n",
       "    </tr>\n",
       "</table>"
      ],
      "text/plain": [
       "[(90.0, '12345678L', 'Estudiantes'), (90.0, '12345678L', 'Estudiantes')]"
      ]
     },
     "execution_count": 71,
     "metadata": {},
     "output_type": "execute_result"
    }
   ],
   "source": [
    "%%sql\n",
    "SELECT peso, nif, equipo FROM Jugo_partido\n",
    "JOIN Jugador \n",
    "ON Jugo_partido.jugador_nif = Jugador.nif\n",
    "WHERE Jugo_partido.peso >= 85.0 AND Jugo_partido.partido = 1"
   ]
  },
  {
   "cell_type": "markdown",
   "metadata": {},
   "source": [
    "## 2 - Los jugadores que han jugado en la posicion Pivot en un partido (1)"
   ]
  },
  {
   "cell_type": "code",
   "execution_count": 14,
   "metadata": {
    "collapsed": false
   },
   "outputs": [
    {
     "name": "stdout",
     "output_type": "stream",
     "text": [
      "Done.\n"
     ]
    },
    {
     "data": {
      "text/html": [
       "<table>\n",
       "    <tr>\n",
       "        <th>jugador_nif</th>\n",
       "    </tr>\n",
       "    <tr>\n",
       "        <td>12345678L</td>\n",
       "    </tr>\n",
       "</table>"
      ],
      "text/plain": [
       "[('12345678L',)]"
      ]
     },
     "execution_count": 14,
     "metadata": {},
     "output_type": "execute_result"
    }
   ],
   "source": [
    "%%sql\n",
    "SELECT jugador_nif FROM Jugo_partido\n",
    "JOIN Posicion\n",
    "ON Jugo_partido.posicion = Posicion.id\n",
    "WHERE Posicion.nombre = 'pivot'"
   ]
  },
  {
   "cell_type": "markdown",
   "metadata": {},
   "source": [
    "## 8 - Puntuacion en un instante (determinado) de un partido (dado). Con esta implementacion, tendrán que decirnos de qué cuarto es el instante."
   ]
  },
  {
   "cell_type": "code",
   "execution_count": 26,
   "metadata": {
    "collapsed": false
   },
   "outputs": [
    {
     "name": "stdout",
     "output_type": "stream",
     "text": [
      "Done.\n"
     ]
    },
    {
     "data": {
      "text/html": [
       "<table>\n",
       "    <tr>\n",
       "        <th>puntuacion</th>\n",
       "    </tr>\n",
       "    <tr>\n",
       "        <td>10-23</td>\n",
       "    </tr>\n",
       "</table>"
      ],
      "text/plain": [
       "[('10-23',)]"
      ]
     },
     "execution_count": 26,
     "metadata": {},
     "output_type": "execute_result"
    }
   ],
   "source": [
    "%%sql\n",
    "SELECT Tiempo.puntuacion FROM Partido\n",
    "JOIN Tiempo\n",
    "ON (primer_tiempo <= '2016-09-01 20:03:00') \n",
    "WHERE Partido.id = 1 AND primer_tiempo = Tiempo.id"
   ]
  },
  {
   "cell_type": "markdown",
   "metadata": {},
   "source": [
    "# 11- Numero de puntos conseguido por un equipo en un partido."
   ]
  },
  {
   "cell_type": "code",
   "execution_count": 47,
   "metadata": {
    "collapsed": false
   },
   "outputs": [
    {
     "name": "stdout",
     "output_type": "stream",
     "text": [
      "Done.\n"
     ]
    },
    {
     "data": {
      "text/html": [
       "<table>\n",
       "    <tr>\n",
       "        <th>puntuacion</th>\n",
       "    </tr>\n",
       "    <tr>\n",
       "        <td>10-23</td>\n",
       "    </tr>\n",
       "    <tr>\n",
       "        <td>30-36</td>\n",
       "    </tr>\n",
       "    <tr>\n",
       "        <td>50-48</td>\n",
       "    </tr>\n",
       "    <tr>\n",
       "        <td>60-65</td>\n",
       "    </tr>\n",
       "</table>"
      ],
      "text/plain": [
       "[('10-23',), ('30-36',), ('50-48',), ('60-65',)]"
      ]
     },
     "execution_count": 47,
     "metadata": {},
     "output_type": "execute_result"
    }
   ],
   "source": [
    "%%sql\n",
    "SELECT\n",
    "Tiempo.Puntuacion\n",
    "FROM Partido\n",
    "JOIN Tiempo\n",
    "ON Partido.id = 1\n",
    "WHERE (primer_tiempo = Tiempo.id \n",
    "    OR seg_tiempo = Tiempo.id\n",
    "    OR tercer_tiempo = Tiempo.id\n",
    "    OR cuarto_tiempo = Tiempo.id)"
   ]
  },
  {
   "cell_type": "markdown",
   "metadata": {},
   "source": [
    "## 12 - Numero de puntos conseguido por un equipo en un tiempo de un partido.\n",
    "(suponemos que nos dicen que tiempo de qué partido quiere)"
   ]
  },
  {
   "cell_type": "code",
   "execution_count": 49,
   "metadata": {
    "collapsed": false
   },
   "outputs": [
    {
     "name": "stdout",
     "output_type": "stream",
     "text": [
      "Done.\n"
     ]
    },
    {
     "data": {
      "text/html": [
       "<table>\n",
       "    <tr>\n",
       "        <th>puntuacion</th>\n",
       "    </tr>\n",
       "    <tr>\n",
       "        <td>7-15</td>\n",
       "    </tr>\n",
       "</table>"
      ],
      "text/plain": [
       "[('7-15',)]"
      ]
     },
     "execution_count": 49,
     "metadata": {},
     "output_type": "execute_result"
    }
   ],
   "source": [
    "%%sql\n",
    "SELECT\n",
    "Tiempo.Puntuacion\n",
    "FROM Partido\n",
    "JOIN Tiempo\n",
    "ON Partido.id = 2 \n",
    "WHERE Tiempo.id = \n",
    "(SELECT primer_tiempo\n",
    " FROM Partido\n",
    " WHERE Partido.id = 2)"
   ]
  },
  {
   "cell_type": "markdown",
   "metadata": {},
   "source": [
    "## 13 - Numero de partidos jugados en una cancha."
   ]
  },
  {
   "cell_type": "code",
   "execution_count": 63,
   "metadata": {
    "collapsed": false
   },
   "outputs": [
    {
     "name": "stdout",
     "output_type": "stream",
     "text": [
      "Done.\n"
     ]
    },
    {
     "data": {
      "text/html": [
       "<table>\n",
       "    <tr>\n",
       "        <th>partido_id)</th>\n",
       "    </tr>\n",
       "    <tr>\n",
       "        <td>1</td>\n",
       "    </tr>\n",
       "</table>"
      ],
      "text/plain": [
       "[(1,)]"
      ]
     },
     "execution_count": 63,
     "metadata": {},
     "output_type": "execute_result"
    }
   ],
   "source": [
    "%%sql\n",
    "SELECT Count(Juega.partido_id)\n",
    "FROM Juega\n",
    "WHERE cancha = 'A'"
   ]
  },
  {
   "cell_type": "code",
   "execution_count": 57,
   "metadata": {
    "collapsed": false
   },
   "outputs": [
    {
     "name": "stdout",
     "output_type": "stream",
     "text": [
      "Done.\n"
     ]
    },
    {
     "data": {
      "text/html": [
       "<table>\n",
       "    <tr>\n",
       "        <th>partido_id)</th>\n",
       "    </tr>\n",
       "    <tr>\n",
       "        <td>0</td>\n",
       "    </tr>\n",
       "</table>"
      ],
      "text/plain": [
       "[(0,)]"
      ]
     },
     "execution_count": 57,
     "metadata": {},
     "output_type": "execute_result"
    }
   ],
   "source": [
    "%%sql\n",
    "SELECT Count(Juega.partido_id)\n",
    "FROM Juega\n",
    "WHERE cancha = 'B'"
   ]
  },
  {
   "cell_type": "markdown",
   "metadata": {},
   "source": [
    "## 15 - Historial de los equipos entrenados por un entrenador"
   ]
  },
  {
   "cell_type": "code",
   "execution_count": 70,
   "metadata": {
    "collapsed": false
   },
   "outputs": [
    {
     "name": "stdout",
     "output_type": "stream",
     "text": [
      "Done.\n"
     ]
    },
    {
     "data": {
      "text/html": [
       "<table>\n",
       "    <tr>\n",
       "        <th>equipo</th>\n",
       "    </tr>\n",
       "    <tr>\n",
       "        <td>Real Madrid</td>\n",
       "    </tr>\n",
       "</table>"
      ],
      "text/plain": [
       "[('Real Madrid',)]"
      ]
     },
     "execution_count": 70,
     "metadata": {},
     "output_type": "execute_result"
    }
   ],
   "source": [
    "%%sql\n",
    "SELECT equipo\n",
    "FROM Entrena_en\n",
    "WHERE Entrena_en.nif_entrenador = \n",
    "(SELECT nif \n",
    "FROM Participante\n",
    "WHERE Participante.nombre = 'Pablo' AND Participante.primer_apell = 'Laso')"
   ]
  },
  {
   "cell_type": "markdown",
   "metadata": {},
   "source": [
    "## 3 - Todos los records conseguidos por jugadores relativos a maxima puntuacion alcanzada en una temporada"
   ]
  },
  {
   "cell_type": "code",
   "execution_count": 83,
   "metadata": {
    "collapsed": false
   },
   "outputs": [
    {
     "name": "stdout",
     "output_type": "stream",
     "text": [
      "Done.\n"
     ]
    },
    {
     "data": {
      "text/html": [
       "<table>\n",
       "    <tr>\n",
       "        <th>inicio</th>\n",
       "        <th>fin</th>\n",
       "    </tr>\n",
       "    <tr>\n",
       "        <td>2016-09-01 21:40:03</td>\n",
       "        <td>2016-09-01 20:41:50</td>\n",
       "    </tr>\n",
       "    <tr>\n",
       "        <td>2016-09-01 21:40:03</td>\n",
       "        <td>2016-09-01 20:41:50</td>\n",
       "    </tr>\n",
       "    <tr>\n",
       "        <td>2016-09-01 21:40:03</td>\n",
       "        <td>2016-09-01 20:41:50</td>\n",
       "    </tr>\n",
       "</table>"
      ],
      "text/plain": [
       "[('2016-09-01 21:40:03', '2016-09-01 20:41:50'),\n",
       " ('2016-09-01 21:40:03', '2016-09-01 20:41:50'),\n",
       " ('2016-09-01 21:40:03', '2016-09-01 20:41:50')]"
      ]
     },
     "execution_count": 83,
     "metadata": {},
     "output_type": "execute_result"
    }
   ],
   "source": [
    "%%sql\n",
    "SELECT inicio, fin\n",
    "FROM Record\n",
    "JOIN Jugada\n",
    "ON Record.tipo = 'maxima puntuacion'\n",
    "GROUP BY Jugada"
   ]
  }
 ],
 "metadata": {
  "kernelspec": {
   "display_name": "Python 3",
   "language": "python",
   "name": "python3"
  },
  "language_info": {
   "codemirror_mode": {
    "name": "ipython",
    "version": 3
   },
   "file_extension": ".py",
   "mimetype": "text/x-python",
   "name": "python",
   "nbconvert_exporter": "python",
   "pygments_lexer": "ipython3",
   "version": "3.5.2"
  }
 },
 "nbformat": 4,
 "nbformat_minor": 1
}
