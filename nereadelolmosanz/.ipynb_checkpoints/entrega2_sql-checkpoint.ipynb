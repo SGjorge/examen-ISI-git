{
 "cells": [
  {
   "cell_type": "markdown",
   "metadata": {},
   "source": [
    "# Nerea Del Olmo Sanz"
   ]
  },
  {
   "cell_type": "code",
   "execution_count": 1,
   "metadata": {
    "collapsed": false
   },
   "outputs": [
    {
     "name": "stderr",
     "output_type": "stream",
     "text": [
      "/usr/local/lib/python3.5/dist-packages/IPython/config.py:13: ShimWarning: The `IPython.config` package has been deprecated. You should import from traitlets.config instead.\n",
      "  \"You should import from traitlets.config instead.\", ShimWarning)\n",
      "/usr/local/lib/python3.5/dist-packages/IPython/utils/traitlets.py:5: UserWarning: IPython.utils.traitlets has moved to a top-level traitlets package.\n",
      "  warn(\"IPython.utils.traitlets has moved to a top-level traitlets package.\")\n"
     ]
    },
    {
     "data": {
      "text/plain": [
       "'Connected: None@examen1_baloncesto_sql.db'"
      ]
     },
     "execution_count": 1,
     "metadata": {},
     "output_type": "execute_result"
    }
   ],
   "source": [
    "%load_ext sql\n",
    "%sql sqlite:///examen1_baloncesto_sql.db"
   ]
  },
  {
   "cell_type": "markdown",
   "metadata": {},
   "source": [
    "En primer lugar vamos a realizar sólo una pequeña parte del diagrama E/R total, la cual se puede ver en la siguiente imagen. (Son los puntos 1, 2, 6 y 7 del enunciado).\n",
    "**NOTA**: Cancha debe estar subrayado porque es la clave primaria (este error ocurre en algunos más diagramas).\n",
    "![Diagrama E/R](Diagrama1.jpeg)"
   ]
  },
  {
   "cell_type": "code",
   "execution_count": 2,
   "metadata": {
    "collapsed": false
   },
   "outputs": [
    {
     "name": "stdout",
     "output_type": "stream",
     "text": [
      "Done.\n"
     ]
    },
    {
     "data": {
      "text/plain": [
       "[]"
      ]
     },
     "execution_count": 2,
     "metadata": {},
     "output_type": "execute_result"
    }
   ],
   "source": [
    "%sql PRAGMA foreign_keys = ON"
   ]
  },
  {
   "cell_type": "markdown",
   "metadata": {},
   "source": [
    "Creamos las tablas de Comunidades, Ciudades y Equipos. Puesto que todas son entidades débiles de la superior, no necesitamos tablas para las relaciones entre dichas entidades, añadiendo la restricción NOT NULL."
   ]
  },
  {
   "cell_type": "code",
   "execution_count": 3,
   "metadata": {
    "collapsed": false
   },
   "outputs": [
    {
     "name": "stdout",
     "output_type": "stream",
     "text": [
      "Done.\n"
     ]
    },
    {
     "data": {
      "text/plain": [
       "[]"
      ]
     },
     "execution_count": 3,
     "metadata": {},
     "output_type": "execute_result"
    }
   ],
   "source": [
    "%%sql\n",
    "CREATE TABLE Comunidades(\n",
    "    comunidad VARCHAR(30),\n",
    "    PRIMARY KEY (comunidad))"
   ]
  },
  {
   "cell_type": "code",
   "execution_count": 4,
   "metadata": {
    "collapsed": false
   },
   "outputs": [
    {
     "name": "stdout",
     "output_type": "stream",
     "text": [
      "1 rows affected.\n",
      "1 rows affected.\n",
      "1 rows affected.\n"
     ]
    },
    {
     "data": {
      "text/plain": [
       "[]"
      ]
     },
     "execution_count": 4,
     "metadata": {},
     "output_type": "execute_result"
    }
   ],
   "source": [
    "%%sql\n",
    "INSERT INTO Comunidades(comunidad) VALUES ('madrid');\n",
    "INSERT INTO Comunidades(comunidad) VALUES ('galicia');\n",
    "INSERT INTO Comunidades(comunidad) VALUES ('cantabria');"
   ]
  },
  {
   "cell_type": "code",
   "execution_count": 5,
   "metadata": {
    "collapsed": false
   },
   "outputs": [
    {
     "name": "stdout",
     "output_type": "stream",
     "text": [
      "Done.\n"
     ]
    },
    {
     "data": {
      "text/html": [
       "<table>\n",
       "    <tr>\n",
       "        <th>comunidad</th>\n",
       "    </tr>\n",
       "    <tr>\n",
       "        <td>madrid</td>\n",
       "    </tr>\n",
       "    <tr>\n",
       "        <td>galicia</td>\n",
       "    </tr>\n",
       "    <tr>\n",
       "        <td>cantabria</td>\n",
       "    </tr>\n",
       "</table>"
      ],
      "text/plain": [
       "[('madrid',), ('galicia',), ('cantabria',)]"
      ]
     },
     "execution_count": 5,
     "metadata": {},
     "output_type": "execute_result"
    }
   ],
   "source": [
    "%sql SELECT * FROM Comunidades"
   ]
  },
  {
   "cell_type": "code",
   "execution_count": 6,
   "metadata": {
    "collapsed": false
   },
   "outputs": [
    {
     "name": "stdout",
     "output_type": "stream",
     "text": [
      "Done.\n"
     ]
    },
    {
     "data": {
      "text/plain": [
       "[]"
      ]
     },
     "execution_count": 6,
     "metadata": {},
     "output_type": "execute_result"
    }
   ],
   "source": [
    "%%sql\n",
    "CREATE TABLE Ciudades(\n",
    "    ciudad VARCHAR(30),\n",
    "    comunidad VARCHAR(30) NOT NULL,\n",
    "    PRIMARY KEY (ciudad, comunidad),\n",
    "    FOREIGN KEY (comunidad) REFERENCES Comunidades(comunidad) ON DELETE CASCADE)"
   ]
  },
  {
   "cell_type": "code",
   "execution_count": 7,
   "metadata": {
    "collapsed": false
   },
   "outputs": [
    {
     "name": "stdout",
     "output_type": "stream",
     "text": [
      "1 rows affected.\n",
      "1 rows affected.\n",
      "1 rows affected.\n",
      "1 rows affected.\n"
     ]
    },
    {
     "data": {
      "text/plain": [
       "[]"
      ]
     },
     "execution_count": 7,
     "metadata": {},
     "output_type": "execute_result"
    }
   ],
   "source": [
    "%%sql\n",
    "INSERT INTO Ciudades(ciudad, comunidad) VALUES ('alcobendas','madrid');\n",
    "INSERT INTO Ciudades(ciudad, comunidad) VALUES ('lugo','galicia');\n",
    "INSERT INTO Ciudades(ciudad, comunidad) VALUES ('pontevedra','galicia');\n",
    "INSERT INTO Ciudades(ciudad, comunidad) VALUES ('alcobendas','cantabria');"
   ]
  },
  {
   "cell_type": "code",
   "execution_count": 8,
   "metadata": {
    "collapsed": false
   },
   "outputs": [
    {
     "name": "stdout",
     "output_type": "stream",
     "text": [
      "Done.\n"
     ]
    },
    {
     "data": {
      "text/html": [
       "<table>\n",
       "    <tr>\n",
       "        <th>ciudad</th>\n",
       "        <th>comunidad</th>\n",
       "    </tr>\n",
       "    <tr>\n",
       "        <td>alcobendas</td>\n",
       "        <td>madrid</td>\n",
       "    </tr>\n",
       "    <tr>\n",
       "        <td>lugo</td>\n",
       "        <td>galicia</td>\n",
       "    </tr>\n",
       "    <tr>\n",
       "        <td>pontevedra</td>\n",
       "        <td>galicia</td>\n",
       "    </tr>\n",
       "    <tr>\n",
       "        <td>alcobendas</td>\n",
       "        <td>cantabria</td>\n",
       "    </tr>\n",
       "</table>"
      ],
      "text/plain": [
       "[('alcobendas', 'madrid'),\n",
       " ('lugo', 'galicia'),\n",
       " ('pontevedra', 'galicia'),\n",
       " ('alcobendas', 'cantabria')]"
      ]
     },
     "execution_count": 8,
     "metadata": {},
     "output_type": "execute_result"
    }
   ],
   "source": [
    "%sql SELECT * FROM Ciudades"
   ]
  },
  {
   "cell_type": "code",
   "execution_count": 9,
   "metadata": {
    "collapsed": false
   },
   "outputs": [
    {
     "name": "stdout",
     "output_type": "stream",
     "text": [
      "(sqlite3.OperationalError) no such table: Equipos [SQL: 'DROP TABLE Equipos']\n"
     ]
    }
   ],
   "source": [
    "%sql DROP TABLE Equipos"
   ]
  },
  {
   "cell_type": "code",
   "execution_count": 10,
   "metadata": {
    "collapsed": false
   },
   "outputs": [
    {
     "name": "stdout",
     "output_type": "stream",
     "text": [
      "Done.\n"
     ]
    },
    {
     "data": {
      "text/plain": [
       "[]"
      ]
     },
     "execution_count": 10,
     "metadata": {},
     "output_type": "execute_result"
    }
   ],
   "source": [
    "%%sql\n",
    "CREATE TABLE Equipos(\n",
    "    equipo VARCHAR(30),\n",
    "    ciudad VARCHAR(30) NOT NULL,\n",
    "    comunidad VARCHAR(30) NOT NULL,\n",
    "    PRIMARY KEY (equipo, ciudad, comunidad),\n",
    "    FOREIGN KEY (ciudad,comunidad) REFERENCES Ciudades(ciudad,comunidad) ON DELETE CASCADE)\n"
   ]
  },
  {
   "cell_type": "code",
   "execution_count": 11,
   "metadata": {
    "collapsed": false
   },
   "outputs": [
    {
     "name": "stdout",
     "output_type": "stream",
     "text": [
      "1 rows affected.\n",
      "1 rows affected.\n",
      "1 rows affected.\n",
      "1 rows affected.\n",
      "1 rows affected.\n"
     ]
    },
    {
     "data": {
      "text/plain": [
       "[]"
      ]
     },
     "execution_count": 11,
     "metadata": {},
     "output_type": "execute_result"
    }
   ],
   "source": [
    "%%sql\n",
    "INSERT INTO Equipos(equipo, ciudad, comunidad)\n",
    "VALUES ('atletico', 'lugo', 'galicia');\n",
    "INSERT INTO Equipos(equipo, ciudad, comunidad)\n",
    "VALUES ('atletico', 'alcobendas', 'madrid');\n",
    "INSERT INTO Equipos(equipo, ciudad, comunidad)\n",
    "VALUES ('real', 'alcobendas', 'madrid');\n",
    "INSERT INTO Equipos(equipo, ciudad, comunidad)\n",
    "VALUES ('deportivo', 'pontevedra', 'galicia');\n",
    "INSERT INTO Equipos(equipo, ciudad, comunidad)\n",
    "VALUES ('betis', 'alcobendas', 'cantabria');"
   ]
  },
  {
   "cell_type": "code",
   "execution_count": 12,
   "metadata": {
    "collapsed": false
   },
   "outputs": [
    {
     "name": "stdout",
     "output_type": "stream",
     "text": [
      "Done.\n"
     ]
    },
    {
     "data": {
      "text/html": [
       "<table>\n",
       "    <tr>\n",
       "        <th>equipo</th>\n",
       "        <th>ciudad</th>\n",
       "        <th>comunidad</th>\n",
       "    </tr>\n",
       "    <tr>\n",
       "        <td>atletico</td>\n",
       "        <td>lugo</td>\n",
       "        <td>galicia</td>\n",
       "    </tr>\n",
       "    <tr>\n",
       "        <td>atletico</td>\n",
       "        <td>alcobendas</td>\n",
       "        <td>madrid</td>\n",
       "    </tr>\n",
       "    <tr>\n",
       "        <td>real</td>\n",
       "        <td>alcobendas</td>\n",
       "        <td>madrid</td>\n",
       "    </tr>\n",
       "    <tr>\n",
       "        <td>deportivo</td>\n",
       "        <td>pontevedra</td>\n",
       "        <td>galicia</td>\n",
       "    </tr>\n",
       "    <tr>\n",
       "        <td>betis</td>\n",
       "        <td>alcobendas</td>\n",
       "        <td>cantabria</td>\n",
       "    </tr>\n",
       "</table>"
      ],
      "text/plain": [
       "[('atletico', 'lugo', 'galicia'),\n",
       " ('atletico', 'alcobendas', 'madrid'),\n",
       " ('real', 'alcobendas', 'madrid'),\n",
       " ('deportivo', 'pontevedra', 'galicia'),\n",
       " ('betis', 'alcobendas', 'cantabria')]"
      ]
     },
     "execution_count": 12,
     "metadata": {},
     "output_type": "execute_result"
    }
   ],
   "source": [
    "%sql SELECT * FROM Equipos"
   ]
  },
  {
   "cell_type": "markdown",
   "metadata": {},
   "source": [
    "Ahora, suponemos que un nombre de cancha no puede repetirse nunca, ni en distintas ciudades. De este modo, podemos tomarlo como clave primaria de la entidad."
   ]
  },
  {
   "cell_type": "code",
   "execution_count": 13,
   "metadata": {
    "collapsed": false
   },
   "outputs": [
    {
     "name": "stdout",
     "output_type": "stream",
     "text": [
      "Done.\n"
     ]
    },
    {
     "data": {
      "text/plain": [
       "[]"
      ]
     },
     "execution_count": 13,
     "metadata": {},
     "output_type": "execute_result"
    }
   ],
   "source": [
    "%%sql\n",
    "CREATE TABLE Canchas(\n",
    "    cancha VARCHAR(30),\n",
    "    PRIMARY KEY (cancha));"
   ]
  },
  {
   "cell_type": "code",
   "execution_count": 14,
   "metadata": {
    "collapsed": false
   },
   "outputs": [
    {
     "name": "stdout",
     "output_type": "stream",
     "text": [
      "1 rows affected.\n",
      "1 rows affected.\n",
      "1 rows affected.\n"
     ]
    },
    {
     "data": {
      "text/plain": [
       "[]"
      ]
     },
     "execution_count": 14,
     "metadata": {},
     "output_type": "execute_result"
    }
   ],
   "source": [
    "%%sql\n",
    "INSERT INTO Canchas(cancha) VALUES ('cancha1');\n",
    "INSERT INTO Canchas(cancha) VALUES ('cancha2');\n",
    "INSERT INTO Canchas(cancha) VALUES ('cancha3');"
   ]
  },
  {
   "cell_type": "code",
   "execution_count": 15,
   "metadata": {
    "collapsed": false
   },
   "outputs": [
    {
     "name": "stdout",
     "output_type": "stream",
     "text": [
      "Done.\n"
     ]
    },
    {
     "data": {
      "text/html": [
       "<table>\n",
       "    <tr>\n",
       "        <th>cancha</th>\n",
       "    </tr>\n",
       "    <tr>\n",
       "        <td>cancha1</td>\n",
       "    </tr>\n",
       "    <tr>\n",
       "        <td>cancha2</td>\n",
       "    </tr>\n",
       "    <tr>\n",
       "        <td>cancha3</td>\n",
       "    </tr>\n",
       "</table>"
      ],
      "text/plain": [
       "[('cancha1',), ('cancha2',), ('cancha3',)]"
      ]
     },
     "execution_count": 15,
     "metadata": {},
     "output_type": "execute_result"
    }
   ],
   "source": [
    "%sql SELECT * FROM Canchas"
   ]
  },
  {
   "cell_type": "markdown",
   "metadata": {},
   "source": [
    "Puesto que las canchas y sus direcciones son una relación 1-to-1, podemos ahorrarnos la tabla \"ubicada_en\"."
   ]
  },
  {
   "cell_type": "code",
   "execution_count": 16,
   "metadata": {
    "collapsed": false
   },
   "outputs": [
    {
     "name": "stdout",
     "output_type": "stream",
     "text": [
      "(sqlite3.OperationalError) no such table: Direcciones_de_canchas [SQL: 'DROP TABLE Direcciones_de_canchas']\n"
     ]
    }
   ],
   "source": [
    "%sql DROP TABLE Direcciones_de_canchas"
   ]
  },
  {
   "cell_type": "code",
   "execution_count": 17,
   "metadata": {
    "collapsed": false
   },
   "outputs": [
    {
     "name": "stdout",
     "output_type": "stream",
     "text": [
      "Done.\n"
     ]
    },
    {
     "data": {
      "text/plain": [
       "[]"
      ]
     },
     "execution_count": 17,
     "metadata": {},
     "output_type": "execute_result"
    }
   ],
   "source": [
    "%%sql\n",
    "CREATE TABLE Direcciones_de_canchas(\n",
    "    cancha VARCHAR(30) NOT NULL,\n",
    "    calle VARCHAR(30) NOT NULL,\n",
    "    numero INT NOT NULL,\n",
    "    ciudad VARCHAR(30) NOT NULL,\n",
    "    comunidad VARCHAR(30) NOT NULL,\n",
    "    PRIMARY KEY (cancha, calle, numero, ciudad, comunidad),\n",
    "    FOREIGN KEY (cancha) REFERENCES Canchas(cancha) ON DELETE CASCADE,\n",
    "    FOREIGN KEY (ciudad,comunidad) REFERENCES Ciudades(ciudad,comunidad) ON DELETE CASCADE)"
   ]
  },
  {
   "cell_type": "code",
   "execution_count": 18,
   "metadata": {
    "collapsed": false
   },
   "outputs": [
    {
     "name": "stdout",
     "output_type": "stream",
     "text": [
      "1 rows affected.\n",
      "1 rows affected.\n",
      "1 rows affected.\n"
     ]
    },
    {
     "data": {
      "text/plain": [
       "[]"
      ]
     },
     "execution_count": 18,
     "metadata": {},
     "output_type": "execute_result"
    }
   ],
   "source": [
    "%%sql\n",
    "INSERT INTO Direcciones_de_canchas(cancha, calle, numero, ciudad, comunidad)\n",
    "VALUES ('cancha1', 'cervantes', 22 , 'lugo', 'galicia');\n",
    "INSERT INTO Direcciones_de_canchas(cancha, calle, numero, ciudad, comunidad)\n",
    "VALUES ('cancha2', 'felicidad', 156 , 'alcobendas', 'cantabria');\n",
    "INSERT INTO Direcciones_de_canchas(cancha, calle, numero, ciudad, comunidad)\n",
    "VALUES ('cancha3', 'naranjos', 35 , 'pontevedra', 'galicia');"
   ]
  },
  {
   "cell_type": "code",
   "execution_count": 19,
   "metadata": {
    "collapsed": false
   },
   "outputs": [
    {
     "name": "stdout",
     "output_type": "stream",
     "text": [
      "Done.\n"
     ]
    },
    {
     "data": {
      "text/html": [
       "<table>\n",
       "    <tr>\n",
       "        <th>cancha</th>\n",
       "        <th>calle</th>\n",
       "        <th>numero</th>\n",
       "        <th>ciudad</th>\n",
       "        <th>comunidad</th>\n",
       "    </tr>\n",
       "    <tr>\n",
       "        <td>cancha1</td>\n",
       "        <td>cervantes</td>\n",
       "        <td>22</td>\n",
       "        <td>lugo</td>\n",
       "        <td>galicia</td>\n",
       "    </tr>\n",
       "    <tr>\n",
       "        <td>cancha2</td>\n",
       "        <td>felicidad</td>\n",
       "        <td>156</td>\n",
       "        <td>alcobendas</td>\n",
       "        <td>cantabria</td>\n",
       "    </tr>\n",
       "    <tr>\n",
       "        <td>cancha3</td>\n",
       "        <td>naranjos</td>\n",
       "        <td>35</td>\n",
       "        <td>pontevedra</td>\n",
       "        <td>galicia</td>\n",
       "    </tr>\n",
       "</table>"
      ],
      "text/plain": [
       "[('cancha1', 'cervantes', 22, 'lugo', 'galicia'),\n",
       " ('cancha2', 'felicidad', 156, 'alcobendas', 'cantabria'),\n",
       " ('cancha3', 'naranjos', 35, 'pontevedra', 'galicia')]"
      ]
     },
     "execution_count": 19,
     "metadata": {},
     "output_type": "execute_result"
    }
   ],
   "source": [
    "%sql SELECT * FROM Direcciones_de_canchas"
   ]
  },
  {
   "cell_type": "code",
   "execution_count": 20,
   "metadata": {
    "collapsed": false
   },
   "outputs": [
    {
     "name": "stdout",
     "output_type": "stream",
     "text": [
      "(sqlite3.OperationalError) no such table: Entrenan_en [SQL: 'DROP TABLE Entrenan_en']\n"
     ]
    }
   ],
   "source": [
    "%sql DROP TABLE Entrenan_en"
   ]
  },
  {
   "cell_type": "code",
   "execution_count": 21,
   "metadata": {
    "collapsed": false
   },
   "outputs": [
    {
     "name": "stdout",
     "output_type": "stream",
     "text": [
      "Done.\n"
     ]
    },
    {
     "data": {
      "text/plain": [
       "[]"
      ]
     },
     "execution_count": 21,
     "metadata": {},
     "output_type": "execute_result"
    }
   ],
   "source": [
    "%%sql\n",
    "CREATE TABLE Entrenan_en(\n",
    "    equipo VARCHAR(30),\n",
    "    ciudad VARCHAR(30),\n",
    "    comunidad VARCHAR(30),\n",
    "    cancha VARCHAR(30),    \n",
    "    PRIMARY KEY (equipo, ciudad, comunidad, cancha),\n",
    "    FOREIGN KEY (equipo, ciudad, comunidad) REFERENCES Equipos(equipo,ciudad,comunidad) ON DELETE CASCADE)"
   ]
  },
  {
   "cell_type": "code",
   "execution_count": 22,
   "metadata": {
    "collapsed": false
   },
   "outputs": [
    {
     "name": "stdout",
     "output_type": "stream",
     "text": [
      "1 rows affected.\n",
      "1 rows affected.\n",
      "1 rows affected.\n",
      "1 rows affected.\n",
      "1 rows affected.\n",
      "1 rows affected.\n"
     ]
    },
    {
     "data": {
      "text/plain": [
       "[]"
      ]
     },
     "execution_count": 22,
     "metadata": {},
     "output_type": "execute_result"
    }
   ],
   "source": [
    "%%sql\n",
    "INSERT INTO Entrenan_en(equipo, ciudad, comunidad, cancha)\n",
    "VALUES ('atletico', 'lugo', 'galicia', 'cancha1');\n",
    "INSERT INTO Entrenan_en(equipo, ciudad, comunidad, cancha)\n",
    "VALUES ('atletico', 'alcobendas', 'madrid','cancha2');\n",
    "INSERT INTO Entrenan_en(equipo, ciudad, comunidad, cancha)\n",
    "VALUES ('real', 'alcobendas', 'madrid','cancha2');\n",
    "INSERT INTO Entrenan_en(equipo, ciudad, comunidad, cancha)\n",
    "VALUES ('deportivo', 'pontevedra', 'galicia', 'cancha1');\n",
    "\n",
    "INSERT INTO Entrenan_en(equipo, ciudad, comunidad, cancha)\n",
    "VALUES ('betis', 'alcobendas', 'cantabria','cancha3');\n",
    "\n",
    "INSERT INTO Entrenan_en(equipo, ciudad, comunidad, cancha)\n",
    "VALUES ('betis', 'alcobendas', 'cantabria', 'cancha2');"
   ]
  },
  {
   "cell_type": "code",
   "execution_count": 23,
   "metadata": {
    "collapsed": false
   },
   "outputs": [
    {
     "name": "stdout",
     "output_type": "stream",
     "text": [
      "Done.\n"
     ]
    },
    {
     "data": {
      "text/html": [
       "<table>\n",
       "    <tr>\n",
       "        <th>equipo</th>\n",
       "        <th>ciudad</th>\n",
       "        <th>comunidad</th>\n",
       "        <th>cancha</th>\n",
       "    </tr>\n",
       "    <tr>\n",
       "        <td>atletico</td>\n",
       "        <td>lugo</td>\n",
       "        <td>galicia</td>\n",
       "        <td>cancha1</td>\n",
       "    </tr>\n",
       "    <tr>\n",
       "        <td>atletico</td>\n",
       "        <td>alcobendas</td>\n",
       "        <td>madrid</td>\n",
       "        <td>cancha2</td>\n",
       "    </tr>\n",
       "    <tr>\n",
       "        <td>real</td>\n",
       "        <td>alcobendas</td>\n",
       "        <td>madrid</td>\n",
       "        <td>cancha2</td>\n",
       "    </tr>\n",
       "    <tr>\n",
       "        <td>deportivo</td>\n",
       "        <td>pontevedra</td>\n",
       "        <td>galicia</td>\n",
       "        <td>cancha1</td>\n",
       "    </tr>\n",
       "    <tr>\n",
       "        <td>betis</td>\n",
       "        <td>alcobendas</td>\n",
       "        <td>cantabria</td>\n",
       "        <td>cancha3</td>\n",
       "    </tr>\n",
       "    <tr>\n",
       "        <td>betis</td>\n",
       "        <td>alcobendas</td>\n",
       "        <td>cantabria</td>\n",
       "        <td>cancha2</td>\n",
       "    </tr>\n",
       "</table>"
      ],
      "text/plain": [
       "[('atletico', 'lugo', 'galicia', 'cancha1'),\n",
       " ('atletico', 'alcobendas', 'madrid', 'cancha2'),\n",
       " ('real', 'alcobendas', 'madrid', 'cancha2'),\n",
       " ('deportivo', 'pontevedra', 'galicia', 'cancha1'),\n",
       " ('betis', 'alcobendas', 'cantabria', 'cancha3'),\n",
       " ('betis', 'alcobendas', 'cantabria', 'cancha2')]"
      ]
     },
     "execution_count": 23,
     "metadata": {},
     "output_type": "execute_result"
    }
   ],
   "source": [
    "%sql SELECT * FROM Entrenan_en"
   ]
  },
  {
   "cell_type": "markdown",
   "metadata": {},
   "source": [
    "Ahora, añadimos los puntos 3 y 4 del enunciado.\n",
    "![Diagrama E/R](Diagrama2.jpeg)"
   ]
  },
  {
   "cell_type": "code",
   "execution_count": 24,
   "metadata": {
    "collapsed": false
   },
   "outputs": [
    {
     "name": "stdout",
     "output_type": "stream",
     "text": [
      "Done.\n"
     ]
    },
    {
     "data": {
      "text/plain": [
       "[]"
      ]
     },
     "execution_count": 24,
     "metadata": {},
     "output_type": "execute_result"
    }
   ],
   "source": [
    "%%sql\n",
    "CREATE TABLE Empresas(\n",
    "    empresa VARCHAR(30),\n",
    "    cif VARCHAR(30),\n",
    "    PRIMARY KEY (cif));"
   ]
  },
  {
   "cell_type": "code",
   "execution_count": 25,
   "metadata": {
    "collapsed": false
   },
   "outputs": [
    {
     "name": "stdout",
     "output_type": "stream",
     "text": [
      "1 rows affected.\n",
      "1 rows affected.\n",
      "1 rows affected.\n"
     ]
    },
    {
     "data": {
      "text/plain": [
       "[]"
      ]
     },
     "execution_count": 25,
     "metadata": {},
     "output_type": "execute_result"
    }
   ],
   "source": [
    "%%sql\n",
    "INSERT INTO Empresas(empresa, cif)\n",
    "VALUES ('indra','A11111111');\n",
    "INSERT INTO Empresas(empresa, cif)\n",
    "VALUES ('telefonica','B22222222');\n",
    "INSERT INTO Empresas(empresa, cif)\n",
    "VALUES ('inditex','B33333333');"
   ]
  },
  {
   "cell_type": "code",
   "execution_count": 26,
   "metadata": {
    "collapsed": false
   },
   "outputs": [
    {
     "name": "stdout",
     "output_type": "stream",
     "text": [
      "Done.\n"
     ]
    },
    {
     "data": {
      "text/html": [
       "<table>\n",
       "    <tr>\n",
       "        <th>empresa</th>\n",
       "        <th>cif</th>\n",
       "    </tr>\n",
       "    <tr>\n",
       "        <td>indra</td>\n",
       "        <td>A11111111</td>\n",
       "    </tr>\n",
       "    <tr>\n",
       "        <td>telefonica</td>\n",
       "        <td>B22222222</td>\n",
       "    </tr>\n",
       "    <tr>\n",
       "        <td>inditex</td>\n",
       "        <td>B33333333</td>\n",
       "    </tr>\n",
       "</table>"
      ],
      "text/plain": [
       "[('indra', 'A11111111'), ('telefonica', 'B22222222'), ('inditex', 'B33333333')]"
      ]
     },
     "execution_count": 26,
     "metadata": {},
     "output_type": "execute_result"
    }
   ],
   "source": [
    "%sql SELECT * FROM Empresas;"
   ]
  },
  {
   "cell_type": "code",
   "execution_count": 27,
   "metadata": {
    "collapsed": false
   },
   "outputs": [
    {
     "name": "stdout",
     "output_type": "stream",
     "text": [
      "Done.\n"
     ]
    },
    {
     "data": {
      "text/plain": [
       "[]"
      ]
     },
     "execution_count": 27,
     "metadata": {},
     "output_type": "execute_result"
    }
   ],
   "source": [
    "%%sql\n",
    "CREATE TABLE Temporadas(\n",
    "    f_inicio DATETIME,\n",
    "    f_fin DATETIME,\n",
    "    cif VARCHAR(30) NOT NULL,\n",
    "    PRIMARY KEY (f_inicio),\n",
    "    FOREIGN KEY (cif) REFERENCES Empresas(cif) ON DELETE CASCADE);"
   ]
  },
  {
   "cell_type": "code",
   "execution_count": 28,
   "metadata": {
    "collapsed": false
   },
   "outputs": [
    {
     "name": "stdout",
     "output_type": "stream",
     "text": [
      "1 rows affected.\n",
      "1 rows affected.\n",
      "1 rows affected.\n"
     ]
    },
    {
     "data": {
      "text/plain": [
       "[]"
      ]
     },
     "execution_count": 28,
     "metadata": {},
     "output_type": "execute_result"
    }
   ],
   "source": [
    "%%sql\n",
    "INSERT INTO Temporadas(f_inicio, f_fin, cif)\n",
    "VALUES ('2007-01-1 00:00:00', '2007-12-31 00:00:00','A11111111');\n",
    "INSERT INTO Temporadas(f_inicio, f_fin, cif)\n",
    "VALUES ('2008-01-1 00:00:00', '2008-12-31 00:00:00','B22222222');\n",
    "INSERT INTO Temporadas(f_inicio, f_fin, cif)\n",
    "VALUES ('2009-01-1 00:00:00', '2009-12-31 00:00:00','B33333333');"
   ]
  },
  {
   "cell_type": "code",
   "execution_count": 29,
   "metadata": {
    "collapsed": false
   },
   "outputs": [
    {
     "name": "stdout",
     "output_type": "stream",
     "text": [
      "Done.\n"
     ]
    },
    {
     "data": {
      "text/html": [
       "<table>\n",
       "    <tr>\n",
       "        <th>f_inicio</th>\n",
       "        <th>f_fin</th>\n",
       "        <th>cif</th>\n",
       "    </tr>\n",
       "    <tr>\n",
       "        <td>2007-01-1 00:00:00</td>\n",
       "        <td>2007-12-31 00:00:00</td>\n",
       "        <td>A11111111</td>\n",
       "    </tr>\n",
       "    <tr>\n",
       "        <td>2008-01-1 00:00:00</td>\n",
       "        <td>2008-12-31 00:00:00</td>\n",
       "        <td>B22222222</td>\n",
       "    </tr>\n",
       "    <tr>\n",
       "        <td>2009-01-1 00:00:00</td>\n",
       "        <td>2009-12-31 00:00:00</td>\n",
       "        <td>B33333333</td>\n",
       "    </tr>\n",
       "</table>"
      ],
      "text/plain": [
       "[('2007-01-1 00:00:00', '2007-12-31 00:00:00', 'A11111111'),\n",
       " ('2008-01-1 00:00:00', '2008-12-31 00:00:00', 'B22222222'),\n",
       " ('2009-01-1 00:00:00', '2009-12-31 00:00:00', 'B33333333')]"
      ]
     },
     "execution_count": 29,
     "metadata": {},
     "output_type": "execute_result"
    }
   ],
   "source": [
    "%sql SELECT * FROM Temporadas;"
   ]
  },
  {
   "cell_type": "markdown",
   "metadata": {},
   "source": [
    "Ahora, añadimos el punto 8 del enunciado.\n",
    "![Diagrama E/R](Diagrama3.jpeg)"
   ]
  },
  {
   "cell_type": "code",
   "execution_count": 30,
   "metadata": {
    "collapsed": false
   },
   "outputs": [
    {
     "name": "stdout",
     "output_type": "stream",
     "text": [
      "(sqlite3.OperationalError) no such table: Financian [SQL: 'DROP TABLE Financian']\n"
     ]
    }
   ],
   "source": [
    "%sql DROP TABLE Financian"
   ]
  },
  {
   "cell_type": "code",
   "execution_count": 31,
   "metadata": {
    "collapsed": false
   },
   "outputs": [
    {
     "name": "stdout",
     "output_type": "stream",
     "text": [
      "Done.\n"
     ]
    },
    {
     "data": {
      "text/plain": [
       "[]"
      ]
     },
     "execution_count": 31,
     "metadata": {},
     "output_type": "execute_result"
    }
   ],
   "source": [
    "%%sql\n",
    "CREATE TABLE Financian(\n",
    "    equipo VARCHAR(30),\n",
    "    ciudad VARCHAR(30),\n",
    "    comunidad VARCHAR(30),\n",
    "    cif VARCHAR(30),\n",
    "    PRIMARY KEY (equipo, ciudad, comunidad, cif),\n",
    "    FOREIGN KEY (equipo, ciudad, comunidad) REFERENCES Equipos(equipo, ciudad, comunidad) ON DELETE CASCADE,\n",
    "    FOREIGN KEY (ciudad, comunidad) REFERENCES Ciudades(ciudad, comunidad) ON DELETE CASCADE,\n",
    "    FOREIGN KEY (cif) REFERENCES Empresas(cif) ON DELETE CASCADE);"
   ]
  },
  {
   "cell_type": "code",
   "execution_count": 32,
   "metadata": {
    "collapsed": false
   },
   "outputs": [
    {
     "name": "stdout",
     "output_type": "stream",
     "text": [
      "1 rows affected.\n",
      "1 rows affected.\n",
      "1 rows affected.\n",
      "1 rows affected.\n"
     ]
    },
    {
     "data": {
      "text/plain": [
       "[]"
      ]
     },
     "execution_count": 32,
     "metadata": {},
     "output_type": "execute_result"
    }
   ],
   "source": [
    "%%sql\n",
    "INSERT INTO Financian(equipo, ciudad, comunidad, cif)\n",
    "VALUES ('betis', 'alcobendas', 'cantabria','A11111111');\n",
    "INSERT INTO Financian(equipo, ciudad, comunidad, cif)\n",
    "VALUES ('atletico', 'lugo', 'galicia','B22222222');\n",
    "INSERT INTO Financian(equipo, ciudad, comunidad, cif)\n",
    "VALUES ('atletico', 'alcobendas', 'madrid','B33333333');\n",
    "INSERT INTO Financian(equipo, ciudad, comunidad, cif)\n",
    "VALUES ('deportivo', 'pontevedra', 'galicia','B33333333');"
   ]
  },
  {
   "cell_type": "code",
   "execution_count": 33,
   "metadata": {
    "collapsed": false
   },
   "outputs": [
    {
     "name": "stdout",
     "output_type": "stream",
     "text": [
      "Done.\n"
     ]
    },
    {
     "data": {
      "text/html": [
       "<table>\n",
       "    <tr>\n",
       "        <th>equipo</th>\n",
       "        <th>ciudad</th>\n",
       "        <th>comunidad</th>\n",
       "        <th>cif</th>\n",
       "    </tr>\n",
       "    <tr>\n",
       "        <td>betis</td>\n",
       "        <td>alcobendas</td>\n",
       "        <td>cantabria</td>\n",
       "        <td>A11111111</td>\n",
       "    </tr>\n",
       "    <tr>\n",
       "        <td>atletico</td>\n",
       "        <td>lugo</td>\n",
       "        <td>galicia</td>\n",
       "        <td>B22222222</td>\n",
       "    </tr>\n",
       "    <tr>\n",
       "        <td>atletico</td>\n",
       "        <td>alcobendas</td>\n",
       "        <td>madrid</td>\n",
       "        <td>B33333333</td>\n",
       "    </tr>\n",
       "    <tr>\n",
       "        <td>deportivo</td>\n",
       "        <td>pontevedra</td>\n",
       "        <td>galicia</td>\n",
       "        <td>B33333333</td>\n",
       "    </tr>\n",
       "</table>"
      ],
      "text/plain": [
       "[('betis', 'alcobendas', 'cantabria', 'A11111111'),\n",
       " ('atletico', 'lugo', 'galicia', 'B22222222'),\n",
       " ('atletico', 'alcobendas', 'madrid', 'B33333333'),\n",
       " ('deportivo', 'pontevedra', 'galicia', 'B33333333')]"
      ]
     },
     "execution_count": 33,
     "metadata": {},
     "output_type": "execute_result"
    }
   ],
   "source": [
    "%sql SELECT * FROM Financian"
   ]
  },
  {
   "cell_type": "markdown",
   "metadata": {},
   "source": [
    "Continuamos añadiendo el punto 5 del enunciado. ![Diagrama E/R](Diagrama4.jpeg)"
   ]
  },
  {
   "cell_type": "code",
   "execution_count": 34,
   "metadata": {
    "collapsed": false
   },
   "outputs": [
    {
     "name": "stdout",
     "output_type": "stream",
     "text": [
      "Done.\n"
     ]
    },
    {
     "data": {
      "text/plain": [
       "[]"
      ]
     },
     "execution_count": 34,
     "metadata": {},
     "output_type": "execute_result"
    }
   ],
   "source": [
    "%%sql\n",
    "CREATE TABLE Personas (\n",
    "    nif VARCHAR(30),\n",
    "    nombre VARCHAR(30),\n",
    "    apellidos VARCHAR(30),\n",
    "    f_nacimiento DATETIME,\n",
    "    PRIMARY KEY (nif))"
   ]
  },
  {
   "cell_type": "code",
   "execution_count": 35,
   "metadata": {
    "collapsed": false
   },
   "outputs": [
    {
     "name": "stdout",
     "output_type": "stream",
     "text": [
      "1 rows affected.\n",
      "1 rows affected.\n",
      "1 rows affected.\n",
      "1 rows affected.\n",
      "1 rows affected.\n",
      "1 rows affected.\n",
      "1 rows affected.\n"
     ]
    },
    {
     "data": {
      "text/plain": [
       "[]"
      ]
     },
     "execution_count": 35,
     "metadata": {},
     "output_type": "execute_result"
    }
   ],
   "source": [
    "%%sql\n",
    "INSERT INTO Personas(nif, nombre, apellidos, f_nacimiento)\n",
    "VALUES ('11111111A', 'juan', 'perez martinez', '1980-12-26 00:00:00');\n",
    "INSERT INTO Personas(nif, nombre, apellidos, f_nacimiento)\n",
    "VALUES ('22222222B', 'juan', 'perez martinez', '1975-02-17 00:00:00');\n",
    "INSERT INTO Personas(nif, nombre, apellidos, f_nacimiento)\n",
    "VALUES ('33333333C', 'pepe', 'perez martinez', '1984-10-15 00:00:00');\n",
    "INSERT INTO Personas(nif, nombre, apellidos, f_nacimiento)\n",
    "VALUES ('44444444D', 'paco', 'rodriguez', '1980-04-16 00:00:00');\n",
    "INSERT INTO Personas(nif, nombre, apellidos, f_nacimiento)\n",
    "VALUES ('55555555E', 'elena', 'garcia sanz', '1996-03-28 00:00:00');\n",
    "INSERT INTO Personas(nif, nombre, apellidos, f_nacimiento)\n",
    "VALUES ('66666666F', 'rosa', 'sanz hernandez', '1981-11-06 00:00:00');\n",
    "INSERT INTO Personas(nif, nombre, apellidos, f_nacimiento)\n",
    "VALUES ('77777777G', 'jose', 'sanchez', '1981-12-24 00:00:00');"
   ]
  },
  {
   "cell_type": "code",
   "execution_count": 36,
   "metadata": {
    "collapsed": false
   },
   "outputs": [
    {
     "name": "stdout",
     "output_type": "stream",
     "text": [
      "Done.\n"
     ]
    },
    {
     "data": {
      "text/html": [
       "<table>\n",
       "    <tr>\n",
       "        <th>nif</th>\n",
       "        <th>nombre</th>\n",
       "        <th>apellidos</th>\n",
       "        <th>f_nacimiento</th>\n",
       "    </tr>\n",
       "    <tr>\n",
       "        <td>11111111A</td>\n",
       "        <td>juan</td>\n",
       "        <td>perez martinez</td>\n",
       "        <td>1980-12-26 00:00:00</td>\n",
       "    </tr>\n",
       "    <tr>\n",
       "        <td>22222222B</td>\n",
       "        <td>juan</td>\n",
       "        <td>perez martinez</td>\n",
       "        <td>1975-02-17 00:00:00</td>\n",
       "    </tr>\n",
       "    <tr>\n",
       "        <td>33333333C</td>\n",
       "        <td>pepe</td>\n",
       "        <td>perez martinez</td>\n",
       "        <td>1984-10-15 00:00:00</td>\n",
       "    </tr>\n",
       "    <tr>\n",
       "        <td>44444444D</td>\n",
       "        <td>paco</td>\n",
       "        <td>rodriguez</td>\n",
       "        <td>1980-04-16 00:00:00</td>\n",
       "    </tr>\n",
       "    <tr>\n",
       "        <td>55555555E</td>\n",
       "        <td>elena</td>\n",
       "        <td>garcia sanz</td>\n",
       "        <td>1996-03-28 00:00:00</td>\n",
       "    </tr>\n",
       "    <tr>\n",
       "        <td>66666666F</td>\n",
       "        <td>rosa</td>\n",
       "        <td>sanz hernandez</td>\n",
       "        <td>1981-11-06 00:00:00</td>\n",
       "    </tr>\n",
       "    <tr>\n",
       "        <td>77777777G</td>\n",
       "        <td>jose</td>\n",
       "        <td>sanchez</td>\n",
       "        <td>1981-12-24 00:00:00</td>\n",
       "    </tr>\n",
       "</table>"
      ],
      "text/plain": [
       "[('11111111A', 'juan', 'perez martinez', '1980-12-26 00:00:00'),\n",
       " ('22222222B', 'juan', 'perez martinez', '1975-02-17 00:00:00'),\n",
       " ('33333333C', 'pepe', 'perez martinez', '1984-10-15 00:00:00'),\n",
       " ('44444444D', 'paco', 'rodriguez', '1980-04-16 00:00:00'),\n",
       " ('55555555E', 'elena', 'garcia sanz', '1996-03-28 00:00:00'),\n",
       " ('66666666F', 'rosa', 'sanz hernandez', '1981-11-06 00:00:00'),\n",
       " ('77777777G', 'jose', 'sanchez', '1981-12-24 00:00:00')]"
      ]
     },
     "execution_count": 36,
     "metadata": {},
     "output_type": "execute_result"
    }
   ],
   "source": [
    "%sql SELECT * FROM Personas;"
   ]
  },
  {
   "cell_type": "code",
   "execution_count": 37,
   "metadata": {
    "collapsed": false
   },
   "outputs": [
    {
     "name": "stdout",
     "output_type": "stream",
     "text": [
      "(sqlite3.OperationalError) no such table: Jugadores [SQL: 'DROP TABLE Jugadores']\n"
     ]
    }
   ],
   "source": [
    "%sql DROP TABLE Jugadores"
   ]
  },
  {
   "cell_type": "code",
   "execution_count": 38,
   "metadata": {
    "collapsed": false
   },
   "outputs": [
    {
     "name": "stdout",
     "output_type": "stream",
     "text": [
      "Done.\n"
     ]
    },
    {
     "data": {
      "text/plain": [
       "[]"
      ]
     },
     "execution_count": 38,
     "metadata": {},
     "output_type": "execute_result"
    }
   ],
   "source": [
    "%%sql\n",
    "CREATE TABLE Jugadores (\n",
    "    jugador VARCHAR(30),\n",
    "    PRIMARY KEY (jugador),\n",
    "    FOREIGN KEY (jugador) REFERENCES Personas(nif) ON DELETE CASCADE)"
   ]
  },
  {
   "cell_type": "markdown",
   "metadata": {},
   "source": [
    "Modificamos ahora la tabla de Jugadores, añadiéndoles el atributo \"estatura\", según el punto 21"
   ]
  },
  {
   "cell_type": "code",
   "execution_count": 39,
   "metadata": {
    "collapsed": false
   },
   "outputs": [
    {
     "name": "stdout",
     "output_type": "stream",
     "text": [
      "Done.\n"
     ]
    },
    {
     "data": {
      "text/plain": [
       "[]"
      ]
     },
     "execution_count": 39,
     "metadata": {},
     "output_type": "execute_result"
    }
   ],
   "source": [
    "%sql ALTER TABLE Jugadores ADD COLUMN estatura_cm INT"
   ]
  },
  {
   "cell_type": "code",
   "execution_count": 40,
   "metadata": {
    "collapsed": false
   },
   "outputs": [
    {
     "name": "stdout",
     "output_type": "stream",
     "text": [
      "1 rows affected.\n",
      "1 rows affected.\n",
      "1 rows affected.\n",
      "1 rows affected.\n",
      "1 rows affected.\n"
     ]
    },
    {
     "data": {
      "text/plain": [
       "[]"
      ]
     },
     "execution_count": 40,
     "metadata": {},
     "output_type": "execute_result"
    }
   ],
   "source": [
    "%%sql\n",
    "INSERT INTO Jugadores(jugador, estatura_cm)\n",
    "VALUES ('11111111A',190);\n",
    "INSERT INTO Jugadores(jugador, estatura_cm)\n",
    "VALUES ('22222222B', 192);\n",
    "INSERT INTO Jugadores(jugador, estatura_cm)\n",
    "VALUES ('33333333C', 205);\n",
    "INSERT INTO Jugadores(jugador, estatura_cm)\n",
    "VALUES ('44444444D', 203);\n",
    "INSERT INTO Jugadores(jugador, estatura_cm)\n",
    "VALUES ('55555555E', 204);"
   ]
  },
  {
   "cell_type": "code",
   "execution_count": 41,
   "metadata": {
    "collapsed": false
   },
   "outputs": [
    {
     "name": "stdout",
     "output_type": "stream",
     "text": [
      "Done.\n"
     ]
    },
    {
     "data": {
      "text/html": [
       "<table>\n",
       "    <tr>\n",
       "        <th>jugador</th>\n",
       "        <th>estatura_cm</th>\n",
       "    </tr>\n",
       "    <tr>\n",
       "        <td>11111111A</td>\n",
       "        <td>190</td>\n",
       "    </tr>\n",
       "    <tr>\n",
       "        <td>22222222B</td>\n",
       "        <td>192</td>\n",
       "    </tr>\n",
       "    <tr>\n",
       "        <td>33333333C</td>\n",
       "        <td>205</td>\n",
       "    </tr>\n",
       "    <tr>\n",
       "        <td>44444444D</td>\n",
       "        <td>203</td>\n",
       "    </tr>\n",
       "    <tr>\n",
       "        <td>55555555E</td>\n",
       "        <td>204</td>\n",
       "    </tr>\n",
       "</table>"
      ],
      "text/plain": [
       "[('11111111A', 190),\n",
       " ('22222222B', 192),\n",
       " ('33333333C', 205),\n",
       " ('44444444D', 203),\n",
       " ('55555555E', 204)]"
      ]
     },
     "execution_count": 41,
     "metadata": {},
     "output_type": "execute_result"
    }
   ],
   "source": [
    "%sql SELECT * FROM Jugadores;"
   ]
  },
  {
   "cell_type": "code",
   "execution_count": 42,
   "metadata": {
    "collapsed": false
   },
   "outputs": [
    {
     "name": "stdout",
     "output_type": "stream",
     "text": [
      "Done.\n"
     ]
    },
    {
     "data": {
      "text/plain": [
       "[]"
      ]
     },
     "execution_count": 42,
     "metadata": {},
     "output_type": "execute_result"
    }
   ],
   "source": [
    "%%sql\n",
    "CREATE TABLE Entrenadores (\n",
    "    entrenador VARCHAR(30),\n",
    "    PRIMARY KEY (entrenador),\n",
    "    FOREIGN KEY (entrenador) REFERENCES Personas(nif) ON DELETE CASCADE)"
   ]
  },
  {
   "cell_type": "code",
   "execution_count": 43,
   "metadata": {
    "collapsed": false
   },
   "outputs": [
    {
     "name": "stdout",
     "output_type": "stream",
     "text": [
      "1 rows affected.\n",
      "1 rows affected.\n"
     ]
    },
    {
     "data": {
      "text/plain": [
       "[]"
      ]
     },
     "execution_count": 43,
     "metadata": {},
     "output_type": "execute_result"
    }
   ],
   "source": [
    "%%sql\n",
    "INSERT INTO Entrenadores(entrenador)\n",
    "VALUES ('66666666F');\n",
    "INSERT INTO Entrenadores(entrenador)\n",
    "VALUES ('77777777G');"
   ]
  },
  {
   "cell_type": "code",
   "execution_count": 44,
   "metadata": {
    "collapsed": false
   },
   "outputs": [
    {
     "name": "stdout",
     "output_type": "stream",
     "text": [
      "Done.\n"
     ]
    },
    {
     "data": {
      "text/html": [
       "<table>\n",
       "    <tr>\n",
       "        <th>entrenador</th>\n",
       "    </tr>\n",
       "    <tr>\n",
       "        <td>66666666F</td>\n",
       "    </tr>\n",
       "    <tr>\n",
       "        <td>77777777G</td>\n",
       "    </tr>\n",
       "</table>"
      ],
      "text/plain": [
       "[('66666666F',), ('77777777G',)]"
      ]
     },
     "execution_count": 44,
     "metadata": {},
     "output_type": "execute_result"
    }
   ],
   "source": [
    "%sql SELECT * FROM Entrenadores;"
   ]
  },
  {
   "cell_type": "markdown",
   "metadata": {},
   "source": [
    "Añadimos ahora los puntos 9, 10, 11 y 12. ![Diagrama E/R](Diagrama5.jpeg)"
   ]
  },
  {
   "cell_type": "code",
   "execution_count": 45,
   "metadata": {
    "collapsed": false
   },
   "outputs": [
    {
     "name": "stdout",
     "output_type": "stream",
     "text": [
      "(sqlite3.OperationalError) no such table: Entrenan [SQL: 'DROP TABLE Entrenan']\n"
     ]
    }
   ],
   "source": [
    "%sql DROP TABLE Entrenan"
   ]
  },
  {
   "cell_type": "code",
   "execution_count": 46,
   "metadata": {
    "collapsed": false
   },
   "outputs": [
    {
     "name": "stdout",
     "output_type": "stream",
     "text": [
      "Done.\n"
     ]
    },
    {
     "data": {
      "text/plain": [
       "[]"
      ]
     },
     "execution_count": 46,
     "metadata": {},
     "output_type": "execute_result"
    }
   ],
   "source": [
    "%%sql\n",
    "CREATE TABLE Entrenan(\n",
    "    f_inicio DATETIME,\n",
    "    f_fin DATETIME,\n",
    "    entrenador VARCHAR(30),\n",
    "    equipo VARCHAR(30),\n",
    "    ciudad VARCHAR(30),\n",
    "    comunidad VARCHAR(30),\n",
    "    cancha VARCHAR(30),\n",
    "    f_temporada DATETIME,\n",
    "    PRIMARY KEY (f_inicio, entrenador, equipo, ciudad, comunidad, cancha, f_temporada),\n",
    "    FOREIGN KEY (entrenador) REFERENCES Entrenadores(entrenador) ON DELETE CASCADE,\n",
    "    FOREIGN KEY (equipo,ciudad,comunidad) REFERENCES Equipos(equipo,ciudad,comunidad) ON DELETE CASCADE,\n",
    "    \n",
    "    FOREIGN KEY (cancha) REFERENCES Canchas(cancha) ON DELETE CASCADE,\n",
    "    FOREIGN KEY (f_temporada) REFERENCES Temporadas(f_inicio) ON DELETE CASCADE)"
   ]
  },
  {
   "cell_type": "code",
   "execution_count": 47,
   "metadata": {
    "collapsed": false
   },
   "outputs": [
    {
     "name": "stdout",
     "output_type": "stream",
     "text": [
      "Done.\n"
     ]
    },
    {
     "data": {
      "text/html": [
       "<table>\n",
       "    <tr>\n",
       "        <th>f_inicio</th>\n",
       "        <th>f_fin</th>\n",
       "        <th>entrenador</th>\n",
       "        <th>equipo</th>\n",
       "        <th>ciudad</th>\n",
       "        <th>comunidad</th>\n",
       "        <th>cancha</th>\n",
       "        <th>f_temporada</th>\n",
       "    </tr>\n",
       "</table>"
      ],
      "text/plain": [
       "[]"
      ]
     },
     "execution_count": 47,
     "metadata": {},
     "output_type": "execute_result"
    }
   ],
   "source": [
    "%sql SELECT * FROM Entrenan"
   ]
  },
  {
   "cell_type": "code",
   "execution_count": 48,
   "metadata": {
    "collapsed": false
   },
   "outputs": [
    {
     "name": "stdout",
     "output_type": "stream",
     "text": [
      "1 rows affected.\n",
      "1 rows affected.\n",
      "1 rows affected.\n",
      "1 rows affected.\n"
     ]
    },
    {
     "data": {
      "text/plain": [
       "[]"
      ]
     },
     "execution_count": 48,
     "metadata": {},
     "output_type": "execute_result"
    }
   ],
   "source": [
    "%%sql\n",
    "INSERT INTO Entrenan(f_inicio, f_fin, entrenador, equipo, ciudad, comunidad, cancha, f_temporada)\n",
    "VALUES ('2007-01-1 00:00:00','2007-12-31 00:00:00','66666666F','atletico','lugo', 'galicia', 'cancha1', '2007-01-1 00:00:00');\n",
    "INSERT INTO Entrenan(f_inicio, f_fin, entrenador, equipo, ciudad, comunidad, cancha, f_temporada)\n",
    "VALUES ('2008-01-1 00:00:00','2008-12-31 00:00:00','66666666F', 'real', 'alcobendas', 'madrid','cancha2','2008-01-1 00:00:00');\n",
    "\n",
    "INSERT INTO Entrenan(f_inicio, f_fin, entrenador, equipo, ciudad, comunidad, cancha, f_temporada)\n",
    "VALUES ('2007-01-1 00:00:00','2007-04-25 00:00:00','77777777G', 'real', 'alcobendas', 'madrid','cancha2','2007-01-1 00:00:00');\n",
    "INSERT INTO Entrenan(f_inicio, f_fin, entrenador, equipo, ciudad, comunidad, cancha, f_temporada)\n",
    "VALUES ('2008-01-1 00:00:00','2008-12-31 00:00:00','77777777G', 'deportivo', 'pontevedra', 'galicia','cancha1','2008-01-1 00:00:00');"
   ]
  },
  {
   "cell_type": "code",
   "execution_count": 49,
   "metadata": {
    "collapsed": false
   },
   "outputs": [
    {
     "name": "stdout",
     "output_type": "stream",
     "text": [
      "Done.\n"
     ]
    },
    {
     "data": {
      "text/html": [
       "<table>\n",
       "    <tr>\n",
       "        <th>f_inicio</th>\n",
       "        <th>f_fin</th>\n",
       "        <th>entrenador</th>\n",
       "        <th>equipo</th>\n",
       "        <th>ciudad</th>\n",
       "        <th>comunidad</th>\n",
       "        <th>cancha</th>\n",
       "        <th>f_temporada</th>\n",
       "    </tr>\n",
       "    <tr>\n",
       "        <td>2007-01-1 00:00:00</td>\n",
       "        <td>2007-12-31 00:00:00</td>\n",
       "        <td>66666666F</td>\n",
       "        <td>atletico</td>\n",
       "        <td>lugo</td>\n",
       "        <td>galicia</td>\n",
       "        <td>cancha1</td>\n",
       "        <td>2007-01-1 00:00:00</td>\n",
       "    </tr>\n",
       "    <tr>\n",
       "        <td>2008-01-1 00:00:00</td>\n",
       "        <td>2008-12-31 00:00:00</td>\n",
       "        <td>66666666F</td>\n",
       "        <td>real</td>\n",
       "        <td>alcobendas</td>\n",
       "        <td>madrid</td>\n",
       "        <td>cancha2</td>\n",
       "        <td>2008-01-1 00:00:00</td>\n",
       "    </tr>\n",
       "    <tr>\n",
       "        <td>2007-01-1 00:00:00</td>\n",
       "        <td>2007-04-25 00:00:00</td>\n",
       "        <td>77777777G</td>\n",
       "        <td>real</td>\n",
       "        <td>alcobendas</td>\n",
       "        <td>madrid</td>\n",
       "        <td>cancha2</td>\n",
       "        <td>2007-01-1 00:00:00</td>\n",
       "    </tr>\n",
       "    <tr>\n",
       "        <td>2008-01-1 00:00:00</td>\n",
       "        <td>2008-12-31 00:00:00</td>\n",
       "        <td>77777777G</td>\n",
       "        <td>deportivo</td>\n",
       "        <td>pontevedra</td>\n",
       "        <td>galicia</td>\n",
       "        <td>cancha1</td>\n",
       "        <td>2008-01-1 00:00:00</td>\n",
       "    </tr>\n",
       "</table>"
      ],
      "text/plain": [
       "[('2007-01-1 00:00:00', '2007-12-31 00:00:00', '66666666F', 'atletico', 'lugo', 'galicia', 'cancha1', '2007-01-1 00:00:00'),\n",
       " ('2008-01-1 00:00:00', '2008-12-31 00:00:00', '66666666F', 'real', 'alcobendas', 'madrid', 'cancha2', '2008-01-1 00:00:00'),\n",
       " ('2007-01-1 00:00:00', '2007-04-25 00:00:00', '77777777G', 'real', 'alcobendas', 'madrid', 'cancha2', '2007-01-1 00:00:00'),\n",
       " ('2008-01-1 00:00:00', '2008-12-31 00:00:00', '77777777G', 'deportivo', 'pontevedra', 'galicia', 'cancha1', '2008-01-1 00:00:00')]"
      ]
     },
     "execution_count": 49,
     "metadata": {},
     "output_type": "execute_result"
    }
   ],
   "source": [
    "%sql SELECT * FROM Entrenan"
   ]
  },
  {
   "cell_type": "markdown",
   "metadata": {},
   "source": [
    "Añadimos ahora los puntos 13, 14 y 15. ![Diagrama E/R](Diagrama6.jpeg)"
   ]
  },
  {
   "cell_type": "code",
   "execution_count": 50,
   "metadata": {
    "collapsed": false
   },
   "outputs": [
    {
     "name": "stdout",
     "output_type": "stream",
     "text": [
      "(sqlite3.OperationalError) no such table: Partidos [SQL: 'DROP TABLE Partidos']\n"
     ]
    }
   ],
   "source": [
    "%sql DROP TABLE Partidos"
   ]
  },
  {
   "cell_type": "code",
   "execution_count": 51,
   "metadata": {
    "collapsed": false
   },
   "outputs": [
    {
     "name": "stdout",
     "output_type": "stream",
     "text": [
      "Done.\n"
     ]
    },
    {
     "data": {
      "text/plain": [
       "[]"
      ]
     },
     "execution_count": 51,
     "metadata": {},
     "output_type": "execute_result"
    }
   ],
   "source": [
    "%%sql\n",
    "CREATE TABLE Partidos(\n",
    "    f_inicio DATETIME,\n",
    "    f_fin DATETIME,\n",
    "    \n",
    "    equipo1 VARCHAR(30),\n",
    "    ciudad1 VARCHAR(30),\n",
    "    comunidad1 VARCHAR(30),\n",
    "    \n",
    "    equipo2 VARCHAR(30),\n",
    "    ciudad2 VARCHAR(30),\n",
    "    comunidad2 VARCHAR(30),\n",
    "    \n",
    "    cancha VARCHAR(30),\n",
    "    \n",
    "    f_temporada DATETIME,\n",
    "    \n",
    "    PRIMARY KEY (f_inicio,\n",
    "                 equipo1, ciudad1, comunidad1, \n",
    "                 equipo2, ciudad2, comunidad2,\n",
    "                 f_temporada),\n",
    "    FOREIGN KEY (equipo1,ciudad1,comunidad1) REFERENCES Equipos(equipo,ciudad,comunidad) ON DELETE CASCADE,\n",
    "    FOREIGN KEY (equipo2,ciudad2,comunidad2) REFERENCES Equipos(equipo,ciudad,comunidad) ON DELETE CASCADE,\n",
    "    FOREIGN KEY (cancha) REFERENCES Canchas(cancha) ON DELETE CASCADE,\n",
    "    FOREIGN KEY (f_temporada) REFERENCES Temporadas(f_inicio) ON DELETE CASCADE)"
   ]
  },
  {
   "cell_type": "code",
   "execution_count": 52,
   "metadata": {
    "collapsed": false
   },
   "outputs": [
    {
     "name": "stdout",
     "output_type": "stream",
     "text": [
      "Done.\n"
     ]
    },
    {
     "data": {
      "text/html": [
       "<table>\n",
       "    <tr>\n",
       "        <th>cancha</th>\n",
       "    </tr>\n",
       "    <tr>\n",
       "        <td>cancha1</td>\n",
       "    </tr>\n",
       "    <tr>\n",
       "        <td>cancha2</td>\n",
       "    </tr>\n",
       "    <tr>\n",
       "        <td>cancha3</td>\n",
       "    </tr>\n",
       "</table>"
      ],
      "text/plain": [
       "[('cancha1',), ('cancha2',), ('cancha3',)]"
      ]
     },
     "execution_count": 52,
     "metadata": {},
     "output_type": "execute_result"
    }
   ],
   "source": [
    "%sql SELECT * FROM canchas"
   ]
  },
  {
   "cell_type": "code",
   "execution_count": 53,
   "metadata": {
    "collapsed": false
   },
   "outputs": [
    {
     "ename": "IntegrityError",
     "evalue": "(sqlite3.IntegrityError) FOREIGN KEY constraint failed [SQL: \"INSERT INTO PARTIDOS (f_inicio, f_fin, equipo1, ciudad1, comunidad1, equipo2, ciudad2, comunidad2, cancha, f_temporada)\\nVALUES ('2007-01-10 16:00:00','2007-01-10 18:30:00','atletico','lugo', 'galicia', 'atletico','alcobendas', 'madrid','cancha1','2007-01-01 00:00:00' );\"]",
     "output_type": "error",
     "traceback": [
      "\u001b[0;31m---------------------------------------------------------------------------\u001b[0m",
      "\u001b[0;31mIntegrityError\u001b[0m                            Traceback (most recent call last)",
      "\u001b[0;32m/usr/local/lib/python3.5/dist-packages/sqlalchemy/engine/base.py\u001b[0m in \u001b[0;36m_execute_context\u001b[0;34m(self, dialect, constructor, statement, parameters, *args)\u001b[0m\n\u001b[1;32m   1138\u001b[0m                         \u001b[0mparameters\u001b[0m\u001b[0;34m,\u001b[0m\u001b[0;34m\u001b[0m\u001b[0m\n\u001b[0;32m-> 1139\u001b[0;31m                         context)\n\u001b[0m\u001b[1;32m   1140\u001b[0m         \u001b[0;32mexcept\u001b[0m \u001b[0mException\u001b[0m \u001b[0;32mas\u001b[0m \u001b[0me\u001b[0m\u001b[0;34m:\u001b[0m\u001b[0;34m\u001b[0m\u001b[0m\n",
      "\u001b[0;32m/usr/local/lib/python3.5/dist-packages/sqlalchemy/engine/default.py\u001b[0m in \u001b[0;36mdo_execute\u001b[0;34m(self, cursor, statement, parameters, context)\u001b[0m\n\u001b[1;32m    449\u001b[0m     \u001b[0;32mdef\u001b[0m \u001b[0mdo_execute\u001b[0m\u001b[0;34m(\u001b[0m\u001b[0mself\u001b[0m\u001b[0;34m,\u001b[0m \u001b[0mcursor\u001b[0m\u001b[0;34m,\u001b[0m \u001b[0mstatement\u001b[0m\u001b[0;34m,\u001b[0m \u001b[0mparameters\u001b[0m\u001b[0;34m,\u001b[0m \u001b[0mcontext\u001b[0m\u001b[0;34m=\u001b[0m\u001b[0;32mNone\u001b[0m\u001b[0;34m)\u001b[0m\u001b[0;34m:\u001b[0m\u001b[0;34m\u001b[0m\u001b[0m\n\u001b[0;32m--> 450\u001b[0;31m         \u001b[0mcursor\u001b[0m\u001b[0;34m.\u001b[0m\u001b[0mexecute\u001b[0m\u001b[0;34m(\u001b[0m\u001b[0mstatement\u001b[0m\u001b[0;34m,\u001b[0m \u001b[0mparameters\u001b[0m\u001b[0;34m)\u001b[0m\u001b[0;34m\u001b[0m\u001b[0m\n\u001b[0m\u001b[1;32m    451\u001b[0m \u001b[0;34m\u001b[0m\u001b[0m\n",
      "\u001b[0;31mIntegrityError\u001b[0m: FOREIGN KEY constraint failed",
      "\nThe above exception was the direct cause of the following exception:\n",
      "\u001b[0;31mIntegrityError\u001b[0m                            Traceback (most recent call last)",
      "\u001b[0;32m<ipython-input-53-b2625ae70315>\u001b[0m in \u001b[0;36m<module>\u001b[0;34m()\u001b[0m\n\u001b[0;32m----> 1\u001b[0;31m \u001b[0mget_ipython\u001b[0m\u001b[0;34m(\u001b[0m\u001b[0;34m)\u001b[0m\u001b[0;34m.\u001b[0m\u001b[0mrun_cell_magic\u001b[0m\u001b[0;34m(\u001b[0m\u001b[0;34m'sql'\u001b[0m\u001b[0;34m,\u001b[0m \u001b[0;34m''\u001b[0m\u001b[0;34m,\u001b[0m \u001b[0;34m\"INSERT INTO PARTIDOS (f_inicio, f_fin, equipo1, ciudad1, comunidad1, equipo2, ciudad2, comunidad2, cancha, f_temporada)\\nVALUES ('2007-01-10 16:00:00','2007-01-10 18:30:00','atletico','lugo', 'galicia', 'atletico','alcobendas', 'madrid','cancha1','2007-01-01 00:00:00' );\\nINSERT INTO PARTIDOS (f_inicio, f_fin, equipo1, ciudad1, comunidad1, equipo2, ciudad2, comunidad2, f_temporada)\\nVALUES ('2007-01-10 19:00:00', '2007-01-10 21:10:00','atletico','lugo', 'galicia', 'real','alcobendas', 'madrid','cancha2','2007-01-01 00:00:00' );\\nINSERT INTO PARTIDOS (f_inicio,f_fin, equipo1, ciudad1, comunidad1, equipo2, ciudad2, comunidad2, f_temporada)\\nVALUES ('2007-05-20 19:00:00', '2007-05-20 21:40:00','deportivo','pontevedra', 'galicia', 'real','alcobendas','madrid', 'cancha2','2007-01-01 00:00:00' );\\nINSERT INTO PARTIDOS (f_inicio, f_fin,equipo1, ciudad1, comunidad1, equipo2, ciudad2, comunidad2, f_temporada)\\nVALUES ('2008-05-23 15:00:00', '2008-05-23 17:20:00','deportivo','pontevedra', 'galicia', 'real','alcobendas', 'madrid', 'cancha3','2008-01-01 00:00:00' );\"\u001b[0m\u001b[0;34m)\u001b[0m\u001b[0;34m\u001b[0m\u001b[0m\n\u001b[0m",
      "\u001b[0;32m/usr/local/lib/python3.5/dist-packages/IPython/core/interactiveshell.py\u001b[0m in \u001b[0;36mrun_cell_magic\u001b[0;34m(self, magic_name, line, cell)\u001b[0m\n\u001b[1;32m   2113\u001b[0m             \u001b[0mmagic_arg_s\u001b[0m \u001b[0;34m=\u001b[0m \u001b[0mself\u001b[0m\u001b[0;34m.\u001b[0m\u001b[0mvar_expand\u001b[0m\u001b[0;34m(\u001b[0m\u001b[0mline\u001b[0m\u001b[0;34m,\u001b[0m \u001b[0mstack_depth\u001b[0m\u001b[0;34m)\u001b[0m\u001b[0;34m\u001b[0m\u001b[0m\n\u001b[1;32m   2114\u001b[0m             \u001b[0;32mwith\u001b[0m \u001b[0mself\u001b[0m\u001b[0;34m.\u001b[0m\u001b[0mbuiltin_trap\u001b[0m\u001b[0;34m:\u001b[0m\u001b[0;34m\u001b[0m\u001b[0m\n\u001b[0;32m-> 2115\u001b[0;31m                 \u001b[0mresult\u001b[0m \u001b[0;34m=\u001b[0m \u001b[0mfn\u001b[0m\u001b[0;34m(\u001b[0m\u001b[0mmagic_arg_s\u001b[0m\u001b[0;34m,\u001b[0m \u001b[0mcell\u001b[0m\u001b[0;34m)\u001b[0m\u001b[0;34m\u001b[0m\u001b[0m\n\u001b[0m\u001b[1;32m   2116\u001b[0m             \u001b[0;32mreturn\u001b[0m \u001b[0mresult\u001b[0m\u001b[0;34m\u001b[0m\u001b[0m\n\u001b[1;32m   2117\u001b[0m \u001b[0;34m\u001b[0m\u001b[0m\n",
      "\u001b[0;32m<decorator-gen-123>\u001b[0m in \u001b[0;36mexecute\u001b[0;34m(self, line, cell, local_ns)\u001b[0m\n",
      "\u001b[0;32m/usr/local/lib/python3.5/dist-packages/IPython/core/magic.py\u001b[0m in \u001b[0;36m<lambda>\u001b[0;34m(f, *a, **k)\u001b[0m\n\u001b[1;32m    186\u001b[0m     \u001b[0;31m# but it's overkill for just that one bit of state.\u001b[0m\u001b[0;34m\u001b[0m\u001b[0;34m\u001b[0m\u001b[0m\n\u001b[1;32m    187\u001b[0m     \u001b[0;32mdef\u001b[0m \u001b[0mmagic_deco\u001b[0m\u001b[0;34m(\u001b[0m\u001b[0marg\u001b[0m\u001b[0;34m)\u001b[0m\u001b[0;34m:\u001b[0m\u001b[0;34m\u001b[0m\u001b[0m\n\u001b[0;32m--> 188\u001b[0;31m         \u001b[0mcall\u001b[0m \u001b[0;34m=\u001b[0m \u001b[0;32mlambda\u001b[0m \u001b[0mf\u001b[0m\u001b[0;34m,\u001b[0m \u001b[0;34m*\u001b[0m\u001b[0ma\u001b[0m\u001b[0;34m,\u001b[0m \u001b[0;34m**\u001b[0m\u001b[0mk\u001b[0m\u001b[0;34m:\u001b[0m \u001b[0mf\u001b[0m\u001b[0;34m(\u001b[0m\u001b[0;34m*\u001b[0m\u001b[0ma\u001b[0m\u001b[0;34m,\u001b[0m \u001b[0;34m**\u001b[0m\u001b[0mk\u001b[0m\u001b[0;34m)\u001b[0m\u001b[0;34m\u001b[0m\u001b[0m\n\u001b[0m\u001b[1;32m    189\u001b[0m \u001b[0;34m\u001b[0m\u001b[0m\n\u001b[1;32m    190\u001b[0m         \u001b[0;32mif\u001b[0m \u001b[0mcallable\u001b[0m\u001b[0;34m(\u001b[0m\u001b[0marg\u001b[0m\u001b[0;34m)\u001b[0m\u001b[0;34m:\u001b[0m\u001b[0;34m\u001b[0m\u001b[0m\n",
      "\u001b[0;32m<decorator-gen-122>\u001b[0m in \u001b[0;36mexecute\u001b[0;34m(self, line, cell, local_ns)\u001b[0m\n",
      "\u001b[0;32m/usr/local/lib/python3.5/dist-packages/IPython/core/magic.py\u001b[0m in \u001b[0;36m<lambda>\u001b[0;34m(f, *a, **k)\u001b[0m\n\u001b[1;32m    186\u001b[0m     \u001b[0;31m# but it's overkill for just that one bit of state.\u001b[0m\u001b[0;34m\u001b[0m\u001b[0;34m\u001b[0m\u001b[0m\n\u001b[1;32m    187\u001b[0m     \u001b[0;32mdef\u001b[0m \u001b[0mmagic_deco\u001b[0m\u001b[0;34m(\u001b[0m\u001b[0marg\u001b[0m\u001b[0;34m)\u001b[0m\u001b[0;34m:\u001b[0m\u001b[0;34m\u001b[0m\u001b[0m\n\u001b[0;32m--> 188\u001b[0;31m         \u001b[0mcall\u001b[0m \u001b[0;34m=\u001b[0m \u001b[0;32mlambda\u001b[0m \u001b[0mf\u001b[0m\u001b[0;34m,\u001b[0m \u001b[0;34m*\u001b[0m\u001b[0ma\u001b[0m\u001b[0;34m,\u001b[0m \u001b[0;34m**\u001b[0m\u001b[0mk\u001b[0m\u001b[0;34m:\u001b[0m \u001b[0mf\u001b[0m\u001b[0;34m(\u001b[0m\u001b[0;34m*\u001b[0m\u001b[0ma\u001b[0m\u001b[0;34m,\u001b[0m \u001b[0;34m**\u001b[0m\u001b[0mk\u001b[0m\u001b[0;34m)\u001b[0m\u001b[0;34m\u001b[0m\u001b[0m\n\u001b[0m\u001b[1;32m    189\u001b[0m \u001b[0;34m\u001b[0m\u001b[0m\n\u001b[1;32m    190\u001b[0m         \u001b[0;32mif\u001b[0m \u001b[0mcallable\u001b[0m\u001b[0;34m(\u001b[0m\u001b[0marg\u001b[0m\u001b[0;34m)\u001b[0m\u001b[0;34m:\u001b[0m\u001b[0;34m\u001b[0m\u001b[0m\n",
      "\u001b[0;32m/usr/local/lib/python3.5/dist-packages/sql/magic.py\u001b[0m in \u001b[0;36mexecute\u001b[0;34m(self, line, cell, local_ns)\u001b[0m\n\u001b[1;32m     78\u001b[0m             \u001b[0;32mreturn\u001b[0m \u001b[0mself\u001b[0m\u001b[0;34m.\u001b[0m\u001b[0m_persist_dataframe\u001b[0m\u001b[0;34m(\u001b[0m\u001b[0mparsed\u001b[0m\u001b[0;34m[\u001b[0m\u001b[0;34m'sql'\u001b[0m\u001b[0;34m]\u001b[0m\u001b[0;34m,\u001b[0m \u001b[0mconn\u001b[0m\u001b[0;34m,\u001b[0m \u001b[0muser_ns\u001b[0m\u001b[0;34m)\u001b[0m\u001b[0;34m\u001b[0m\u001b[0m\n\u001b[1;32m     79\u001b[0m         \u001b[0;32mtry\u001b[0m\u001b[0;34m:\u001b[0m\u001b[0;34m\u001b[0m\u001b[0m\n\u001b[0;32m---> 80\u001b[0;31m             \u001b[0mresult\u001b[0m \u001b[0;34m=\u001b[0m \u001b[0msql\u001b[0m\u001b[0;34m.\u001b[0m\u001b[0mrun\u001b[0m\u001b[0;34m.\u001b[0m\u001b[0mrun\u001b[0m\u001b[0;34m(\u001b[0m\u001b[0mconn\u001b[0m\u001b[0;34m,\u001b[0m \u001b[0mparsed\u001b[0m\u001b[0;34m[\u001b[0m\u001b[0;34m'sql'\u001b[0m\u001b[0;34m]\u001b[0m\u001b[0;34m,\u001b[0m \u001b[0mself\u001b[0m\u001b[0;34m,\u001b[0m \u001b[0muser_ns\u001b[0m\u001b[0;34m)\u001b[0m\u001b[0;34m\u001b[0m\u001b[0m\n\u001b[0m\u001b[1;32m     81\u001b[0m             \u001b[0;32mreturn\u001b[0m \u001b[0mresult\u001b[0m\u001b[0;34m\u001b[0m\u001b[0m\n\u001b[1;32m     82\u001b[0m         \u001b[0;32mexcept\u001b[0m \u001b[0;34m(\u001b[0m\u001b[0mProgrammingError\u001b[0m\u001b[0;34m,\u001b[0m \u001b[0mOperationalError\u001b[0m\u001b[0;34m)\u001b[0m \u001b[0;32mas\u001b[0m \u001b[0me\u001b[0m\u001b[0;34m:\u001b[0m\u001b[0;34m\u001b[0m\u001b[0m\n",
      "\u001b[0;32m/usr/local/lib/python3.5/dist-packages/sql/run.py\u001b[0m in \u001b[0;36mrun\u001b[0;34m(conn, sql, config, user_namespace)\u001b[0m\n\u001b[1;32m    270\u001b[0m                 \u001b[0;32mraise\u001b[0m \u001b[0mException\u001b[0m\u001b[0;34m(\u001b[0m\u001b[0;34m\"ipython_sql does not support transactions\"\u001b[0m\u001b[0;34m)\u001b[0m\u001b[0;34m\u001b[0m\u001b[0m\n\u001b[1;32m    271\u001b[0m             \u001b[0mtxt\u001b[0m \u001b[0;34m=\u001b[0m \u001b[0msqlalchemy\u001b[0m\u001b[0;34m.\u001b[0m\u001b[0msql\u001b[0m\u001b[0;34m.\u001b[0m\u001b[0mtext\u001b[0m\u001b[0;34m(\u001b[0m\u001b[0mstatement\u001b[0m\u001b[0;34m)\u001b[0m\u001b[0;34m\u001b[0m\u001b[0m\n\u001b[0;32m--> 272\u001b[0;31m             \u001b[0mresult\u001b[0m \u001b[0;34m=\u001b[0m \u001b[0mconn\u001b[0m\u001b[0;34m.\u001b[0m\u001b[0msession\u001b[0m\u001b[0;34m.\u001b[0m\u001b[0mexecute\u001b[0m\u001b[0;34m(\u001b[0m\u001b[0mtxt\u001b[0m\u001b[0;34m,\u001b[0m \u001b[0muser_namespace\u001b[0m\u001b[0;34m)\u001b[0m\u001b[0;34m\u001b[0m\u001b[0m\n\u001b[0m\u001b[1;32m    273\u001b[0m             \u001b[0;32mtry\u001b[0m\u001b[0;34m:\u001b[0m\u001b[0;34m\u001b[0m\u001b[0m\n\u001b[1;32m    274\u001b[0m                 \u001b[0mconn\u001b[0m\u001b[0;34m.\u001b[0m\u001b[0msession\u001b[0m\u001b[0;34m.\u001b[0m\u001b[0mexecute\u001b[0m\u001b[0;34m(\u001b[0m\u001b[0;34m'commit'\u001b[0m\u001b[0;34m)\u001b[0m\u001b[0;34m\u001b[0m\u001b[0m\n",
      "\u001b[0;32m/usr/local/lib/python3.5/dist-packages/sqlalchemy/engine/base.py\u001b[0m in \u001b[0;36mexecute\u001b[0;34m(self, object, *multiparams, **params)\u001b[0m\n\u001b[1;32m    912\u001b[0m                 type(object))\n\u001b[1;32m    913\u001b[0m         \u001b[0;32melse\u001b[0m\u001b[0;34m:\u001b[0m\u001b[0;34m\u001b[0m\u001b[0m\n\u001b[0;32m--> 914\u001b[0;31m             \u001b[0;32mreturn\u001b[0m \u001b[0mmeth\u001b[0m\u001b[0;34m(\u001b[0m\u001b[0mself\u001b[0m\u001b[0;34m,\u001b[0m \u001b[0mmultiparams\u001b[0m\u001b[0;34m,\u001b[0m \u001b[0mparams\u001b[0m\u001b[0;34m)\u001b[0m\u001b[0;34m\u001b[0m\u001b[0m\n\u001b[0m\u001b[1;32m    915\u001b[0m \u001b[0;34m\u001b[0m\u001b[0m\n\u001b[1;32m    916\u001b[0m     \u001b[0;32mdef\u001b[0m \u001b[0m_execute_function\u001b[0m\u001b[0;34m(\u001b[0m\u001b[0mself\u001b[0m\u001b[0;34m,\u001b[0m \u001b[0mfunc\u001b[0m\u001b[0;34m,\u001b[0m \u001b[0mmultiparams\u001b[0m\u001b[0;34m,\u001b[0m \u001b[0mparams\u001b[0m\u001b[0;34m)\u001b[0m\u001b[0;34m:\u001b[0m\u001b[0;34m\u001b[0m\u001b[0m\n",
      "\u001b[0;32m/usr/local/lib/python3.5/dist-packages/sqlalchemy/sql/elements.py\u001b[0m in \u001b[0;36m_execute_on_connection\u001b[0;34m(self, connection, multiparams, params)\u001b[0m\n\u001b[1;32m    321\u001b[0m \u001b[0;34m\u001b[0m\u001b[0m\n\u001b[1;32m    322\u001b[0m     \u001b[0;32mdef\u001b[0m \u001b[0m_execute_on_connection\u001b[0m\u001b[0;34m(\u001b[0m\u001b[0mself\u001b[0m\u001b[0;34m,\u001b[0m \u001b[0mconnection\u001b[0m\u001b[0;34m,\u001b[0m \u001b[0mmultiparams\u001b[0m\u001b[0;34m,\u001b[0m \u001b[0mparams\u001b[0m\u001b[0;34m)\u001b[0m\u001b[0;34m:\u001b[0m\u001b[0;34m\u001b[0m\u001b[0m\n\u001b[0;32m--> 323\u001b[0;31m         \u001b[0;32mreturn\u001b[0m \u001b[0mconnection\u001b[0m\u001b[0;34m.\u001b[0m\u001b[0m_execute_clauseelement\u001b[0m\u001b[0;34m(\u001b[0m\u001b[0mself\u001b[0m\u001b[0;34m,\u001b[0m \u001b[0mmultiparams\u001b[0m\u001b[0;34m,\u001b[0m \u001b[0mparams\u001b[0m\u001b[0;34m)\u001b[0m\u001b[0;34m\u001b[0m\u001b[0m\n\u001b[0m\u001b[1;32m    324\u001b[0m \u001b[0;34m\u001b[0m\u001b[0m\n\u001b[1;32m    325\u001b[0m     \u001b[0;32mdef\u001b[0m \u001b[0munique_params\u001b[0m\u001b[0;34m(\u001b[0m\u001b[0mself\u001b[0m\u001b[0;34m,\u001b[0m \u001b[0;34m*\u001b[0m\u001b[0moptionaldict\u001b[0m\u001b[0;34m,\u001b[0m \u001b[0;34m**\u001b[0m\u001b[0mkwargs\u001b[0m\u001b[0;34m)\u001b[0m\u001b[0;34m:\u001b[0m\u001b[0;34m\u001b[0m\u001b[0m\n",
      "\u001b[0;32m/usr/local/lib/python3.5/dist-packages/sqlalchemy/engine/base.py\u001b[0m in \u001b[0;36m_execute_clauseelement\u001b[0;34m(self, elem, multiparams, params)\u001b[0m\n\u001b[1;32m   1008\u001b[0m             \u001b[0mcompiled_sql\u001b[0m\u001b[0;34m,\u001b[0m\u001b[0;34m\u001b[0m\u001b[0m\n\u001b[1;32m   1009\u001b[0m             \u001b[0mdistilled_params\u001b[0m\u001b[0;34m,\u001b[0m\u001b[0;34m\u001b[0m\u001b[0m\n\u001b[0;32m-> 1010\u001b[0;31m             \u001b[0mcompiled_sql\u001b[0m\u001b[0;34m,\u001b[0m \u001b[0mdistilled_params\u001b[0m\u001b[0;34m\u001b[0m\u001b[0m\n\u001b[0m\u001b[1;32m   1011\u001b[0m         )\n\u001b[1;32m   1012\u001b[0m         \u001b[0;32mif\u001b[0m \u001b[0mself\u001b[0m\u001b[0;34m.\u001b[0m\u001b[0m_has_events\u001b[0m \u001b[0;32mor\u001b[0m \u001b[0mself\u001b[0m\u001b[0;34m.\u001b[0m\u001b[0mengine\u001b[0m\u001b[0;34m.\u001b[0m\u001b[0m_has_events\u001b[0m\u001b[0;34m:\u001b[0m\u001b[0;34m\u001b[0m\u001b[0m\n",
      "\u001b[0;32m/usr/local/lib/python3.5/dist-packages/sqlalchemy/engine/base.py\u001b[0m in \u001b[0;36m_execute_context\u001b[0;34m(self, dialect, constructor, statement, parameters, *args)\u001b[0m\n\u001b[1;32m   1144\u001b[0m                 \u001b[0mparameters\u001b[0m\u001b[0;34m,\u001b[0m\u001b[0;34m\u001b[0m\u001b[0m\n\u001b[1;32m   1145\u001b[0m                 \u001b[0mcursor\u001b[0m\u001b[0;34m,\u001b[0m\u001b[0;34m\u001b[0m\u001b[0m\n\u001b[0;32m-> 1146\u001b[0;31m                 context)\n\u001b[0m\u001b[1;32m   1147\u001b[0m \u001b[0;34m\u001b[0m\u001b[0m\n\u001b[1;32m   1148\u001b[0m         \u001b[0;32mif\u001b[0m \u001b[0mself\u001b[0m\u001b[0;34m.\u001b[0m\u001b[0m_has_events\u001b[0m \u001b[0;32mor\u001b[0m \u001b[0mself\u001b[0m\u001b[0;34m.\u001b[0m\u001b[0mengine\u001b[0m\u001b[0;34m.\u001b[0m\u001b[0m_has_events\u001b[0m\u001b[0;34m:\u001b[0m\u001b[0;34m\u001b[0m\u001b[0m\n",
      "\u001b[0;32m/usr/local/lib/python3.5/dist-packages/sqlalchemy/engine/base.py\u001b[0m in \u001b[0;36m_handle_dbapi_exception\u001b[0;34m(self, e, statement, parameters, cursor, context)\u001b[0m\n\u001b[1;32m   1339\u001b[0m                 util.raise_from_cause(\n\u001b[1;32m   1340\u001b[0m                     \u001b[0msqlalchemy_exception\u001b[0m\u001b[0;34m,\u001b[0m\u001b[0;34m\u001b[0m\u001b[0m\n\u001b[0;32m-> 1341\u001b[0;31m                     \u001b[0mexc_info\u001b[0m\u001b[0;34m\u001b[0m\u001b[0m\n\u001b[0m\u001b[1;32m   1342\u001b[0m                 )\n\u001b[1;32m   1343\u001b[0m             \u001b[0;32melse\u001b[0m\u001b[0;34m:\u001b[0m\u001b[0;34m\u001b[0m\u001b[0m\n",
      "\u001b[0;32m/usr/local/lib/python3.5/dist-packages/sqlalchemy/util/compat.py\u001b[0m in \u001b[0;36mraise_from_cause\u001b[0;34m(exception, exc_info)\u001b[0m\n\u001b[1;32m    200\u001b[0m     \u001b[0mexc_type\u001b[0m\u001b[0;34m,\u001b[0m \u001b[0mexc_value\u001b[0m\u001b[0;34m,\u001b[0m \u001b[0mexc_tb\u001b[0m \u001b[0;34m=\u001b[0m \u001b[0mexc_info\u001b[0m\u001b[0;34m\u001b[0m\u001b[0m\n\u001b[1;32m    201\u001b[0m     \u001b[0mcause\u001b[0m \u001b[0;34m=\u001b[0m \u001b[0mexc_value\u001b[0m \u001b[0;32mif\u001b[0m \u001b[0mexc_value\u001b[0m \u001b[0;32mis\u001b[0m \u001b[0;32mnot\u001b[0m \u001b[0mexception\u001b[0m \u001b[0;32melse\u001b[0m \u001b[0;32mNone\u001b[0m\u001b[0;34m\u001b[0m\u001b[0m\n\u001b[0;32m--> 202\u001b[0;31m     \u001b[0mreraise\u001b[0m\u001b[0;34m(\u001b[0m\u001b[0mtype\u001b[0m\u001b[0;34m(\u001b[0m\u001b[0mexception\u001b[0m\u001b[0;34m)\u001b[0m\u001b[0;34m,\u001b[0m \u001b[0mexception\u001b[0m\u001b[0;34m,\u001b[0m \u001b[0mtb\u001b[0m\u001b[0;34m=\u001b[0m\u001b[0mexc_tb\u001b[0m\u001b[0;34m,\u001b[0m \u001b[0mcause\u001b[0m\u001b[0;34m=\u001b[0m\u001b[0mcause\u001b[0m\u001b[0;34m)\u001b[0m\u001b[0;34m\u001b[0m\u001b[0m\n\u001b[0m\u001b[1;32m    203\u001b[0m \u001b[0;34m\u001b[0m\u001b[0m\n\u001b[1;32m    204\u001b[0m \u001b[0;32mif\u001b[0m \u001b[0mpy3k\u001b[0m\u001b[0;34m:\u001b[0m\u001b[0;34m\u001b[0m\u001b[0m\n",
      "\u001b[0;32m/usr/local/lib/python3.5/dist-packages/sqlalchemy/util/compat.py\u001b[0m in \u001b[0;36mreraise\u001b[0;34m(tp, value, tb, cause)\u001b[0m\n\u001b[1;32m    183\u001b[0m             \u001b[0mvalue\u001b[0m\u001b[0;34m.\u001b[0m\u001b[0m__cause__\u001b[0m \u001b[0;34m=\u001b[0m \u001b[0mcause\u001b[0m\u001b[0;34m\u001b[0m\u001b[0m\n\u001b[1;32m    184\u001b[0m         \u001b[0;32mif\u001b[0m \u001b[0mvalue\u001b[0m\u001b[0;34m.\u001b[0m\u001b[0m__traceback__\u001b[0m \u001b[0;32mis\u001b[0m \u001b[0;32mnot\u001b[0m \u001b[0mtb\u001b[0m\u001b[0;34m:\u001b[0m\u001b[0;34m\u001b[0m\u001b[0m\n\u001b[0;32m--> 185\u001b[0;31m             \u001b[0;32mraise\u001b[0m \u001b[0mvalue\u001b[0m\u001b[0;34m.\u001b[0m\u001b[0mwith_traceback\u001b[0m\u001b[0;34m(\u001b[0m\u001b[0mtb\u001b[0m\u001b[0;34m)\u001b[0m\u001b[0;34m\u001b[0m\u001b[0m\n\u001b[0m\u001b[1;32m    186\u001b[0m         \u001b[0;32mraise\u001b[0m \u001b[0mvalue\u001b[0m\u001b[0;34m\u001b[0m\u001b[0m\n\u001b[1;32m    187\u001b[0m \u001b[0;34m\u001b[0m\u001b[0m\n",
      "\u001b[0;32m/usr/local/lib/python3.5/dist-packages/sqlalchemy/engine/base.py\u001b[0m in \u001b[0;36m_execute_context\u001b[0;34m(self, dialect, constructor, statement, parameters, *args)\u001b[0m\n\u001b[1;32m   1137\u001b[0m                         \u001b[0mstatement\u001b[0m\u001b[0;34m,\u001b[0m\u001b[0;34m\u001b[0m\u001b[0m\n\u001b[1;32m   1138\u001b[0m                         \u001b[0mparameters\u001b[0m\u001b[0;34m,\u001b[0m\u001b[0;34m\u001b[0m\u001b[0m\n\u001b[0;32m-> 1139\u001b[0;31m                         context)\n\u001b[0m\u001b[1;32m   1140\u001b[0m         \u001b[0;32mexcept\u001b[0m \u001b[0mException\u001b[0m \u001b[0;32mas\u001b[0m \u001b[0me\u001b[0m\u001b[0;34m:\u001b[0m\u001b[0;34m\u001b[0m\u001b[0m\n\u001b[1;32m   1141\u001b[0m             self._handle_dbapi_exception(\n",
      "\u001b[0;32m/usr/local/lib/python3.5/dist-packages/sqlalchemy/engine/default.py\u001b[0m in \u001b[0;36mdo_execute\u001b[0;34m(self, cursor, statement, parameters, context)\u001b[0m\n\u001b[1;32m    448\u001b[0m \u001b[0;34m\u001b[0m\u001b[0m\n\u001b[1;32m    449\u001b[0m     \u001b[0;32mdef\u001b[0m \u001b[0mdo_execute\u001b[0m\u001b[0;34m(\u001b[0m\u001b[0mself\u001b[0m\u001b[0;34m,\u001b[0m \u001b[0mcursor\u001b[0m\u001b[0;34m,\u001b[0m \u001b[0mstatement\u001b[0m\u001b[0;34m,\u001b[0m \u001b[0mparameters\u001b[0m\u001b[0;34m,\u001b[0m \u001b[0mcontext\u001b[0m\u001b[0;34m=\u001b[0m\u001b[0;32mNone\u001b[0m\u001b[0;34m)\u001b[0m\u001b[0;34m:\u001b[0m\u001b[0;34m\u001b[0m\u001b[0m\n\u001b[0;32m--> 450\u001b[0;31m         \u001b[0mcursor\u001b[0m\u001b[0;34m.\u001b[0m\u001b[0mexecute\u001b[0m\u001b[0;34m(\u001b[0m\u001b[0mstatement\u001b[0m\u001b[0;34m,\u001b[0m \u001b[0mparameters\u001b[0m\u001b[0;34m)\u001b[0m\u001b[0;34m\u001b[0m\u001b[0m\n\u001b[0m\u001b[1;32m    451\u001b[0m \u001b[0;34m\u001b[0m\u001b[0m\n\u001b[1;32m    452\u001b[0m     \u001b[0;32mdef\u001b[0m \u001b[0mdo_execute_no_params\u001b[0m\u001b[0;34m(\u001b[0m\u001b[0mself\u001b[0m\u001b[0;34m,\u001b[0m \u001b[0mcursor\u001b[0m\u001b[0;34m,\u001b[0m \u001b[0mstatement\u001b[0m\u001b[0;34m,\u001b[0m \u001b[0mcontext\u001b[0m\u001b[0;34m=\u001b[0m\u001b[0;32mNone\u001b[0m\u001b[0;34m)\u001b[0m\u001b[0;34m:\u001b[0m\u001b[0;34m\u001b[0m\u001b[0m\n",
      "\u001b[0;31mIntegrityError\u001b[0m: (sqlite3.IntegrityError) FOREIGN KEY constraint failed [SQL: \"INSERT INTO PARTIDOS (f_inicio, f_fin, equipo1, ciudad1, comunidad1, equipo2, ciudad2, comunidad2, cancha, f_temporada)\\nVALUES ('2007-01-10 16:00:00','2007-01-10 18:30:00','atletico','lugo', 'galicia', 'atletico','alcobendas', 'madrid','cancha1','2007-01-01 00:00:00' );\"]"
     ]
    }
   ],
   "source": [
    "%%sql \n",
    "INSERT INTO PARTIDOS (f_inicio, f_fin, equipo1, ciudad1, comunidad1, equipo2, ciudad2, comunidad2, cancha, f_temporada)\n",
    "VALUES ('2007-01-10 16:00:00','2007-01-10 18:30:00','atletico','lugo', 'galicia', 'atletico','alcobendas', 'madrid','cancha1','2007-01-01 00:00:00' );\n",
    "INSERT INTO PARTIDOS (f_inicio, f_fin, equipo1, ciudad1, comunidad1, equipo2, ciudad2, comunidad2, f_temporada)\n",
    "VALUES ('2007-01-10 19:00:00', '2007-01-10 21:10:00','atletico','lugo', 'galicia', 'real','alcobendas', 'madrid','cancha2','2007-01-01 00:00:00' );\n",
    "INSERT INTO PARTIDOS (f_inicio,f_fin, equipo1, ciudad1, comunidad1, equipo2, ciudad2, comunidad2, f_temporada)\n",
    "VALUES ('2007-05-20 19:00:00', '2007-05-20 21:40:00','deportivo','pontevedra', 'galicia', 'real','alcobendas','madrid', 'cancha2','2007-01-01 00:00:00' );\n",
    "INSERT INTO PARTIDOS (f_inicio, f_fin,equipo1, ciudad1, comunidad1, equipo2, ciudad2, comunidad2, f_temporada)\n",
    "VALUES ('2008-05-23 15:00:00', '2008-05-23 17:20:00','deportivo','pontevedra', 'galicia', 'real','alcobendas', 'madrid', 'cancha3','2008-01-01 00:00:00' );\n"
   ]
  },
  {
   "cell_type": "code",
   "execution_count": 54,
   "metadata": {
    "collapsed": false
   },
   "outputs": [
    {
     "name": "stdout",
     "output_type": "stream",
     "text": [
      "Done.\n"
     ]
    },
    {
     "data": {
      "text/html": [
       "<table>\n",
       "    <tr>\n",
       "        <th>f_inicio</th>\n",
       "        <th>f_fin</th>\n",
       "        <th>equipo1</th>\n",
       "        <th>ciudad1</th>\n",
       "        <th>comunidad1</th>\n",
       "        <th>equipo2</th>\n",
       "        <th>ciudad2</th>\n",
       "        <th>comunidad2</th>\n",
       "        <th>cancha</th>\n",
       "        <th>f_temporada</th>\n",
       "    </tr>\n",
       "</table>"
      ],
      "text/plain": [
       "[]"
      ]
     },
     "execution_count": 54,
     "metadata": {},
     "output_type": "execute_result"
    }
   ],
   "source": [
    "%sql SELECT * FROM Partidos"
   ]
  },
  {
   "cell_type": "markdown",
   "metadata": {},
   "source": [
    "Añadimos ahora el punto 16 y 19 (misma información). ![Diagrama E/R](Diagrama7.jpeg)"
   ]
  },
  {
   "cell_type": "code",
   "execution_count": 55,
   "metadata": {
    "collapsed": false
   },
   "outputs": [
    {
     "name": "stdout",
     "output_type": "stream",
     "text": [
      "Done.\n"
     ]
    },
    {
     "data": {
      "text/plain": [
       "[]"
      ]
     },
     "execution_count": 55,
     "metadata": {},
     "output_type": "execute_result"
    }
   ],
   "source": [
    "%%sql\n",
    "CREATE TABLE Plantilla(\n",
    "    jugador VARCHAR(30),\n",
    "    equipo VARCHAR(30),\n",
    "    ciudad VARCHAR(30),\n",
    "    comunidad VARCHAR(30),    \n",
    "    f_temporada DATETIME,\n",
    "    PRIMARY KEY (jugador, equipo, ciudad, comunidad, f_temporada),\n",
    "    FOREIGN KEY (jugador) REFERENCES Personas(nif) ON DELETE CASCADE,\n",
    "    FOREIGN KEY (equipo) REFERENCES Equipos(equipo) ON DELETE CASCADE,\n",
    "    FOREIGN KEY (ciudad) REFERENCES Ciudades(ciudad) ON DELETE CASCADE,\n",
    "    FOREIGN KEY (comunidad) REFERENCES Comunidades(comunidad) ON DELETE CASCADE,\n",
    "    FOREIGN KEY (f_temporada) REFERENCES Temporadas(f_inicio) ON DELETE CASCADE)"
   ]
  },
  {
   "cell_type": "code",
   "execution_count": 56,
   "metadata": {
    "collapsed": false
   },
   "outputs": [
    {
     "name": "stdout",
     "output_type": "stream",
     "text": [
      "Done.\n"
     ]
    },
    {
     "data": {
      "text/html": [
       "<table>\n",
       "    <tr>\n",
       "        <th>jugador</th>\n",
       "        <th>equipo</th>\n",
       "        <th>ciudad</th>\n",
       "        <th>comunidad</th>\n",
       "        <th>f_temporada</th>\n",
       "    </tr>\n",
       "</table>"
      ],
      "text/plain": [
       "[]"
      ]
     },
     "execution_count": 56,
     "metadata": {},
     "output_type": "execute_result"
    }
   ],
   "source": [
    "%sql SELECT * FROM Plantilla"
   ]
  },
  {
   "cell_type": "markdown",
   "metadata": {},
   "source": [
    "# Querys  - tercera entrega"
   ]
  },
  {
   "cell_type": "markdown",
   "metadata": {
    "collapsed": true
   },
   "source": [
    "# 4- Canchas en las que ha jugado un jugador a lo largo de una temporada."
   ]
  },
  {
   "cell_type": "code",
   "execution_count": null,
   "metadata": {
    "collapsed": true
   },
   "outputs": [],
   "source": []
  },
  {
   "cell_type": "code",
   "execution_count": 145,
   "metadata": {
    "collapsed": false
   },
   "outputs": [
    {
     "name": "stdout",
     "output_type": "stream",
     "text": [
      "Done.\n"
     ]
    },
    {
     "data": {
      "text/html": [
       "<table>\n",
       "    <tr>\n",
       "        <th>jugador</th>\n",
       "        <th>equipo</th>\n",
       "        <th>ciudad</th>\n",
       "        <th>comunidad</th>\n",
       "        <th>f_temporada</th>\n",
       "    </tr>\n",
       "</table>"
      ],
      "text/plain": [
       "[]"
      ]
     },
     "execution_count": 145,
     "metadata": {},
     "output_type": "execute_result"
    }
   ],
   "source": [
    "%sql SELECT * FROM Plantilla"
   ]
  },
  {
   "cell_type": "code",
   "execution_count": 147,
   "metadata": {
    "collapsed": false
   },
   "outputs": [
    {
     "name": "stdout",
     "output_type": "stream",
     "text": [
      "Done.\n"
     ]
    },
    {
     "data": {
      "text/html": [
       "<table>\n",
       "    <tr>\n",
       "        <th>f_inicio</th>\n",
       "        <th>f_fin</th>\n",
       "        <th>equipo1</th>\n",
       "        <th>ciudad1</th>\n",
       "        <th>comunidad1</th>\n",
       "        <th>equipo2</th>\n",
       "        <th>ciudad2</th>\n",
       "        <th>comunidad2</th>\n",
       "        <th>cancha</th>\n",
       "        <th>f_temporada</th>\n",
       "    </tr>\n",
       "</table>"
      ],
      "text/plain": [
       "[]"
      ]
     },
     "execution_count": 147,
     "metadata": {},
     "output_type": "execute_result"
    }
   ],
   "source": [
    "%sql SELECT * FROM Partidos"
   ]
  },
  {
   "cell_type": "code",
   "execution_count": 146,
   "metadata": {
    "collapsed": false
   },
   "outputs": [
    {
     "name": "stdout",
     "output_type": "stream",
     "text": [
      "(sqlite3.OperationalError) near \"ON\": syntax error [SQL: \"SELECT Partidos.cancha\\n    FROM Plantilla\\n    INNER Partidos\\n    ON Plantilla.equipo = Partidos.equipo1 AND\\n        Plantilla.ciudad = Partidos.ciudad1 AND\\n        Plantilla.comunidad = Partidos.comunidad1\\n    OR Plantilla.equipo = Partidos.equipo2 AND\\n        Plantilla.ciudad = Partidos.ciudad2 AND\\n        Plantilla.comunidad = Partidos.comunidad2\\n    WHERE Jugador.jugador='11111111A' AND Entrenan.f_temporada='2007-01-1 00:00:00';\"]\n"
     ]
    }
   ],
   "source": [
    "%%sql\n",
    "SELECT Partidos.cancha\n",
    "    FROM Plantilla\n",
    "    JOIN Partidos\n",
    "    ON Plantilla.equipo = Partidos.equipo1 AND\n",
    "        Plantilla.ciudad = Partidos.ciudad1 AND\n",
    "        Plantilla.comunidad = Partidos.comunidad1\n",
    "    OR Plantilla.equipo = Partidos.equipo2 AND\n",
    "        Plantilla.ciudad = Partidos.ciudad2 AND\n",
    "        Plantilla.comunidad = Partidos.comunidad2\n",
    "    WHERE Jugador.jugador='11111111A' AND Entrenan.f_temporada='2007-01-1 00:00:00';"
   ]
  },
  {
   "cell_type": "markdown",
   "metadata": {},
   "source": [
    "# 6 Ciudades en las que ha jugado un jugador a lo largo de una temporada."
   ]
  },
  {
   "cell_type": "code",
   "execution_count": null,
   "metadata": {
    "collapsed": true
   },
   "outputs": [],
   "source": [
    "%%sql\n",
    "CREATE VIEW Canchas_jugador_1_temp1 AS\n",
    "    SELECT Partidos.cancha\n",
    "    FROM Plantilla\n",
    "    JOIN Partidos\n",
    "    ON Plantilla.equipo = Partidos.equipo1 AND\n",
    "        Plantilla.ciudad = Partidos.ciudad1 AND\n",
    "        Plantilla.comunidad = Partidos.comunidad1\n",
    "    OR Plantilla.equipo = Partidos.equipo2 AND\n",
    "        Plantilla.ciudad = Partidos.ciudad2 AND\n",
    "        Plantilla.comunidad = Partidos.comunidad2\n",
    "    WHERE Jugador.jugador='11111111A' AND Entrenan.f_temporada='2007-01-1 00:00:00')"
   ]
  },
  {
   "cell_type": "code",
   "execution_count": null,
   "metadata": {
    "collapsed": true
   },
   "outputs": [],
   "source": [
    "%%sql\n",
    "SELECT Direcciones_de_canchas.ciduad\n",
    "    FROM Direcciones_de_canchas\n",
    "    JOIN Canchas_jugador_1_temp1\n",
    "    ON Direcciones_de_canchas.cancha = Canchas_jugador_1_temp1.cancha\n",
    "    WHERE Direcciones_de_canchas.cancha = Canchas_jugador_1_temp1.cancha"
   ]
  },
  {
   "cell_type": "code",
   "execution_count": 59,
   "metadata": {
    "collapsed": false
   },
   "outputs": [
    {
     "name": "stdout",
     "output_type": "stream",
     "text": [
      "Done.\n"
     ]
    },
    {
     "data": {
      "text/html": [
       "<table>\n",
       "    <tr>\n",
       "        <th>equipo</th>\n",
       "    </tr>\n",
       "    <tr>\n",
       "        <td>atletico</td>\n",
       "    </tr>\n",
       "    <tr>\n",
       "        <td>deportivo</td>\n",
       "    </tr>\n",
       "</table>"
      ],
      "text/plain": [
       "[('atletico',), ('deportivo',)]"
      ]
     },
     "execution_count": 59,
     "metadata": {},
     "output_type": "execute_result"
    }
   ],
   "source": [
    "%sql SELECT equipo FROM financian WHERE cif = 'B33333333'"
   ]
  },
  {
   "cell_type": "code",
   "execution_count": null,
   "metadata": {
    "collapsed": true
   },
   "outputs": [],
   "source": []
  }
 ],
 "metadata": {
  "kernelspec": {
   "display_name": "Python 3",
   "language": "python",
   "name": "python3"
  },
  "language_info": {
   "codemirror_mode": {
    "name": "ipython",
    "version": 3
   },
   "file_extension": ".py",
   "mimetype": "text/x-python",
   "name": "python",
   "nbconvert_exporter": "python",
   "pygments_lexer": "ipython3",
   "version": "3.5.2"
  }
 },
 "nbformat": 4,
 "nbformat_minor": 1
}
