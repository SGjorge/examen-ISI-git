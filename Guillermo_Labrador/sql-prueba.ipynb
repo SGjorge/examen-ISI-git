{
 "cells": [
  {
   "cell_type": "code",
   "execution_count": 1,
   "metadata": {
    "collapsed": false
   },
   "outputs": [
    {
     "name": "stderr",
     "output_type": "stream",
     "text": [
      "/usr/local/lib/python3.5/dist-packages/IPython/config.py:13: ShimWarning: The `IPython.config` package has been deprecated. You should import from traitlets.config instead.\n",
      "  \"You should import from traitlets.config instead.\", ShimWarning)\n",
      "/usr/local/lib/python3.5/dist-packages/IPython/utils/traitlets.py:5: UserWarning: IPython.utils.traitlets has moved to a top-level traitlets package.\n",
      "  warn(\"IPython.utils.traitlets has moved to a top-level traitlets package.\")\n"
     ]
    },
    {
     "data": {
      "text/plain": [
       "'Connected: None@Baloncesto_Guille.db'"
      ]
     },
     "execution_count": 1,
     "metadata": {},
     "output_type": "execute_result"
    }
   ],
   "source": [
    "%load_ext sql\n",
    "%sql sqlite:///Baloncesto_Guille.db"
   ]
  },
  {
   "cell_type": "code",
   "execution_count": 13,
   "metadata": {
    "collapsed": false
   },
   "outputs": [
    {
     "name": "stdout",
     "output_type": "stream",
     "text": [
      "Done.\n",
      "Done.\n"
     ]
    },
    {
     "data": {
      "text/plain": [
       "[]"
      ]
     },
     "execution_count": 13,
     "metadata": {},
     "output_type": "execute_result"
    }
   ],
   "source": [
    "%%sql\n",
    "CREATE TABLE Comunidades_Autonomas\n",
    "(nombre VARCHAR(30),\n",
    " PRIMARY KEY (nombre)\n",
    ");"
   ]
  },
  {
   "cell_type": "code",
   "execution_count": 14,
   "metadata": {
    "collapsed": false
   },
   "outputs": [
    {
     "name": "stdout",
     "output_type": "stream",
     "text": [
      "Done.\n",
      "Done.\n"
     ]
    },
    {
     "data": {
      "text/plain": [
       "[]"
      ]
     },
     "execution_count": 14,
     "metadata": {},
     "output_type": "execute_result"
    }
   ],
   "source": [
    "%%sql\n",
    "CREATE TABLE Ciudades(nombre VARCHAR(30), \n",
    "                      comunidad_autonoma VARCHAR(30) NOT NULL, \n",
    "                      PRIMARY KEY(nombre, comunidad_autonoma),\n",
    "                      FOREIGN KEY(comunidad_autonoma) REFERENCES Comunidades_Autonomas(nombre) ON DELETE CASCADE);"
   ]
  },
  {
   "cell_type": "code",
   "execution_count": 15,
   "metadata": {
    "collapsed": false
   },
   "outputs": [
    {
     "name": "stdout",
     "output_type": "stream",
     "text": [
      "Done.\n",
      "Done.\n"
     ]
    },
    {
     "data": {
      "text/plain": [
       "[]"
      ]
     },
     "execution_count": 15,
     "metadata": {},
     "output_type": "execute_result"
    }
   ],
   "source": [
    "%%sql\n",
    "CREATE TABLE Equipos(nombre VARCHAR(30),\n",
    "                     ciudad VARCHAR(30) NOT NULL,\n",
    "                     comunidad_autonoma VARCHAR(30) NOT NULL,\n",
    "                     PRIMARY KEY (nombre, ciudad, comunidad_autonoma),\n",
    "                     FOREIGN KEY(ciudad) REFERENCES Ciudades(nombre), \n",
    "                     FOREIGN KEY(comunidad_autonoma) REFERENCES Comunidades_Autonomas(nombre));"
   ]
  },
  {
   "cell_type": "code",
   "execution_count": 16,
   "metadata": {
    "collapsed": false,
    "scrolled": true
   },
   "outputs": [
    {
     "name": "stdout",
     "output_type": "stream",
     "text": [
      "1 rows affected.\n",
      "1 rows affected.\n",
      "1 rows affected.\n",
      "1 rows affected.\n"
     ]
    },
    {
     "data": {
      "text/plain": [
       "[]"
      ]
     },
     "execution_count": 16,
     "metadata": {},
     "output_type": "execute_result"
    }
   ],
   "source": [
    "%%sql\n",
    "INSERT INTO Equipos(nombre, ciudad, comunidad_autonoma) VALUES ('Estudiantes', 'Madrid', 'Comunidad de Madrid');\n",
    "INSERT INTO Equipos(nombre, ciudad, comunidad_autonoma) VALUES ('Estudiantes', 'Pontevedra', 'Galicia');\n",
    "INSERT INTO Equipos(nombre, ciudad, comunidad_autonoma) VALUES ('DKV', 'Badalona', 'Cataluña');\n",
    "INSERT INTO Equipos(nombre, ciudad, comunidad_autonoma) VALUES ('Bilbao Basquet', 'Bilbao', 'Pais Vasco');"
   ]
  },
  {
   "cell_type": "code",
   "execution_count": 17,
   "metadata": {
    "collapsed": false
   },
   "outputs": [
    {
     "name": "stdout",
     "output_type": "stream",
     "text": [
      "Done.\n"
     ]
    },
    {
     "data": {
      "text/html": [
       "<table>\n",
       "    <tr>\n",
       "        <th>nombre</th>\n",
       "        <th>ciudad</th>\n",
       "        <th>comunidad_autonoma</th>\n",
       "    </tr>\n",
       "    <tr>\n",
       "        <td>Estudiantes</td>\n",
       "        <td>Madrid</td>\n",
       "        <td>Comunidad de Madrid</td>\n",
       "    </tr>\n",
       "    <tr>\n",
       "        <td>Estudiantes</td>\n",
       "        <td>Pontevedra</td>\n",
       "        <td>Galicia</td>\n",
       "    </tr>\n",
       "    <tr>\n",
       "        <td>DKV</td>\n",
       "        <td>Badalona</td>\n",
       "        <td>Cataluña</td>\n",
       "    </tr>\n",
       "    <tr>\n",
       "        <td>Bilbao Basquet</td>\n",
       "        <td>Bilbao</td>\n",
       "        <td>Pais Vasco</td>\n",
       "    </tr>\n",
       "</table>"
      ],
      "text/plain": [
       "[('Estudiantes', 'Madrid', 'Comunidad de Madrid'),\n",
       " ('Estudiantes', 'Pontevedra', 'Galicia'),\n",
       " ('DKV', 'Badalona', 'Cataluña'),\n",
       " ('Bilbao Basquet', 'Bilbao', 'Pais Vasco')]"
      ]
     },
     "execution_count": 17,
     "metadata": {},
     "output_type": "execute_result"
    }
   ],
   "source": [
    "%sql SELECT * FROM Equipos;"
   ]
  },
  {
   "cell_type": "code",
   "execution_count": 21,
   "metadata": {
    "collapsed": false
   },
   "outputs": [
    {
     "name": "stdout",
     "output_type": "stream",
     "text": [
      "Done.\n",
      "Done.\n"
     ]
    },
    {
     "data": {
      "text/plain": [
       "[]"
      ]
     },
     "execution_count": 21,
     "metadata": {},
     "output_type": "execute_result"
    }
   ],
   "source": [
    "%%sql\n",
    "CREATE TABLE Empresas(nombre VARCHAR(30),\n",
    "                     cif VARCHAR(10),\n",
    "                     PRIMARY KEY (cif));"
   ]
  },
  {
   "cell_type": "code",
   "execution_count": 61,
   "metadata": {
    "collapsed": false
   },
   "outputs": [
    {
     "name": "stdout",
     "output_type": "stream",
     "text": [
      "Done.\n"
     ]
    },
    {
     "data": {
      "text/plain": [
       "[]"
      ]
     },
     "execution_count": 61,
     "metadata": {},
     "output_type": "execute_result"
    }
   ],
   "source": [
    "%%sql\n",
    "CREATE TABLE Jugadores(nif VARCHAR(10),\n",
    "                       nombre VARCHAR(30),\n",
    "                       apellidos VARCHAR(30),\n",
    "                       fecha_nacimiento VARCHAR(30),\n",
    "                       nombre_equipo VARCHAR(30),\n",
    "                       PRIMARY KEY (nif),\n",
    "                       FOREIGN KEY (nombre_equipo) REFERENCES Equipos(nombre));"
   ]
  },
  {
   "cell_type": "code",
   "execution_count": 62,
   "metadata": {
    "collapsed": false
   },
   "outputs": [
    {
     "name": "stdout",
     "output_type": "stream",
     "text": [
      "1 rows affected.\n"
     ]
    },
    {
     "data": {
      "text/plain": [
       "[]"
      ]
     },
     "execution_count": 62,
     "metadata": {},
     "output_type": "execute_result"
    }
   ],
   "source": [
    "%%sql\n",
    "INSERT INTO Jugadores(nif, nombre, apellidos, fecha_nacimiento, nombre_equipo) VALUES ('03456779X', 'Alberto', 'Estevez', '1991-04-03', 'Estudiantes');\n"
   ]
  },
  {
   "cell_type": "code",
   "execution_count": 63,
   "metadata": {
    "collapsed": false
   },
   "outputs": [
    {
     "name": "stdout",
     "output_type": "stream",
     "text": [
      "Done.\n"
     ]
    },
    {
     "data": {
      "text/html": [
       "<table>\n",
       "    <tr>\n",
       "        <th>nif</th>\n",
       "        <th>nombre</th>\n",
       "        <th>apellidos</th>\n",
       "        <th>fecha_nacimiento</th>\n",
       "        <th>nombre_equipo</th>\n",
       "    </tr>\n",
       "    <tr>\n",
       "        <td>03456779X</td>\n",
       "        <td>Alberto</td>\n",
       "        <td>Estevez</td>\n",
       "        <td>1991-04-03</td>\n",
       "        <td>Estudiantes</td>\n",
       "    </tr>\n",
       "</table>"
      ],
      "text/plain": [
       "[('03456779X', 'Alberto', 'Estevez', '1991-04-03', 'Estudiantes')]"
      ]
     },
     "execution_count": 63,
     "metadata": {},
     "output_type": "execute_result"
    }
   ],
   "source": [
    "%sql SELECT * FROM Jugadores;"
   ]
  },
  {
   "cell_type": "code",
   "execution_count": 67,
   "metadata": {
    "collapsed": false
   },
   "outputs": [
    {
     "name": "stdout",
     "output_type": "stream",
     "text": [
      "Done.\n",
      "Done.\n"
     ]
    },
    {
     "data": {
      "text/plain": [
       "[]"
      ]
     },
     "execution_count": 67,
     "metadata": {},
     "output_type": "execute_result"
    }
   ],
   "source": [
    "%%sql\n",
    "CREATE TABLE Partidos(nombre VARCHAR(30),\n",
    "                      fecha_comienzo VARCHAR(30),\n",
    "                      fecha_fin VARCHAR(30),\n",
    "                      nombre_jugador VARCHAR(30),\n",
    "                      posicion VARCHAR(30),                      \n",
    "                      PRIMARY KEY (nombre)\n",
    "                      FOREIGN KEY (nombre_jugador) REFERENCES Jugadores(nombre));"
   ]
  },
  {
   "cell_type": "code",
   "execution_count": 68,
   "metadata": {
    "collapsed": false
   },
   "outputs": [
    {
     "name": "stdout",
     "output_type": "stream",
     "text": [
      "Done.\n"
     ]
    },
    {
     "data": {
      "text/html": [
       "<table>\n",
       "    <tr>\n",
       "        <th>nombre</th>\n",
       "        <th>fecha_comienzo</th>\n",
       "        <th>fecha_fin</th>\n",
       "        <th>nombre_jugador</th>\n",
       "        <th>posicion</th>\n",
       "    </tr>\n",
       "</table>"
      ],
      "text/plain": [
       "[]"
      ]
     },
     "execution_count": 68,
     "metadata": {},
     "output_type": "execute_result"
    }
   ],
   "source": [
    "%%sql\n",
    "SELECT * FROM Partidos;"
   ]
  },
  {
   "cell_type": "code",
   "execution_count": null,
   "metadata": {
    "collapsed": true
   },
   "outputs": [],
   "source": []
  }
 ],
 "metadata": {
  "kernelspec": {
   "display_name": "Python 3",
   "language": "python",
   "name": "python3"
  },
  "language_info": {
   "codemirror_mode": {
    "name": "ipython",
    "version": 3
   },
   "file_extension": ".py",
   "mimetype": "text/x-python",
   "name": "python",
   "nbconvert_exporter": "python",
   "pygments_lexer": "ipython3",
   "version": "3.5.2"
  }
 },
 "nbformat": 4,
 "nbformat_minor": 0
}
