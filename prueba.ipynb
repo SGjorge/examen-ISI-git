{
 "cells": [
  {
   "cell_type": "markdown",
   "metadata": {},
   "source": [
    "## Alberto Rodriguez Tena"
   ]
  },
  {
   "cell_type": "markdown",
   "metadata": {},
   "source": [
    "![Diagrama E/R](entidad_relacion.jpg)"
   ]
  },
  {
   "cell_type": "code",
   "execution_count": 3,
   "metadata": {
    "collapsed": false,
    "scrolled": true
   },
   "outputs": [
    {
     "name": "stderr",
     "output_type": "stream",
     "text": [
      "/usr/local/lib/python3.5/dist-packages/IPython/config.py:13: ShimWarning: The `IPython.config` package has been deprecated. You should import from traitlets.config instead.\n",
      "  \"You should import from traitlets.config instead.\", ShimWarning)\n",
      "/usr/local/lib/python3.5/dist-packages/IPython/utils/traitlets.py:5: UserWarning: IPython.utils.traitlets has moved to a top-level traitlets package.\n",
      "  warn(\"IPython.utils.traitlets has moved to a top-level traitlets package.\")\n"
     ]
    }
   ],
   "source": [
    "%load_ext sql"
   ]
  },
  {
   "cell_type": "code",
   "execution_count": 4,
   "metadata": {
    "collapsed": false
   },
   "outputs": [
    {
     "data": {
      "text/plain": [
       "'Connected: None@ISI-sql.db'"
      ]
     },
     "execution_count": 4,
     "metadata": {},
     "output_type": "execute_result"
    }
   ],
   "source": [
    "%sql sqlite:///ISI-sql.db"
   ]
  },
  {
   "cell_type": "code",
   "execution_count": 3,
   "metadata": {
    "collapsed": false
   },
   "outputs": [
    {
     "name": "stdout",
     "output_type": "stream",
     "text": [
      "(sqlite3.OperationalError) table ciudades already exists [SQL: 'create table ciudades(id_ciudad int not null, ca varchar(20) not null,\\n                             ciudad varchar(20) not null, unique(ca,ciudad), \\n                             primary key(id_ciudad)\\n                             )']\n"
     ]
    }
   ],
   "source": [
    "%%sql create table ciudades(id_ciudad int not null, ca varchar(20) not null,\n",
    "                             ciudad varchar(20) not null, unique(ca,ciudad), \n",
    "                             primary key(id_ciudad)\n",
    "                             )"
   ]
  },
  {
   "cell_type": "code",
   "execution_count": 26,
   "metadata": {
    "collapsed": false
   },
   "outputs": [
    {
     "name": "stdout",
     "output_type": "stream",
     "text": [
      "1 rows affected.\n"
     ]
    },
    {
     "data": {
      "text/plain": [
       "[]"
      ]
     },
     "execution_count": 26,
     "metadata": {},
     "output_type": "execute_result"
    }
   ],
   "source": [
    "%sql insert into ciudades values (5,'ANDALUCIA','GRANADA')"
   ]
  },
  {
   "cell_type": "code",
   "execution_count": 27,
   "metadata": {
    "collapsed": false
   },
   "outputs": [
    {
     "name": "stdout",
     "output_type": "stream",
     "text": [
      "Done.\n"
     ]
    },
    {
     "data": {
      "text/html": [
       "<table>\n",
       "    <tr>\n",
       "        <th>id_ciudad</th>\n",
       "        <th>ca</th>\n",
       "        <th>ciudad</th>\n",
       "    </tr>\n",
       "    <tr>\n",
       "        <td>1</td>\n",
       "        <td>EXTREMADURA</td>\n",
       "        <td>MERIDA</td>\n",
       "    </tr>\n",
       "    <tr>\n",
       "        <td>2</td>\n",
       "        <td>ANDALUCIA</td>\n",
       "        <td>SEVILLA</td>\n",
       "    </tr>\n",
       "    <tr>\n",
       "        <td>3</td>\n",
       "        <td>MADRID</td>\n",
       "        <td>MADRID</td>\n",
       "    </tr>\n",
       "    <tr>\n",
       "        <td>4</td>\n",
       "        <td>ARAGON</td>\n",
       "        <td>ZARAGOZA</td>\n",
       "    </tr>\n",
       "    <tr>\n",
       "        <td>5</td>\n",
       "        <td>ANDALUCIA</td>\n",
       "        <td>GRANADA</td>\n",
       "    </tr>\n",
       "</table>"
      ],
      "text/plain": [
       "[(1, 'EXTREMADURA', 'MERIDA'),\n",
       " (2, 'ANDALUCIA', 'SEVILLA'),\n",
       " (3, 'MADRID', 'MADRID'),\n",
       " (4, 'ARAGON', 'ZARAGOZA'),\n",
       " (5, 'ANDALUCIA', 'GRANADA')]"
      ]
     },
     "execution_count": 27,
     "metadata": {},
     "output_type": "execute_result"
    }
   ],
   "source": [
    "%sql SELECT * FROM CIUDADES"
   ]
  },
  {
   "cell_type": "code",
   "execution_count": 7,
   "metadata": {
    "collapsed": false
   },
   "outputs": [
    {
     "name": "stdout",
     "output_type": "stream",
     "text": [
      "Done.\n"
     ]
    },
    {
     "data": {
      "text/plain": [
       "[]"
      ]
     },
     "execution_count": 7,
     "metadata": {},
     "output_type": "execute_result"
    }
   ],
   "source": [
    "%%sql create table campeonatos(id_campeonato int not null,\n",
    "                              fecha_inicio datetime not null,\n",
    "                              fecha_fin datetime not null, \n",
    "                               primary key(id_campeonato))"
   ]
  },
  {
   "cell_type": "code",
   "execution_count": 35,
   "metadata": {
    "collapsed": false
   },
   "outputs": [
    {
     "name": "stdout",
     "output_type": "stream",
     "text": [
      "1 rows affected.\n"
     ]
    },
    {
     "data": {
      "text/plain": [
       "[]"
      ]
     },
     "execution_count": 35,
     "metadata": {},
     "output_type": "execute_result"
    }
   ],
   "source": [
    "%sql insert into campeonatos (id_campeonato,fecha_inicio,fecha_fin) values (3,\"2011-08-31 10:00:00\",\"2012-06-30 22:00:00\")"
   ]
  },
  {
   "cell_type": "code",
   "execution_count": 36,
   "metadata": {
    "collapsed": false
   },
   "outputs": [
    {
     "name": "stdout",
     "output_type": "stream",
     "text": [
      "Done.\n"
     ]
    },
    {
     "data": {
      "text/html": [
       "<table>\n",
       "    <tr>\n",
       "        <th>id_campeonato</th>\n",
       "        <th>fecha_inicio</th>\n",
       "        <th>fecha_fin</th>\n",
       "    </tr>\n",
       "    <tr>\n",
       "        <td>1</td>\n",
       "        <td>2009-08-31 00:00:00</td>\n",
       "        <td>2010-06-30 00:00:00</td>\n",
       "    </tr>\n",
       "    <tr>\n",
       "        <td>2</td>\n",
       "        <td>2010-08-31 00:00:00</td>\n",
       "        <td>2011-06-30 00:00:00</td>\n",
       "    </tr>\n",
       "    <tr>\n",
       "        <td>3</td>\n",
       "        <td>2011-08-31 10:00:00</td>\n",
       "        <td>2012-06-30 22:00:00</td>\n",
       "    </tr>\n",
       "</table>"
      ],
      "text/plain": [
       "[(1, '2009-08-31 00:00:00', '2010-06-30 00:00:00'),\n",
       " (2, '2010-08-31 00:00:00', '2011-06-30 00:00:00'),\n",
       " (3, '2011-08-31 10:00:00', '2012-06-30 22:00:00')]"
      ]
     },
     "execution_count": 36,
     "metadata": {},
     "output_type": "execute_result"
    }
   ],
   "source": [
    "%sql select * from campeonatos"
   ]
  },
  {
   "cell_type": "code",
   "execution_count": 8,
   "metadata": {
    "collapsed": false
   },
   "outputs": [
    {
     "name": "stdout",
     "output_type": "stream",
     "text": [
      "Done.\n"
     ]
    },
    {
     "data": {
      "text/plain": [
       "[]"
      ]
     },
     "execution_count": 8,
     "metadata": {},
     "output_type": "execute_result"
    }
   ],
   "source": [
    "%%sql create table empresas (cif varchar(20) not null,\n",
    "                            nombre varchar(20) not null,\n",
    "                            primary key(cif))"
   ]
  },
  {
   "cell_type": "code",
   "execution_count": 39,
   "metadata": {
    "collapsed": false
   },
   "outputs": [
    {
     "name": "stdout",
     "output_type": "stream",
     "text": [
      "1 rows affected.\n"
     ]
    },
    {
     "data": {
      "text/plain": [
       "[]"
      ]
     },
     "execution_count": 39,
     "metadata": {},
     "output_type": "execute_result"
    }
   ],
   "source": [
    "%sql insert into empresas (cif,nombre) values ('987654321A','TELEFONICA')"
   ]
  },
  {
   "cell_type": "code",
   "execution_count": 40,
   "metadata": {
    "collapsed": false
   },
   "outputs": [
    {
     "name": "stdout",
     "output_type": "stream",
     "text": [
      "Done.\n"
     ]
    },
    {
     "data": {
      "text/html": [
       "<table>\n",
       "    <tr>\n",
       "        <th>cif</th>\n",
       "        <th>nombre</th>\n",
       "    </tr>\n",
       "    <tr>\n",
       "        <td>123456789Z</td>\n",
       "        <td>URJC</td>\n",
       "    </tr>\n",
       "    <tr>\n",
       "        <td>987654321A</td>\n",
       "        <td>TELEFONICA</td>\n",
       "    </tr>\n",
       "</table>"
      ],
      "text/plain": [
       "[('123456789Z', 'URJC'), ('987654321A', 'TELEFONICA')]"
      ]
     },
     "execution_count": 40,
     "metadata": {},
     "output_type": "execute_result"
    }
   ],
   "source": [
    "%sql select * from empresas"
   ]
  },
  {
   "cell_type": "code",
   "execution_count": 9,
   "metadata": {
    "collapsed": false
   },
   "outputs": [
    {
     "name": "stdout",
     "output_type": "stream",
     "text": [
      "Done.\n"
     ]
    },
    {
     "data": {
      "text/plain": [
       "[]"
      ]
     },
     "execution_count": 9,
     "metadata": {},
     "output_type": "execute_result"
    }
   ],
   "source": [
    "%%sql create table entrenadores(nif varchar(20) not null, \n",
    "                               nombre varchar(50) not null,\n",
    "                               apellidos varchar(50) not null,\n",
    "                               fecha_nacimiento datetime not null,\n",
    "                               primary key(nif))"
   ]
  },
  {
   "cell_type": "code",
   "execution_count": 96,
   "metadata": {
    "collapsed": false
   },
   "outputs": [
    {
     "name": "stdout",
     "output_type": "stream",
     "text": [
      "1 rows affected.\n"
     ]
    },
    {
     "data": {
      "text/plain": [
       "[]"
      ]
     },
     "execution_count": 96,
     "metadata": {},
     "output_type": "execute_result"
    }
   ],
   "source": [
    "%sql insert into entrenadores (nif,nombre,apellidos,fecha_nacimiento) values ('55R','FRANCIS','SANCHEZ', \"1980-07-15 10:00:00\")"
   ]
  },
  {
   "cell_type": "code",
   "execution_count": 97,
   "metadata": {
    "collapsed": false
   },
   "outputs": [
    {
     "name": "stdout",
     "output_type": "stream",
     "text": [
      "Done.\n"
     ]
    },
    {
     "data": {
      "text/html": [
       "<table>\n",
       "    <tr>\n",
       "        <th>nif</th>\n",
       "        <th>nombre</th>\n",
       "        <th>apellidos</th>\n",
       "        <th>fecha_nacimiento</th>\n",
       "    </tr>\n",
       "    <tr>\n",
       "        <td>505656A</td>\n",
       "        <td>PABLO</td>\n",
       "        <td>LASO</td>\n",
       "        <td>1980-07-15 10:00:00</td>\n",
       "    </tr>\n",
       "    <tr>\n",
       "        <td>506868X</td>\n",
       "        <td>ALBERTO</td>\n",
       "        <td>RODRIGUEZ</td>\n",
       "        <td>1980-07-15 10:00:00</td>\n",
       "    </tr>\n",
       "    <tr>\n",
       "        <td>55R</td>\n",
       "        <td>FRANCIS</td>\n",
       "        <td>SANCHEZ</td>\n",
       "        <td>1980-07-15 10:00:00</td>\n",
       "    </tr>\n",
       "</table>"
      ],
      "text/plain": [
       "[('505656A', 'PABLO', 'LASO', '1980-07-15 10:00:00'),\n",
       " ('506868X', 'ALBERTO', 'RODRIGUEZ', '1980-07-15 10:00:00'),\n",
       " ('55R', 'FRANCIS', 'SANCHEZ', '1980-07-15 10:00:00')]"
      ]
     },
     "execution_count": 97,
     "metadata": {},
     "output_type": "execute_result"
    }
   ],
   "source": [
    "%sql select * from entrenadores"
   ]
  },
  {
   "cell_type": "code",
   "execution_count": 10,
   "metadata": {
    "collapsed": false
   },
   "outputs": [
    {
     "name": "stdout",
     "output_type": "stream",
     "text": [
      "Done.\n"
     ]
    },
    {
     "data": {
      "text/plain": [
       "[]"
      ]
     },
     "execution_count": 10,
     "metadata": {},
     "output_type": "execute_result"
    }
   ],
   "source": [
    "%%sql create table jugadores (nif varchar(20) not null, \n",
    "                               nombre varchar(50) not null,\n",
    "                               apellidos varchar(50) not null,\n",
    "                               fecha_nacimiento datetime not null,\n",
    "                               primary key(nif))"
   ]
  },
  {
   "cell_type": "code",
   "execution_count": 130,
   "metadata": {
    "collapsed": false
   },
   "outputs": [
    {
     "name": "stdout",
     "output_type": "stream",
     "text": [
      "1 rows affected.\n"
     ]
    },
    {
     "data": {
      "text/plain": [
       "[]"
      ]
     },
     "execution_count": 130,
     "metadata": {},
     "output_type": "execute_result"
    }
   ],
   "source": [
    "%sql insert into jugadores (nif,nombre,apellidos,fecha_nacimiento) values ('50F','FERNANDO','CALVO', \"1995-07-15 10:00:00\")"
   ]
  },
  {
   "cell_type": "code",
   "execution_count": 131,
   "metadata": {
    "collapsed": false
   },
   "outputs": [
    {
     "name": "stdout",
     "output_type": "stream",
     "text": [
      "Done.\n"
     ]
    },
    {
     "data": {
      "text/html": [
       "<table>\n",
       "    <tr>\n",
       "        <th>nif</th>\n",
       "        <th>nombre</th>\n",
       "        <th>apellidos</th>\n",
       "        <th>fecha_nacimiento</th>\n",
       "    </tr>\n",
       "    <tr>\n",
       "        <td>502323J</td>\n",
       "        <td>LEBRON</td>\n",
       "        <td>JAMES</td>\n",
       "        <td>1980-07-15 10:00:00</td>\n",
       "    </tr>\n",
       "    <tr>\n",
       "        <td>508188R</td>\n",
       "        <td>CHACHO</td>\n",
       "        <td>RODRIGUEZ</td>\n",
       "        <td>1985-07-15 10:00:00</td>\n",
       "    </tr>\n",
       "    <tr>\n",
       "        <td>50P</td>\n",
       "        <td>PEPE</td>\n",
       "        <td>SANTOS</td>\n",
       "        <td>1985-07-15 10:00:00</td>\n",
       "    </tr>\n",
       "    <tr>\n",
       "        <td>50J</td>\n",
       "        <td>JUAN</td>\n",
       "        <td>DOMINGO</td>\n",
       "        <td>1995-07-15 10:00:00</td>\n",
       "    </tr>\n",
       "    <tr>\n",
       "        <td>50A</td>\n",
       "        <td>ANTONIO</td>\n",
       "        <td>GOMEZ</td>\n",
       "        <td>1995-07-15 10:00:00</td>\n",
       "    </tr>\n",
       "    <tr>\n",
       "        <td>50M</td>\n",
       "        <td>MIGUEL</td>\n",
       "        <td>ESCRIBANO</td>\n",
       "        <td>1995-07-15 10:00:00</td>\n",
       "    </tr>\n",
       "    <tr>\n",
       "        <td>50C</td>\n",
       "        <td>CRISTIANO</td>\n",
       "        <td>SANZ</td>\n",
       "        <td>1995-07-15 10:00:00</td>\n",
       "    </tr>\n",
       "    <tr>\n",
       "        <td>50E</td>\n",
       "        <td>ENRIQUE</td>\n",
       "        <td>SANZ</td>\n",
       "        <td>1995-07-15 10:00:00</td>\n",
       "    </tr>\n",
       "    <tr>\n",
       "        <td>50R</td>\n",
       "        <td>RAUL</td>\n",
       "        <td>GONZALEZ</td>\n",
       "        <td>1995-07-15 10:00:00</td>\n",
       "    </tr>\n",
       "    <tr>\n",
       "        <td>50L</td>\n",
       "        <td>LEONARDO</td>\n",
       "        <td>CALVO</td>\n",
       "        <td>1995-07-15 10:00:00</td>\n",
       "    </tr>\n",
       "    <tr>\n",
       "        <td>50F</td>\n",
       "        <td>FERNANDO</td>\n",
       "        <td>CALVO</td>\n",
       "        <td>1995-07-15 10:00:00</td>\n",
       "    </tr>\n",
       "</table>"
      ],
      "text/plain": [
       "[('502323J', 'LEBRON', 'JAMES', '1980-07-15 10:00:00'),\n",
       " ('508188R', 'CHACHO', 'RODRIGUEZ', '1985-07-15 10:00:00'),\n",
       " ('50P', 'PEPE', 'SANTOS', '1985-07-15 10:00:00'),\n",
       " ('50J', 'JUAN', 'DOMINGO', '1995-07-15 10:00:00'),\n",
       " ('50A', 'ANTONIO', 'GOMEZ', '1995-07-15 10:00:00'),\n",
       " ('50M', 'MIGUEL', 'ESCRIBANO', '1995-07-15 10:00:00'),\n",
       " ('50C', 'CRISTIANO', 'SANZ', '1995-07-15 10:00:00'),\n",
       " ('50E', 'ENRIQUE', 'SANZ', '1995-07-15 10:00:00'),\n",
       " ('50R', 'RAUL', 'GONZALEZ', '1995-07-15 10:00:00'),\n",
       " ('50L', 'LEONARDO', 'CALVO', '1995-07-15 10:00:00'),\n",
       " ('50F', 'FERNANDO', 'CALVO', '1995-07-15 10:00:00')]"
      ]
     },
     "execution_count": 131,
     "metadata": {},
     "output_type": "execute_result"
    }
   ],
   "source": [
    "%sql select * from jugadores"
   ]
  },
  {
   "cell_type": "code",
   "execution_count": 42,
   "metadata": {
    "collapsed": false
   },
   "outputs": [
    {
     "name": "stdout",
     "output_type": "stream",
     "text": [
      "(sqlite3.OperationalError) table direcciones_canchas already exists [SQL: 'create table direcciones_canchas (id_direccion int not null,\\n                                       calle varchar(50) not null,\\n                                       numero int not null,\\n                                       id_ciudad int not null,\\n                                       foreign key (id_ciudad)references ciudades(id_ciudad),\\n                                       primary key(id_direccion))']\n"
     ]
    }
   ],
   "source": [
    "%%sql create table direcciones_canchas (id_direccion int not null,\n",
    "                                       calle varchar(50) not null,\n",
    "                                       numero int not null,\n",
    "                                       id_ciudad int not null,\n",
    "                                       foreign key (id_ciudad)references ciudades(id_ciudad),\n",
    "                                       primary key(id_direccion))"
   ]
  },
  {
   "cell_type": "code",
   "execution_count": 60,
   "metadata": {
    "collapsed": false
   },
   "outputs": [
    {
     "name": "stdout",
     "output_type": "stream",
     "text": [
      "1 rows affected.\n"
     ]
    },
    {
     "data": {
      "text/plain": [
       "[]"
      ]
     },
     "execution_count": 60,
     "metadata": {},
     "output_type": "execute_result"
    }
   ],
   "source": [
    "%sql insert into direcciones_canchas (id_direccion,calle,numero,id_ciudad) values (4,'C/ LEGANITOS',75,1)"
   ]
  },
  {
   "cell_type": "code",
   "execution_count": 61,
   "metadata": {
    "collapsed": false
   },
   "outputs": [
    {
     "name": "stdout",
     "output_type": "stream",
     "text": [
      "Done.\n"
     ]
    },
    {
     "data": {
      "text/html": [
       "<table>\n",
       "    <tr>\n",
       "        <th>id_direccion</th>\n",
       "        <th>calle</th>\n",
       "        <th>numero</th>\n",
       "        <th>id_ciudad</th>\n",
       "    </tr>\n",
       "    <tr>\n",
       "        <td>1</td>\n",
       "        <td>C/ OCA</td>\n",
       "        <td>10</td>\n",
       "        <td>3</td>\n",
       "    </tr>\n",
       "    <tr>\n",
       "        <td>2</td>\n",
       "        <td>C/ ROMA</td>\n",
       "        <td>45</td>\n",
       "        <td>1</td>\n",
       "    </tr>\n",
       "    <tr>\n",
       "        <td>3</td>\n",
       "        <td>C/ SEVILLA</td>\n",
       "        <td>75</td>\n",
       "        <td>2</td>\n",
       "    </tr>\n",
       "    <tr>\n",
       "        <td>4</td>\n",
       "        <td>C/ LEGANITOS</td>\n",
       "        <td>75</td>\n",
       "        <td>1</td>\n",
       "    </tr>\n",
       "</table>"
      ],
      "text/plain": [
       "[(1, 'C/ OCA', 10, 3),\n",
       " (2, 'C/ ROMA', 45, 1),\n",
       " (3, 'C/ SEVILLA', 75, 2),\n",
       " (4, 'C/ LEGANITOS', 75, 1)]"
      ]
     },
     "execution_count": 61,
     "metadata": {},
     "output_type": "execute_result"
    }
   ],
   "source": [
    "%sql select * from direcciones_canchas"
   ]
  },
  {
   "cell_type": "code",
   "execution_count": 15,
   "metadata": {
    "collapsed": false
   },
   "outputs": [
    {
     "name": "stdout",
     "output_type": "stream",
     "text": [
      "Done.\n"
     ]
    },
    {
     "data": {
      "text/plain": [
       "[]"
      ]
     },
     "execution_count": 15,
     "metadata": {},
     "output_type": "execute_result"
    }
   ],
   "source": [
    "%%sql create table canchas (id_cancha int not null,\n",
    "                           nombre varchar(20) not null,\n",
    "                           direccion int not null,\n",
    "                           foreign key (direccion) references direcciones_canchas(id_direccion),\n",
    "                           primary key (id_cancha))"
   ]
  },
  {
   "cell_type": "code",
   "execution_count": 68,
   "metadata": {
    "collapsed": false
   },
   "outputs": [
    {
     "name": "stdout",
     "output_type": "stream",
     "text": [
      "1 rows affected.\n"
     ]
    },
    {
     "data": {
      "text/plain": [
       "[]"
      ]
     },
     "execution_count": 68,
     "metadata": {},
     "output_type": "execute_result"
    }
   ],
   "source": [
    "%sql insert into canchas (id_cancha,nombre,direccion) values (4,'ESTADIO CENTRO',4)"
   ]
  },
  {
   "cell_type": "code",
   "execution_count": 69,
   "metadata": {
    "collapsed": false
   },
   "outputs": [
    {
     "name": "stdout",
     "output_type": "stream",
     "text": [
      "Done.\n"
     ]
    },
    {
     "data": {
      "text/html": [
       "<table>\n",
       "    <tr>\n",
       "        <th>id_cancha</th>\n",
       "        <th>nombre</th>\n",
       "        <th>direccion</th>\n",
       "    </tr>\n",
       "    <tr>\n",
       "        <td>1</td>\n",
       "        <td>POLIDEPORTIVO OCA</td>\n",
       "        <td>1</td>\n",
       "    </tr>\n",
       "    <tr>\n",
       "        <td>2</td>\n",
       "        <td>ESTADIO ROMA</td>\n",
       "        <td>2</td>\n",
       "    </tr>\n",
       "    <tr>\n",
       "        <td>3</td>\n",
       "        <td>ESTADIO SEVILLA</td>\n",
       "        <td>3</td>\n",
       "    </tr>\n",
       "    <tr>\n",
       "        <td>4</td>\n",
       "        <td>ESTADIO CENTRO</td>\n",
       "        <td>4</td>\n",
       "    </tr>\n",
       "</table>"
      ],
      "text/plain": [
       "[(1, 'POLIDEPORTIVO OCA', 1),\n",
       " (2, 'ESTADIO ROMA', 2),\n",
       " (3, 'ESTADIO SEVILLA', 3),\n",
       " (4, 'ESTADIO CENTRO', 4)]"
      ]
     },
     "execution_count": 69,
     "metadata": {},
     "output_type": "execute_result"
    }
   ],
   "source": [
    "%sql select * from canchas"
   ]
  },
  {
   "cell_type": "code",
   "execution_count": 23,
   "metadata": {
    "collapsed": false
   },
   "outputs": [
    {
     "name": "stdout",
     "output_type": "stream",
     "text": [
      "Done.\n"
     ]
    },
    {
     "data": {
      "text/plain": [
       "[]"
      ]
     },
     "execution_count": 23,
     "metadata": {},
     "output_type": "execute_result"
    }
   ],
   "source": [
    "%%sql create table equipos (id_equipo int not null,\n",
    "                           nombre varchar(50) not null,\n",
    "                           ciudad int not null,\n",
    "                           foreign key (ciudad) references ciudades(id_ciudad),\n",
    "                           primary key (id_equipo),\n",
    "                           unique (nombre,ciudad))"
   ]
  },
  {
   "cell_type": "code",
   "execution_count": 75,
   "metadata": {
    "collapsed": false
   },
   "outputs": [
    {
     "name": "stdout",
     "output_type": "stream",
     "text": [
      "1 rows affected.\n"
     ]
    },
    {
     "data": {
      "text/plain": [
       "[]"
      ]
     },
     "execution_count": 75,
     "metadata": {},
     "output_type": "execute_result"
    }
   ],
   "source": [
    "%sql insert into equipos (id_equipo,nombre,ciudad) values (4,'MADRILEÑOS',3)"
   ]
  },
  {
   "cell_type": "code",
   "execution_count": 76,
   "metadata": {
    "collapsed": false
   },
   "outputs": [
    {
     "name": "stdout",
     "output_type": "stream",
     "text": [
      "Done.\n"
     ]
    },
    {
     "data": {
      "text/html": [
       "<table>\n",
       "    <tr>\n",
       "        <th>id_equipo</th>\n",
       "        <th>nombre</th>\n",
       "        <th>ciudad</th>\n",
       "    </tr>\n",
       "    <tr>\n",
       "        <td>1</td>\n",
       "        <td>OCAREROS</td>\n",
       "        <td>3</td>\n",
       "    </tr>\n",
       "    <tr>\n",
       "        <td>2</td>\n",
       "        <td>ROMANOS</td>\n",
       "        <td>1</td>\n",
       "    </tr>\n",
       "    <tr>\n",
       "        <td>3</td>\n",
       "        <td>SEVILLISTAS</td>\n",
       "        <td>2</td>\n",
       "    </tr>\n",
       "    <tr>\n",
       "        <td>4</td>\n",
       "        <td>MADRILEÑOS</td>\n",
       "        <td>3</td>\n",
       "    </tr>\n",
       "</table>"
      ],
      "text/plain": [
       "[(1, 'OCAREROS', 3),\n",
       " (2, 'ROMANOS', 1),\n",
       " (3, 'SEVILLISTAS', 2),\n",
       " (4, 'MADRILEÑOS', 3)]"
      ]
     },
     "execution_count": 76,
     "metadata": {},
     "output_type": "execute_result"
    }
   ],
   "source": [
    "%sql select * from equipos"
   ]
  },
  {
   "cell_type": "code",
   "execution_count": 28,
   "metadata": {
    "collapsed": false
   },
   "outputs": [
    {
     "name": "stdout",
     "output_type": "stream",
     "text": [
      "Done.\n"
     ]
    },
    {
     "data": {
      "text/plain": [
       "[]"
      ]
     },
     "execution_count": 28,
     "metadata": {},
     "output_type": "execute_result"
    }
   ],
   "source": [
    "%%sql create table relacion (id_relacion int not null,\n",
    "                            id_equipo int not null,\n",
    "                            id_cancha int not null,\n",
    "                            foreign key (id_equipo) references equipos(is_equipo),\n",
    "                            foreign key (id_cancha) references canchas(id_cancha),\n",
    "                            unique(id_equipo,id_cancha),\n",
    "                             primary key (id_relacion))"
   ]
  },
  {
   "cell_type": "code",
   "execution_count": 81,
   "metadata": {
    "collapsed": false
   },
   "outputs": [
    {
     "name": "stdout",
     "output_type": "stream",
     "text": [
      "1 rows affected.\n"
     ]
    },
    {
     "data": {
      "text/plain": [
       "[]"
      ]
     },
     "execution_count": 81,
     "metadata": {},
     "output_type": "execute_result"
    }
   ],
   "source": [
    "%sql insert into relacion (id_relacion, id_equipo,id_cancha) values (5,4,4)"
   ]
  },
  {
   "cell_type": "code",
   "execution_count": 82,
   "metadata": {
    "collapsed": false
   },
   "outputs": [
    {
     "name": "stdout",
     "output_type": "stream",
     "text": [
      "Done.\n"
     ]
    },
    {
     "data": {
      "text/html": [
       "<table>\n",
       "    <tr>\n",
       "        <th>id_relacion</th>\n",
       "        <th>id_equipo</th>\n",
       "        <th>id_cancha</th>\n",
       "    </tr>\n",
       "    <tr>\n",
       "        <td>1</td>\n",
       "        <td>1</td>\n",
       "        <td>1</td>\n",
       "    </tr>\n",
       "    <tr>\n",
       "        <td>2</td>\n",
       "        <td>2</td>\n",
       "        <td>2</td>\n",
       "    </tr>\n",
       "    <tr>\n",
       "        <td>3</td>\n",
       "        <td>3</td>\n",
       "        <td>3</td>\n",
       "    </tr>\n",
       "    <tr>\n",
       "        <td>4</td>\n",
       "        <td>1</td>\n",
       "        <td>4</td>\n",
       "    </tr>\n",
       "    <tr>\n",
       "        <td>5</td>\n",
       "        <td>4</td>\n",
       "        <td>4</td>\n",
       "    </tr>\n",
       "</table>"
      ],
      "text/plain": [
       "[(1, 1, 1), (2, 2, 2), (3, 3, 3), (4, 1, 4), (5, 4, 4)]"
      ]
     },
     "execution_count": 82,
     "metadata": {},
     "output_type": "execute_result"
    }
   ],
   "source": [
    "%sql select * from relacion"
   ]
  },
  {
   "cell_type": "code",
   "execution_count": 29,
   "metadata": {
    "collapsed": false
   },
   "outputs": [
    {
     "name": "stdout",
     "output_type": "stream",
     "text": [
      "Done.\n"
     ]
    },
    {
     "data": {
      "text/plain": [
       "[]"
      ]
     },
     "execution_count": 29,
     "metadata": {},
     "output_type": "execute_result"
    }
   ],
   "source": [
    "%%sql create table patrocinadores(id_patrocinador int not null,\n",
    "                                 cif varchar(20) not null,\n",
    "                                 id_equipo int not null,\n",
    "                                 foreign key (id_equipo) references equipos(is_equipo),\n",
    "                                 foreign key (cif) references empresas(cif),\n",
    "                                 unique (cif,id_equipo),\n",
    "                                 primary key (id_patrocinador)\n",
    "\n",
    "                                 )"
   ]
  },
  {
   "cell_type": "code",
   "execution_count": 88,
   "metadata": {
    "collapsed": false
   },
   "outputs": [
    {
     "name": "stdout",
     "output_type": "stream",
     "text": [
      "1 rows affected.\n"
     ]
    },
    {
     "data": {
      "text/plain": [
       "[]"
      ]
     },
     "execution_count": 88,
     "metadata": {},
     "output_type": "execute_result"
    }
   ],
   "source": [
    "%sql insert into patrocinadores (id_patrocinador,cif,id_equipo) values (3,'987654321A',3)"
   ]
  },
  {
   "cell_type": "code",
   "execution_count": 89,
   "metadata": {
    "collapsed": false
   },
   "outputs": [
    {
     "name": "stdout",
     "output_type": "stream",
     "text": [
      "Done.\n"
     ]
    },
    {
     "data": {
      "text/html": [
       "<table>\n",
       "    <tr>\n",
       "        <th>id_patrocinador</th>\n",
       "        <th>cif</th>\n",
       "        <th>id_equipo</th>\n",
       "    </tr>\n",
       "    <tr>\n",
       "        <td>1</td>\n",
       "        <td>123456789Z</td>\n",
       "        <td>1</td>\n",
       "    </tr>\n",
       "    <tr>\n",
       "        <td>2</td>\n",
       "        <td>123456789Z</td>\n",
       "        <td>2</td>\n",
       "    </tr>\n",
       "    <tr>\n",
       "        <td>3</td>\n",
       "        <td>987654321A</td>\n",
       "        <td>3</td>\n",
       "    </tr>\n",
       "</table>"
      ],
      "text/plain": [
       "[(1, '123456789Z', 1), (2, '123456789Z', 2), (3, '987654321A', 3)]"
      ]
     },
     "execution_count": 89,
     "metadata": {},
     "output_type": "execute_result"
    }
   ],
   "source": [
    "%sql select * from patrocinadores"
   ]
  },
  {
   "cell_type": "code",
   "execution_count": 7,
   "metadata": {
    "collapsed": false
   },
   "outputs": [
    {
     "name": "stdout",
     "output_type": "stream",
     "text": [
      "Done.\n"
     ]
    },
    {
     "data": {
      "text/plain": [
       "[]"
      ]
     },
     "execution_count": 7,
     "metadata": {},
     "output_type": "execute_result"
    }
   ],
   "source": [
    "%%sql create table entrenadores_equipo(nif varchar(20) not null,\n",
    "                                      id_relacion int not null,\n",
    "                                      id_campeonato int not null,\n",
    "                                      foreign key (id_relacion) references relacion(id_relacion),\n",
    "                                      foreign key (id_campeonato) references campeonatos(id_campeonato),\n",
    "                                      foreign key (nif) references entrnadores(nif),\n",
    "                                      unique(nif,id_campeonato))\n"
   ]
  },
  {
   "cell_type": "code",
   "execution_count": 99,
   "metadata": {
    "collapsed": false
   },
   "outputs": [
    {
     "name": "stdout",
     "output_type": "stream",
     "text": [
      "1 rows affected.\n"
     ]
    },
    {
     "data": {
      "text/plain": [
       "[]"
      ]
     },
     "execution_count": 99,
     "metadata": {},
     "output_type": "execute_result"
    }
   ],
   "source": [
    "%sql insert into entrenadores_equipo (nif,id_relacion,id_campeonato) values (\"55R\",3,2)"
   ]
  },
  {
   "cell_type": "code",
   "execution_count": 100,
   "metadata": {
    "collapsed": false
   },
   "outputs": [
    {
     "name": "stdout",
     "output_type": "stream",
     "text": [
      "Done.\n"
     ]
    },
    {
     "data": {
      "text/html": [
       "<table>\n",
       "    <tr>\n",
       "        <th>nif</th>\n",
       "        <th>id_relacion</th>\n",
       "        <th>id_campeonato</th>\n",
       "    </tr>\n",
       "    <tr>\n",
       "        <td>505656A</td>\n",
       "        <td>1</td>\n",
       "        <td>1</td>\n",
       "    </tr>\n",
       "    <tr>\n",
       "        <td>506868X</td>\n",
       "        <td>2</td>\n",
       "        <td>1</td>\n",
       "    </tr>\n",
       "    <tr>\n",
       "        <td>55R</td>\n",
       "        <td>4</td>\n",
       "        <td>1</td>\n",
       "    </tr>\n",
       "    <tr>\n",
       "        <td>55R</td>\n",
       "        <td>3</td>\n",
       "        <td>2</td>\n",
       "    </tr>\n",
       "</table>"
      ],
      "text/plain": [
       "[('505656A', 1, 1), ('506868X', 2, 1), ('55R', 4, 1), ('55R', 3, 2)]"
      ]
     },
     "execution_count": 100,
     "metadata": {},
     "output_type": "execute_result"
    }
   ],
   "source": [
    "%sql select * from entrenadores_equipo"
   ]
  },
  {
   "cell_type": "code",
   "execution_count": 8,
   "metadata": {
    "collapsed": false
   },
   "outputs": [
    {
     "name": "stdout",
     "output_type": "stream",
     "text": [
      "Done.\n"
     ]
    },
    {
     "data": {
      "text/plain": [
       "[]"
      ]
     },
     "execution_count": 8,
     "metadata": {},
     "output_type": "execute_result"
    }
   ],
   "source": [
    "%%sql create table partido (id_partido int not null,\n",
    "                           local int not null,\n",
    "                           visitante int not null,\n",
    "                           cancha int not null,\n",
    "                           hora_inicio datetime not null,\n",
    "                           hora_fin datetime not null,\n",
    "                           foreign key (local) references equipos(id_equipo),\n",
    "                           foreign key (visitante) references equipos(id_equipo),\n",
    "                            foreign key (cancha) references canchas(id_cancha), \n",
    "                            primary key (id_partido)\n",
    "                           )"
   ]
  },
  {
   "cell_type": "code",
   "execution_count": 103,
   "metadata": {
    "collapsed": false
   },
   "outputs": [
    {
     "name": "stdout",
     "output_type": "stream",
     "text": [
      "1 rows affected.\n"
     ]
    },
    {
     "data": {
      "text/plain": [
       "[]"
      ]
     },
     "execution_count": 103,
     "metadata": {},
     "output_type": "execute_result"
    }
   ],
   "source": [
    "%%sql insert into partido (id_partido,local,visitante,cancha,hora_inicio,hora_fin) values\n",
    "                    (2,3,4,3,\"2009-09-10 10:00:00\",\"2009-09-10 13:00:0\")"
   ]
  },
  {
   "cell_type": "code",
   "execution_count": 105,
   "metadata": {
    "collapsed": false
   },
   "outputs": [
    {
     "name": "stdout",
     "output_type": "stream",
     "text": [
      "Done.\n"
     ]
    },
    {
     "data": {
      "text/html": [
       "<table>\n",
       "    <tr>\n",
       "        <th>id_partido</th>\n",
       "        <th>local</th>\n",
       "        <th>visitante</th>\n",
       "        <th>cancha</th>\n",
       "        <th>hora_inicio</th>\n",
       "        <th>hora_fin</th>\n",
       "    </tr>\n",
       "    <tr>\n",
       "        <td>1</td>\n",
       "        <td>1</td>\n",
       "        <td>2</td>\n",
       "        <td>1</td>\n",
       "        <td>2009-09-10 10:00:00</td>\n",
       "        <td>2009-09-10 13:00:0</td>\n",
       "    </tr>\n",
       "    <tr>\n",
       "        <td>2</td>\n",
       "        <td>3</td>\n",
       "        <td>4</td>\n",
       "        <td>3</td>\n",
       "        <td>2009-09-10 10:00:00</td>\n",
       "        <td>2009-09-10 13:00:0</td>\n",
       "    </tr>\n",
       "</table>"
      ],
      "text/plain": [
       "[(1, 1, 2, 1, '2009-09-10 10:00:00', '2009-09-10 13:00:0'),\n",
       " (2, 3, 4, 3, '2009-09-10 10:00:00', '2009-09-10 13:00:0')]"
      ]
     },
     "execution_count": 105,
     "metadata": {},
     "output_type": "execute_result"
    }
   ],
   "source": [
    "%sql select * from partido"
   ]
  },
  {
   "cell_type": "code",
   "execution_count": 9,
   "metadata": {
    "collapsed": false
   },
   "outputs": [
    {
     "name": "stdout",
     "output_type": "stream",
     "text": [
      "Done.\n"
     ]
    },
    {
     "data": {
      "text/plain": [
       "[]"
      ]
     },
     "execution_count": 9,
     "metadata": {},
     "output_type": "execute_result"
    }
   ],
   "source": [
    "%%sql create table jugadores_equipos (nif varchar(20) not null, id_equipo int not null,\n",
    "                             id_campeonato int not null,\n",
    "                             foreign key (nif) references jugadores(nif),\n",
    "                             foreign key (id_equipo) references equipos(id_equipo),\n",
    "                             foreign key (id_campeonato) references campeonatos (id_campeonato),\n",
    "                             unique (nif,id_campeonato))"
   ]
  },
  {
   "cell_type": "code",
   "execution_count": 132,
   "metadata": {
    "collapsed": false
   },
   "outputs": [
    {
     "name": "stdout",
     "output_type": "stream",
     "text": [
      "1 rows affected.\n"
     ]
    },
    {
     "data": {
      "text/plain": [
       "[]"
      ]
     },
     "execution_count": 132,
     "metadata": {},
     "output_type": "execute_result"
    }
   ],
   "source": [
    "%sql insert into jugadores_equipos (nif,id_equipo,id_campeonato) values (\"50F\",1,1)"
   ]
  },
  {
   "cell_type": "code",
   "execution_count": 133,
   "metadata": {
    "collapsed": false
   },
   "outputs": [
    {
     "name": "stdout",
     "output_type": "stream",
     "text": [
      "Done.\n"
     ]
    },
    {
     "data": {
      "text/html": [
       "<table>\n",
       "    <tr>\n",
       "        <th>nif</th>\n",
       "        <th>id_equipo</th>\n",
       "        <th>id_campeonato</th>\n",
       "    </tr>\n",
       "    <tr>\n",
       "        <td>502323J</td>\n",
       "        <td>1</td>\n",
       "        <td>1</td>\n",
       "    </tr>\n",
       "    <tr>\n",
       "        <td>508188R</td>\n",
       "        <td>1</td>\n",
       "        <td>1</td>\n",
       "    </tr>\n",
       "    <tr>\n",
       "        <td>50P</td>\n",
       "        <td>1</td>\n",
       "        <td>1</td>\n",
       "    </tr>\n",
       "    <tr>\n",
       "        <td>50J</td>\n",
       "        <td>1</td>\n",
       "        <td>1</td>\n",
       "    </tr>\n",
       "    <tr>\n",
       "        <td>50A</td>\n",
       "        <td>1</td>\n",
       "        <td>1</td>\n",
       "    </tr>\n",
       "    <tr>\n",
       "        <td>50M</td>\n",
       "        <td>2</td>\n",
       "        <td>1</td>\n",
       "    </tr>\n",
       "    <tr>\n",
       "        <td>50C</td>\n",
       "        <td>2</td>\n",
       "        <td>1</td>\n",
       "    </tr>\n",
       "    <tr>\n",
       "        <td>50E</td>\n",
       "        <td>2</td>\n",
       "        <td>1</td>\n",
       "    </tr>\n",
       "    <tr>\n",
       "        <td>50R</td>\n",
       "        <td>2</td>\n",
       "        <td>1</td>\n",
       "    </tr>\n",
       "    <tr>\n",
       "        <td>50L</td>\n",
       "        <td>2</td>\n",
       "        <td>1</td>\n",
       "    </tr>\n",
       "    <tr>\n",
       "        <td>50F</td>\n",
       "        <td>1</td>\n",
       "        <td>1</td>\n",
       "    </tr>\n",
       "</table>"
      ],
      "text/plain": [
       "[('502323J', 1, 1),\n",
       " ('508188R', 1, 1),\n",
       " ('50P', 1, 1),\n",
       " ('50J', 1, 1),\n",
       " ('50A', 1, 1),\n",
       " ('50M', 2, 1),\n",
       " ('50C', 2, 1),\n",
       " ('50E', 2, 1),\n",
       " ('50R', 2, 1),\n",
       " ('50L', 2, 1),\n",
       " ('50F', 1, 1)]"
      ]
     },
     "execution_count": 133,
     "metadata": {},
     "output_type": "execute_result"
    }
   ],
   "source": [
    "%sql select * from jugadores_equipos"
   ]
  },
  {
   "cell_type": "code",
   "execution_count": 127,
   "metadata": {
    "collapsed": false
   },
   "outputs": [
    {
     "name": "stdout",
     "output_type": "stream",
     "text": [
      "Done.\n"
     ]
    },
    {
     "data": {
      "text/plain": [
       "[]"
      ]
     },
     "execution_count": 127,
     "metadata": {},
     "output_type": "execute_result"
    }
   ],
   "source": [
    "%%sql create table posiciones (id_partido int not null, nif varchar(20) not null,\n",
    "                              posicion varchar(20) not null, minutos int not null,\n",
    "                              foreign key (nif) references jugadores(nif),\n",
    "                             foreign key (id_partido) references partido(id_partido)  )"
   ]
  },
  {
   "cell_type": "code",
   "execution_count": 137,
   "metadata": {
    "collapsed": false
   },
   "outputs": [
    {
     "name": "stdout",
     "output_type": "stream",
     "text": [
      "1 rows affected.\n"
     ]
    },
    {
     "data": {
      "text/plain": [
       "[]"
      ]
     },
     "execution_count": 137,
     "metadata": {},
     "output_type": "execute_result"
    }
   ],
   "source": [
    "%sql insert into posiciones (id_partido,nif,posicion,minutos) values (1,\"50A\",\"BANQUILLO\",10)"
   ]
  },
  {
   "cell_type": "code",
   "execution_count": 22,
   "metadata": {
    "collapsed": false
   },
   "outputs": [
    {
     "name": "stdout",
     "output_type": "stream",
     "text": [
      "2 rows affected.\n"
     ]
    },
    {
     "data": {
      "text/plain": [
       "[]"
      ]
     },
     "execution_count": 22,
     "metadata": {},
     "output_type": "execute_result"
    }
   ],
   "source": [
    "%sql update posiciones set nif='502323J' where nif='502323j'"
   ]
  },
  {
   "cell_type": "code",
   "execution_count": 23,
   "metadata": {
    "collapsed": false
   },
   "outputs": [
    {
     "name": "stdout",
     "output_type": "stream",
     "text": [
      "Done.\n"
     ]
    },
    {
     "data": {
      "text/html": [
       "<table>\n",
       "    <tr>\n",
       "        <th>id_partido</th>\n",
       "        <th>nif</th>\n",
       "        <th>posicion</th>\n",
       "        <th>minutos</th>\n",
       "    </tr>\n",
       "    <tr>\n",
       "        <td>1</td>\n",
       "        <td>502323J</td>\n",
       "        <td>PIVOT</td>\n",
       "        <td>5</td>\n",
       "    </tr>\n",
       "    <tr>\n",
       "        <td>1</td>\n",
       "        <td>502323J</td>\n",
       "        <td>ALERO</td>\n",
       "        <td>5</td>\n",
       "    </tr>\n",
       "    <tr>\n",
       "        <td>1</td>\n",
       "        <td>50F</td>\n",
       "        <td>BANQUILLO</td>\n",
       "        <td>5</td>\n",
       "    </tr>\n",
       "    <tr>\n",
       "        <td>1</td>\n",
       "        <td>50P</td>\n",
       "        <td>BASE</td>\n",
       "        <td>5</td>\n",
       "    </tr>\n",
       "    <tr>\n",
       "        <td>1</td>\n",
       "        <td>50C</td>\n",
       "        <td>ESCOLTA</td>\n",
       "        <td>5</td>\n",
       "    </tr>\n",
       "    <tr>\n",
       "        <td>1</td>\n",
       "        <td>50A</td>\n",
       "        <td>BANQUILLO</td>\n",
       "        <td>10</td>\n",
       "    </tr>\n",
       "</table>"
      ],
      "text/plain": [
       "[(1, '502323J', 'PIVOT', 5),\n",
       " (1, '502323J', 'ALERO', 5),\n",
       " (1, '50F', 'BANQUILLO', 5),\n",
       " (1, '50P', 'BASE', 5),\n",
       " (1, '50C', 'ESCOLTA', 5),\n",
       " (1, '50A', 'BANQUILLO', 10)]"
      ]
     },
     "execution_count": 23,
     "metadata": {},
     "output_type": "execute_result"
    }
   ],
   "source": [
    "%sql select * from posiciones"
   ]
  },
  {
   "cell_type": "code",
   "execution_count": 109,
   "metadata": {
    "collapsed": false
   },
   "outputs": [
    {
     "name": "stdout",
     "output_type": "stream",
     "text": [
      "Done.\n"
     ]
    },
    {
     "data": {
      "text/plain": [
       "[]"
      ]
     },
     "execution_count": 109,
     "metadata": {},
     "output_type": "execute_result"
    }
   ],
   "source": [
    "%%sql create table titulares (id_partido int not null, id_equipo int not null,\n",
    "                             jugador1 varchar(20) not null,jugador2 varchar(20) not null,\n",
    "                             jugador3 varchar(20) not null,jugador4 varchar(20) not null,\n",
    "                             jugador5 varchar(20) not null,\n",
    "                             foreign key (jugador1) references jugadores(nif),\n",
    "                             foreign key (jugador2) references jugadores(nif),\n",
    "                             foreign key (jugador3) references jugadores(nif),\n",
    "                             foreign key (jugador4) references jugadores(nif),\n",
    "                             foreign key (jugador5) references jugadores(nif),\n",
    "                             foreign key (id_partido) references partido(id_partido),\n",
    "                             foreign key (id_equipo) references equipos(id_equipo),\n",
    "                             unique (id_partido,id_equipo))"
   ]
  },
  {
   "cell_type": "code",
   "execution_count": 141,
   "metadata": {
    "collapsed": false
   },
   "outputs": [
    {
     "name": "stdout",
     "output_type": "stream",
     "text": [
      "1 rows affected.\n"
     ]
    },
    {
     "data": {
      "text/plain": [
       "[]"
      ]
     },
     "execution_count": 141,
     "metadata": {},
     "output_type": "execute_result"
    }
   ],
   "source": [
    "%%sql insert into titulares (id_partido,id_equipo,jugador1,jugador2,jugador3,jugador4,jugador5) values\n",
    "                        (1,2,\"50M\",\"50C\",\"50E\",\"50R\",\"50L\")"
   ]
  },
  {
   "cell_type": "code",
   "execution_count": 143,
   "metadata": {
    "collapsed": false
   },
   "outputs": [
    {
     "name": "stdout",
     "output_type": "stream",
     "text": [
      "Done.\n"
     ]
    },
    {
     "data": {
      "text/html": [
       "<table>\n",
       "    <tr>\n",
       "        <th>id_partido</th>\n",
       "        <th>id_equipo</th>\n",
       "        <th>jugador1</th>\n",
       "        <th>jugador2</th>\n",
       "        <th>jugador3</th>\n",
       "        <th>jugador4</th>\n",
       "        <th>jugador5</th>\n",
       "    </tr>\n",
       "    <tr>\n",
       "        <td>1</td>\n",
       "        <td>1</td>\n",
       "        <td>502323J</td>\n",
       "        <td>508188R</td>\n",
       "        <td>50P</td>\n",
       "        <td>50J</td>\n",
       "        <td>50F</td>\n",
       "    </tr>\n",
       "    <tr>\n",
       "        <td>1</td>\n",
       "        <td>2</td>\n",
       "        <td>50M</td>\n",
       "        <td>50C</td>\n",
       "        <td>50E</td>\n",
       "        <td>50R</td>\n",
       "        <td>50L</td>\n",
       "    </tr>\n",
       "</table>"
      ],
      "text/plain": [
       "[(1, 1, '502323J', '508188R', '50P', '50J', '50F'),\n",
       " (1, 2, '50M', '50C', '50E', '50R', '50L')]"
      ]
     },
     "execution_count": 143,
     "metadata": {},
     "output_type": "execute_result"
    }
   ],
   "source": [
    "%sql select * from titulares"
   ]
  },
  {
   "cell_type": "code",
   "execution_count": 111,
   "metadata": {
    "collapsed": false
   },
   "outputs": [
    {
     "name": "stdout",
     "output_type": "stream",
     "text": [
      "Done.\n"
     ]
    },
    {
     "data": {
      "text/plain": [
       "[]"
      ]
     },
     "execution_count": 111,
     "metadata": {},
     "output_type": "execute_result"
    }
   ],
   "source": [
    "%%sql create table caracteristicas (nif varchar(20) not null, estatura float not null,\n",
    "                                   id_partido int not null,peso float not null,\n",
    "                                   foreign key (nif) references jugadores(nif),\n",
    "                                  foreign key (id_partido) references partido(id_partido),\n",
    "                                    unique(nif,id_partido)\n",
    "                             )"
   ]
  },
  {
   "cell_type": "code",
   "execution_count": 145,
   "metadata": {
    "collapsed": false
   },
   "outputs": [
    {
     "name": "stdout",
     "output_type": "stream",
     "text": [
      "1 rows affected.\n"
     ]
    },
    {
     "data": {
      "text/plain": [
       "[]"
      ]
     },
     "execution_count": 145,
     "metadata": {},
     "output_type": "execute_result"
    }
   ],
   "source": [
    "%sql insert into caracteristicas (nif,estatura,id_partido,peso) values (\"50C\",1.90,1,85)"
   ]
  },
  {
   "cell_type": "code",
   "execution_count": 147,
   "metadata": {
    "collapsed": false
   },
   "outputs": [
    {
     "name": "stdout",
     "output_type": "stream",
     "text": [
      "Done.\n"
     ]
    },
    {
     "data": {
      "text/html": [
       "<table>\n",
       "    <tr>\n",
       "        <th>nif</th>\n",
       "        <th>estatura</th>\n",
       "        <th>id_partido</th>\n",
       "        <th>peso</th>\n",
       "    </tr>\n",
       "    <tr>\n",
       "        <td>502323J</td>\n",
       "        <td>2.05</td>\n",
       "        <td>1</td>\n",
       "        <td>95.0</td>\n",
       "    </tr>\n",
       "    <tr>\n",
       "        <td>50C</td>\n",
       "        <td>1.9</td>\n",
       "        <td>1</td>\n",
       "        <td>85.0</td>\n",
       "    </tr>\n",
       "</table>"
      ],
      "text/plain": [
       "[('502323J', 2.05, 1, 95.0), ('50C', 1.9, 1, 85.0)]"
      ]
     },
     "execution_count": 147,
     "metadata": {},
     "output_type": "execute_result"
    }
   ],
   "source": [
    "%sql select * from caracteristicas"
   ]
  },
  {
   "cell_type": "code",
   "execution_count": 150,
   "metadata": {
    "collapsed": false,
    "scrolled": true
   },
   "outputs": [
    {
     "name": "stdout",
     "output_type": "stream",
     "text": [
      "Done.\n"
     ]
    },
    {
     "data": {
      "text/plain": [
       "[]"
      ]
     },
     "execution_count": 150,
     "metadata": {},
     "output_type": "execute_result"
    }
   ],
   "source": [
    "%%sql create table cuartos (id_partido int not null, n_cuarto int not null,\n",
    "                           hora_inicio datetime not null, hora_fin datetime not null,\n",
    "                           puntos_local int not null,puntos_visitante int not null,\n",
    "                           foreign key (id_partido) references partido(id_partido),\n",
    "                            unique(id_partido,n_cuarto)\n",
    "                           )"
   ]
  },
  {
   "cell_type": "code",
   "execution_count": 156,
   "metadata": {
    "collapsed": false
   },
   "outputs": [
    {
     "name": "stdout",
     "output_type": "stream",
     "text": [
      "1 rows affected.\n"
     ]
    },
    {
     "data": {
      "text/plain": [
       "[]"
      ]
     },
     "execution_count": 156,
     "metadata": {},
     "output_type": "execute_result"
    }
   ],
   "source": [
    "%%sql insert into cuartos (id_partido,n_cuarto,hora_inicio,hora_fin,puntos_local,puntos_visitante) values\n",
    "                    (1,4,\"2009-09-10 12:10:00\",\"2009-09-10 13:00:00\",30,33)"
   ]
  },
  {
   "cell_type": "code",
   "execution_count": 157,
   "metadata": {
    "collapsed": false
   },
   "outputs": [
    {
     "name": "stdout",
     "output_type": "stream",
     "text": [
      "Done.\n"
     ]
    },
    {
     "data": {
      "text/html": [
       "<table>\n",
       "    <tr>\n",
       "        <th>id_partido</th>\n",
       "        <th>n_cuarto</th>\n",
       "        <th>hora_inicio</th>\n",
       "        <th>hora_fin</th>\n",
       "        <th>puntos_local</th>\n",
       "        <th>puntos_visitante</th>\n",
       "    </tr>\n",
       "    <tr>\n",
       "        <td>1</td>\n",
       "        <td>1</td>\n",
       "        <td>2009-09-10 10:00:00</td>\n",
       "        <td>2009-09-10 10:20:00</td>\n",
       "        <td>10</td>\n",
       "        <td>9</td>\n",
       "    </tr>\n",
       "    <tr>\n",
       "        <td>1</td>\n",
       "        <td>2</td>\n",
       "        <td>2009-09-10 10:25:00</td>\n",
       "        <td>2009-09-10 10:45:00</td>\n",
       "        <td>20</td>\n",
       "        <td>18</td>\n",
       "    </tr>\n",
       "    <tr>\n",
       "        <td>1</td>\n",
       "        <td>3</td>\n",
       "        <td>2009-09-10 11:10:00</td>\n",
       "        <td>2009-09-10 11:45:00</td>\n",
       "        <td>30</td>\n",
       "        <td>33</td>\n",
       "    </tr>\n",
       "    <tr>\n",
       "        <td>1</td>\n",
       "        <td>4</td>\n",
       "        <td>2009-09-10 12:10:00</td>\n",
       "        <td>2009-09-10 13:00:00</td>\n",
       "        <td>30</td>\n",
       "        <td>33</td>\n",
       "    </tr>\n",
       "</table>"
      ],
      "text/plain": [
       "[(1, 1, '2009-09-10 10:00:00', '2009-09-10 10:20:00', 10, 9),\n",
       " (1, 2, '2009-09-10 10:25:00', '2009-09-10 10:45:00', 20, 18),\n",
       " (1, 3, '2009-09-10 11:10:00', '2009-09-10 11:45:00', 30, 33),\n",
       " (1, 4, '2009-09-10 12:10:00', '2009-09-10 13:00:00', 30, 33)]"
      ]
     },
     "execution_count": 157,
     "metadata": {},
     "output_type": "execute_result"
    }
   ],
   "source": [
    "%sql select * from cuartos"
   ]
  },
  {
   "cell_type": "code",
   "execution_count": 5,
   "metadata": {
    "collapsed": false
   },
   "outputs": [
    {
     "name": "stdout",
     "output_type": "stream",
     "text": [
      "Done.\n"
     ]
    },
    {
     "data": {
      "text/plain": [
       "[]"
      ]
     },
     "execution_count": 5,
     "metadata": {},
     "output_type": "execute_result"
    }
   ],
   "source": [
    "%%sql create table jugadas (id_jugada int not null, \n",
    "                            i_inicio datetime not null,\n",
    "                            i_fin datetime not null, \n",
    "                            jugador varchar(20) not null,\n",
    "                            coordenada_x float not null, \n",
    "                            coordenada_y float not null,\n",
    "                            id_partido int not null,\n",
    "                            primary key (id_jugada), \n",
    "                            foreign key (jugador) references jugadores (nif),\n",
    "                            foreign key (id_partido) references partido (id_partido)\n",
    "                           )"
   ]
  },
  {
   "cell_type": "code",
   "execution_count": 93,
   "metadata": {
    "collapsed": false
   },
   "outputs": [
    {
     "name": "stdout",
     "output_type": "stream",
     "text": [
      "1 rows affected.\n"
     ]
    },
    {
     "data": {
      "text/plain": [
       "[]"
      ]
     },
     "execution_count": 93,
     "metadata": {},
     "output_type": "execute_result"
    }
   ],
   "source": [
    "%%sql insert into jugadas (id_jugada,i_inicio,i_fin,jugador,coordenada_x,coordenada_y,id_partido)\n",
    "            values (3,\"2009-09-10 10:21:01\",\"2009-09-10 10:32:20\",\"50M\",0,5,1)"
   ]
  },
  {
   "cell_type": "code",
   "execution_count": 78,
   "metadata": {
    "collapsed": false
   },
   "outputs": [
    {
     "name": "stdout",
     "output_type": "stream",
     "text": [
      "Done.\n"
     ]
    },
    {
     "data": {
      "text/html": [
       "<table>\n",
       "    <tr>\n",
       "        <th>id_jugada</th>\n",
       "        <th>i_inicio</th>\n",
       "        <th>i_fin</th>\n",
       "        <th>jugador</th>\n",
       "        <th>coordenada_x</th>\n",
       "        <th>coordenada_y</th>\n",
       "        <th>id_partido</th>\n",
       "    </tr>\n",
       "    <tr>\n",
       "        <td>1</td>\n",
       "        <td>2009-09-10 10:00:01</td>\n",
       "        <td>2009-09-10 10:00:20</td>\n",
       "        <td>50P</td>\n",
       "        <td>0.0</td>\n",
       "        <td>5.0</td>\n",
       "        <td>1</td>\n",
       "    </tr>\n",
       "    <tr>\n",
       "        <td>2</td>\n",
       "        <td>2009-09-10 10:01:01</td>\n",
       "        <td>2009-09-10 10:02:20</td>\n",
       "        <td>50L</td>\n",
       "        <td>0.0</td>\n",
       "        <td>5.0</td>\n",
       "        <td>1</td>\n",
       "    </tr>\n",
       "</table>"
      ],
      "text/plain": [
       "[(1, '2009-09-10 10:00:01', '2009-09-10 10:00:20', '50P', 0.0, 5.0, 1),\n",
       " (2, '2009-09-10 10:01:01', '2009-09-10 10:02:20', '50L', 0.0, 5.0, 1)]"
      ]
     },
     "execution_count": 78,
     "metadata": {},
     "output_type": "execute_result"
    }
   ],
   "source": [
    "%sql select * from jugadas"
   ]
  },
  {
   "cell_type": "code",
   "execution_count": 16,
   "metadata": {
    "collapsed": false
   },
   "outputs": [
    {
     "name": "stdout",
     "output_type": "stream",
     "text": [
      "Done.\n"
     ]
    },
    {
     "data": {
      "text/plain": [
       "[]"
      ]
     },
     "execution_count": 16,
     "metadata": {},
     "output_type": "execute_result"
    }
   ],
   "source": [
    "%%sql create table canasta (id_canasta int not null, \n",
    "                            puntuación int not null, \n",
    "                            fuera varchar(2) not null,\n",
    "                            otro varchar(2) not null,\n",
    "                            id_jugada int not null, \n",
    "                            primary key (id_canasta), \n",
    "                            foreign key (id_jugada) references jugadas (id_jugada))"
   ]
  },
  {
   "cell_type": "code",
   "execution_count": 80,
   "metadata": {
    "collapsed": false
   },
   "outputs": [
    {
     "name": "stdout",
     "output_type": "stream",
     "text": [
      "1 rows affected.\n"
     ]
    },
    {
     "data": {
      "text/plain": [
       "[]"
      ]
     },
     "execution_count": 80,
     "metadata": {},
     "output_type": "execute_result"
    }
   ],
   "source": [
    "%%sql insert into canasta (id_canasta,puntuación,fuera,otro,id_jugada)\n",
    "        values (2,2,\"NO\",\"NO\",2)"
   ]
  },
  {
   "cell_type": "code",
   "execution_count": 81,
   "metadata": {
    "collapsed": false
   },
   "outputs": [
    {
     "name": "stdout",
     "output_type": "stream",
     "text": [
      "Done.\n"
     ]
    },
    {
     "data": {
      "text/html": [
       "<table>\n",
       "    <tr>\n",
       "        <th>id_canasta</th>\n",
       "        <th>puntuación</th>\n",
       "        <th>fuera</th>\n",
       "        <th>otro</th>\n",
       "        <th>id_jugada</th>\n",
       "    </tr>\n",
       "    <tr>\n",
       "        <td>1</td>\n",
       "        <td>2</td>\n",
       "        <td>NO</td>\n",
       "        <td>NO</td>\n",
       "        <td>1</td>\n",
       "    </tr>\n",
       "    <tr>\n",
       "        <td>2</td>\n",
       "        <td>2</td>\n",
       "        <td>NO</td>\n",
       "        <td>NO</td>\n",
       "        <td>2</td>\n",
       "    </tr>\n",
       "</table>"
      ],
      "text/plain": [
       "[(1, 2, 'NO', 'NO', 1), (2, 2, 'NO', 'NO', 2)]"
      ]
     },
     "execution_count": 81,
     "metadata": {},
     "output_type": "execute_result"
    }
   ],
   "source": [
    "%sql select * from canasta"
   ]
  },
  {
   "cell_type": "code",
   "execution_count": 21,
   "metadata": {
    "collapsed": false
   },
   "outputs": [
    {
     "name": "stdout",
     "output_type": "stream",
     "text": [
      "Done.\n"
     ]
    },
    {
     "data": {
      "text/plain": [
       "[]"
      ]
     },
     "execution_count": 21,
     "metadata": {},
     "output_type": "execute_result"
    }
   ],
   "source": [
    "%%sql create table rebote (id_rebote int not null, \n",
    "                           id_jugada int not null, \n",
    "                           primary key(id_rebote),\n",
    "                           foreign key (id_jugada) references jugadas (id_jugada))"
   ]
  },
  {
   "cell_type": "code",
   "execution_count": 11,
   "metadata": {
    "collapsed": false
   },
   "outputs": [
    {
     "name": "stdout",
     "output_type": "stream",
     "text": [
      "Done.\n"
     ]
    },
    {
     "data": {
      "text/plain": [
       "[]"
      ]
     },
     "execution_count": 11,
     "metadata": {},
     "output_type": "execute_result"
    }
   ],
   "source": [
    "%%sql create table pase (id_pase int not null, \n",
    "                         fuera varchar(2) not null,\n",
    "                         compañero varchar(2) not null,\n",
    "                         contrario varchar(2) not null,\n",
    "                         id_jugada int not null, \n",
    "                         primary key (id_pase),\n",
    "                         foreign key (id_jugada) references jugadas (id_jugada))"
   ]
  },
  {
   "cell_type": "code",
   "execution_count": 12,
   "metadata": {
    "collapsed": false
   },
   "outputs": [
    {
     "name": "stdout",
     "output_type": "stream",
     "text": [
      "Done.\n"
     ]
    },
    {
     "data": {
      "text/plain": [
       "[]"
      ]
     },
     "execution_count": 12,
     "metadata": {},
     "output_type": "execute_result"
    }
   ],
   "source": [
    "%%sql create table robo(id_robo int not null, \n",
    "                        quien varchar(20) not null, \n",
    "                        a_quien varchar(20) not null,\n",
    "                        id_jugada int not null, \n",
    "                        primary key (id_robo),\n",
    "                        foreign key (id_jugada) references jugadas (id_jugada)\n",
    "                        foreign key (quien) references jugadores (nif),\n",
    "                        foreign key (a_quien) references jugadores (nif))"
   ]
  },
  {
   "cell_type": "code",
   "execution_count": 14,
   "metadata": {
    "collapsed": false
   },
   "outputs": [
    {
     "name": "stdout",
     "output_type": "stream",
     "text": [
      "Done.\n"
     ]
    },
    {
     "data": {
      "text/plain": [
       "[]"
      ]
     },
     "execution_count": 14,
     "metadata": {},
     "output_type": "execute_result"
    }
   ],
   "source": [
    "%%sql create table interceptación (id_inter int not null, \n",
    "                                   pase varchar(2) not null, \n",
    "                                   tiro varchar(2) not null,\n",
    "                                   id_jugada int not null,\n",
    "                                   primary key (id_inter),\n",
    "                                   foreign key (id_jugada) references jugadas (id_jugada))"
   ]
  },
  {
   "cell_type": "code",
   "execution_count": 5,
   "metadata": {
    "collapsed": false
   },
   "outputs": [
    {
     "name": "stdout",
     "output_type": "stream",
     "text": [
      "Done.\n"
     ]
    },
    {
     "data": {
      "text/plain": [
       "[]"
      ]
     },
     "execution_count": 5,
     "metadata": {},
     "output_type": "execute_result"
    }
   ],
   "source": [
    "%%sql create table defensas (id_defensa int not null,\n",
    "                            i_inicio datetime not null,\n",
    "                            i_fin datetime not null, \n",
    "                            jugador_defendido varchar(20) not null,\n",
    "                            jugador_defendiendole varchar(20) not null,\n",
    "                            otro_defendiendole varchar(20),\n",
    "                            primary key(id_defensa),\n",
    "                            foreign key (jugador_defendido) references jugadores(nif),\n",
    "                            foreign key (jugador_defendiendole) references jugadores(nif),\n",
    "                            foreign key (otro_defendiendole) references jugadores(nif))"
   ]
  },
  {
   "cell_type": "code",
   "execution_count": 4,
   "metadata": {
    "collapsed": false
   },
   "outputs": [
    {
     "name": "stdout",
     "output_type": "stream",
     "text": [
      "Done.\n"
     ]
    },
    {
     "data": {
      "text/plain": [
       "[]"
      ]
     },
     "execution_count": 4,
     "metadata": {},
     "output_type": "execute_result"
    }
   ],
   "source": [
    "%%sql create table records (jugador varchar(20) not null,\n",
    "                            id_partido int not null,\n",
    "                            id_jugada int not null, \n",
    "                            foreign key (jugador) references jugadores (nif),\n",
    "                            foreign key (id_partido) references partido (id_partido),\n",
    "                            foreign key (id_jugada) references jugadas (id_jugada))"
   ]
  },
  {
   "cell_type": "code",
   "execution_count": 27,
   "metadata": {
    "collapsed": false
   },
   "outputs": [
    {
     "name": "stdout",
     "output_type": "stream",
     "text": [
      "1 rows affected.\n"
     ]
    },
    {
     "data": {
      "text/plain": [
       "[]"
      ]
     },
     "execution_count": 27,
     "metadata": {},
     "output_type": "execute_result"
    }
   ],
   "source": [
    "%sql insert into records(jugador,id_partido,id_jugada) values ('50J',1,1)"
   ]
  },
  {
   "cell_type": "code",
   "execution_count": 28,
   "metadata": {
    "collapsed": false
   },
   "outputs": [
    {
     "name": "stdout",
     "output_type": "stream",
     "text": [
      "Done.\n"
     ]
    },
    {
     "data": {
      "text/html": [
       "<table>\n",
       "    <tr>\n",
       "        <th>jugador</th>\n",
       "        <th>id_partido</th>\n",
       "        <th>id_jugada</th>\n",
       "    </tr>\n",
       "    <tr>\n",
       "        <td>50J</td>\n",
       "        <td>1</td>\n",
       "        <td>1</td>\n",
       "    </tr>\n",
       "</table>"
      ],
      "text/plain": [
       "[('50J', 1, 1)]"
      ]
     },
     "execution_count": 28,
     "metadata": {},
     "output_type": "execute_result"
    }
   ],
   "source": [
    "%sql select * from records"
   ]
  },
  {
   "cell_type": "markdown",
   "metadata": {},
   "source": [
    "1.-"
   ]
  },
  {
   "cell_type": "code",
   "execution_count": 9,
   "metadata": {
    "collapsed": false
   },
   "outputs": [
    {
     "name": "stdout",
     "output_type": "stream",
     "text": [
      "Done.\n"
     ]
    },
    {
     "data": {
      "text/html": [
       "<table>\n",
       "    <tr>\n",
       "        <th>nombre</th>\n",
       "        <th>apellidos</th>\n",
       "    </tr>\n",
       "    <tr>\n",
       "        <td>LEBRON</td>\n",
       "        <td>JAMES</td>\n",
       "    </tr>\n",
       "</table>"
      ],
      "text/plain": [
       "[('LEBRON', 'JAMES')]"
      ]
     },
     "execution_count": 9,
     "metadata": {},
     "output_type": "execute_result"
    }
   ],
   "source": [
    "%%sql select j.nombre, j.apellidos from jugadores j, partido p, caracteristicas c\n",
    "    where c.id_partido=p.id_partido and p.id_partido=1 and c.peso>90 and c.nif=j.nif"
   ]
  },
  {
   "cell_type": "markdown",
   "metadata": {},
   "source": [
    "2.-"
   ]
  },
  {
   "cell_type": "code",
   "execution_count": 25,
   "metadata": {
    "collapsed": false
   },
   "outputs": [
    {
     "name": "stdout",
     "output_type": "stream",
     "text": [
      "Done.\n"
     ]
    },
    {
     "data": {
      "text/html": [
       "<table>\n",
       "    <tr>\n",
       "        <th>nombre</th>\n",
       "        <th>apellidos</th>\n",
       "    </tr>\n",
       "    <tr>\n",
       "        <td>LEBRON</td>\n",
       "        <td>JAMES</td>\n",
       "    </tr>\n",
       "</table>"
      ],
      "text/plain": [
       "[('LEBRON', 'JAMES')]"
      ]
     },
     "execution_count": 25,
     "metadata": {},
     "output_type": "execute_result"
    }
   ],
   "source": [
    "%%sql select j.nombre,j.apellidos from jugadores j, partido p, posiciones po \n",
    "where po.id_partido=p.id_partido and po.posicion =\"PIVOT\" and p.id_partido=1 and po.nif=j.nif"
   ]
  },
  {
   "cell_type": "markdown",
   "metadata": {},
   "source": [
    "3.-"
   ]
  },
  {
   "cell_type": "code",
   "execution_count": 31,
   "metadata": {
    "collapsed": false
   },
   "outputs": [
    {
     "name": "stdout",
     "output_type": "stream",
     "text": [
      "Done.\n"
     ]
    },
    {
     "data": {
      "text/html": [
       "<table>\n",
       "    <tr>\n",
       "        <th>nombre</th>\n",
       "        <th>apellidos</th>\n",
       "    </tr>\n",
       "    <tr>\n",
       "        <td>JUAN</td>\n",
       "        <td>DOMINGO</td>\n",
       "    </tr>\n",
       "</table>"
      ],
      "text/plain": [
       "[('JUAN', 'DOMINGO')]"
      ]
     },
     "execution_count": 31,
     "metadata": {},
     "output_type": "execute_result"
    }
   ],
   "source": [
    "%sql select j.nombre, j.apellidos from jugadores j, partido p,records r where r.jugador = j.nif and r.id_partido=p.id_partido"
   ]
  },
  {
   "cell_type": "markdown",
   "metadata": {},
   "source": [
    "4.-"
   ]
  },
  {
   "cell_type": "code",
   "execution_count": 40,
   "metadata": {
    "collapsed": false
   },
   "outputs": [
    {
     "name": "stdout",
     "output_type": "stream",
     "text": [
      "Done.\n"
     ]
    },
    {
     "data": {
      "text/html": [
       "<table>\n",
       "    <tr>\n",
       "        <th>cancha</th>\n",
       "        <th>nombre</th>\n",
       "        <th>apellidos</th>\n",
       "    </tr>\n",
       "    <tr>\n",
       "        <td>POLIDEPORTIVO OCA</td>\n",
       "        <td>PEPE</td>\n",
       "        <td>SANTOS</td>\n",
       "    </tr>\n",
       "</table>"
      ],
      "text/plain": [
       "[('POLIDEPORTIVO OCA', 'PEPE', 'SANTOS')]"
      ]
     },
     "execution_count": 40,
     "metadata": {},
     "output_type": "execute_result"
    }
   ],
   "source": [
    "%%sql select can.nombre as cancha,j.nombre as nombre,j.apellidos from jugadores j,partido p, titulares t, campeonatos c,canchas can\n",
    "where t.id_partido = p.id_partido and (t.jugador1='50P' or t.jugador2='50P' or t.jugador3='50P' or t.jugador4='50P'\n",
    "                                       or t.jugador2='50P') and p.hora_inicio<c.fecha_fin and c.id_campeonato=1\n",
    "and p.cancha = can.id_cancha and j.nif='50P'"
   ]
  },
  {
   "cell_type": "markdown",
   "metadata": {},
   "source": [
    "5.-"
   ]
  },
  {
   "cell_type": "code",
   "execution_count": 99,
   "metadata": {
    "collapsed": false
   },
   "outputs": [
    {
     "name": "stdout",
     "output_type": "stream",
     "text": [
      "Done.\n"
     ]
    },
    {
     "data": {
      "text/html": [
       "<table>\n",
       "    <tr>\n",
       "        <th>id_partido</th>\n",
       "        <th>totales</th>\n",
       "    </tr>\n",
       "    <tr>\n",
       "        <td>1</td>\n",
       "        <td>63</td>\n",
       "    </tr>\n",
       "</table>"
      ],
      "text/plain": [
       "[(1, 63)]"
      ]
     },
     "execution_count": 99,
     "metadata": {},
     "output_type": "execute_result"
    }
   ],
   "source": [
    "%%sql select p.id_partido, c.puntos_local + c.puntos_visitante as totales from partido p, cuartos c \n",
    "where p.id_partido = c.id_partido\n",
    "group by p.id_partido\n",
    "order by totales desc limit (3)"
   ]
  },
  {
   "cell_type": "markdown",
   "metadata": {},
   "source": [
    "6.-"
   ]
  },
  {
   "cell_type": "code",
   "execution_count": 45,
   "metadata": {
    "collapsed": false
   },
   "outputs": [
    {
     "name": "stdout",
     "output_type": "stream",
     "text": [
      "Done.\n"
     ]
    },
    {
     "data": {
      "text/html": [
       "<table>\n",
       "    <tr>\n",
       "        <th>ciudad</th>\n",
       "        <th>nombre</th>\n",
       "        <th>apellidos</th>\n",
       "    </tr>\n",
       "    <tr>\n",
       "        <td>MADRID</td>\n",
       "        <td>PEPE</td>\n",
       "        <td>SANTOS</td>\n",
       "    </tr>\n",
       "</table>"
      ],
      "text/plain": [
       "[('MADRID', 'PEPE', 'SANTOS')]"
      ]
     },
     "execution_count": 45,
     "metadata": {},
     "output_type": "execute_result"
    }
   ],
   "source": [
    "%%sql select ciu.ciudad,j.nombre as nombre,j.apellidos from jugadores j,partido p, titulares t,\n",
    "canchas can,ciudades ciu,direcciones_canchas dire\n",
    "where t.id_partido = p.id_partido and (t.jugador1='50P' or t.jugador2='50P' or t.jugador3='50P' or t.jugador4='50P'\n",
    "or t.jugador2='50P') and j.nif='50P' and p.cancha = can.id_cancha and can.direccion = dire.id_direccion and \n",
    "dire.id_ciudad = ciu.id_ciudad"
   ]
  },
  {
   "cell_type": "markdown",
   "metadata": {},
   "source": [
    "7.-"
   ]
  },
  {
   "cell_type": "code",
   "execution_count": 67,
   "metadata": {
    "collapsed": false
   },
   "outputs": [
    {
     "name": "stdout",
     "output_type": "stream",
     "text": [
      "Done.\n"
     ]
    },
    {
     "data": {
      "text/html": [
       "<table>\n",
       "    <tr>\n",
       "        <th>nombre</th>\n",
       "        <th>n_cuarto</th>\n",
       "        <th>puntos</th>\n",
       "        <th>id_partido</th>\n",
       "    </tr>\n",
       "    <tr>\n",
       "        <td>DE Equipo visitante: ROMANOS</td>\n",
       "        <td>3</td>\n",
       "        <td>33</td>\n",
       "        <td>1</td>\n",
       "    </tr>\n",
       "</table>"
      ],
      "text/plain": [
       "[('DE Equipo visitante: ROMANOS', 3, 33, 1)]"
      ]
     },
     "execution_count": 67,
     "metadata": {},
     "output_type": "execute_result"
    }
   ],
   "source": [
    "%%sql select 'DE Equipo Local: '||e.nombre,c.n_cuarto,c.puntos_local as puntos,p.id_partido from equipos e,partido p,cuartos c \n",
    "where c.id_partido = p.id_partido and p.local=e.id_equipo\n",
    "union\n",
    "select 'DE Equipo visitante: '||e.nombre,c.n_cuarto,c.puntos_visitante as puntos,p.id_partido from equipos e,partido p,cuartos c \n",
    "where c.id_partido = p.id_partido and p.visitante=e.id_equipo\n",
    "order by puntos desc limit(1)"
   ]
  },
  {
   "cell_type": "markdown",
   "metadata": {},
   "source": [
    "8.-"
   ]
  },
  {
   "cell_type": "code",
   "execution_count": 86,
   "metadata": {
    "collapsed": false
   },
   "outputs": [
    {
     "name": "stdout",
     "output_type": "stream",
     "text": [
      "Done.\n"
     ]
    },
    {
     "data": {
      "text/html": [
       "<table>\n",
       "    <tr>\n",
       "        <th>nombre</th>\n",
       "        <th>puntuación)</th>\n",
       "    </tr>\n",
       "    <tr>\n",
       "        <td>OCAREROS</td>\n",
       "        <td>2</td>\n",
       "    </tr>\n",
       "    <tr>\n",
       "        <td>ROMANOS</td>\n",
       "        <td>2</td>\n",
       "    </tr>\n",
       "</table>"
      ],
      "text/plain": [
       "[('OCAREROS', 2), ('ROMANOS', 2)]"
      ]
     },
     "execution_count": 86,
     "metadata": {},
     "output_type": "execute_result"
    }
   ],
   "source": [
    "%%sql select e.nombre,sum(c.puntuación) from canasta c, equipos e, partido p,jugadas j, jugadores_equipos ju\n",
    "where c.id_jugada=j.id_jugada and j.id_partido=p.id_partido and p.id_partido = 1 and j.i_fin <= \"2009-09-10 10:10:30\"\n",
    "and j.jugador=ju.nif and ju.id_equipo=e.id_equipo\n",
    "group by e.nombre"
   ]
  },
  {
   "cell_type": "markdown",
   "metadata": {},
   "source": [
    "9.-"
   ]
  },
  {
   "cell_type": "code",
   "execution_count": 94,
   "metadata": {
    "collapsed": false
   },
   "outputs": [
    {
     "name": "stdout",
     "output_type": "stream",
     "text": [
      "Done.\n"
     ]
    },
    {
     "data": {
      "text/html": [
       "<table>\n",
       "    <tr>\n",
       "        <th>nombre</th>\n",
       "        <th>tiempo</th>\n",
       "    </tr>\n",
       "    <tr>\n",
       "        <td>MIGUEL</td>\n",
       "        <td>0</td>\n",
       "    </tr>\n",
       "</table>"
      ],
      "text/plain": [
       "[('MIGUEL', 0)]"
      ]
     },
     "execution_count": 94,
     "metadata": {},
     "output_type": "execute_result"
    }
   ],
   "source": [
    "%%sql select ju.nombre as nombre, sum(j.i_fin-j.i_inicio) as tiempo from jugadores ju, jugadas j\n",
    "where j.jugador =\"50M\" and j.jugador = ju.nif\n",
    "group by nombre"
   ]
  },
  {
   "cell_type": "markdown",
   "metadata": {},
   "source": [
    "11.-"
   ]
  },
  {
   "cell_type": "code",
   "execution_count": 102,
   "metadata": {
    "collapsed": false
   },
   "outputs": [
    {
     "name": "stdout",
     "output_type": "stream",
     "text": [
      "Done.\n"
     ]
    },
    {
     "data": {
      "text/html": [
       "<table>\n",
       "    <tr>\n",
       "        <th>nombre</th>\n",
       "        <th>puntuación)</th>\n",
       "    </tr>\n",
       "    <tr>\n",
       "        <td>OCAREROS</td>\n",
       "        <td>2</td>\n",
       "    </tr>\n",
       "</table>"
      ],
      "text/plain": [
       "[('OCAREROS', 2)]"
      ]
     },
     "execution_count": 102,
     "metadata": {},
     "output_type": "execute_result"
    }
   ],
   "source": [
    "%%sql select e.nombre,sum(c.puntuación) from canasta c, equipos e, partido p,jugadas j, jugadores_equipos ju\n",
    "where c.id_jugada=j.id_jugada and j.id_partido=p.id_partido and p.id_partido = 1 and j.jugador=ju.nif and ju.id_equipo=e.id_equipo\n",
    "and e.nombre='OCAREROS'\n",
    "group by e.nombre"
   ]
  },
  {
   "cell_type": "markdown",
   "metadata": {},
   "source": [
    "12.-"
   ]
  },
  {
   "cell_type": "code",
   "execution_count": 109,
   "metadata": {
    "collapsed": false
   },
   "outputs": [
    {
     "name": "stdout",
     "output_type": "stream",
     "text": [
      "Done.\n"
     ]
    },
    {
     "data": {
      "text/html": [
       "<table>\n",
       "    <tr>\n",
       "        <th>nombre</th>\n",
       "        <th>n_cuarto</th>\n",
       "        <th>puntos</th>\n",
       "        <th>partido</th>\n",
       "    </tr>\n",
       "    <tr>\n",
       "        <td>OCAREROS</td>\n",
       "        <td>3</td>\n",
       "        <td>30</td>\n",
       "        <td>1</td>\n",
       "    </tr>\n",
       "</table>"
      ],
      "text/plain": [
       "[('OCAREROS', 3, 30, 1)]"
      ]
     },
     "execution_count": 109,
     "metadata": {},
     "output_type": "execute_result"
    }
   ],
   "source": [
    "%%sql select e.nombre, c.n_cuarto,c.puntos_local puntos, p.id_partido partido from equipos e, cuartos c, partido p\n",
    "where c.id_partido=p.id_partido and p.id_partido=1 and p.local = e.id_equipo and c.n_cuarto=3"
   ]
  },
  {
   "cell_type": "markdown",
   "metadata": {},
   "source": [
    "13.-"
   ]
  },
  {
   "cell_type": "code",
   "execution_count": 114,
   "metadata": {
    "collapsed": false
   },
   "outputs": [
    {
     "name": "stdout",
     "output_type": "stream",
     "text": [
      "Done.\n"
     ]
    },
    {
     "data": {
      "text/html": [
       "<table>\n",
       "    <tr>\n",
       "        <th>numero</th>\n",
       "    </tr>\n",
       "    <tr>\n",
       "        <td>1</td>\n",
       "    </tr>\n",
       "</table>"
      ],
      "text/plain": [
       "[(1,)]"
      ]
     },
     "execution_count": 114,
     "metadata": {},
     "output_type": "execute_result"
    }
   ],
   "source": [
    "%%sql select count(p.id_partido) numero from partido p,canchas can \n",
    "where p.cancha=can.id_cancha and can.nombre= 'POLIDEPORTIVO OCA'"
   ]
  },
  {
   "cell_type": "markdown",
   "metadata": {},
   "source": [
    "15.-"
   ]
  },
  {
   "cell_type": "code",
   "execution_count": 128,
   "metadata": {
    "collapsed": false
   },
   "outputs": [
    {
     "name": "stdout",
     "output_type": "stream",
     "text": [
      "Done.\n"
     ]
    },
    {
     "data": {
      "text/html": [
       "<table>\n",
       "    <tr>\n",
       "        <th>nombre</th>\n",
       "        <th>equipos</th>\n",
       "    </tr>\n",
       "    <tr>\n",
       "        <td>PABLO</td>\n",
       "        <td>OCAREROS</td>\n",
       "    </tr>\n",
       "</table>"
      ],
      "text/plain": [
       "[('PABLO', 'OCAREROS')]"
      ]
     },
     "execution_count": 128,
     "metadata": {},
     "output_type": "execute_result"
    }
   ],
   "source": [
    "%%sql select e.nombre, eq.nombre equipos from entrenadores e, entrenadores_equipo ee, equipos eq, relacion r\n",
    "where ee.nif='505656A' and ee.id_relacion=r.id_relacion and r.id_equipo = eq.id_equipo and ee.nif=e.nif"
   ]
  },
  {
   "cell_type": "code",
   "execution_count": null,
   "metadata": {
    "collapsed": true
   },
   "outputs": [],
   "source": []
  }
 ],
 "metadata": {
  "kernelspec": {
   "display_name": "Python 3",
   "language": "python",
   "name": "python3"
  },
  "language_info": {
   "codemirror_mode": {
    "name": "ipython",
    "version": 3
   },
   "file_extension": ".py",
   "mimetype": "text/x-python",
   "name": "python",
   "nbconvert_exporter": "python",
   "pygments_lexer": "ipython3",
   "version": "3.5.2"
  }
 },
 "nbformat": 4,
 "nbformat_minor": 1
}
