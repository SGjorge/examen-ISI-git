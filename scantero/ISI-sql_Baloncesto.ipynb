{
 "cells": [
  {
   "cell_type": "code",
   "execution_count": 1,
   "metadata": {
    "collapsed": false
   },
   "outputs": [
    {
     "name": "stderr",
     "output_type": "stream",
     "text": [
      "C:\\Users\\Sandra\\Anaconda2\\lib\\site-packages\\IPython\\config.py:13: ShimWarning: The `IPython.config` package has been deprecated. You should import from traitlets.config instead.\n",
      "  \"You should import from traitlets.config instead.\", ShimWarning)\n",
      "C:\\Users\\Sandra\\Anaconda2\\lib\\site-packages\\IPython\\utils\\traitlets.py:5: UserWarning: IPython.utils.traitlets has moved to a top-level traitlets package.\n",
      "  warn(\"IPython.utils.traitlets has moved to a top-level traitlets package.\")\n"
     ]
    },
    {
     "data": {
      "text/plain": [
       "u'Connected: None@ISI-sql_Baloncesto.db'"
      ]
     },
     "execution_count": 1,
     "metadata": {},
     "output_type": "execute_result"
    }
   ],
   "source": [
    "%load_ext sql\n",
    "%sql sqlite:///ISI-sql_Baloncesto.db"
   ]
  },
  {
   "cell_type": "markdown",
   "metadata": {},
   "source": [
    "# COMUNIDADES_AUTONOMAS"
   ]
  },
  {
   "cell_type": "markdown",
   "metadata": {},
   "source": [
    "!!! Incluyo IF NOT EXISTS para poder volver a pasar por esta celda y que no me salte error al pulsar Shift+Intro seguidas veces."
   ]
  },
  {
   "cell_type": "code",
   "execution_count": 2,
   "metadata": {
    "collapsed": false
   },
   "outputs": [
    {
     "name": "stdout",
     "output_type": "stream",
     "text": [
      "Done.\n"
     ]
    },
    {
     "data": {
      "text/plain": [
       "[]"
      ]
     },
     "execution_count": 2,
     "metadata": {},
     "output_type": "execute_result"
    }
   ],
   "source": [
    "%%sql\n",
    "CREATE TABLE IF NOT EXISTS Comunidades_Autonomas\n",
    "(nombre VARCHAR(30),\n",
    " PRIMARY KEY (nombre)\n",
    ");"
   ]
  },
  {
   "cell_type": "markdown",
   "metadata": {},
   "source": [
    "!!! La siguiente celda la ejecuto para poder volver a ejecutar la inserción de valores si necesito hacer cambios (ya que la restricción de Primary Key no me permite insertar el mismo valor dos veces) y de nuevo para que no me salte error al pulsar Shift+Intro seguidas veces."
   ]
  },
  {
   "cell_type": "code",
   "execution_count": 3,
   "metadata": {
    "collapsed": false
   },
   "outputs": [
    {
     "name": "stdout",
     "output_type": "stream",
     "text": [
      "4 rows affected.\n",
      "Done.\n"
     ]
    },
    {
     "data": {
      "text/html": [
       "<table>\n",
       "    <tr>\n",
       "        <th>nombre</th>\n",
       "    </tr>\n",
       "</table>"
      ],
      "text/plain": [
       "[]"
      ]
     },
     "execution_count": 3,
     "metadata": {},
     "output_type": "execute_result"
    }
   ],
   "source": [
    "%%sql\n",
    "DELETE FROM Comunidades_Autonomas;\n",
    "SELECT * FROM Comunidades_Autonomas"
   ]
  },
  {
   "cell_type": "code",
   "execution_count": 4,
   "metadata": {
    "collapsed": false
   },
   "outputs": [
    {
     "name": "stdout",
     "output_type": "stream",
     "text": [
      "1 rows affected.\n",
      "1 rows affected.\n",
      "1 rows affected.\n",
      "1 rows affected.\n"
     ]
    },
    {
     "data": {
      "text/plain": [
       "[]"
      ]
     },
     "execution_count": 4,
     "metadata": {},
     "output_type": "execute_result"
    }
   ],
   "source": [
    "%%sql\n",
    "INSERT INTO Comunidades_Autonomas(nombre)\n",
    "VALUES ('Madrid');\n",
    "INSERT INTO Comunidades_Autonomas(nombre)\n",
    "VALUES ('Andalucia');\n",
    "INSERT INTO Comunidades_Autonomas(nombre)\n",
    "VALUES ('Galicia');\n",
    "INSERT INTO Comunidades_Autonomas(nombre)\n",
    "VALUES ('Cataluña');"
   ]
  },
  {
   "cell_type": "code",
   "execution_count": 5,
   "metadata": {
    "collapsed": false
   },
   "outputs": [
    {
     "name": "stdout",
     "output_type": "stream",
     "text": [
      "Done.\n"
     ]
    },
    {
     "data": {
      "text/html": [
       "<table>\n",
       "    <tr>\n",
       "        <th>nombre</th>\n",
       "    </tr>\n",
       "    <tr>\n",
       "        <td>Madrid</td>\n",
       "    </tr>\n",
       "    <tr>\n",
       "        <td>Andalucia</td>\n",
       "    </tr>\n",
       "    <tr>\n",
       "        <td>Galicia</td>\n",
       "    </tr>\n",
       "    <tr>\n",
       "        <td>Cataluña</td>\n",
       "    </tr>\n",
       "</table>"
      ],
      "text/plain": [
       "[(u'Madrid',), (u'Andalucia',), (u'Galicia',), (u'Catalu\\xf1a',)]"
      ]
     },
     "execution_count": 5,
     "metadata": {},
     "output_type": "execute_result"
    }
   ],
   "source": [
    "%sql SELECT * FROM Comunidades_Autonomas"
   ]
  },
  {
   "cell_type": "markdown",
   "metadata": {},
   "source": [
    "# CIUDADES\n",
    "\n",
    "* Entidad débil con respecto a Comunidades_Autonomas"
   ]
  },
  {
   "cell_type": "code",
   "execution_count": 30,
   "metadata": {
    "collapsed": false
   },
   "outputs": [
    {
     "name": "stdout",
     "output_type": "stream",
     "text": [
      "Done.\n",
      "Done.\n"
     ]
    },
    {
     "data": {
      "text/plain": [
       "[]"
      ]
     },
     "execution_count": 30,
     "metadata": {},
     "output_type": "execute_result"
    }
   ],
   "source": [
    "%%sql\n",
    "CREATE TABLE IF NOT EXISTS Ciudades\n",
    "(nombre VARCHAR(30),\n",
    " com_autonoma VARCHAR(30) NOT NULL,\n",
    " PRIMARY KEY (nombre, com_autonoma),\n",
    " FOREIGN KEY (com_autonoma) REFERENCES Comunidades_Autonomas(nombre)\n",
    " ON DELETE CASCADE\n",
    ");"
   ]
  },
  {
   "cell_type": "code",
   "execution_count": 31,
   "metadata": {
    "collapsed": false
   },
   "outputs": [
    {
     "name": "stdout",
     "output_type": "stream",
     "text": [
      "0 rows affected.\n",
      "Done.\n"
     ]
    },
    {
     "data": {
      "text/html": [
       "<table>\n",
       "    <tr>\n",
       "        <th>nombre</th>\n",
       "        <th>com_autonoma</th>\n",
       "    </tr>\n",
       "</table>"
      ],
      "text/plain": [
       "[]"
      ]
     },
     "execution_count": 31,
     "metadata": {},
     "output_type": "execute_result"
    }
   ],
   "source": [
    "%%sql\n",
    "DELETE FROM Ciudades;\n",
    "SELECT * FROM Ciudades"
   ]
  },
  {
   "cell_type": "code",
   "execution_count": 32,
   "metadata": {
    "collapsed": false
   },
   "outputs": [
    {
     "name": "stdout",
     "output_type": "stream",
     "text": [
      "1 rows affected.\n",
      "1 rows affected.\n",
      "1 rows affected.\n",
      "1 rows affected.\n",
      "1 rows affected.\n",
      "1 rows affected.\n",
      "1 rows affected.\n",
      "1 rows affected.\n",
      "1 rows affected.\n"
     ]
    },
    {
     "data": {
      "text/plain": [
       "[]"
      ]
     },
     "execution_count": 32,
     "metadata": {},
     "output_type": "execute_result"
    }
   ],
   "source": [
    "%%sql\n",
    "INSERT INTO Ciudades(nombre, com_autonoma)\n",
    "VALUES ('Fuenlabrada', 'Madrid');\n",
    "INSERT INTO Ciudades(nombre, com_autonoma)\n",
    "VALUES ('Mostoles', 'Madrid');\n",
    "INSERT INTO Ciudades(nombre, com_autonoma)\n",
    "VALUES ('Alcorcon', 'Madrid');\n",
    "INSERT INTO Ciudades(nombre, com_autonoma)\n",
    "VALUES ('Sevilla', 'Andalucia');\n",
    "INSERT INTO Ciudades(nombre, com_autonoma)\n",
    "VALUES ('Cordoba', 'Andalucia');\n",
    "INSERT INTO Ciudades(nombre, com_autonoma)\n",
    "VALUES ('Vigo', 'Galicia');\n",
    "INSERT INTO Ciudades(nombre, com_autonoma)\n",
    "VALUES ('Pontevedra', 'Galicia');\n",
    "INSERT INTO Ciudades(nombre, com_autonoma)\n",
    "VALUES ('Barcelona', 'Cataluña');\n",
    "INSERT INTO Ciudades(nombre, com_autonoma)\n",
    "VALUES ('Girona', 'Cataluña');"
   ]
  },
  {
   "cell_type": "code",
   "execution_count": 33,
   "metadata": {
    "collapsed": false
   },
   "outputs": [
    {
     "name": "stdout",
     "output_type": "stream",
     "text": [
      "Done.\n"
     ]
    },
    {
     "data": {
      "text/html": [
       "<table>\n",
       "    <tr>\n",
       "        <th>nombre</th>\n",
       "        <th>com_autonoma</th>\n",
       "    </tr>\n",
       "    <tr>\n",
       "        <td>Fuenlabrada</td>\n",
       "        <td>Madrid</td>\n",
       "    </tr>\n",
       "    <tr>\n",
       "        <td>Mostoles</td>\n",
       "        <td>Madrid</td>\n",
       "    </tr>\n",
       "    <tr>\n",
       "        <td>Alcorcon</td>\n",
       "        <td>Madrid</td>\n",
       "    </tr>\n",
       "    <tr>\n",
       "        <td>Sevilla</td>\n",
       "        <td>Andalucia</td>\n",
       "    </tr>\n",
       "    <tr>\n",
       "        <td>Cordoba</td>\n",
       "        <td>Andalucia</td>\n",
       "    </tr>\n",
       "    <tr>\n",
       "        <td>Vigo</td>\n",
       "        <td>Galicia</td>\n",
       "    </tr>\n",
       "    <tr>\n",
       "        <td>Pontevedra</td>\n",
       "        <td>Galicia</td>\n",
       "    </tr>\n",
       "    <tr>\n",
       "        <td>Barcelona</td>\n",
       "        <td>Cataluña</td>\n",
       "    </tr>\n",
       "    <tr>\n",
       "        <td>Girona</td>\n",
       "        <td>Cataluña</td>\n",
       "    </tr>\n",
       "</table>"
      ],
      "text/plain": [
       "[(u'Fuenlabrada', u'Madrid'),\n",
       " (u'Mostoles', u'Madrid'),\n",
       " (u'Alcorcon', u'Madrid'),\n",
       " (u'Sevilla', u'Andalucia'),\n",
       " (u'Cordoba', u'Andalucia'),\n",
       " (u'Vigo', u'Galicia'),\n",
       " (u'Pontevedra', u'Galicia'),\n",
       " (u'Barcelona', u'Catalu\\xf1a'),\n",
       " (u'Girona', u'Catalu\\xf1a')]"
      ]
     },
     "execution_count": 33,
     "metadata": {},
     "output_type": "execute_result"
    }
   ],
   "source": [
    "%sql SELECT * FROM Ciudades"
   ]
  },
  {
   "cell_type": "markdown",
   "metadata": {},
   "source": [
    "# EQUIPOS\n",
    "* Entidad débil con respecto a Ciudades\n",
    "\n",
    "Es necesario añadir la comunidad autónoma ya que de no hacerlo no podríamos tener dos equipos en los que coincidiera el nombre y la ciudad pertenecientes a distintas comunidades autónomas."
   ]
  },
  {
   "cell_type": "code",
   "execution_count": 34,
   "metadata": {
    "collapsed": false
   },
   "outputs": [
    {
     "name": "stdout",
     "output_type": "stream",
     "text": [
      "Done.\n",
      "Done.\n"
     ]
    },
    {
     "data": {
      "text/plain": [
       "[]"
      ]
     },
     "execution_count": 34,
     "metadata": {},
     "output_type": "execute_result"
    }
   ],
   "source": [
    "%%sql\n",
    "CREATE TABLE IF NOT EXISTS Equipos\n",
    "(nombre varchar(30),\n",
    " ciudad VARCHAR(30) NOT NULL,\n",
    " com_autonoma VARCHAR(30) NOT NULL,\n",
    " PRIMARY KEY (nombre, ciudad),\n",
    " FOREIGN KEY (ciudad) REFERENCES Ciudades(nombre)\n",
    " ON DELETE CASCADE,\n",
    " FOREIGN KEY (com_autonoma) REFERENCES Comunidades_Autonomas(nombre)\n",
    " ON DELETE CASCADE\n",
    ");"
   ]
  },
  {
   "cell_type": "code",
   "execution_count": 35,
   "metadata": {
    "collapsed": false
   },
   "outputs": [
    {
     "name": "stdout",
     "output_type": "stream",
     "text": [
      "0 rows affected.\n",
      "Done.\n"
     ]
    },
    {
     "data": {
      "text/html": [
       "<table>\n",
       "    <tr>\n",
       "        <th>nombre</th>\n",
       "        <th>ciudad</th>\n",
       "        <th>com_autonoma</th>\n",
       "    </tr>\n",
       "</table>"
      ],
      "text/plain": [
       "[]"
      ]
     },
     "execution_count": 35,
     "metadata": {},
     "output_type": "execute_result"
    }
   ],
   "source": [
    "%%sql\n",
    "DELETE FROM Equipos;\n",
    "SELECT * FROM Equipos"
   ]
  },
  {
   "cell_type": "code",
   "execution_count": 36,
   "metadata": {
    "collapsed": false
   },
   "outputs": [
    {
     "name": "stdout",
     "output_type": "stream",
     "text": [
      "1 rows affected.\n",
      "1 rows affected.\n",
      "1 rows affected.\n",
      "1 rows affected.\n",
      "1 rows affected.\n",
      "1 rows affected.\n",
      "1 rows affected.\n",
      "1 rows affected.\n",
      "1 rows affected.\n"
     ]
    },
    {
     "data": {
      "text/plain": [
       "[]"
      ]
     },
     "execution_count": 36,
     "metadata": {},
     "output_type": "execute_result"
    }
   ],
   "source": [
    "%%sql\n",
    "INSERT INTO Equipos(nombre, ciudad, com_autonoma)\n",
    "VALUES ('CB Fuenla', 'Fuenlabrada', 'Madrid');\n",
    "INSERT INTO Equipos(nombre, ciudad, com_autonoma)\n",
    "VALUES ('CB Mostoles', 'Mostoles', 'Madrid');\n",
    "INSERT INTO Equipos(nombre, ciudad, com_autonoma)\n",
    "VALUES ('CB Alcorcon', 'Alcorcon', 'Madrid');\n",
    "INSERT INTO Equipos(nombre, ciudad, com_autonoma)\n",
    "VALUES ('CB Sevilla', 'Sevilla', 'Andalucia');\n",
    "INSERT INTO Equipos(nombre, ciudad, com_autonoma)\n",
    "VALUES ('CB Cordoba', 'Cordoba', 'Andalucia');\n",
    "INSERT INTO Equipos(nombre, ciudad, com_autonoma)\n",
    "VALUES ('CB Estudiantes', 'Vigo', 'Galicia');\n",
    "INSERT INTO Equipos(nombre, ciudad, com_autonoma)\n",
    "VALUES ('CB Pontevedra', 'Pontevedra', 'Galicia');\n",
    "INSERT INTO Equipos(nombre, ciudad, com_autonoma)\n",
    "VALUES ('CB Estudiantes', 'Barcelona', 'Cataluña');\n",
    "INSERT INTO Equipos(nombre, ciudad, com_autonoma)\n",
    "VALUES ('CB Girona', 'Girona', 'Cataluña');"
   ]
  },
  {
   "cell_type": "code",
   "execution_count": 37,
   "metadata": {
    "collapsed": false
   },
   "outputs": [
    {
     "name": "stdout",
     "output_type": "stream",
     "text": [
      "Done.\n"
     ]
    },
    {
     "data": {
      "text/html": [
       "<table>\n",
       "    <tr>\n",
       "        <th>nombre</th>\n",
       "        <th>ciudad</th>\n",
       "        <th>com_autonoma</th>\n",
       "    </tr>\n",
       "    <tr>\n",
       "        <td>CB Fuenla</td>\n",
       "        <td>Fuenlabrada</td>\n",
       "        <td>Madrid</td>\n",
       "    </tr>\n",
       "    <tr>\n",
       "        <td>CB Mostoles</td>\n",
       "        <td>Mostoles</td>\n",
       "        <td>Madrid</td>\n",
       "    </tr>\n",
       "    <tr>\n",
       "        <td>CB Alcorcon</td>\n",
       "        <td>Alcorcon</td>\n",
       "        <td>Madrid</td>\n",
       "    </tr>\n",
       "    <tr>\n",
       "        <td>CB Sevilla</td>\n",
       "        <td>Sevilla</td>\n",
       "        <td>Andalucia</td>\n",
       "    </tr>\n",
       "    <tr>\n",
       "        <td>CB Cordoba</td>\n",
       "        <td>Cordoba</td>\n",
       "        <td>Andalucia</td>\n",
       "    </tr>\n",
       "    <tr>\n",
       "        <td>CB Estudiantes</td>\n",
       "        <td>Vigo</td>\n",
       "        <td>Galicia</td>\n",
       "    </tr>\n",
       "    <tr>\n",
       "        <td>CB Pontevedra</td>\n",
       "        <td>Pontevedra</td>\n",
       "        <td>Galicia</td>\n",
       "    </tr>\n",
       "    <tr>\n",
       "        <td>CB Estudiantes</td>\n",
       "        <td>Barcelona</td>\n",
       "        <td>Cataluña</td>\n",
       "    </tr>\n",
       "    <tr>\n",
       "        <td>CB Girona</td>\n",
       "        <td>Girona</td>\n",
       "        <td>Cataluña</td>\n",
       "    </tr>\n",
       "</table>"
      ],
      "text/plain": [
       "[(u'CB Fuenla', u'Fuenlabrada', u'Madrid'),\n",
       " (u'CB Mostoles', u'Mostoles', u'Madrid'),\n",
       " (u'CB Alcorcon', u'Alcorcon', u'Madrid'),\n",
       " (u'CB Sevilla', u'Sevilla', u'Andalucia'),\n",
       " (u'CB Cordoba', u'Cordoba', u'Andalucia'),\n",
       " (u'CB Estudiantes', u'Vigo', u'Galicia'),\n",
       " (u'CB Pontevedra', u'Pontevedra', u'Galicia'),\n",
       " (u'CB Estudiantes', u'Barcelona', u'Catalu\\xf1a'),\n",
       " (u'CB Girona', u'Girona', u'Catalu\\xf1a')]"
      ]
     },
     "execution_count": 37,
     "metadata": {},
     "output_type": "execute_result"
    }
   ],
   "source": [
    "%sql SELECT * FROM Equipos"
   ]
  },
  {
   "cell_type": "markdown",
   "metadata": {},
   "source": [
    "# ENTRENADORES"
   ]
  },
  {
   "cell_type": "code",
   "execution_count": 17,
   "metadata": {
    "collapsed": false
   },
   "outputs": [
    {
     "name": "stdout",
     "output_type": "stream",
     "text": [
      "Done.\n"
     ]
    },
    {
     "data": {
      "text/plain": [
       "[]"
      ]
     },
     "execution_count": 17,
     "metadata": {},
     "output_type": "execute_result"
    }
   ],
   "source": [
    "%%sql\n",
    "CREATE TABLE IF NOT EXISTS Entrenadores\n",
    "(nif VARCHAR(10),\n",
    " nombre VARCHAR(30),\n",
    " apellidos VARCHAR(30),\n",
    " fecha_nto DATETIME,\n",
    " PRIMARY KEY (nif)\n",
    ");"
   ]
  },
  {
   "cell_type": "code",
   "execution_count": 18,
   "metadata": {
    "collapsed": false
   },
   "outputs": [
    {
     "name": "stdout",
     "output_type": "stream",
     "text": [
      "9 rows affected.\n",
      "Done.\n"
     ]
    },
    {
     "data": {
      "text/html": [
       "<table>\n",
       "    <tr>\n",
       "        <th>nif</th>\n",
       "        <th>nombre</th>\n",
       "        <th>apellidos</th>\n",
       "        <th>fecha_nto</th>\n",
       "    </tr>\n",
       "</table>"
      ],
      "text/plain": [
       "[]"
      ]
     },
     "execution_count": 18,
     "metadata": {},
     "output_type": "execute_result"
    }
   ],
   "source": [
    "%%sql\n",
    "DELETE FROM Entrenadores;\n",
    "SELECT * FROM Entrenadores"
   ]
  },
  {
   "cell_type": "code",
   "execution_count": 19,
   "metadata": {
    "collapsed": false
   },
   "outputs": [
    {
     "name": "stdout",
     "output_type": "stream",
     "text": [
      "1 rows affected.\n",
      "1 rows affected.\n",
      "1 rows affected.\n",
      "1 rows affected.\n",
      "1 rows affected.\n",
      "1 rows affected.\n",
      "1 rows affected.\n",
      "1 rows affected.\n",
      "1 rows affected.\n"
     ]
    },
    {
     "data": {
      "text/plain": [
       "[]"
      ]
     },
     "execution_count": 19,
     "metadata": {},
     "output_type": "execute_result"
    }
   ],
   "source": [
    "%%sql\n",
    "INSERT INTO Entrenadores(nif, nombre, apellidos, fecha_nto)\n",
    "VALUES ('58963633N', 'Juan', 'Castro', '1970-12-31 00:00:00');\n",
    "INSERT INTO Entrenadores(nif, nombre, apellidos, fecha_nto)\n",
    "VALUES ('85967585L', 'Sara', 'Barrete', '1982-08-11 00:00:00');\n",
    "INSERT INTO Entrenadores(nif, nombre, apellidos, fecha_nto)\n",
    "VALUES ('57656799A', 'Marcos', 'Beltran', '1989-10-03 00:00:00');\n",
    "INSERT INTO Entrenadores(nif, nombre, apellidos, fecha_nto)\n",
    "VALUES ('02589658J', 'Maria', 'Lopez', '1975-05-04 00:00:00');\n",
    "INSERT INTO Entrenadores(nif, nombre, apellidos, fecha_nto)\n",
    "VALUES ('18992232H', 'Miguel', 'Martinez', '1979-01-13 00:00:00');\n",
    "INSERT INTO Entrenadores(nif, nombre, apellidos, fecha_nto)\n",
    "VALUES ('55225589F', 'Lara', 'Copido', '1981-03-31 00:00:00');\n",
    "INSERT INTO Entrenadores(nif, nombre, apellidos, fecha_nto)\n",
    "VALUES ('63272983D', 'Jose', 'Salgado', '1976-09-08 00:00:00');\n",
    "INSERT INTO Entrenadores(nif, nombre, apellidos, fecha_nto)\n",
    "VALUES ('47787543G', 'Marta', 'Garrido', '1974-02-15 00:00:00');\n",
    "INSERT INTO Entrenadores(nif, nombre, apellidos, fecha_nto)\n",
    "VALUES ('09099154Y', 'Hector', 'de la Fuente', '1980-11-30 00:00:00');"
   ]
  },
  {
   "cell_type": "code",
   "execution_count": 20,
   "metadata": {
    "collapsed": false
   },
   "outputs": [
    {
     "name": "stdout",
     "output_type": "stream",
     "text": [
      "Done.\n"
     ]
    },
    {
     "data": {
      "text/html": [
       "<table>\n",
       "    <tr>\n",
       "        <th>nif</th>\n",
       "        <th>nombre</th>\n",
       "        <th>apellidos</th>\n",
       "        <th>fecha_nto</th>\n",
       "    </tr>\n",
       "    <tr>\n",
       "        <td>58963633N</td>\n",
       "        <td>Juan</td>\n",
       "        <td>Castro</td>\n",
       "        <td>1970-12-31 00:00:00</td>\n",
       "    </tr>\n",
       "    <tr>\n",
       "        <td>85967585L</td>\n",
       "        <td>Sara</td>\n",
       "        <td>Barrete</td>\n",
       "        <td>1982-08-11 00:00:00</td>\n",
       "    </tr>\n",
       "    <tr>\n",
       "        <td>57656799A</td>\n",
       "        <td>Marcos</td>\n",
       "        <td>Beltran</td>\n",
       "        <td>1989-10-03 00:00:00</td>\n",
       "    </tr>\n",
       "    <tr>\n",
       "        <td>02589658J</td>\n",
       "        <td>Maria</td>\n",
       "        <td>Lopez</td>\n",
       "        <td>1975-05-04 00:00:00</td>\n",
       "    </tr>\n",
       "    <tr>\n",
       "        <td>18992232H</td>\n",
       "        <td>Miguel</td>\n",
       "        <td>Martinez</td>\n",
       "        <td>1979-01-13 00:00:00</td>\n",
       "    </tr>\n",
       "    <tr>\n",
       "        <td>55225589F</td>\n",
       "        <td>Lara</td>\n",
       "        <td>Copido</td>\n",
       "        <td>1981-03-31 00:00:00</td>\n",
       "    </tr>\n",
       "    <tr>\n",
       "        <td>63272983D</td>\n",
       "        <td>Jose</td>\n",
       "        <td>Salgado</td>\n",
       "        <td>1976-09-08 00:00:00</td>\n",
       "    </tr>\n",
       "    <tr>\n",
       "        <td>47787543G</td>\n",
       "        <td>Marta</td>\n",
       "        <td>Garrido</td>\n",
       "        <td>1974-02-15 00:00:00</td>\n",
       "    </tr>\n",
       "    <tr>\n",
       "        <td>09099154Y</td>\n",
       "        <td>Hector</td>\n",
       "        <td>de la Fuente</td>\n",
       "        <td>1980-11-30 00:00:00</td>\n",
       "    </tr>\n",
       "</table>"
      ],
      "text/plain": [
       "[(u'58963633N', u'Juan', u'Castro', u'1970-12-31 00:00:00'),\n",
       " (u'85967585L', u'Sara', u'Barrete', u'1982-08-11 00:00:00'),\n",
       " (u'57656799A', u'Marcos', u'Beltran', u'1989-10-03 00:00:00'),\n",
       " (u'02589658J', u'Maria', u'Lopez', u'1975-05-04 00:00:00'),\n",
       " (u'18992232H', u'Miguel', u'Martinez', u'1979-01-13 00:00:00'),\n",
       " (u'55225589F', u'Lara', u'Copido', u'1981-03-31 00:00:00'),\n",
       " (u'63272983D', u'Jose', u'Salgado', u'1976-09-08 00:00:00'),\n",
       " (u'47787543G', u'Marta', u'Garrido', u'1974-02-15 00:00:00'),\n",
       " (u'09099154Y', u'Hector', u'de la Fuente', u'1980-11-30 00:00:00')]"
      ]
     },
     "execution_count": 20,
     "metadata": {},
     "output_type": "execute_result"
    }
   ],
   "source": [
    "%sql SELECT * FROM Entrenadores"
   ]
  },
  {
   "cell_type": "markdown",
   "metadata": {},
   "source": [
    "# JUGADORES"
   ]
  },
  {
   "cell_type": "code",
   "execution_count": 21,
   "metadata": {
    "collapsed": false
   },
   "outputs": [
    {
     "name": "stdout",
     "output_type": "stream",
     "text": [
      "Done.\n",
      "Done.\n"
     ]
    },
    {
     "data": {
      "text/plain": [
       "[]"
      ]
     },
     "execution_count": 21,
     "metadata": {},
     "output_type": "execute_result"
    }
   ],
   "source": [
    "%%sql\n",
    "CREATE TABLE IF NOT EXISTS Jugadores\n",
    "(nif VARCHAR(10),\n",
    " nombre VARCHAR(30),\n",
    " apellidos VARCHAR(30),\n",
    " fecha_nto DATETIME,\n",
    " altura FLOAT,\n",
    " PRIMARY KEY (nif)\n",
    ");"
   ]
  },
  {
   "cell_type": "code",
   "execution_count": 78,
   "metadata": {
    "collapsed": false
   },
   "outputs": [
    {
     "name": "stdout",
     "output_type": "stream",
     "text": [
      "15 rows affected.\n",
      "Done.\n"
     ]
    },
    {
     "data": {
      "text/html": [
       "<table>\n",
       "    <tr>\n",
       "        <th>nif</th>\n",
       "        <th>nombre</th>\n",
       "        <th>apellidos</th>\n",
       "        <th>fecha_nto</th>\n",
       "        <th>altura</th>\n",
       "    </tr>\n",
       "</table>"
      ],
      "text/plain": [
       "[]"
      ]
     },
     "execution_count": 78,
     "metadata": {},
     "output_type": "execute_result"
    }
   ],
   "source": [
    "%%sql\n",
    "DELETE FROM Jugadores;\n",
    "SELECT * FROM Jugadores"
   ]
  },
  {
   "cell_type": "code",
   "execution_count": 79,
   "metadata": {
    "collapsed": false
   },
   "outputs": [
    {
     "name": "stdout",
     "output_type": "stream",
     "text": [
      "1 rows affected.\n",
      "1 rows affected.\n",
      "1 rows affected.\n",
      "1 rows affected.\n",
      "1 rows affected.\n",
      "1 rows affected.\n",
      "1 rows affected.\n",
      "1 rows affected.\n",
      "1 rows affected.\n",
      "1 rows affected.\n",
      "1 rows affected.\n",
      "1 rows affected.\n",
      "1 rows affected.\n",
      "1 rows affected.\n",
      "1 rows affected.\n",
      "1 rows affected.\n",
      "1 rows affected.\n",
      "1 rows affected.\n"
     ]
    },
    {
     "data": {
      "text/plain": [
       "[]"
      ]
     },
     "execution_count": 79,
     "metadata": {},
     "output_type": "execute_result"
    }
   ],
   "source": [
    "%%sql\n",
    "INSERT INTO Jugadores(nif, nombre, apellidos, fecha_nto, altura)\n",
    "VALUES ('15696688S', 'Miguel', 'Sanchez', '1970-12-31 00:00:00', 1.98);\n",
    "INSERT INTO Jugadores(nif, nombre, apellidos, fecha_nto, altura)\n",
    "VALUES ('42322521A', 'Cristian', 'Lopez', '1970-12-31 00:00:00', 1.92);\n",
    "INSERT INTO Jugadores(nif, nombre, apellidos, fecha_nto, altura)\n",
    "VALUES ('24145854W', 'Alfredo', 'Landa', '1970-12-31 00:00:00', 1.95);\n",
    "INSERT INTO Jugadores(nif, nombre, apellidos, fecha_nto, altura)\n",
    "VALUES ('78558651W', 'Antonio', 'Martin', '1970-12-31 00:00:00', 2.02);\n",
    "INSERT INTO Jugadores(nif, nombre, apellidos, fecha_nto, altura)\n",
    "VALUES ('05885114Q', 'Luis Miguel', 'Fernandez', '1970-12-31 00:00:00', 1.89);\n",
    "INSERT INTO Jugadores(nif, nombre, apellidos, fecha_nto, altura)\n",
    "VALUES ('35492852T', 'Luis', 'Escolar', '1970-12-31 00:00:00', 1.95);\n",
    "INSERT INTO Jugadores(nif, nombre, apellidos, fecha_nto, altura)\n",
    "VALUES ('45696683S', 'Alirio', 'Suarez', '1990-12-31 00:00:00', 1.93);\n",
    "INSERT INTO Jugadores(nif, nombre, apellidos, fecha_nto, altura)\n",
    "VALUES ('02322522A', 'Alejandro', 'Jimenez', '1991-12-31 00:00:00', 1.98);\n",
    "INSERT INTO Jugadores(nif, nombre, apellidos, fecha_nto, altura)\n",
    "VALUES ('14145856W', 'Mariano', 'Cordero', '1993-12-31 00:00:00', 1.90);\n",
    "INSERT INTO Jugadores(nif, nombre, apellidos, fecha_nto, altura)\n",
    "VALUES ('38558650W', 'Marcelo', 'Camero', '1995-12-31 00:00:00', 1.91);\n",
    "INSERT INTO Jugadores(nif, nombre, apellidos, fecha_nto, altura)\n",
    "VALUES ('25885116Q', 'Carmelo', 'de Luca', '1990-12-31 00:00:00', 1.96);\n",
    "INSERT INTO Jugadores(nif, nombre, apellidos, fecha_nto, altura)\n",
    "VALUES ('45492851T', 'Carlos', 'Zambrano', '1991-12-31 00:00:00', 1.95);\n",
    "INSERT INTO Jugadores(nif, nombre, apellidos, fecha_nto, altura)\n",
    "VALUES ('45412859T', 'Luis', 'Sosa', '1992-12-31 00:00:00', 1.97);\n",
    "INSERT INTO Jugadores(nif, nombre, apellidos, fecha_nto, altura)\n",
    "VALUES ('45492655T', 'Jose Manuel', 'Herrera', '1993-12-31 00:00:00', 1.94);\n",
    "INSERT INTO Jugadores(nif, nombre, apellidos, fecha_nto, altura)\n",
    "VALUES ('45432811Q', 'Luis Manuel', 'Villegas', '1994-12-31 00:00:00', 1.92);\n",
    "INSERT INTO Jugadores(nif, nombre, apellidos, fecha_nto, altura)\n",
    "VALUES ('15432811R', 'Jaime', 'Sánchez', '1992-10-11 00:00:00', 1.90);\n",
    "INSERT INTO Jugadores(nif, nombre, apellidos, fecha_nto, altura)\n",
    "VALUES ('25432855K', 'Mario', 'Rodríguez', '1993-15-31 00:00:00', 1.93);\n",
    "INSERT INTO Jugadores(nif, nombre, apellidos, fecha_nto, altura)\n",
    "VALUES ('35432899X', 'Daniel', 'López', '1994-09-30 00:00:00', 1.92);"
   ]
  },
  {
   "cell_type": "code",
   "execution_count": 80,
   "metadata": {
    "collapsed": false
   },
   "outputs": [
    {
     "name": "stdout",
     "output_type": "stream",
     "text": [
      "Done.\n"
     ]
    },
    {
     "data": {
      "text/html": [
       "<table>\n",
       "    <tr>\n",
       "        <th>nif</th>\n",
       "        <th>nombre</th>\n",
       "        <th>apellidos</th>\n",
       "        <th>fecha_nto</th>\n",
       "        <th>altura</th>\n",
       "    </tr>\n",
       "    <tr>\n",
       "        <td>15696688S</td>\n",
       "        <td>Miguel</td>\n",
       "        <td>Sanchez</td>\n",
       "        <td>1970-12-31 00:00:00</td>\n",
       "        <td>1.98</td>\n",
       "    </tr>\n",
       "    <tr>\n",
       "        <td>42322521A</td>\n",
       "        <td>Cristian</td>\n",
       "        <td>Lopez</td>\n",
       "        <td>1970-12-31 00:00:00</td>\n",
       "        <td>1.92</td>\n",
       "    </tr>\n",
       "    <tr>\n",
       "        <td>24145854W</td>\n",
       "        <td>Alfredo</td>\n",
       "        <td>Landa</td>\n",
       "        <td>1970-12-31 00:00:00</td>\n",
       "        <td>1.95</td>\n",
       "    </tr>\n",
       "    <tr>\n",
       "        <td>78558651W</td>\n",
       "        <td>Antonio</td>\n",
       "        <td>Martin</td>\n",
       "        <td>1970-12-31 00:00:00</td>\n",
       "        <td>2.02</td>\n",
       "    </tr>\n",
       "    <tr>\n",
       "        <td>05885114Q</td>\n",
       "        <td>Luis Miguel</td>\n",
       "        <td>Fernandez</td>\n",
       "        <td>1970-12-31 00:00:00</td>\n",
       "        <td>1.89</td>\n",
       "    </tr>\n",
       "    <tr>\n",
       "        <td>35492852T</td>\n",
       "        <td>Luis</td>\n",
       "        <td>Escolar</td>\n",
       "        <td>1970-12-31 00:00:00</td>\n",
       "        <td>1.95</td>\n",
       "    </tr>\n",
       "    <tr>\n",
       "        <td>45696683S</td>\n",
       "        <td>Alirio</td>\n",
       "        <td>Suarez</td>\n",
       "        <td>1990-12-31 00:00:00</td>\n",
       "        <td>1.93</td>\n",
       "    </tr>\n",
       "    <tr>\n",
       "        <td>02322522A</td>\n",
       "        <td>Alejandro</td>\n",
       "        <td>Jimenez</td>\n",
       "        <td>1991-12-31 00:00:00</td>\n",
       "        <td>1.98</td>\n",
       "    </tr>\n",
       "    <tr>\n",
       "        <td>14145856W</td>\n",
       "        <td>Mariano</td>\n",
       "        <td>Cordero</td>\n",
       "        <td>1993-12-31 00:00:00</td>\n",
       "        <td>1.9</td>\n",
       "    </tr>\n",
       "    <tr>\n",
       "        <td>38558650W</td>\n",
       "        <td>Marcelo</td>\n",
       "        <td>Camero</td>\n",
       "        <td>1995-12-31 00:00:00</td>\n",
       "        <td>1.91</td>\n",
       "    </tr>\n",
       "    <tr>\n",
       "        <td>25885116Q</td>\n",
       "        <td>Carmelo</td>\n",
       "        <td>de Luca</td>\n",
       "        <td>1990-12-31 00:00:00</td>\n",
       "        <td>1.96</td>\n",
       "    </tr>\n",
       "    <tr>\n",
       "        <td>45492851T</td>\n",
       "        <td>Carlos</td>\n",
       "        <td>Zambrano</td>\n",
       "        <td>1991-12-31 00:00:00</td>\n",
       "        <td>1.95</td>\n",
       "    </tr>\n",
       "    <tr>\n",
       "        <td>45412859T</td>\n",
       "        <td>Luis</td>\n",
       "        <td>Sosa</td>\n",
       "        <td>1992-12-31 00:00:00</td>\n",
       "        <td>1.97</td>\n",
       "    </tr>\n",
       "    <tr>\n",
       "        <td>45492655T</td>\n",
       "        <td>Jose Manuel</td>\n",
       "        <td>Herrera</td>\n",
       "        <td>1993-12-31 00:00:00</td>\n",
       "        <td>1.94</td>\n",
       "    </tr>\n",
       "    <tr>\n",
       "        <td>45432811Q</td>\n",
       "        <td>Luis Manuel</td>\n",
       "        <td>Villegas</td>\n",
       "        <td>1994-12-31 00:00:00</td>\n",
       "        <td>1.92</td>\n",
       "    </tr>\n",
       "    <tr>\n",
       "        <td>15432811R</td>\n",
       "        <td>Jaime</td>\n",
       "        <td>Sánchez</td>\n",
       "        <td>1992-10-11 00:00:00</td>\n",
       "        <td>1.9</td>\n",
       "    </tr>\n",
       "    <tr>\n",
       "        <td>25432855K</td>\n",
       "        <td>Mario</td>\n",
       "        <td>Rodríguez</td>\n",
       "        <td>1993-15-31 00:00:00</td>\n",
       "        <td>1.93</td>\n",
       "    </tr>\n",
       "    <tr>\n",
       "        <td>35432899X</td>\n",
       "        <td>Daniel</td>\n",
       "        <td>López</td>\n",
       "        <td>1994-09-30 00:00:00</td>\n",
       "        <td>1.92</td>\n",
       "    </tr>\n",
       "</table>"
      ],
      "text/plain": [
       "[(u'15696688S', u'Miguel', u'Sanchez', u'1970-12-31 00:00:00', 1.98),\n",
       " (u'42322521A', u'Cristian', u'Lopez', u'1970-12-31 00:00:00', 1.92),\n",
       " (u'24145854W', u'Alfredo', u'Landa', u'1970-12-31 00:00:00', 1.95),\n",
       " (u'78558651W', u'Antonio', u'Martin', u'1970-12-31 00:00:00', 2.02),\n",
       " (u'05885114Q', u'Luis Miguel', u'Fernandez', u'1970-12-31 00:00:00', 1.89),\n",
       " (u'35492852T', u'Luis', u'Escolar', u'1970-12-31 00:00:00', 1.95),\n",
       " (u'45696683S', u'Alirio', u'Suarez', u'1990-12-31 00:00:00', 1.93),\n",
       " (u'02322522A', u'Alejandro', u'Jimenez', u'1991-12-31 00:00:00', 1.98),\n",
       " (u'14145856W', u'Mariano', u'Cordero', u'1993-12-31 00:00:00', 1.9),\n",
       " (u'38558650W', u'Marcelo', u'Camero', u'1995-12-31 00:00:00', 1.91),\n",
       " (u'25885116Q', u'Carmelo', u'de Luca', u'1990-12-31 00:00:00', 1.96),\n",
       " (u'45492851T', u'Carlos', u'Zambrano', u'1991-12-31 00:00:00', 1.95),\n",
       " (u'45412859T', u'Luis', u'Sosa', u'1992-12-31 00:00:00', 1.97),\n",
       " (u'45492655T', u'Jose Manuel', u'Herrera', u'1993-12-31 00:00:00', 1.94),\n",
       " (u'45432811Q', u'Luis Manuel', u'Villegas', u'1994-12-31 00:00:00', 1.92),\n",
       " (u'15432811R', u'Jaime', u'S\\xe1nchez', u'1992-10-11 00:00:00', 1.9),\n",
       " (u'25432855K', u'Mario', u'Rodr\\xedguez', u'1993-15-31 00:00:00', 1.93),\n",
       " (u'35432899X', u'Daniel', u'L\\xf3pez', u'1994-09-30 00:00:00', 1.92)]"
      ]
     },
     "execution_count": 80,
     "metadata": {},
     "output_type": "execute_result"
    }
   ],
   "source": [
    "%sql SELECT * FROM Jugadores"
   ]
  },
  {
   "cell_type": "markdown",
   "metadata": {},
   "source": [
    "# TEMPORADAS"
   ]
  },
  {
   "cell_type": "code",
   "execution_count": 100,
   "metadata": {
    "collapsed": false
   },
   "outputs": [
    {
     "name": "stdout",
     "output_type": "stream",
     "text": [
      "Done.\n",
      "Done.\n"
     ]
    },
    {
     "data": {
      "text/plain": [
       "[]"
      ]
     },
     "execution_count": 100,
     "metadata": {},
     "output_type": "execute_result"
    }
   ],
   "source": [
    "%%sql\n",
    "CREATE TABLE IF NOT EXISTS Temporadas\n",
    "(numero INT,\n",
    " fecha_ini DATETIME,\n",
    " fecha_fin DATETIME,\n",
    " patrocinada_por VARCHAR(10),\n",
    " PRIMARY KEY (numero),\n",
    " FOREIGN KEY (patrocinada_por) REFERENCES Empresas(cif)\n",
    ");"
   ]
  },
  {
   "cell_type": "code",
   "execution_count": 101,
   "metadata": {
    "collapsed": false
   },
   "outputs": [
    {
     "name": "stdout",
     "output_type": "stream",
     "text": [
      "0 rows affected.\n",
      "Done.\n"
     ]
    },
    {
     "data": {
      "text/html": [
       "<table>\n",
       "    <tr>\n",
       "        <th>numero</th>\n",
       "        <th>fecha_ini</th>\n",
       "        <th>fecha_fin</th>\n",
       "        <th>patrocinada_por</th>\n",
       "    </tr>\n",
       "</table>"
      ],
      "text/plain": [
       "[]"
      ]
     },
     "execution_count": 101,
     "metadata": {},
     "output_type": "execute_result"
    }
   ],
   "source": [
    "%%sql\n",
    "DELETE FROM Temporadas;\n",
    "SELECT * FROM Temporadas"
   ]
  },
  {
   "cell_type": "code",
   "execution_count": 102,
   "metadata": {
    "collapsed": false
   },
   "outputs": [
    {
     "name": "stdout",
     "output_type": "stream",
     "text": [
      "1 rows affected.\n",
      "1 rows affected.\n",
      "1 rows affected.\n",
      "1 rows affected.\n"
     ]
    },
    {
     "data": {
      "text/plain": [
       "[]"
      ]
     },
     "execution_count": 102,
     "metadata": {},
     "output_type": "execute_result"
    }
   ],
   "source": [
    "%%sql\n",
    "INSERT INTO Temporadas(numero, fecha_ini, fecha_fin, patrocinada_por)\n",
    "VALUES (1, '2013-01-01 00:00:00', '2013-12-31 00:00:00', 'B41458540');\n",
    "INSERT INTO Temporadas(numero, fecha_ini, fecha_fin, patrocinada_por)\n",
    "VALUES (2, '2014-01-01 00:00:00', '2014-12-31 00:00:00', 'B85586510');\n",
    "INSERT INTO Temporadas(numero, fecha_ini, fecha_fin, patrocinada_por)\n",
    "VALUES (3, '2015-01-01 00:00:00', '2015-12-31 00:00:00', 'B23225210');\n",
    "INSERT INTO Temporadas(numero, fecha_ini, fecha_fin, patrocinada_por)\n",
    "VALUES (4, '2016-01-01 00:00:00', '2016-12-31 00:00:00', 'B56966880');"
   ]
  },
  {
   "cell_type": "code",
   "execution_count": 103,
   "metadata": {
    "collapsed": false
   },
   "outputs": [
    {
     "name": "stdout",
     "output_type": "stream",
     "text": [
      "Done.\n"
     ]
    },
    {
     "data": {
      "text/html": [
       "<table>\n",
       "    <tr>\n",
       "        <th>numero</th>\n",
       "        <th>fecha_ini</th>\n",
       "        <th>fecha_fin</th>\n",
       "        <th>patrocinada_por</th>\n",
       "    </tr>\n",
       "    <tr>\n",
       "        <td>1</td>\n",
       "        <td>2013-01-01 00:00:00</td>\n",
       "        <td>2013-12-31 00:00:00</td>\n",
       "        <td>B41458540</td>\n",
       "    </tr>\n",
       "    <tr>\n",
       "        <td>2</td>\n",
       "        <td>2014-01-01 00:00:00</td>\n",
       "        <td>2014-12-31 00:00:00</td>\n",
       "        <td>B85586510</td>\n",
       "    </tr>\n",
       "    <tr>\n",
       "        <td>3</td>\n",
       "        <td>2015-01-01 00:00:00</td>\n",
       "        <td>2015-12-31 00:00:00</td>\n",
       "        <td>B23225210</td>\n",
       "    </tr>\n",
       "    <tr>\n",
       "        <td>4</td>\n",
       "        <td>2016-01-01 00:00:00</td>\n",
       "        <td>2016-12-31 00:00:00</td>\n",
       "        <td>B56966880</td>\n",
       "    </tr>\n",
       "</table>"
      ],
      "text/plain": [
       "[(1, u'2013-01-01 00:00:00', u'2013-12-31 00:00:00', u'B41458540'),\n",
       " (2, u'2014-01-01 00:00:00', u'2014-12-31 00:00:00', u'B85586510'),\n",
       " (3, u'2015-01-01 00:00:00', u'2015-12-31 00:00:00', u'B23225210'),\n",
       " (4, u'2016-01-01 00:00:00', u'2016-12-31 00:00:00', u'B56966880')]"
      ]
     },
     "execution_count": 103,
     "metadata": {},
     "output_type": "execute_result"
    }
   ],
   "source": [
    "%sql SELECT * FROM Temporadas"
   ]
  },
  {
   "cell_type": "markdown",
   "metadata": {},
   "source": [
    "# PARTICIPAN_ENTRENADORES"
   ]
  },
  {
   "cell_type": "markdown",
   "metadata": {},
   "source": [
    "En este caso, al imponerse la restricción \"Un entrenador no puede entrenar a más de un equipo en una temporada\", he decidido implementarlo obligando a que un entrenador asociado a una temporada no pueda aparecer más de una vez en la relación entre Entrenadores/Equipos/Temporadas. Esto implica que un entrenador tampoco podrá, una vez entrenado a un equipo y tras ser reemplazado por otro entrenador, volver a entrenar a ese ni a ningún equipo dentro de esa misma temporada.\n",
    "\n",
    "Por otra parte, también hay que incluir la ciudad y la comunidad autónoma a la que pertenece el equipo, porque al poder haber dos equipos con el mismo nombre en distintas ciudades y dos ciudades con el mismo nombre en distintas comunidades autónomas, si sólo pusiéramos el nombre no sería posible recuperar la información de la ciudad y la com. autónoma a la que pertence."
   ]
  },
  {
   "cell_type": "code",
   "execution_count": 7,
   "metadata": {
    "collapsed": false
   },
   "outputs": [
    {
     "name": "stdout",
     "output_type": "stream",
     "text": [
      "Done.\n",
      "Done.\n"
     ]
    },
    {
     "data": {
      "text/plain": [
       "[]"
      ]
     },
     "execution_count": 7,
     "metadata": {},
     "output_type": "execute_result"
    }
   ],
   "source": [
    "%%sql\n",
    "CREATE TABLE IF NOT EXISTS Participan_Entrenadores\n",
    "(entrenador VARCHAR(10),\n",
    " equipo VARCHAR(30),\n",
    " ciudad VARCHAR(30),\n",
    " com_autonoma VARCHAR(30),\n",
    " temporada INT,\n",
    " fecha_ini DATETIME,\n",
    " fecha_fin DATETIME,\n",
    " PRIMARY KEY (entrenador, equipo, ciudad, com_autonoma, temporada),\n",
    " FOREIGN KEY (entrenador) REFERENCES Entrenadores(nif),\n",
    " FOREIGN KEY (equipo) REFERENCES Equipos(nombre),\n",
    " FOREIGN KEY (ciudad) REFERENCES Ciudades(nombre),\n",
    " FOREIGN KEY (com_autonoma) REFERENCES Comunidades_Autonomas(nombre),\n",
    " FOREIGN KEY (temporada) REFERENCES Temporadas(numero),\n",
    " UNIQUE(entrenador, temporada)\n",
    ");"
   ]
  },
  {
   "cell_type": "code",
   "execution_count": 8,
   "metadata": {
    "collapsed": false
   },
   "outputs": [
    {
     "name": "stdout",
     "output_type": "stream",
     "text": [
      "0 rows affected.\n",
      "Done.\n"
     ]
    },
    {
     "data": {
      "text/html": [
       "<table>\n",
       "    <tr>\n",
       "        <th>entrenador</th>\n",
       "        <th>equipo</th>\n",
       "        <th>ciudad</th>\n",
       "        <th>com_autonoma</th>\n",
       "        <th>temporada</th>\n",
       "        <th>fecha_ini</th>\n",
       "        <th>fecha_fin</th>\n",
       "    </tr>\n",
       "</table>"
      ],
      "text/plain": [
       "[]"
      ]
     },
     "execution_count": 8,
     "metadata": {},
     "output_type": "execute_result"
    }
   ],
   "source": [
    "%%sql\n",
    "DELETE FROM Participan_Entrenadores;\n",
    "SELECT * FROM Participan_Entrenadores"
   ]
  },
  {
   "cell_type": "code",
   "execution_count": 9,
   "metadata": {
    "collapsed": false
   },
   "outputs": [
    {
     "name": "stdout",
     "output_type": "stream",
     "text": [
      "1 rows affected.\n",
      "1 rows affected.\n",
      "1 rows affected.\n",
      "1 rows affected.\n",
      "1 rows affected.\n",
      "1 rows affected.\n",
      "1 rows affected.\n",
      "1 rows affected.\n",
      "1 rows affected.\n",
      "1 rows affected.\n",
      "1 rows affected.\n",
      "1 rows affected.\n",
      "1 rows affected.\n",
      "1 rows affected.\n",
      "1 rows affected.\n",
      "1 rows affected.\n"
     ]
    },
    {
     "data": {
      "text/plain": [
       "[]"
      ]
     },
     "execution_count": 9,
     "metadata": {},
     "output_type": "execute_result"
    }
   ],
   "source": [
    "%%sql\n",
    "INSERT INTO Participan_Entrenadores(entrenador, equipo, ciudad, com_autonoma, temporada, fecha_ini, fecha_fin)\n",
    "VALUES ('58963633N', 'CB Fuenla', 'Fuenlabrada', 'Madrid', 1, '2013-01-01 00:00:00', '2013-06-30 00:00:00');\n",
    "INSERT INTO Participan_Entrenadores(entrenador, equipo, ciudad, com_autonoma, temporada, fecha_ini, fecha_fin)\n",
    "VALUES ('85967585L', 'CB Fuenla', 'Fuenlabrada', 'Madrid', 1, '2013-07-01 00:00:00', '2013-12-31 00:00:00');\n",
    "INSERT INTO Participan_Entrenadores(entrenador, equipo, ciudad, com_autonoma, temporada, fecha_ini, fecha_fin)\n",
    "VALUES ('02589658J', 'CB Sevilla', 'Sevilla', 'Andalucia', 1, '2013-01-01 00:00:00', '2013-12-31 00:00:00');\n",
    "INSERT INTO Participan_Entrenadores(entrenador, equipo, ciudad, com_autonoma, temporada, fecha_ini, fecha_fin)\n",
    "VALUES ('63272983D', 'CB Pontevedra', 'Pontevedra', 'Galicia', 1, '2013-01-01 00:00:00', '2013-12-31 00:00:00');\n",
    "\n",
    "INSERT INTO Participan_Entrenadores(entrenador, equipo, ciudad, com_autonoma, temporada, fecha_ini, fecha_fin)\n",
    "VALUES ('63272983D', 'CB Estudiantes', 'Vigo', 'Galicia', 2, '2014-01-01 00:00:00', '2014-12-31 00:00:00');\n",
    "INSERT INTO Participan_Entrenadores(entrenador, equipo, ciudad, com_autonoma, temporada, fecha_ini, fecha_fin)\n",
    "VALUES ('18992232H', 'CB Cordoba', 'Cordoba', 'Andalucia', 2, '2014-01-01 00:00:00', '2014-12-31 00:00:00');\n",
    "INSERT INTO Participan_Entrenadores(entrenador, equipo, ciudad, com_autonoma, temporada, fecha_ini, fecha_fin)\n",
    "VALUES ('47787543G', 'CB Girona', 'Girona', 'Cataluña', 2, '2014-01-01 00:00:00', '2014-03-31 00:00:00');\n",
    "INSERT INTO Participan_Entrenadores(entrenador, equipo, ciudad, com_autonoma, temporada, fecha_ini, fecha_fin)\n",
    "VALUES ('09099154Y', 'CB Girona', 'Girona', 'Cataluña', 2, '2014-04-01 00:00:00', '2014-12-31 00:00:00');\n",
    "\n",
    "INSERT INTO Participan_Entrenadores(entrenador, equipo, ciudad, com_autonoma, temporada, fecha_ini, fecha_fin)\n",
    "VALUES ('55225589F', 'CB Fuenla', 'Fuenlabrada', 'Madrid', 3, '2015-01-01 00:00:00', '2015-12-31 00:00:00');\n",
    "INSERT INTO Participan_Entrenadores(entrenador, equipo, ciudad, com_autonoma, temporada, fecha_ini, fecha_fin)\n",
    "VALUES ('57656799A', 'CB Fuenla', 'Fuenlabrada', 'Madrid', 3, '2015-01-01 00:00:00', '2015-12-31 00:00:00');\n",
    "INSERT INTO Participan_Entrenadores(entrenador, equipo, ciudad, com_autonoma, temporada, fecha_ini, fecha_fin)\n",
    "VALUES ('47787543G', 'CB Pontevedra', 'Pontevedra', 'Galicia', 3, '2015-01-01 00:00:00', '2015-12-31 00:00:00');\n",
    "INSERT INTO Participan_Entrenadores(entrenador, equipo, ciudad, com_autonoma, temporada, fecha_ini, fecha_fin)\n",
    "VALUES ('09099154Y', 'CB Pontevedra','Pontevedra', 'Galicia', 3, '2015-01-01 00:00:00', '2015-12-31 00:00:00');\n",
    "INSERT INTO Participan_Entrenadores(entrenador, equipo, ciudad, com_autonoma, temporada, fecha_ini, fecha_fin)\n",
    "VALUES ('58963633N', 'CB Mostoles','Mostoles', 'Madrid', 3, '2015-01-01 00:00:00', '2015-12-31 00:00:00');\n",
    "\n",
    "INSERT INTO Participan_Entrenadores(entrenador, equipo, ciudad, com_autonoma, temporada, fecha_ini, fecha_fin)\n",
    "VALUES ('58963633N', 'CB Mostoles', 'Mostoles', 'Madrid', 4, '2016-01-01 00:00:00', '2016-12-31 00:00:00');\n",
    "INSERT INTO Participan_Entrenadores(entrenador, equipo, ciudad, com_autonoma, temporada, fecha_ini, fecha_fin)\n",
    "VALUES ('02589658J', 'CB Cordoba','Cordoba', 'Andalucia', 4, '2016-01-01 00:00:00', '2016-12-31 00:00:00');\n",
    "INSERT INTO Participan_Entrenadores(entrenador, equipo, ciudad, com_autonoma, temporada, fecha_ini, fecha_fin)\n",
    "VALUES ('47787543G', 'CB Girona','Girona', 'Cataluña', 4, '2016-01-01 00:00:00', '2016-12-31 00:00:00');"
   ]
  },
  {
   "cell_type": "code",
   "execution_count": 10,
   "metadata": {
    "collapsed": false
   },
   "outputs": [
    {
     "name": "stdout",
     "output_type": "stream",
     "text": [
      "Done.\n"
     ]
    },
    {
     "data": {
      "text/html": [
       "<table>\n",
       "    <tr>\n",
       "        <th>entrenador</th>\n",
       "        <th>equipo</th>\n",
       "        <th>ciudad</th>\n",
       "        <th>com_autonoma</th>\n",
       "        <th>temporada</th>\n",
       "        <th>fecha_ini</th>\n",
       "        <th>fecha_fin</th>\n",
       "    </tr>\n",
       "    <tr>\n",
       "        <td>58963633N</td>\n",
       "        <td>CB Fuenla</td>\n",
       "        <td>Fuenlabrada</td>\n",
       "        <td>Madrid</td>\n",
       "        <td>1</td>\n",
       "        <td>2013-01-01 00:00:00</td>\n",
       "        <td>2013-06-30 00:00:00</td>\n",
       "    </tr>\n",
       "    <tr>\n",
       "        <td>85967585L</td>\n",
       "        <td>CB Fuenla</td>\n",
       "        <td>Fuenlabrada</td>\n",
       "        <td>Madrid</td>\n",
       "        <td>1</td>\n",
       "        <td>2013-07-01 00:00:00</td>\n",
       "        <td>2013-12-31 00:00:00</td>\n",
       "    </tr>\n",
       "    <tr>\n",
       "        <td>02589658J</td>\n",
       "        <td>CB Sevilla</td>\n",
       "        <td>Sevilla</td>\n",
       "        <td>Andalucia</td>\n",
       "        <td>1</td>\n",
       "        <td>2013-01-01 00:00:00</td>\n",
       "        <td>2013-12-31 00:00:00</td>\n",
       "    </tr>\n",
       "    <tr>\n",
       "        <td>63272983D</td>\n",
       "        <td>CB Pontevedra</td>\n",
       "        <td>Pontevedra</td>\n",
       "        <td>Galicia</td>\n",
       "        <td>1</td>\n",
       "        <td>2013-01-01 00:00:00</td>\n",
       "        <td>2013-12-31 00:00:00</td>\n",
       "    </tr>\n",
       "    <tr>\n",
       "        <td>63272983D</td>\n",
       "        <td>CB Estudiantes</td>\n",
       "        <td>Vigo</td>\n",
       "        <td>Galicia</td>\n",
       "        <td>2</td>\n",
       "        <td>2014-01-01 00:00:00</td>\n",
       "        <td>2014-12-31 00:00:00</td>\n",
       "    </tr>\n",
       "    <tr>\n",
       "        <td>18992232H</td>\n",
       "        <td>CB Cordoba</td>\n",
       "        <td>Cordoba</td>\n",
       "        <td>Andalucia</td>\n",
       "        <td>2</td>\n",
       "        <td>2014-01-01 00:00:00</td>\n",
       "        <td>2014-12-31 00:00:00</td>\n",
       "    </tr>\n",
       "    <tr>\n",
       "        <td>47787543G</td>\n",
       "        <td>CB Girona</td>\n",
       "        <td>Girona</td>\n",
       "        <td>Cataluña</td>\n",
       "        <td>2</td>\n",
       "        <td>2014-01-01 00:00:00</td>\n",
       "        <td>2014-03-31 00:00:00</td>\n",
       "    </tr>\n",
       "    <tr>\n",
       "        <td>09099154Y</td>\n",
       "        <td>CB Girona</td>\n",
       "        <td>Girona</td>\n",
       "        <td>Cataluña</td>\n",
       "        <td>2</td>\n",
       "        <td>2014-04-01 00:00:00</td>\n",
       "        <td>2014-12-31 00:00:00</td>\n",
       "    </tr>\n",
       "    <tr>\n",
       "        <td>55225589F</td>\n",
       "        <td>CB Fuenla</td>\n",
       "        <td>Fuenlabrada</td>\n",
       "        <td>Madrid</td>\n",
       "        <td>3</td>\n",
       "        <td>2015-01-01 00:00:00</td>\n",
       "        <td>2015-12-31 00:00:00</td>\n",
       "    </tr>\n",
       "    <tr>\n",
       "        <td>57656799A</td>\n",
       "        <td>CB Fuenla</td>\n",
       "        <td>Fuenlabrada</td>\n",
       "        <td>Madrid</td>\n",
       "        <td>3</td>\n",
       "        <td>2015-01-01 00:00:00</td>\n",
       "        <td>2015-12-31 00:00:00</td>\n",
       "    </tr>\n",
       "    <tr>\n",
       "        <td>47787543G</td>\n",
       "        <td>CB Pontevedra</td>\n",
       "        <td>Pontevedra</td>\n",
       "        <td>Galicia</td>\n",
       "        <td>3</td>\n",
       "        <td>2015-01-01 00:00:00</td>\n",
       "        <td>2015-12-31 00:00:00</td>\n",
       "    </tr>\n",
       "    <tr>\n",
       "        <td>09099154Y</td>\n",
       "        <td>CB Pontevedra</td>\n",
       "        <td>Pontevedra</td>\n",
       "        <td>Galicia</td>\n",
       "        <td>3</td>\n",
       "        <td>2015-01-01 00:00:00</td>\n",
       "        <td>2015-12-31 00:00:00</td>\n",
       "    </tr>\n",
       "    <tr>\n",
       "        <td>58963633N</td>\n",
       "        <td>CB Mostoles</td>\n",
       "        <td>Mostoles</td>\n",
       "        <td>Madrid</td>\n",
       "        <td>3</td>\n",
       "        <td>2015-01-01 00:00:00</td>\n",
       "        <td>2015-12-31 00:00:00</td>\n",
       "    </tr>\n",
       "    <tr>\n",
       "        <td>58963633N</td>\n",
       "        <td>CB Mostoles</td>\n",
       "        <td>Mostoles</td>\n",
       "        <td>Madrid</td>\n",
       "        <td>4</td>\n",
       "        <td>2016-01-01 00:00:00</td>\n",
       "        <td>2016-12-31 00:00:00</td>\n",
       "    </tr>\n",
       "    <tr>\n",
       "        <td>02589658J</td>\n",
       "        <td>CB Cordoba</td>\n",
       "        <td>Cordoba</td>\n",
       "        <td>Andalucia</td>\n",
       "        <td>4</td>\n",
       "        <td>2016-01-01 00:00:00</td>\n",
       "        <td>2016-12-31 00:00:00</td>\n",
       "    </tr>\n",
       "    <tr>\n",
       "        <td>47787543G</td>\n",
       "        <td>CB Girona</td>\n",
       "        <td>Girona</td>\n",
       "        <td>Cataluña</td>\n",
       "        <td>4</td>\n",
       "        <td>2016-01-01 00:00:00</td>\n",
       "        <td>2016-12-31 00:00:00</td>\n",
       "    </tr>\n",
       "</table>"
      ],
      "text/plain": [
       "[(u'58963633N', u'CB Fuenla', u'Fuenlabrada', u'Madrid', 1, u'2013-01-01 00:00:00', u'2013-06-30 00:00:00'),\n",
       " (u'85967585L', u'CB Fuenla', u'Fuenlabrada', u'Madrid', 1, u'2013-07-01 00:00:00', u'2013-12-31 00:00:00'),\n",
       " (u'02589658J', u'CB Sevilla', u'Sevilla', u'Andalucia', 1, u'2013-01-01 00:00:00', u'2013-12-31 00:00:00'),\n",
       " (u'63272983D', u'CB Pontevedra', u'Pontevedra', u'Galicia', 1, u'2013-01-01 00:00:00', u'2013-12-31 00:00:00'),\n",
       " (u'63272983D', u'CB Estudiantes', u'Vigo', u'Galicia', 2, u'2014-01-01 00:00:00', u'2014-12-31 00:00:00'),\n",
       " (u'18992232H', u'CB Cordoba', u'Cordoba', u'Andalucia', 2, u'2014-01-01 00:00:00', u'2014-12-31 00:00:00'),\n",
       " (u'47787543G', u'CB Girona', u'Girona', u'Catalu\\xf1a', 2, u'2014-01-01 00:00:00', u'2014-03-31 00:00:00'),\n",
       " (u'09099154Y', u'CB Girona', u'Girona', u'Catalu\\xf1a', 2, u'2014-04-01 00:00:00', u'2014-12-31 00:00:00'),\n",
       " (u'55225589F', u'CB Fuenla', u'Fuenlabrada', u'Madrid', 3, u'2015-01-01 00:00:00', u'2015-12-31 00:00:00'),\n",
       " (u'57656799A', u'CB Fuenla', u'Fuenlabrada', u'Madrid', 3, u'2015-01-01 00:00:00', u'2015-12-31 00:00:00'),\n",
       " (u'47787543G', u'CB Pontevedra', u'Pontevedra', u'Galicia', 3, u'2015-01-01 00:00:00', u'2015-12-31 00:00:00'),\n",
       " (u'09099154Y', u'CB Pontevedra', u'Pontevedra', u'Galicia', 3, u'2015-01-01 00:00:00', u'2015-12-31 00:00:00'),\n",
       " (u'58963633N', u'CB Mostoles', u'Mostoles', u'Madrid', 3, u'2015-01-01 00:00:00', u'2015-12-31 00:00:00'),\n",
       " (u'58963633N', u'CB Mostoles', u'Mostoles', u'Madrid', 4, u'2016-01-01 00:00:00', u'2016-12-31 00:00:00'),\n",
       " (u'02589658J', u'CB Cordoba', u'Cordoba', u'Andalucia', 4, u'2016-01-01 00:00:00', u'2016-12-31 00:00:00'),\n",
       " (u'47787543G', u'CB Girona', u'Girona', u'Catalu\\xf1a', 4, u'2016-01-01 00:00:00', u'2016-12-31 00:00:00')]"
      ]
     },
     "execution_count": 10,
     "metadata": {},
     "output_type": "execute_result"
    }
   ],
   "source": [
    "%sql SELECT * FROM Participan_Entrenadores"
   ]
  },
  {
   "cell_type": "markdown",
   "metadata": {},
   "source": [
    "# PARTICIPAN_JUGADORES"
   ]
  },
  {
   "cell_type": "markdown",
   "metadata": {},
   "source": [
    "Esto sería lo equivalente a la plantilla del equipo.\n",
    "\n",
    "En este caso, al imponerse la restricción \"Los jugadores no cambian de equipo dentro de la misma temporada\", he decidido implementarlo obligando a que un jugador asociado a una temporada no pueda aparecer más de una vez en la relación entre Jugadores/Equipos/Temporadas. Esto implica que un jugador tampoco podrá, una vez participado en un equipo y tras ser expulsado, volver a formar parte de ese ni de ningún otro equipo dentro de esa misma temporada.\n",
    "\n",
    "De nuevo los equipos van asociados a una ciudad asociada a una comunidad autónoma."
   ]
  },
  {
   "cell_type": "code",
   "execution_count": 11,
   "metadata": {
    "collapsed": false
   },
   "outputs": [
    {
     "name": "stdout",
     "output_type": "stream",
     "text": [
      "Done.\n",
      "Done.\n"
     ]
    },
    {
     "data": {
      "text/plain": [
       "[]"
      ]
     },
     "execution_count": 11,
     "metadata": {},
     "output_type": "execute_result"
    }
   ],
   "source": [
    "%%sql\n",
    "CREATE TABLE IF NOT EXISTS Participan_Jugadores\n",
    "(jugador VARCHAR(10),\n",
    " equipo VARCHAR(30),\n",
    " ciudad VARCHAR(30),\n",
    " com_autonoma VARCHAR(30),\n",
    " temporada INT,\n",
    " PRIMARY KEY (jugador, equipo, ciudad, com_autonoma, temporada),\n",
    " FOREIGN KEY (jugador) REFERENCES Jugadores(nif),\n",
    " FOREIGN KEY (equipo) REFERENCES Equipos(nombre),\n",
    " FOREIGN KEY (ciudad) REFERENCES Ciudades(nombre),\n",
    " FOREIGN KEY (com_autonoma) REFERENCES Comunidades_Autonomas(nombre),\n",
    " FOREIGN KEY (temporada) REFERENCES Temporadas(numero),\n",
    " UNIQUE(jugador, temporada)\n",
    ");"
   ]
  },
  {
   "cell_type": "code",
   "execution_count": 81,
   "metadata": {
    "collapsed": false
   },
   "outputs": [
    {
     "name": "stdout",
     "output_type": "stream",
     "text": [
      "60 rows affected.\n",
      "Done.\n"
     ]
    },
    {
     "data": {
      "text/html": [
       "<table>\n",
       "    <tr>\n",
       "        <th>jugador</th>\n",
       "        <th>equipo</th>\n",
       "        <th>ciudad</th>\n",
       "        <th>com_autonoma</th>\n",
       "        <th>temporada</th>\n",
       "    </tr>\n",
       "</table>"
      ],
      "text/plain": [
       "[]"
      ]
     },
     "execution_count": 81,
     "metadata": {},
     "output_type": "execute_result"
    }
   ],
   "source": [
    "%%sql\n",
    "DELETE FROM Participan_Jugadores;\n",
    "SELECT * FROM Participan_Jugadores"
   ]
  },
  {
   "cell_type": "code",
   "execution_count": 82,
   "metadata": {
    "collapsed": false
   },
   "outputs": [
    {
     "name": "stdout",
     "output_type": "stream",
     "text": [
      "1 rows affected.\n",
      "1 rows affected.\n",
      "1 rows affected.\n",
      "1 rows affected.\n",
      "1 rows affected.\n",
      "1 rows affected.\n",
      "1 rows affected.\n",
      "1 rows affected.\n",
      "1 rows affected.\n",
      "1 rows affected.\n",
      "1 rows affected.\n",
      "1 rows affected.\n",
      "1 rows affected.\n",
      "1 rows affected.\n",
      "1 rows affected.\n",
      "1 rows affected.\n",
      "1 rows affected.\n",
      "1 rows affected.\n",
      "1 rows affected.\n",
      "1 rows affected.\n",
      "1 rows affected.\n",
      "1 rows affected.\n",
      "1 rows affected.\n",
      "1 rows affected.\n",
      "1 rows affected.\n",
      "1 rows affected.\n",
      "1 rows affected.\n",
      "1 rows affected.\n",
      "1 rows affected.\n",
      "1 rows affected.\n",
      "1 rows affected.\n",
      "1 rows affected.\n",
      "1 rows affected.\n",
      "1 rows affected.\n",
      "1 rows affected.\n",
      "1 rows affected.\n",
      "1 rows affected.\n",
      "1 rows affected.\n",
      "1 rows affected.\n",
      "1 rows affected.\n",
      "1 rows affected.\n",
      "1 rows affected.\n",
      "1 rows affected.\n",
      "1 rows affected.\n",
      "1 rows affected.\n",
      "1 rows affected.\n",
      "1 rows affected.\n",
      "1 rows affected.\n",
      "1 rows affected.\n",
      "1 rows affected.\n",
      "1 rows affected.\n",
      "1 rows affected.\n",
      "1 rows affected.\n",
      "1 rows affected.\n",
      "1 rows affected.\n",
      "1 rows affected.\n",
      "1 rows affected.\n",
      "1 rows affected.\n",
      "1 rows affected.\n",
      "1 rows affected.\n",
      "1 rows affected.\n",
      "1 rows affected.\n",
      "1 rows affected.\n",
      "1 rows affected.\n",
      "1 rows affected.\n",
      "1 rows affected.\n",
      "1 rows affected.\n",
      "1 rows affected.\n",
      "1 rows affected.\n",
      "1 rows affected.\n",
      "1 rows affected.\n",
      "1 rows affected.\n"
     ]
    },
    {
     "data": {
      "text/plain": [
       "[]"
      ]
     },
     "execution_count": 82,
     "metadata": {},
     "output_type": "execute_result"
    }
   ],
   "source": [
    "%%sql\n",
    "INSERT INTO Participan_Jugadores(jugador, equipo, ciudad, com_autonoma, temporada)\n",
    "VALUES ('15696688S', 'CB Fuenla', 'Fuenlabrada', 'Madrid', 1);\n",
    "INSERT INTO Participan_Jugadores(jugador, equipo, ciudad, com_autonoma, temporada)\n",
    "VALUES ('42322521A', 'CB Fuenla', 'Fuenlabrada', 'Madrid', 1);\n",
    "INSERT INTO Participan_Jugadores(jugador, equipo, ciudad, com_autonoma, temporada)\n",
    "VALUES ('24145854W', 'CB Fuenla', 'Fuenlabrada', 'Madrid', 1);\n",
    "INSERT INTO Participan_Jugadores(jugador, equipo, ciudad, com_autonoma, temporada)\n",
    "VALUES ('78558651W', 'CB Fuenla', 'Fuenlabrada', 'Madrid', 1);\n",
    "INSERT INTO Participan_Jugadores(jugador, equipo, ciudad, com_autonoma, temporada)\n",
    "VALUES ('05885114Q', 'CB Fuenla', 'Fuenlabrada', 'Madrid', 1);\n",
    "INSERT INTO Participan_Jugadores(jugador, equipo, ciudad, com_autonoma, temporada)\n",
    "VALUES ('15432811R', 'CB Fuenla', 'Fuenlabrada', 'Madrid', 1);\n",
    "INSERT INTO Participan_Jugadores(jugador, equipo, ciudad, com_autonoma, temporada)\n",
    "VALUES ('35492852T', 'CB Sevilla', 'Sevilla', 'Andalucia', 1);\n",
    "INSERT INTO Participan_Jugadores(jugador, equipo, ciudad, com_autonoma, temporada)\n",
    "VALUES ('45696683S', 'CB Sevilla', 'Sevilla', 'Andalucia', 1);\n",
    "INSERT INTO Participan_Jugadores(jugador, equipo, ciudad, com_autonoma, temporada)\n",
    "VALUES ('02322522A', 'CB Sevilla', 'Sevilla', 'Andalucia', 1);\n",
    "INSERT INTO Participan_Jugadores(jugador, equipo, ciudad, com_autonoma, temporada)\n",
    "VALUES ('14145856W', 'CB Sevilla', 'Sevilla', 'Andalucia', 1);\n",
    "INSERT INTO Participan_Jugadores(jugador, equipo, ciudad, com_autonoma, temporada)\n",
    "VALUES ('38558650W', 'CB Sevilla', 'Sevilla', 'Andalucia', 1);\n",
    "INSERT INTO Participan_Jugadores(jugador, equipo, ciudad, com_autonoma, temporada)\n",
    "VALUES ('25432855K', 'CB Sevilla', 'Sevilla', 'Andalucia', 1);\n",
    "INSERT INTO Participan_Jugadores(jugador, equipo, ciudad, com_autonoma, temporada)\n",
    "VALUES ('25885116Q', 'CB Pontevedra', 'Pontevedra', 'Galicia', 1);\n",
    "INSERT INTO Participan_Jugadores(jugador, equipo, ciudad, com_autonoma, temporada)\n",
    "VALUES ('45492851T', 'CB Pontevedra', 'Pontevedra', 'Galicia', 1);\n",
    "INSERT INTO Participan_Jugadores(jugador, equipo, ciudad, com_autonoma, temporada)\n",
    "VALUES ('45412859T', 'CB Pontevedra', 'Pontevedra', 'Galicia', 1);\n",
    "INSERT INTO Participan_Jugadores(jugador, equipo, ciudad, com_autonoma, temporada)\n",
    "VALUES ('45492655T', 'CB Pontevedra', 'Pontevedra', 'Galicia', 1);\n",
    "INSERT INTO Participan_Jugadores(jugador, equipo, ciudad, com_autonoma, temporada)\n",
    "VALUES ('45432859T', 'CB Pontevedra', 'Pontevedra', 'Galicia', 1);\n",
    "INSERT INTO Participan_Jugadores(jugador, equipo, ciudad, com_autonoma, temporada)\n",
    "VALUES ('35432899X', 'CB Pontevedra', 'Pontevedra', 'Galicia', 1);\n",
    "\n",
    "INSERT INTO Participan_Jugadores(jugador, equipo, ciudad, com_autonoma, temporada)\n",
    "VALUES ('15696688S', 'CB Estudiantes', 'Vigo', 'Galicia', 2);\n",
    "INSERT INTO Participan_Jugadores(jugador, equipo, ciudad, com_autonoma, temporada)\n",
    "VALUES ('42322521A', 'CB Estudiantes', 'Vigo', 'Galicia', 2);\n",
    "INSERT INTO Participan_Jugadores(jugador, equipo, ciudad, com_autonoma, temporada)\n",
    "VALUES ('24145854W', 'CB Estudiantes', 'Vigo', 'Galicia', 2);\n",
    "INSERT INTO Participan_Jugadores(jugador, equipo, ciudad, com_autonoma, temporada)\n",
    "VALUES ('78558651W', 'CB Estudiantes', 'Vigo', 'Galicia', 2);\n",
    "INSERT INTO Participan_Jugadores(jugador, equipo, ciudad, com_autonoma, temporada)\n",
    "VALUES ('05885114Q', 'CB Estudiantes', 'Vigo', 'Galicia', 2);\n",
    "INSERT INTO Participan_Jugadores(jugador, equipo, ciudad, com_autonoma, temporada)\n",
    "VALUES ('15432811R', 'CB Estudiantes', 'Vigo', 'Galicia', 2);\n",
    "INSERT INTO Participan_Jugadores(jugador, equipo, ciudad, com_autonoma, temporada)\n",
    "VALUES ('35492852T', 'CB Cordoba', 'Cordoba', 'Andalucia', 2);\n",
    "INSERT INTO Participan_Jugadores(jugador, equipo, ciudad, com_autonoma, temporada)\n",
    "VALUES ('45696683S', 'CB Cordoba', 'Cordoba', 'Andalucia', 2);\n",
    "INSERT INTO Participan_Jugadores(jugador, equipo, ciudad, com_autonoma, temporada)\n",
    "VALUES ('02322522A', 'CB Cordoba', 'Cordoba', 'Andalucia', 2);\n",
    "INSERT INTO Participan_Jugadores(jugador, equipo, ciudad, com_autonoma, temporada)\n",
    "VALUES ('14145856W', 'CB Cordoba', 'Cordoba', 'Andalucia', 2);\n",
    "INSERT INTO Participan_Jugadores(jugador, equipo, ciudad, com_autonoma, temporada)\n",
    "VALUES ('38558650W', 'CB Cordoba', 'Cordoba', 'Andalucia', 2);\n",
    "INSERT INTO Participan_Jugadores(jugador, equipo, ciudad, com_autonoma, temporada)\n",
    "VALUES ('25432855K', 'CB Cordoba', 'Cordoba', 'Andalucia', 2);\n",
    "INSERT INTO Participan_Jugadores(jugador, equipo, ciudad, com_autonoma, temporada)\n",
    "VALUES ('25885116Q', 'CB Girona', 'Girona', 'Cataluña', 2);\n",
    "INSERT INTO Participan_Jugadores(jugador, equipo, ciudad, com_autonoma, temporada)\n",
    "VALUES ('45492851T', 'CB Girona', 'Girona', 'Cataluña', 2);\n",
    "INSERT INTO Participan_Jugadores(jugador, equipo, ciudad, com_autonoma, temporada)\n",
    "VALUES ('45412859T', 'CB Girona', 'Girona', 'Cataluña', 2);\n",
    "INSERT INTO Participan_Jugadores(jugador, equipo, ciudad, com_autonoma, temporada)\n",
    "VALUES ('45492655T', 'CB Girona', 'Girona', 'Cataluña', 2);\n",
    "INSERT INTO Participan_Jugadores(jugador, equipo, ciudad, com_autonoma, temporada)\n",
    "VALUES ('45432859T', 'CB Girona', 'Girona', 'Cataluña', 2);\n",
    "INSERT INTO Participan_Jugadores(jugador, equipo, ciudad, com_autonoma, temporada)\n",
    "VALUES ('35432899X', 'CB Girona', 'Girona', 'Cataluña', 2);\n",
    "\n",
    "INSERT INTO Participan_Jugadores(jugador, equipo, ciudad, com_autonoma, temporada)\n",
    "VALUES ('15696688S', 'CB Fuenla', 'Fuenlabrada', 'Madrid', 3);\n",
    "INSERT INTO Participan_Jugadores(jugador, equipo, ciudad, com_autonoma, temporada)\n",
    "VALUES ('42322521A', 'CB Fuenla', 'Fuenlabrada', 'Madrid', 3);\n",
    "INSERT INTO Participan_Jugadores(jugador, equipo, ciudad, com_autonoma, temporada)\n",
    "VALUES ('24145854W', 'CB Fuenla', 'Fuenlabrada', 'Madrid', 3);\n",
    "INSERT INTO Participan_Jugadores(jugador, equipo, ciudad, com_autonoma, temporada)\n",
    "VALUES ('78558651W', 'CB Fuenla', 'Fuenlabrada', 'Madrid', 3);\n",
    "INSERT INTO Participan_Jugadores(jugador, equipo, ciudad, com_autonoma, temporada)\n",
    "VALUES ('05885114Q', 'CB Fuenla', 'Fuenlabrada', 'Madrid', 3);\n",
    "INSERT INTO Participan_Jugadores(jugador, equipo, ciudad, com_autonoma, temporada)\n",
    "VALUES ('15432811R', 'CB Fuenla', 'Fuenlabrada', 'Madrid', 3);\n",
    "INSERT INTO Participan_Jugadores(jugador, equipo, ciudad, com_autonoma, temporada)\n",
    "VALUES ('35492852T', 'CB Pontevedra', 'Pontevedra', 'Galicia', 3);\n",
    "INSERT INTO Participan_Jugadores(jugador, equipo, ciudad, com_autonoma, temporada)\n",
    "VALUES ('45696683S', 'CB Pontevedra', 'Pontevedra', 'Galicia', 3);\n",
    "INSERT INTO Participan_Jugadores(jugador, equipo, ciudad, com_autonoma, temporada)\n",
    "VALUES ('02322522A', 'CB Pontevedra', 'Pontevedra', 'Galicia', 3);\n",
    "INSERT INTO Participan_Jugadores(jugador, equipo, ciudad, com_autonoma, temporada)\n",
    "VALUES ('14145856W', 'CB Pontevedra', 'Pontevedra', 'Galicia', 3);\n",
    "INSERT INTO Participan_Jugadores(jugador, equipo, ciudad, com_autonoma, temporada)\n",
    "VALUES ('38558650W', 'CB Pontevedra', 'Pontevedra', 'Galicia', 3);\n",
    "INSERT INTO Participan_Jugadores(jugador, equipo, ciudad, com_autonoma, temporada)\n",
    "VALUES ('25432855K', 'CB Pontevedra', 'Pontevedra', 'Galicia', 3);\n",
    "INSERT INTO Participan_Jugadores(jugador, equipo, ciudad, com_autonoma, temporada)\n",
    "VALUES ('25885116Q', 'CB Mostoles','Mostoles', 'Madrid', 3);\n",
    "INSERT INTO Participan_Jugadores(jugador, equipo, ciudad, com_autonoma, temporada)\n",
    "VALUES ('45492851T', 'CB Mostoles','Mostoles', 'Madrid', 3);\n",
    "INSERT INTO Participan_Jugadores(jugador, equipo, ciudad, com_autonoma, temporada)\n",
    "VALUES ('45412859T', 'CB Mostoles','Mostoles', 'Madrid', 3);\n",
    "INSERT INTO Participan_Jugadores(jugador, equipo, ciudad, com_autonoma, temporada)\n",
    "VALUES ('45492655T', 'CB Mostoles','Mostoles', 'Madrid', 3);\n",
    "INSERT INTO Participan_Jugadores(jugador, equipo, ciudad, com_autonoma, temporada)\n",
    "VALUES ('45432859T', 'CB Mostoles','Mostoles', 'Madrid', 3);\n",
    "INSERT INTO Participan_Jugadores(jugador, equipo, ciudad, com_autonoma, temporada)\n",
    "VALUES ('35432899X', 'CB Mostoles','Mostoles', 'Madrid', 3);\n",
    "\n",
    "INSERT INTO Participan_Jugadores(jugador, equipo, ciudad, com_autonoma, temporada)\n",
    "VALUES ('15696688S', 'CB Mostoles', 'Mostoles', 'Madrid', 4);\n",
    "INSERT INTO Participan_Jugadores(jugador, equipo, ciudad, com_autonoma, temporada)\n",
    "VALUES ('42322521A', 'CB Mostoles', 'Mostoles', 'Madrid', 4);\n",
    "INSERT INTO Participan_Jugadores(jugador, equipo, ciudad, com_autonoma, temporada)\n",
    "VALUES ('24145854W', 'CB Mostoles', 'Mostoles', 'Madrid', 4);\n",
    "INSERT INTO Participan_Jugadores(jugador, equipo, ciudad, com_autonoma, temporada)\n",
    "VALUES ('78558651W', 'CB Mostoles', 'Mostoles', 'Madrid', 4);\n",
    "INSERT INTO Participan_Jugadores(jugador, equipo, ciudad, com_autonoma, temporada)\n",
    "VALUES ('05885114Q', 'CB Mostoles', 'Mostoles', 'Madrid', 4);\n",
    "INSERT INTO Participan_Jugadores(jugador, equipo, ciudad, com_autonoma, temporada)\n",
    "VALUES ('15432811R', 'CB Mostoles', 'Mostoles', 'Madrid', 4);\n",
    "INSERT INTO Participan_Jugadores(jugador, equipo, ciudad, com_autonoma, temporada)\n",
    "VALUES ('35492852T', 'CB Cordoba','Cordoba', 'Andalucia', 4);\n",
    "INSERT INTO Participan_Jugadores(jugador, equipo, ciudad, com_autonoma, temporada)\n",
    "VALUES ('45696683S', 'CB Cordoba','Cordoba', 'Andalucia', 4);\n",
    "INSERT INTO Participan_Jugadores(jugador, equipo, ciudad, com_autonoma, temporada)\n",
    "VALUES ('02322522A', 'CB Cordoba','Cordoba', 'Andalucia', 4);\n",
    "INSERT INTO Participan_Jugadores(jugador, equipo, ciudad, com_autonoma, temporada)\n",
    "VALUES ('14145856W', 'CB Cordoba','Cordoba', 'Andalucia', 4);\n",
    "INSERT INTO Participan_Jugadores(jugador, equipo, ciudad, com_autonoma, temporada)\n",
    "VALUES ('38558650W', 'CB Cordoba','Cordoba', 'Andalucia', 4);\n",
    "INSERT INTO Participan_Jugadores(jugador, equipo, ciudad, com_autonoma, temporada)\n",
    "VALUES ('25432855K', 'CB Cordoba','Cordoba', 'Andalucia', 4);\n",
    "INSERT INTO Participan_Jugadores(jugador, equipo, ciudad, com_autonoma, temporada)\n",
    "VALUES ('25885116Q', 'CB Girona','Girona', 'Cataluña', 4);\n",
    "INSERT INTO Participan_Jugadores(jugador, equipo, ciudad, com_autonoma, temporada)\n",
    "VALUES ('45492851T', 'CB Girona','Girona', 'Cataluña', 4);\n",
    "INSERT INTO Participan_Jugadores(jugador, equipo, ciudad, com_autonoma, temporada)\n",
    "VALUES ('45412859T', 'CB Girona','Girona', 'Cataluña', 4);\n",
    "INSERT INTO Participan_Jugadores(jugador, equipo, ciudad, com_autonoma, temporada)\n",
    "VALUES ('45492655T', 'CB Girona','Girona', 'Cataluña', 4);\n",
    "INSERT INTO Participan_Jugadores(jugador, equipo, ciudad, com_autonoma, temporada)\n",
    "VALUES ('45432859T', 'CB Girona','Girona', 'Cataluña', 4);\n",
    "INSERT INTO Participan_Jugadores(jugador, equipo, ciudad, com_autonoma, temporada)\n",
    "VALUES ('35432899X', 'CB Girona','Girona', 'Cataluña', 4);"
   ]
  },
  {
   "cell_type": "code",
   "execution_count": 83,
   "metadata": {
    "collapsed": false
   },
   "outputs": [
    {
     "name": "stdout",
     "output_type": "stream",
     "text": [
      "Done.\n"
     ]
    },
    {
     "data": {
      "text/html": [
       "<table>\n",
       "    <tr>\n",
       "        <th>jugador</th>\n",
       "        <th>equipo</th>\n",
       "        <th>ciudad</th>\n",
       "        <th>com_autonoma</th>\n",
       "        <th>temporada</th>\n",
       "    </tr>\n",
       "    <tr>\n",
       "        <td>15696688S</td>\n",
       "        <td>CB Fuenla</td>\n",
       "        <td>Fuenlabrada</td>\n",
       "        <td>Madrid</td>\n",
       "        <td>1</td>\n",
       "    </tr>\n",
       "    <tr>\n",
       "        <td>42322521A</td>\n",
       "        <td>CB Fuenla</td>\n",
       "        <td>Fuenlabrada</td>\n",
       "        <td>Madrid</td>\n",
       "        <td>1</td>\n",
       "    </tr>\n",
       "    <tr>\n",
       "        <td>24145854W</td>\n",
       "        <td>CB Fuenla</td>\n",
       "        <td>Fuenlabrada</td>\n",
       "        <td>Madrid</td>\n",
       "        <td>1</td>\n",
       "    </tr>\n",
       "    <tr>\n",
       "        <td>78558651W</td>\n",
       "        <td>CB Fuenla</td>\n",
       "        <td>Fuenlabrada</td>\n",
       "        <td>Madrid</td>\n",
       "        <td>1</td>\n",
       "    </tr>\n",
       "    <tr>\n",
       "        <td>05885114Q</td>\n",
       "        <td>CB Fuenla</td>\n",
       "        <td>Fuenlabrada</td>\n",
       "        <td>Madrid</td>\n",
       "        <td>1</td>\n",
       "    </tr>\n",
       "    <tr>\n",
       "        <td>15432811R</td>\n",
       "        <td>CB Fuenla</td>\n",
       "        <td>Fuenlabrada</td>\n",
       "        <td>Madrid</td>\n",
       "        <td>1</td>\n",
       "    </tr>\n",
       "    <tr>\n",
       "        <td>35492852T</td>\n",
       "        <td>CB Sevilla</td>\n",
       "        <td>Sevilla</td>\n",
       "        <td>Andalucia</td>\n",
       "        <td>1</td>\n",
       "    </tr>\n",
       "    <tr>\n",
       "        <td>45696683S</td>\n",
       "        <td>CB Sevilla</td>\n",
       "        <td>Sevilla</td>\n",
       "        <td>Andalucia</td>\n",
       "        <td>1</td>\n",
       "    </tr>\n",
       "    <tr>\n",
       "        <td>02322522A</td>\n",
       "        <td>CB Sevilla</td>\n",
       "        <td>Sevilla</td>\n",
       "        <td>Andalucia</td>\n",
       "        <td>1</td>\n",
       "    </tr>\n",
       "    <tr>\n",
       "        <td>14145856W</td>\n",
       "        <td>CB Sevilla</td>\n",
       "        <td>Sevilla</td>\n",
       "        <td>Andalucia</td>\n",
       "        <td>1</td>\n",
       "    </tr>\n",
       "    <tr>\n",
       "        <td>38558650W</td>\n",
       "        <td>CB Sevilla</td>\n",
       "        <td>Sevilla</td>\n",
       "        <td>Andalucia</td>\n",
       "        <td>1</td>\n",
       "    </tr>\n",
       "    <tr>\n",
       "        <td>25432855K</td>\n",
       "        <td>CB Sevilla</td>\n",
       "        <td>Sevilla</td>\n",
       "        <td>Andalucia</td>\n",
       "        <td>1</td>\n",
       "    </tr>\n",
       "    <tr>\n",
       "        <td>25885116Q</td>\n",
       "        <td>CB Pontevedra</td>\n",
       "        <td>Pontevedra</td>\n",
       "        <td>Galicia</td>\n",
       "        <td>1</td>\n",
       "    </tr>\n",
       "    <tr>\n",
       "        <td>45492851T</td>\n",
       "        <td>CB Pontevedra</td>\n",
       "        <td>Pontevedra</td>\n",
       "        <td>Galicia</td>\n",
       "        <td>1</td>\n",
       "    </tr>\n",
       "    <tr>\n",
       "        <td>45412859T</td>\n",
       "        <td>CB Pontevedra</td>\n",
       "        <td>Pontevedra</td>\n",
       "        <td>Galicia</td>\n",
       "        <td>1</td>\n",
       "    </tr>\n",
       "    <tr>\n",
       "        <td>45492655T</td>\n",
       "        <td>CB Pontevedra</td>\n",
       "        <td>Pontevedra</td>\n",
       "        <td>Galicia</td>\n",
       "        <td>1</td>\n",
       "    </tr>\n",
       "    <tr>\n",
       "        <td>45432859T</td>\n",
       "        <td>CB Pontevedra</td>\n",
       "        <td>Pontevedra</td>\n",
       "        <td>Galicia</td>\n",
       "        <td>1</td>\n",
       "    </tr>\n",
       "    <tr>\n",
       "        <td>35432899X</td>\n",
       "        <td>CB Pontevedra</td>\n",
       "        <td>Pontevedra</td>\n",
       "        <td>Galicia</td>\n",
       "        <td>1</td>\n",
       "    </tr>\n",
       "    <tr>\n",
       "        <td>15696688S</td>\n",
       "        <td>CB Estudiantes</td>\n",
       "        <td>Vigo</td>\n",
       "        <td>Galicia</td>\n",
       "        <td>2</td>\n",
       "    </tr>\n",
       "    <tr>\n",
       "        <td>42322521A</td>\n",
       "        <td>CB Estudiantes</td>\n",
       "        <td>Vigo</td>\n",
       "        <td>Galicia</td>\n",
       "        <td>2</td>\n",
       "    </tr>\n",
       "    <tr>\n",
       "        <td>24145854W</td>\n",
       "        <td>CB Estudiantes</td>\n",
       "        <td>Vigo</td>\n",
       "        <td>Galicia</td>\n",
       "        <td>2</td>\n",
       "    </tr>\n",
       "    <tr>\n",
       "        <td>78558651W</td>\n",
       "        <td>CB Estudiantes</td>\n",
       "        <td>Vigo</td>\n",
       "        <td>Galicia</td>\n",
       "        <td>2</td>\n",
       "    </tr>\n",
       "    <tr>\n",
       "        <td>05885114Q</td>\n",
       "        <td>CB Estudiantes</td>\n",
       "        <td>Vigo</td>\n",
       "        <td>Galicia</td>\n",
       "        <td>2</td>\n",
       "    </tr>\n",
       "    <tr>\n",
       "        <td>15432811R</td>\n",
       "        <td>CB Estudiantes</td>\n",
       "        <td>Vigo</td>\n",
       "        <td>Galicia</td>\n",
       "        <td>2</td>\n",
       "    </tr>\n",
       "    <tr>\n",
       "        <td>35492852T</td>\n",
       "        <td>CB Cordoba</td>\n",
       "        <td>Cordoba</td>\n",
       "        <td>Andalucia</td>\n",
       "        <td>2</td>\n",
       "    </tr>\n",
       "    <tr>\n",
       "        <td>45696683S</td>\n",
       "        <td>CB Cordoba</td>\n",
       "        <td>Cordoba</td>\n",
       "        <td>Andalucia</td>\n",
       "        <td>2</td>\n",
       "    </tr>\n",
       "    <tr>\n",
       "        <td>02322522A</td>\n",
       "        <td>CB Cordoba</td>\n",
       "        <td>Cordoba</td>\n",
       "        <td>Andalucia</td>\n",
       "        <td>2</td>\n",
       "    </tr>\n",
       "    <tr>\n",
       "        <td>14145856W</td>\n",
       "        <td>CB Cordoba</td>\n",
       "        <td>Cordoba</td>\n",
       "        <td>Andalucia</td>\n",
       "        <td>2</td>\n",
       "    </tr>\n",
       "    <tr>\n",
       "        <td>38558650W</td>\n",
       "        <td>CB Cordoba</td>\n",
       "        <td>Cordoba</td>\n",
       "        <td>Andalucia</td>\n",
       "        <td>2</td>\n",
       "    </tr>\n",
       "    <tr>\n",
       "        <td>25432855K</td>\n",
       "        <td>CB Cordoba</td>\n",
       "        <td>Cordoba</td>\n",
       "        <td>Andalucia</td>\n",
       "        <td>2</td>\n",
       "    </tr>\n",
       "    <tr>\n",
       "        <td>25885116Q</td>\n",
       "        <td>CB Girona</td>\n",
       "        <td>Girona</td>\n",
       "        <td>Cataluña</td>\n",
       "        <td>2</td>\n",
       "    </tr>\n",
       "    <tr>\n",
       "        <td>45492851T</td>\n",
       "        <td>CB Girona</td>\n",
       "        <td>Girona</td>\n",
       "        <td>Cataluña</td>\n",
       "        <td>2</td>\n",
       "    </tr>\n",
       "    <tr>\n",
       "        <td>45412859T</td>\n",
       "        <td>CB Girona</td>\n",
       "        <td>Girona</td>\n",
       "        <td>Cataluña</td>\n",
       "        <td>2</td>\n",
       "    </tr>\n",
       "    <tr>\n",
       "        <td>45492655T</td>\n",
       "        <td>CB Girona</td>\n",
       "        <td>Girona</td>\n",
       "        <td>Cataluña</td>\n",
       "        <td>2</td>\n",
       "    </tr>\n",
       "    <tr>\n",
       "        <td>45432859T</td>\n",
       "        <td>CB Girona</td>\n",
       "        <td>Girona</td>\n",
       "        <td>Cataluña</td>\n",
       "        <td>2</td>\n",
       "    </tr>\n",
       "    <tr>\n",
       "        <td>35432899X</td>\n",
       "        <td>CB Girona</td>\n",
       "        <td>Girona</td>\n",
       "        <td>Cataluña</td>\n",
       "        <td>2</td>\n",
       "    </tr>\n",
       "    <tr>\n",
       "        <td>15696688S</td>\n",
       "        <td>CB Fuenla</td>\n",
       "        <td>Fuenlabrada</td>\n",
       "        <td>Madrid</td>\n",
       "        <td>3</td>\n",
       "    </tr>\n",
       "    <tr>\n",
       "        <td>42322521A</td>\n",
       "        <td>CB Fuenla</td>\n",
       "        <td>Fuenlabrada</td>\n",
       "        <td>Madrid</td>\n",
       "        <td>3</td>\n",
       "    </tr>\n",
       "    <tr>\n",
       "        <td>24145854W</td>\n",
       "        <td>CB Fuenla</td>\n",
       "        <td>Fuenlabrada</td>\n",
       "        <td>Madrid</td>\n",
       "        <td>3</td>\n",
       "    </tr>\n",
       "    <tr>\n",
       "        <td>78558651W</td>\n",
       "        <td>CB Fuenla</td>\n",
       "        <td>Fuenlabrada</td>\n",
       "        <td>Madrid</td>\n",
       "        <td>3</td>\n",
       "    </tr>\n",
       "    <tr>\n",
       "        <td>05885114Q</td>\n",
       "        <td>CB Fuenla</td>\n",
       "        <td>Fuenlabrada</td>\n",
       "        <td>Madrid</td>\n",
       "        <td>3</td>\n",
       "    </tr>\n",
       "    <tr>\n",
       "        <td>15432811R</td>\n",
       "        <td>CB Fuenla</td>\n",
       "        <td>Fuenlabrada</td>\n",
       "        <td>Madrid</td>\n",
       "        <td>3</td>\n",
       "    </tr>\n",
       "    <tr>\n",
       "        <td>35492852T</td>\n",
       "        <td>CB Pontevedra</td>\n",
       "        <td>Pontevedra</td>\n",
       "        <td>Galicia</td>\n",
       "        <td>3</td>\n",
       "    </tr>\n",
       "    <tr>\n",
       "        <td>45696683S</td>\n",
       "        <td>CB Pontevedra</td>\n",
       "        <td>Pontevedra</td>\n",
       "        <td>Galicia</td>\n",
       "        <td>3</td>\n",
       "    </tr>\n",
       "    <tr>\n",
       "        <td>02322522A</td>\n",
       "        <td>CB Pontevedra</td>\n",
       "        <td>Pontevedra</td>\n",
       "        <td>Galicia</td>\n",
       "        <td>3</td>\n",
       "    </tr>\n",
       "    <tr>\n",
       "        <td>14145856W</td>\n",
       "        <td>CB Pontevedra</td>\n",
       "        <td>Pontevedra</td>\n",
       "        <td>Galicia</td>\n",
       "        <td>3</td>\n",
       "    </tr>\n",
       "    <tr>\n",
       "        <td>38558650W</td>\n",
       "        <td>CB Pontevedra</td>\n",
       "        <td>Pontevedra</td>\n",
       "        <td>Galicia</td>\n",
       "        <td>3</td>\n",
       "    </tr>\n",
       "    <tr>\n",
       "        <td>25432855K</td>\n",
       "        <td>CB Pontevedra</td>\n",
       "        <td>Pontevedra</td>\n",
       "        <td>Galicia</td>\n",
       "        <td>3</td>\n",
       "    </tr>\n",
       "    <tr>\n",
       "        <td>25885116Q</td>\n",
       "        <td>CB Mostoles</td>\n",
       "        <td>Mostoles</td>\n",
       "        <td>Madrid</td>\n",
       "        <td>3</td>\n",
       "    </tr>\n",
       "    <tr>\n",
       "        <td>45492851T</td>\n",
       "        <td>CB Mostoles</td>\n",
       "        <td>Mostoles</td>\n",
       "        <td>Madrid</td>\n",
       "        <td>3</td>\n",
       "    </tr>\n",
       "    <tr>\n",
       "        <td>45412859T</td>\n",
       "        <td>CB Mostoles</td>\n",
       "        <td>Mostoles</td>\n",
       "        <td>Madrid</td>\n",
       "        <td>3</td>\n",
       "    </tr>\n",
       "    <tr>\n",
       "        <td>45492655T</td>\n",
       "        <td>CB Mostoles</td>\n",
       "        <td>Mostoles</td>\n",
       "        <td>Madrid</td>\n",
       "        <td>3</td>\n",
       "    </tr>\n",
       "    <tr>\n",
       "        <td>45432859T</td>\n",
       "        <td>CB Mostoles</td>\n",
       "        <td>Mostoles</td>\n",
       "        <td>Madrid</td>\n",
       "        <td>3</td>\n",
       "    </tr>\n",
       "    <tr>\n",
       "        <td>35432899X</td>\n",
       "        <td>CB Mostoles</td>\n",
       "        <td>Mostoles</td>\n",
       "        <td>Madrid</td>\n",
       "        <td>3</td>\n",
       "    </tr>\n",
       "    <tr>\n",
       "        <td>15696688S</td>\n",
       "        <td>CB Mostoles</td>\n",
       "        <td>Mostoles</td>\n",
       "        <td>Madrid</td>\n",
       "        <td>4</td>\n",
       "    </tr>\n",
       "    <tr>\n",
       "        <td>42322521A</td>\n",
       "        <td>CB Mostoles</td>\n",
       "        <td>Mostoles</td>\n",
       "        <td>Madrid</td>\n",
       "        <td>4</td>\n",
       "    </tr>\n",
       "    <tr>\n",
       "        <td>24145854W</td>\n",
       "        <td>CB Mostoles</td>\n",
       "        <td>Mostoles</td>\n",
       "        <td>Madrid</td>\n",
       "        <td>4</td>\n",
       "    </tr>\n",
       "    <tr>\n",
       "        <td>78558651W</td>\n",
       "        <td>CB Mostoles</td>\n",
       "        <td>Mostoles</td>\n",
       "        <td>Madrid</td>\n",
       "        <td>4</td>\n",
       "    </tr>\n",
       "    <tr>\n",
       "        <td>05885114Q</td>\n",
       "        <td>CB Mostoles</td>\n",
       "        <td>Mostoles</td>\n",
       "        <td>Madrid</td>\n",
       "        <td>4</td>\n",
       "    </tr>\n",
       "    <tr>\n",
       "        <td>15432811R</td>\n",
       "        <td>CB Mostoles</td>\n",
       "        <td>Mostoles</td>\n",
       "        <td>Madrid</td>\n",
       "        <td>4</td>\n",
       "    </tr>\n",
       "    <tr>\n",
       "        <td>35492852T</td>\n",
       "        <td>CB Cordoba</td>\n",
       "        <td>Cordoba</td>\n",
       "        <td>Andalucia</td>\n",
       "        <td>4</td>\n",
       "    </tr>\n",
       "    <tr>\n",
       "        <td>45696683S</td>\n",
       "        <td>CB Cordoba</td>\n",
       "        <td>Cordoba</td>\n",
       "        <td>Andalucia</td>\n",
       "        <td>4</td>\n",
       "    </tr>\n",
       "    <tr>\n",
       "        <td>02322522A</td>\n",
       "        <td>CB Cordoba</td>\n",
       "        <td>Cordoba</td>\n",
       "        <td>Andalucia</td>\n",
       "        <td>4</td>\n",
       "    </tr>\n",
       "    <tr>\n",
       "        <td>14145856W</td>\n",
       "        <td>CB Cordoba</td>\n",
       "        <td>Cordoba</td>\n",
       "        <td>Andalucia</td>\n",
       "        <td>4</td>\n",
       "    </tr>\n",
       "    <tr>\n",
       "        <td>38558650W</td>\n",
       "        <td>CB Cordoba</td>\n",
       "        <td>Cordoba</td>\n",
       "        <td>Andalucia</td>\n",
       "        <td>4</td>\n",
       "    </tr>\n",
       "    <tr>\n",
       "        <td>25432855K</td>\n",
       "        <td>CB Cordoba</td>\n",
       "        <td>Cordoba</td>\n",
       "        <td>Andalucia</td>\n",
       "        <td>4</td>\n",
       "    </tr>\n",
       "    <tr>\n",
       "        <td>25885116Q</td>\n",
       "        <td>CB Girona</td>\n",
       "        <td>Girona</td>\n",
       "        <td>Cataluña</td>\n",
       "        <td>4</td>\n",
       "    </tr>\n",
       "    <tr>\n",
       "        <td>45492851T</td>\n",
       "        <td>CB Girona</td>\n",
       "        <td>Girona</td>\n",
       "        <td>Cataluña</td>\n",
       "        <td>4</td>\n",
       "    </tr>\n",
       "    <tr>\n",
       "        <td>45412859T</td>\n",
       "        <td>CB Girona</td>\n",
       "        <td>Girona</td>\n",
       "        <td>Cataluña</td>\n",
       "        <td>4</td>\n",
       "    </tr>\n",
       "    <tr>\n",
       "        <td>45492655T</td>\n",
       "        <td>CB Girona</td>\n",
       "        <td>Girona</td>\n",
       "        <td>Cataluña</td>\n",
       "        <td>4</td>\n",
       "    </tr>\n",
       "    <tr>\n",
       "        <td>45432859T</td>\n",
       "        <td>CB Girona</td>\n",
       "        <td>Girona</td>\n",
       "        <td>Cataluña</td>\n",
       "        <td>4</td>\n",
       "    </tr>\n",
       "    <tr>\n",
       "        <td>35432899X</td>\n",
       "        <td>CB Girona</td>\n",
       "        <td>Girona</td>\n",
       "        <td>Cataluña</td>\n",
       "        <td>4</td>\n",
       "    </tr>\n",
       "</table>"
      ],
      "text/plain": [
       "[(u'15696688S', u'CB Fuenla', u'Fuenlabrada', u'Madrid', 1),\n",
       " (u'42322521A', u'CB Fuenla', u'Fuenlabrada', u'Madrid', 1),\n",
       " (u'24145854W', u'CB Fuenla', u'Fuenlabrada', u'Madrid', 1),\n",
       " (u'78558651W', u'CB Fuenla', u'Fuenlabrada', u'Madrid', 1),\n",
       " (u'05885114Q', u'CB Fuenla', u'Fuenlabrada', u'Madrid', 1),\n",
       " (u'15432811R', u'CB Fuenla', u'Fuenlabrada', u'Madrid', 1),\n",
       " (u'35492852T', u'CB Sevilla', u'Sevilla', u'Andalucia', 1),\n",
       " (u'45696683S', u'CB Sevilla', u'Sevilla', u'Andalucia', 1),\n",
       " (u'02322522A', u'CB Sevilla', u'Sevilla', u'Andalucia', 1),\n",
       " (u'14145856W', u'CB Sevilla', u'Sevilla', u'Andalucia', 1),\n",
       " (u'38558650W', u'CB Sevilla', u'Sevilla', u'Andalucia', 1),\n",
       " (u'25432855K', u'CB Sevilla', u'Sevilla', u'Andalucia', 1),\n",
       " (u'25885116Q', u'CB Pontevedra', u'Pontevedra', u'Galicia', 1),\n",
       " (u'45492851T', u'CB Pontevedra', u'Pontevedra', u'Galicia', 1),\n",
       " (u'45412859T', u'CB Pontevedra', u'Pontevedra', u'Galicia', 1),\n",
       " (u'45492655T', u'CB Pontevedra', u'Pontevedra', u'Galicia', 1),\n",
       " (u'45432859T', u'CB Pontevedra', u'Pontevedra', u'Galicia', 1),\n",
       " (u'35432899X', u'CB Pontevedra', u'Pontevedra', u'Galicia', 1),\n",
       " (u'15696688S', u'CB Estudiantes', u'Vigo', u'Galicia', 2),\n",
       " (u'42322521A', u'CB Estudiantes', u'Vigo', u'Galicia', 2),\n",
       " (u'24145854W', u'CB Estudiantes', u'Vigo', u'Galicia', 2),\n",
       " (u'78558651W', u'CB Estudiantes', u'Vigo', u'Galicia', 2),\n",
       " (u'05885114Q', u'CB Estudiantes', u'Vigo', u'Galicia', 2),\n",
       " (u'15432811R', u'CB Estudiantes', u'Vigo', u'Galicia', 2),\n",
       " (u'35492852T', u'CB Cordoba', u'Cordoba', u'Andalucia', 2),\n",
       " (u'45696683S', u'CB Cordoba', u'Cordoba', u'Andalucia', 2),\n",
       " (u'02322522A', u'CB Cordoba', u'Cordoba', u'Andalucia', 2),\n",
       " (u'14145856W', u'CB Cordoba', u'Cordoba', u'Andalucia', 2),\n",
       " (u'38558650W', u'CB Cordoba', u'Cordoba', u'Andalucia', 2),\n",
       " (u'25432855K', u'CB Cordoba', u'Cordoba', u'Andalucia', 2),\n",
       " (u'25885116Q', u'CB Girona', u'Girona', u'Catalu\\xf1a', 2),\n",
       " (u'45492851T', u'CB Girona', u'Girona', u'Catalu\\xf1a', 2),\n",
       " (u'45412859T', u'CB Girona', u'Girona', u'Catalu\\xf1a', 2),\n",
       " (u'45492655T', u'CB Girona', u'Girona', u'Catalu\\xf1a', 2),\n",
       " (u'45432859T', u'CB Girona', u'Girona', u'Catalu\\xf1a', 2),\n",
       " (u'35432899X', u'CB Girona', u'Girona', u'Catalu\\xf1a', 2),\n",
       " (u'15696688S', u'CB Fuenla', u'Fuenlabrada', u'Madrid', 3),\n",
       " (u'42322521A', u'CB Fuenla', u'Fuenlabrada', u'Madrid', 3),\n",
       " (u'24145854W', u'CB Fuenla', u'Fuenlabrada', u'Madrid', 3),\n",
       " (u'78558651W', u'CB Fuenla', u'Fuenlabrada', u'Madrid', 3),\n",
       " (u'05885114Q', u'CB Fuenla', u'Fuenlabrada', u'Madrid', 3),\n",
       " (u'15432811R', u'CB Fuenla', u'Fuenlabrada', u'Madrid', 3),\n",
       " (u'35492852T', u'CB Pontevedra', u'Pontevedra', u'Galicia', 3),\n",
       " (u'45696683S', u'CB Pontevedra', u'Pontevedra', u'Galicia', 3),\n",
       " (u'02322522A', u'CB Pontevedra', u'Pontevedra', u'Galicia', 3),\n",
       " (u'14145856W', u'CB Pontevedra', u'Pontevedra', u'Galicia', 3),\n",
       " (u'38558650W', u'CB Pontevedra', u'Pontevedra', u'Galicia', 3),\n",
       " (u'25432855K', u'CB Pontevedra', u'Pontevedra', u'Galicia', 3),\n",
       " (u'25885116Q', u'CB Mostoles', u'Mostoles', u'Madrid', 3),\n",
       " (u'45492851T', u'CB Mostoles', u'Mostoles', u'Madrid', 3),\n",
       " (u'45412859T', u'CB Mostoles', u'Mostoles', u'Madrid', 3),\n",
       " (u'45492655T', u'CB Mostoles', u'Mostoles', u'Madrid', 3),\n",
       " (u'45432859T', u'CB Mostoles', u'Mostoles', u'Madrid', 3),\n",
       " (u'35432899X', u'CB Mostoles', u'Mostoles', u'Madrid', 3),\n",
       " (u'15696688S', u'CB Mostoles', u'Mostoles', u'Madrid', 4),\n",
       " (u'42322521A', u'CB Mostoles', u'Mostoles', u'Madrid', 4),\n",
       " (u'24145854W', u'CB Mostoles', u'Mostoles', u'Madrid', 4),\n",
       " (u'78558651W', u'CB Mostoles', u'Mostoles', u'Madrid', 4),\n",
       " (u'05885114Q', u'CB Mostoles', u'Mostoles', u'Madrid', 4),\n",
       " (u'15432811R', u'CB Mostoles', u'Mostoles', u'Madrid', 4),\n",
       " (u'35492852T', u'CB Cordoba', u'Cordoba', u'Andalucia', 4),\n",
       " (u'45696683S', u'CB Cordoba', u'Cordoba', u'Andalucia', 4),\n",
       " (u'02322522A', u'CB Cordoba', u'Cordoba', u'Andalucia', 4),\n",
       " (u'14145856W', u'CB Cordoba', u'Cordoba', u'Andalucia', 4),\n",
       " (u'38558650W', u'CB Cordoba', u'Cordoba', u'Andalucia', 4),\n",
       " (u'25432855K', u'CB Cordoba', u'Cordoba', u'Andalucia', 4),\n",
       " (u'25885116Q', u'CB Girona', u'Girona', u'Catalu\\xf1a', 4),\n",
       " (u'45492851T', u'CB Girona', u'Girona', u'Catalu\\xf1a', 4),\n",
       " (u'45412859T', u'CB Girona', u'Girona', u'Catalu\\xf1a', 4),\n",
       " (u'45492655T', u'CB Girona', u'Girona', u'Catalu\\xf1a', 4),\n",
       " (u'45432859T', u'CB Girona', u'Girona', u'Catalu\\xf1a', 4),\n",
       " (u'35432899X', u'CB Girona', u'Girona', u'Catalu\\xf1a', 4)]"
      ]
     },
     "execution_count": 83,
     "metadata": {},
     "output_type": "execute_result"
    }
   ],
   "source": [
    "%sql SELECT * FROM Participan_Jugadores"
   ]
  },
  {
   "cell_type": "markdown",
   "metadata": {},
   "source": [
    "# DIRECCIONES\n",
    "\n",
    "En este caso he supuesto que es improbable que aunque haya la misma calle en dos ciudades también coincida en el número en el que está localizada la cancha, por lo que es suficiente considerar como clave la calle y el número."
   ]
  },
  {
   "cell_type": "code",
   "execution_count": 74,
   "metadata": {
    "collapsed": false
   },
   "outputs": [
    {
     "name": "stdout",
     "output_type": "stream",
     "text": [
      "Done.\n"
     ]
    },
    {
     "data": {
      "text/plain": [
       "[]"
      ]
     },
     "execution_count": 74,
     "metadata": {},
     "output_type": "execute_result"
    }
   ],
   "source": [
    "%%sql\n",
    "CREATE TABLE IF NOT EXISTS Direcciones\n",
    "(calle VARCHAR(30),\n",
    " numero INT,\n",
    " ciudad VARCHAR(30),\n",
    " com_autonoma VARCHAR(30),\n",
    " PRIMARY KEY (calle, numero),\n",
    " FOREIGN KEY (ciudad) REFERENCES Ciudades(nombre),\n",
    " FOREIGN KEY (com_autonoma) REFERENCES Comunidades_Autonomas(nombre)\n",
    ");"
   ]
  },
  {
   "cell_type": "code",
   "execution_count": 86,
   "metadata": {
    "collapsed": false
   },
   "outputs": [
    {
     "name": "stdout",
     "output_type": "stream",
     "text": [
      "9 rows affected.\n",
      "Done.\n"
     ]
    },
    {
     "data": {
      "text/html": [
       "<table>\n",
       "    <tr>\n",
       "        <th>calle</th>\n",
       "        <th>numero</th>\n",
       "        <th>ciudad</th>\n",
       "        <th>com_autonoma</th>\n",
       "    </tr>\n",
       "</table>"
      ],
      "text/plain": [
       "[]"
      ]
     },
     "execution_count": 86,
     "metadata": {},
     "output_type": "execute_result"
    }
   ],
   "source": [
    "%%sql\n",
    "DELETE FROM Direcciones;\n",
    "SELECT * FROM Direcciones"
   ]
  },
  {
   "cell_type": "code",
   "execution_count": 87,
   "metadata": {
    "collapsed": false
   },
   "outputs": [
    {
     "name": "stdout",
     "output_type": "stream",
     "text": [
      "1 rows affected.\n",
      "1 rows affected.\n",
      "1 rows affected.\n",
      "1 rows affected.\n",
      "1 rows affected.\n",
      "1 rows affected.\n",
      "1 rows affected.\n",
      "1 rows affected.\n",
      "1 rows affected.\n",
      "1 rows affected.\n"
     ]
    },
    {
     "data": {
      "text/plain": [
       "[]"
      ]
     },
     "execution_count": 87,
     "metadata": {},
     "output_type": "execute_result"
    }
   ],
   "source": [
    "%%sql\n",
    "INSERT INTO Direcciones(calle, numero, ciudad, com_autonoma)\n",
    "VALUES ('Calle Peonia', 24, 'Fuenlabrada', 'Madrid');\n",
    "INSERT INTO Direcciones(calle, numero, ciudad, com_autonoma)\n",
    "VALUES ('Calle Velazquez', 12, 'Fuenlabrada', 'Madrid');\n",
    "INSERT INTO Direcciones(calle, numero, ciudad, com_autonoma)\n",
    "VALUES ('Calle Filipinas', 45, 'Mostoles', 'Madrid');\n",
    "INSERT INTO Direcciones(calle, numero, ciudad, com_autonoma)\n",
    "VALUES ('Calle Arguelles', 1, 'Alcorcon', 'Madrid');\n",
    "INSERT INTO Direcciones(calle, numero, ciudad, com_autonoma)\n",
    "VALUES ('Plaza Minarete', 5, 'Sevilla', 'Andalucia');\n",
    "INSERT INTO Direcciones(calle, numero, ciudad, com_autonoma)\n",
    "VALUES ('Calle de la Cruz', 4, 'Cordoba', 'Andalucia');\n",
    "INSERT INTO Direcciones(calle, numero, ciudad, com_autonoma)\n",
    "VALUES ('Calle Relacion', 12, 'Vigo', 'Galicia');\n",
    "INSERT INTO Direcciones(calle, numero, ciudad, com_autonoma)\n",
    "VALUES ('Avenida de la Paz', 8, 'Pontevedra', 'Galicia');\n",
    "INSERT INTO Direcciones(calle, numero, ciudad, com_autonoma)\n",
    "VALUES ('Calle Amistad', 7, 'Barcelona', 'Cataluña');\n",
    "INSERT INTO Direcciones(calle, numero, ciudad, com_autonoma)\n",
    "VALUES ('Calle Lirios', 33, 'Girona', 'Cataluña');"
   ]
  },
  {
   "cell_type": "code",
   "execution_count": 88,
   "metadata": {
    "collapsed": false
   },
   "outputs": [
    {
     "name": "stdout",
     "output_type": "stream",
     "text": [
      "Done.\n"
     ]
    },
    {
     "data": {
      "text/html": [
       "<table>\n",
       "    <tr>\n",
       "        <th>calle</th>\n",
       "        <th>numero</th>\n",
       "        <th>ciudad</th>\n",
       "        <th>com_autonoma</th>\n",
       "    </tr>\n",
       "    <tr>\n",
       "        <td>Calle Peonia</td>\n",
       "        <td>24</td>\n",
       "        <td>Fuenlabrada</td>\n",
       "        <td>Madrid</td>\n",
       "    </tr>\n",
       "    <tr>\n",
       "        <td>Calle Velazquez</td>\n",
       "        <td>12</td>\n",
       "        <td>Fuenlabrada</td>\n",
       "        <td>Madrid</td>\n",
       "    </tr>\n",
       "    <tr>\n",
       "        <td>Calle Filipinas</td>\n",
       "        <td>45</td>\n",
       "        <td>Mostoles</td>\n",
       "        <td>Madrid</td>\n",
       "    </tr>\n",
       "    <tr>\n",
       "        <td>Calle Arguelles</td>\n",
       "        <td>1</td>\n",
       "        <td>Alcorcon</td>\n",
       "        <td>Madrid</td>\n",
       "    </tr>\n",
       "    <tr>\n",
       "        <td>Plaza Minarete</td>\n",
       "        <td>5</td>\n",
       "        <td>Sevilla</td>\n",
       "        <td>Andalucia</td>\n",
       "    </tr>\n",
       "    <tr>\n",
       "        <td>Calle de la Cruz</td>\n",
       "        <td>4</td>\n",
       "        <td>Cordoba</td>\n",
       "        <td>Andalucia</td>\n",
       "    </tr>\n",
       "    <tr>\n",
       "        <td>Calle Relacion</td>\n",
       "        <td>12</td>\n",
       "        <td>Vigo</td>\n",
       "        <td>Galicia</td>\n",
       "    </tr>\n",
       "    <tr>\n",
       "        <td>Avenida de la Paz</td>\n",
       "        <td>8</td>\n",
       "        <td>Pontevedra</td>\n",
       "        <td>Galicia</td>\n",
       "    </tr>\n",
       "    <tr>\n",
       "        <td>Calle Amistad</td>\n",
       "        <td>7</td>\n",
       "        <td>Barcelona</td>\n",
       "        <td>Cataluña</td>\n",
       "    </tr>\n",
       "    <tr>\n",
       "        <td>Calle Lirios</td>\n",
       "        <td>33</td>\n",
       "        <td>Girona</td>\n",
       "        <td>Cataluña</td>\n",
       "    </tr>\n",
       "</table>"
      ],
      "text/plain": [
       "[(u'Calle Peonia', 24, u'Fuenlabrada', u'Madrid'),\n",
       " (u'Calle Velazquez', 12, u'Fuenlabrada', u'Madrid'),\n",
       " (u'Calle Filipinas', 45, u'Mostoles', u'Madrid'),\n",
       " (u'Calle Arguelles', 1, u'Alcorcon', u'Madrid'),\n",
       " (u'Plaza Minarete', 5, u'Sevilla', u'Andalucia'),\n",
       " (u'Calle de la Cruz', 4, u'Cordoba', u'Andalucia'),\n",
       " (u'Calle Relacion', 12, u'Vigo', u'Galicia'),\n",
       " (u'Avenida de la Paz', 8, u'Pontevedra', u'Galicia'),\n",
       " (u'Calle Amistad', 7, u'Barcelona', u'Catalu\\xf1a'),\n",
       " (u'Calle Lirios', 33, u'Girona', u'Catalu\\xf1a')]"
      ]
     },
     "execution_count": 88,
     "metadata": {},
     "output_type": "execute_result"
    }
   ],
   "source": [
    "%sql SELECT * FROM Direcciones"
   ]
  },
  {
   "cell_type": "markdown",
   "metadata": {},
   "source": [
    "# CANCHAS\n",
    "\n",
    "Al fijar como clave primaria tan sólo el nombre de cancha permito que haya dos canchas en la misma dirección, ya que pueden estar juntas la una a la otra (por ejemplo en el mismo polideportivo)."
   ]
  },
  {
   "cell_type": "code",
   "execution_count": 38,
   "metadata": {
    "collapsed": false
   },
   "outputs": [
    {
     "name": "stdout",
     "output_type": "stream",
     "text": [
      "Done.\n",
      "Done.\n"
     ]
    },
    {
     "data": {
      "text/plain": [
       "[]"
      ]
     },
     "execution_count": 38,
     "metadata": {},
     "output_type": "execute_result"
    }
   ],
   "source": [
    "%%sql\n",
    "CREATE TABLE IF NOT EXISTS Canchas\n",
    "(nombre VARCHAR(30),\n",
    " calle VARCHAR(30),\n",
    " numero INT,\n",
    " PRIMARY KEY (nombre)\n",
    " FOREIGN KEY (calle, numero) REFERENCES Direcciones(calle, numero)\n",
    ");\n"
   ]
  },
  {
   "cell_type": "code",
   "execution_count": 39,
   "metadata": {
    "collapsed": false
   },
   "outputs": [
    {
     "name": "stdout",
     "output_type": "stream",
     "text": [
      "0 rows affected.\n",
      "Done.\n"
     ]
    },
    {
     "data": {
      "text/html": [
       "<table>\n",
       "    <tr>\n",
       "        <th>nombre</th>\n",
       "        <th>calle</th>\n",
       "        <th>numero</th>\n",
       "    </tr>\n",
       "</table>"
      ],
      "text/plain": [
       "[]"
      ]
     },
     "execution_count": 39,
     "metadata": {},
     "output_type": "execute_result"
    }
   ],
   "source": [
    "%%sql\n",
    "DELETE FROM Canchas;\n",
    "SELECT * FROM Canchas"
   ]
  },
  {
   "cell_type": "code",
   "execution_count": 40,
   "metadata": {
    "collapsed": false
   },
   "outputs": [
    {
     "name": "stdout",
     "output_type": "stream",
     "text": [
      "1 rows affected.\n",
      "1 rows affected.\n",
      "1 rows affected.\n",
      "1 rows affected.\n",
      "1 rows affected.\n",
      "1 rows affected.\n",
      "1 rows affected.\n",
      "1 rows affected.\n",
      "1 rows affected.\n",
      "1 rows affected.\n"
     ]
    },
    {
     "data": {
      "text/plain": [
       "[]"
      ]
     },
     "execution_count": 40,
     "metadata": {},
     "output_type": "execute_result"
    }
   ],
   "source": [
    "%%sql\n",
    "INSERT INTO Canchas(nombre, calle, numero)\n",
    "VALUES ('F1', 'Calle Peonia', 24);\n",
    "INSERT INTO Canchas(nombre, calle, numero)\n",
    "VALUES ('F2', 'Calle Velazquez', 12);\n",
    "INSERT INTO Canchas(nombre, calle, numero)\n",
    "VALUES ('M1', 'Calle Filipinas', 45);\n",
    "INSERT INTO Canchas(nombre, calle, numero)\n",
    "VALUES ('A1', 'Calle Arguelles', 1);\n",
    "INSERT INTO Canchas(nombre, calle, numero)\n",
    "VALUES ('S1', 'Plaza Minarete', 5);\n",
    "INSERT INTO Canchas(nombre, calle, numero)\n",
    "VALUES ('C1', 'Calle de la Cruz', 4);\n",
    "INSERT INTO Canchas(nombre, calle, numero)\n",
    "VALUES ('V1', 'Calle Relacion', 12);\n",
    "INSERT INTO Canchas(nombre, calle, numero)\n",
    "VALUES ('P1', 'Avenida de la Paz', 8);\n",
    "INSERT INTO Canchas(nombre, calle, numero)\n",
    "VALUES ('B1', 'Calle Amistad', 7);\n",
    "INSERT INTO Canchas(nombre, calle, numero)\n",
    "VALUES ('G1', 'Calle Lirios', 33);"
   ]
  },
  {
   "cell_type": "code",
   "execution_count": 41,
   "metadata": {
    "collapsed": false
   },
   "outputs": [
    {
     "name": "stdout",
     "output_type": "stream",
     "text": [
      "Done.\n"
     ]
    },
    {
     "data": {
      "text/html": [
       "<table>\n",
       "    <tr>\n",
       "        <th>nombre</th>\n",
       "        <th>calle</th>\n",
       "        <th>numero</th>\n",
       "    </tr>\n",
       "    <tr>\n",
       "        <td>F1</td>\n",
       "        <td>Calle Peonia</td>\n",
       "        <td>24</td>\n",
       "    </tr>\n",
       "    <tr>\n",
       "        <td>F2</td>\n",
       "        <td>Calle Velazquez</td>\n",
       "        <td>12</td>\n",
       "    </tr>\n",
       "    <tr>\n",
       "        <td>M1</td>\n",
       "        <td>Calle Filipinas</td>\n",
       "        <td>45</td>\n",
       "    </tr>\n",
       "    <tr>\n",
       "        <td>A1</td>\n",
       "        <td>Calle Arguelles</td>\n",
       "        <td>1</td>\n",
       "    </tr>\n",
       "    <tr>\n",
       "        <td>S1</td>\n",
       "        <td>Plaza Minarete</td>\n",
       "        <td>5</td>\n",
       "    </tr>\n",
       "    <tr>\n",
       "        <td>C1</td>\n",
       "        <td>Calle de la Cruz</td>\n",
       "        <td>4</td>\n",
       "    </tr>\n",
       "    <tr>\n",
       "        <td>V1</td>\n",
       "        <td>Calle Relacion</td>\n",
       "        <td>12</td>\n",
       "    </tr>\n",
       "    <tr>\n",
       "        <td>P1</td>\n",
       "        <td>Avenida de la Paz</td>\n",
       "        <td>8</td>\n",
       "    </tr>\n",
       "    <tr>\n",
       "        <td>B1</td>\n",
       "        <td>Calle Amistad</td>\n",
       "        <td>7</td>\n",
       "    </tr>\n",
       "    <tr>\n",
       "        <td>G1</td>\n",
       "        <td>Calle Lirios</td>\n",
       "        <td>33</td>\n",
       "    </tr>\n",
       "</table>"
      ],
      "text/plain": [
       "[(u'F1', u'Calle Peonia', 24),\n",
       " (u'F2', u'Calle Velazquez', 12),\n",
       " (u'M1', u'Calle Filipinas', 45),\n",
       " (u'A1', u'Calle Arguelles', 1),\n",
       " (u'S1', u'Plaza Minarete', 5),\n",
       " (u'C1', u'Calle de la Cruz', 4),\n",
       " (u'V1', u'Calle Relacion', 12),\n",
       " (u'P1', u'Avenida de la Paz', 8),\n",
       " (u'B1', u'Calle Amistad', 7),\n",
       " (u'G1', u'Calle Lirios', 33)]"
      ]
     },
     "execution_count": 41,
     "metadata": {},
     "output_type": "execute_result"
    }
   ],
   "source": [
    "%sql SELECT * FROM Canchas"
   ]
  },
  {
   "cell_type": "markdown",
   "metadata": {},
   "source": [
    "# EMPRESAS"
   ]
  },
  {
   "cell_type": "code",
   "execution_count": 93,
   "metadata": {
    "collapsed": false
   },
   "outputs": [
    {
     "name": "stdout",
     "output_type": "stream",
     "text": [
      "Done.\n"
     ]
    },
    {
     "data": {
      "text/plain": [
       "[]"
      ]
     },
     "execution_count": 93,
     "metadata": {},
     "output_type": "execute_result"
    }
   ],
   "source": [
    "%%sql\n",
    "CREATE TABLE IF NOT EXISTS Empresas\n",
    "(cif VARCHAR(10),\n",
    " nombre VARCHAR (30),\n",
    " PRIMARY KEY (cif)\n",
    ");"
   ]
  },
  {
   "cell_type": "code",
   "execution_count": 94,
   "metadata": {
    "collapsed": false
   },
   "outputs": [
    {
     "name": "stdout",
     "output_type": "stream",
     "text": [
      "0 rows affected.\n",
      "Done.\n"
     ]
    },
    {
     "data": {
      "text/html": [
       "<table>\n",
       "    <tr>\n",
       "        <th>cif</th>\n",
       "        <th>nombre</th>\n",
       "    </tr>\n",
       "</table>"
      ],
      "text/plain": [
       "[]"
      ]
     },
     "execution_count": 94,
     "metadata": {},
     "output_type": "execute_result"
    }
   ],
   "source": [
    "%%sql\n",
    "DELETE FROM Empresas;\n",
    "SELECT * FROM Empresas"
   ]
  },
  {
   "cell_type": "code",
   "execution_count": 95,
   "metadata": {
    "collapsed": false
   },
   "outputs": [
    {
     "name": "stdout",
     "output_type": "stream",
     "text": [
      "1 rows affected.\n",
      "1 rows affected.\n",
      "1 rows affected.\n",
      "1 rows affected.\n",
      "1 rows affected.\n"
     ]
    },
    {
     "data": {
      "text/plain": [
       "[]"
      ]
     },
     "execution_count": 95,
     "metadata": {},
     "output_type": "execute_result"
    }
   ],
   "source": [
    "%%sql\n",
    "INSERT INTO Empresas(cif, nombre)\n",
    "VALUES ('B56966880', 'AVG S.L.');\n",
    "INSERT INTO Empresas(cif, nombre)\n",
    "VALUES ('B23225210', 'Deptris S.A.');\n",
    "INSERT INTO Empresas(cif, nombre)\n",
    "VALUES ('B41458540', 'BasketSports S.L.');\n",
    "INSERT INTO Empresas(cif, nombre)\n",
    "VALUES ('B85586510', 'HealthLife S.L.');\n",
    "INSERT INTO Empresas(cif, nombre)\n",
    "VALUES ('B58851140', 'SixSports S.A.');"
   ]
  },
  {
   "cell_type": "markdown",
   "metadata": {},
   "source": [
    "# PATROCINADOS_POR"
   ]
  },
  {
   "cell_type": "markdown",
   "metadata": {},
   "source": [
    "No puede haber una empresa que no patrocine a algún equipo"
   ]
  },
  {
   "cell_type": "code",
   "execution_count": 42,
   "metadata": {
    "collapsed": false
   },
   "outputs": [
    {
     "name": "stdout",
     "output_type": "stream",
     "text": [
      "Done.\n",
      "Done.\n"
     ]
    },
    {
     "data": {
      "text/plain": [
       "[]"
      ]
     },
     "execution_count": 42,
     "metadata": {},
     "output_type": "execute_result"
    }
   ],
   "source": [
    "%%sql\n",
    "CREATE TABLE IF NOT EXISTS Patrocinados_Por\n",
    "(equipo VARCHAR(30),\n",
    " ciudad VARCHAR(30),\n",
    " com_autonoma VARCHAR(30),\n",
    " empresa_patrocinadora VARCHAR(30),\n",
    " PRIMARY KEY (equipo, ciudad, com_autonoma, empresa_patrocinadora),\n",
    " FOREIGN KEY (equipo) REFERENCES Equipos(nombre),\n",
    " FOREIGN KEY (ciudad) REFERENCES Ciudades(nombre),\n",
    " FOREIGN KEY (com_autonoma) REFERENCES Comunidades_Autonomas(nombre),\n",
    " FOREIGN KEY (empresa_patrocinadora) REFERENCES Empresas(cif)\n",
    ");"
   ]
  },
  {
   "cell_type": "code",
   "execution_count": 43,
   "metadata": {
    "collapsed": false
   },
   "outputs": [
    {
     "name": "stdout",
     "output_type": "stream",
     "text": [
      "0 rows affected.\n",
      "Done.\n"
     ]
    },
    {
     "data": {
      "text/html": [
       "<table>\n",
       "    <tr>\n",
       "        <th>equipo</th>\n",
       "        <th>ciudad</th>\n",
       "        <th>com_autonoma</th>\n",
       "        <th>empresa_patrocinadora</th>\n",
       "    </tr>\n",
       "</table>"
      ],
      "text/plain": [
       "[]"
      ]
     },
     "execution_count": 43,
     "metadata": {},
     "output_type": "execute_result"
    }
   ],
   "source": [
    "%%sql\n",
    "DELETE FROM Patrocinados_Por;\n",
    "SELECT * FROM Patrocinados_Por"
   ]
  },
  {
   "cell_type": "code",
   "execution_count": 44,
   "metadata": {
    "collapsed": false
   },
   "outputs": [
    {
     "name": "stdout",
     "output_type": "stream",
     "text": [
      "1 rows affected.\n",
      "1 rows affected.\n",
      "1 rows affected.\n",
      "1 rows affected.\n",
      "1 rows affected.\n",
      "1 rows affected.\n",
      "1 rows affected.\n"
     ]
    },
    {
     "data": {
      "text/plain": [
       "[]"
      ]
     },
     "execution_count": 44,
     "metadata": {},
     "output_type": "execute_result"
    }
   ],
   "source": [
    "%%sql\n",
    "INSERT INTO Patrocinados_Por(equipo, ciudad, com_autonoma, empresa_patrocinadora)\n",
    "VALUES ('CB Fuenla', 'Fuenlabrada', 'Madrid', 'B56966880');\n",
    "INSERT INTO Patrocinados_Por(equipo, ciudad, com_autonoma, empresa_patrocinadora)\n",
    "VALUES ('CB Mostoles', 'Mostoles', 'Madrid', 'B85586510');\n",
    "INSERT INTO Patrocinados_Por(equipo, ciudad, com_autonoma, empresa_patrocinadora)\n",
    "VALUES ('CB Alcorcon', 'Alcorcon', 'Madrid', 'B23225210');\n",
    "INSERT INTO Patrocinados_Por(equipo, ciudad, com_autonoma, empresa_patrocinadora)\n",
    "VALUES ('CB Sevilla', 'Sevilla', 'Andalucia', 'B58851140');\n",
    "INSERT INTO Patrocinados_Por(equipo, ciudad, com_autonoma, empresa_patrocinadora)\n",
    "VALUES ('CB Estudiantes', 'Vigo', 'Galicia', 'B56966880');\n",
    "INSERT INTO Patrocinados_Por(equipo, ciudad, com_autonoma, empresa_patrocinadora)\n",
    "VALUES ('CB Pontevedra', 'Pontevedra', 'Galicia', 'B41458540');\n",
    "INSERT INTO Patrocinados_Por(equipo, ciudad, com_autonoma, empresa_patrocinadora)\n",
    "VALUES ('CB Estudiantes', 'Barcelona', 'Cataluña', 'B85586510');"
   ]
  },
  {
   "cell_type": "code",
   "execution_count": 45,
   "metadata": {
    "collapsed": false
   },
   "outputs": [
    {
     "name": "stdout",
     "output_type": "stream",
     "text": [
      "Done.\n"
     ]
    },
    {
     "data": {
      "text/html": [
       "<table>\n",
       "    <tr>\n",
       "        <th>equipo</th>\n",
       "        <th>ciudad</th>\n",
       "        <th>com_autonoma</th>\n",
       "        <th>empresa_patrocinadora</th>\n",
       "    </tr>\n",
       "    <tr>\n",
       "        <td>CB Fuenla</td>\n",
       "        <td>Fuenlabrada</td>\n",
       "        <td>Madrid</td>\n",
       "        <td>B56966880</td>\n",
       "    </tr>\n",
       "    <tr>\n",
       "        <td>CB Mostoles</td>\n",
       "        <td>Mostoles</td>\n",
       "        <td>Madrid</td>\n",
       "        <td>B85586510</td>\n",
       "    </tr>\n",
       "    <tr>\n",
       "        <td>CB Alcorcon</td>\n",
       "        <td>Alcorcon</td>\n",
       "        <td>Madrid</td>\n",
       "        <td>B23225210</td>\n",
       "    </tr>\n",
       "    <tr>\n",
       "        <td>CB Sevilla</td>\n",
       "        <td>Sevilla</td>\n",
       "        <td>Andalucia</td>\n",
       "        <td>B58851140</td>\n",
       "    </tr>\n",
       "    <tr>\n",
       "        <td>CB Estudiantes</td>\n",
       "        <td>Vigo</td>\n",
       "        <td>Galicia</td>\n",
       "        <td>B56966880</td>\n",
       "    </tr>\n",
       "    <tr>\n",
       "        <td>CB Pontevedra</td>\n",
       "        <td>Pontevedra</td>\n",
       "        <td>Galicia</td>\n",
       "        <td>B41458540</td>\n",
       "    </tr>\n",
       "    <tr>\n",
       "        <td>CB Estudiantes</td>\n",
       "        <td>Barcelona</td>\n",
       "        <td>Cataluña</td>\n",
       "        <td>B85586510</td>\n",
       "    </tr>\n",
       "</table>"
      ],
      "text/plain": [
       "[(u'CB Fuenla', u'Fuenlabrada', u'Madrid', u'B56966880'),\n",
       " (u'CB Mostoles', u'Mostoles', u'Madrid', u'B85586510'),\n",
       " (u'CB Alcorcon', u'Alcorcon', u'Madrid', u'B23225210'),\n",
       " (u'CB Sevilla', u'Sevilla', u'Andalucia', u'B58851140'),\n",
       " (u'CB Estudiantes', u'Vigo', u'Galicia', u'B56966880'),\n",
       " (u'CB Pontevedra', u'Pontevedra', u'Galicia', u'B41458540'),\n",
       " (u'CB Estudiantes', u'Barcelona', u'Catalu\\xf1a', u'B85586510')]"
      ]
     },
     "execution_count": 45,
     "metadata": {},
     "output_type": "execute_result"
    }
   ],
   "source": [
    "%sql SELECT * FROM Patrocinados_Por"
   ]
  },
  {
   "cell_type": "markdown",
   "metadata": {},
   "source": [
    "# ENTRENAN"
   ]
  },
  {
   "cell_type": "code",
   "execution_count": 46,
   "metadata": {
    "collapsed": false
   },
   "outputs": [
    {
     "name": "stdout",
     "output_type": "stream",
     "text": [
      "Done.\n",
      "Done.\n"
     ]
    },
    {
     "data": {
      "text/plain": [
       "[]"
      ]
     },
     "execution_count": 46,
     "metadata": {},
     "output_type": "execute_result"
    }
   ],
   "source": [
    "%%sql\n",
    "CREATE TABLE IF NOT EXISTS Entrenan\n",
    "(entrenador VARCHAR(10),\n",
    " equipo VARCHAR(30), \n",
    " ciudad VARCHAR(30),\n",
    " com_autonoma VARCHAR(30),\n",
    " temporada INT,\n",
    " cancha VARCHAR(30),\n",
    " PRIMARY KEY (equipo, ciudad, com_autonoma, entrenador, temporada, cancha),\n",
    " FOREIGN KEY (equipo) REFERENCES Equipos(nombre),\n",
    " FOREIGN KEY (ciudad) REFERENCES Ciudades(nombre),\n",
    " FOREIGN KEY (com_autonoma) REFERENCES Comunidades_Autonomas(nombre),\n",
    " FOREIGN KEY (entrenador) REFERENCES Entrenadores(nif),\n",
    " FOREIGN KEY (temporada) REFERENCES Temporadas(numero)\n",
    " FOREIGN KEY (cancha) REFERENCES Canchas(nombre)\n",
    ");"
   ]
  },
  {
   "cell_type": "code",
   "execution_count": 49,
   "metadata": {
    "collapsed": false
   },
   "outputs": [
    {
     "name": "stdout",
     "output_type": "stream",
     "text": [
      "2 rows affected.\n",
      "Done.\n"
     ]
    },
    {
     "data": {
      "text/html": [
       "<table>\n",
       "    <tr>\n",
       "        <th>entrenador</th>\n",
       "        <th>equipo</th>\n",
       "        <th>ciudad</th>\n",
       "        <th>com_autonoma</th>\n",
       "        <th>temporada</th>\n",
       "        <th>cancha</th>\n",
       "    </tr>\n",
       "</table>"
      ],
      "text/plain": [
       "[]"
      ]
     },
     "execution_count": 49,
     "metadata": {},
     "output_type": "execute_result"
    }
   ],
   "source": [
    "%%sql\n",
    "DELETE FROM Entrenan;\n",
    "SELECT * FROM Entrenan"
   ]
  },
  {
   "cell_type": "code",
   "execution_count": 50,
   "metadata": {
    "collapsed": false
   },
   "outputs": [
    {
     "name": "stdout",
     "output_type": "stream",
     "text": [
      "1 rows affected.\n",
      "1 rows affected.\n",
      "1 rows affected.\n",
      "1 rows affected.\n",
      "1 rows affected.\n",
      "1 rows affected.\n",
      "1 rows affected.\n",
      "1 rows affected.\n",
      "1 rows affected.\n",
      "1 rows affected.\n",
      "1 rows affected.\n",
      "1 rows affected.\n",
      "1 rows affected.\n",
      "1 rows affected.\n",
      "1 rows affected.\n",
      "1 rows affected.\n"
     ]
    },
    {
     "data": {
      "text/plain": [
       "[]"
      ]
     },
     "execution_count": 50,
     "metadata": {},
     "output_type": "execute_result"
    }
   ],
   "source": [
    "%%sql\n",
    "INSERT INTO Entrenan(entrenador, equipo, ciudad, com_autonoma, temporada, cancha)\n",
    "VALUES ('58963633N', 'CB Fuenla', 'Fuenlabrada', 'Madrid', 1, 'F1');\n",
    "INSERT INTO Entrenan(entrenador, equipo, ciudad, com_autonoma, temporada, cancha)\n",
    "VALUES ('85967585L', 'CB Fuenla', 'Fuenlabrada', 'Madrid', 1, 'F2');\n",
    "INSERT INTO Entrenan(entrenador, equipo, ciudad, com_autonoma, temporada, cancha)\n",
    "VALUES ('02589658J', 'CB Sevilla', 'Sevilla', 'Andalucia', 1, 'S1');\n",
    "INSERT INTO Entrenan(entrenador, equipo, ciudad, com_autonoma, temporada, cancha)\n",
    "VALUES ('63272983D', 'CB Pontevedra', 'Pontevedra', 'Galicia', 1, 'P1');\n",
    "\n",
    "INSERT INTO Entrenan(entrenador, equipo, ciudad, com_autonoma, temporada, cancha)\n",
    "VALUES ('63272983D', 'CB Estudiantes', 'Vigo', 'Galicia', 2, 'V1');\n",
    "INSERT INTO Entrenan(entrenador, equipo, ciudad, com_autonoma, temporada, cancha)\n",
    "VALUES ('18992232H', 'CB Cordoba', 'Cordoba', 'Andalucia', 2, 'C1');\n",
    "INSERT INTO Entrenan(entrenador, equipo, ciudad, com_autonoma, temporada, cancha)\n",
    "VALUES ('47787543G', 'CB Girona', 'Girona', 'Cataluña', 2, 'G1');\n",
    "INSERT INTO Entrenan(entrenador, equipo, ciudad, com_autonoma, temporada, cancha)\n",
    "VALUES ('09099154Y', 'CB Girona', 'Girona', 'Cataluña', 2, 'G1');\n",
    "\n",
    "INSERT INTO Entrenan(entrenador, equipo, ciudad, com_autonoma, temporada, cancha)\n",
    "VALUES ('55225589F', 'CB Fuenla', 'Fuenlabrada','Madrid', 3, 'F1');\n",
    "INSERT INTO Entrenan(entrenador, equipo, ciudad, com_autonoma, temporada, cancha)\n",
    "VALUES ('57656799A', 'CB Fuenla', 'Fuenlabrada', 'Madrid', 3, 'F2');\n",
    "INSERT INTO Entrenan(entrenador, equipo, ciudad, com_autonoma, temporada, cancha)\n",
    "VALUES ('47787543G', 'CB Pontevedra', 'Pontevedra', 'Galicia', 3, 'P1');\n",
    "INSERT INTO Entrenan(entrenador, equipo, ciudad, com_autonoma, temporada, cancha)\n",
    "VALUES ('09099154Y', 'CB Pontevedra','Pontevedra', 'Galicia', 3, 'P1');\n",
    "INSERT INTO Entrenan(entrenador, equipo, ciudad, com_autonoma, temporada, cancha)\n",
    "VALUES ('58963633N', 'CB Mostoles','Mostoles', 'Madrid', 3, 'M1');\n",
    "\n",
    "INSERT INTO Entrenan(entrenador, equipo, ciudad, com_autonoma, temporada, cancha)\n",
    "VALUES ('58963633N', 'CB Mostoles', 'Mostoles', 'Madrid', 4, 'M1');\n",
    "INSERT INTO Entrenan(entrenador, equipo, ciudad, com_autonoma, temporada, cancha)\n",
    "VALUES ('02589658J', 'CB Cordoba','Cordoba', 'Andalucia', 4, 'C1');\n",
    "INSERT INTO Entrenan(entrenador, equipo, ciudad, com_autonoma, temporada, cancha)\n",
    "VALUES ('47787543G', 'CB Girona','Girona', 'Cataluña', 4, 'G1');"
   ]
  },
  {
   "cell_type": "code",
   "execution_count": 51,
   "metadata": {
    "collapsed": false
   },
   "outputs": [
    {
     "name": "stdout",
     "output_type": "stream",
     "text": [
      "Done.\n"
     ]
    },
    {
     "data": {
      "text/html": [
       "<table>\n",
       "    <tr>\n",
       "        <th>entrenador</th>\n",
       "        <th>equipo</th>\n",
       "        <th>ciudad</th>\n",
       "        <th>com_autonoma</th>\n",
       "        <th>temporada</th>\n",
       "        <th>cancha</th>\n",
       "    </tr>\n",
       "    <tr>\n",
       "        <td>58963633N</td>\n",
       "        <td>CB Fuenla</td>\n",
       "        <td>Fuenlabrada</td>\n",
       "        <td>Madrid</td>\n",
       "        <td>1</td>\n",
       "        <td>F1</td>\n",
       "    </tr>\n",
       "    <tr>\n",
       "        <td>85967585L</td>\n",
       "        <td>CB Fuenla</td>\n",
       "        <td>Fuenlabrada</td>\n",
       "        <td>Madrid</td>\n",
       "        <td>1</td>\n",
       "        <td>F2</td>\n",
       "    </tr>\n",
       "    <tr>\n",
       "        <td>02589658J</td>\n",
       "        <td>CB Sevilla</td>\n",
       "        <td>Sevilla</td>\n",
       "        <td>Andalucia</td>\n",
       "        <td>1</td>\n",
       "        <td>S1</td>\n",
       "    </tr>\n",
       "    <tr>\n",
       "        <td>63272983D</td>\n",
       "        <td>CB Pontevedra</td>\n",
       "        <td>Pontevedra</td>\n",
       "        <td>Galicia</td>\n",
       "        <td>1</td>\n",
       "        <td>P1</td>\n",
       "    </tr>\n",
       "    <tr>\n",
       "        <td>63272983D</td>\n",
       "        <td>CB Estudiantes</td>\n",
       "        <td>Vigo</td>\n",
       "        <td>Galicia</td>\n",
       "        <td>2</td>\n",
       "        <td>V1</td>\n",
       "    </tr>\n",
       "    <tr>\n",
       "        <td>18992232H</td>\n",
       "        <td>CB Cordoba</td>\n",
       "        <td>Cordoba</td>\n",
       "        <td>Andalucia</td>\n",
       "        <td>2</td>\n",
       "        <td>C1</td>\n",
       "    </tr>\n",
       "    <tr>\n",
       "        <td>47787543G</td>\n",
       "        <td>CB Girona</td>\n",
       "        <td>Girona</td>\n",
       "        <td>Cataluña</td>\n",
       "        <td>2</td>\n",
       "        <td>G1</td>\n",
       "    </tr>\n",
       "    <tr>\n",
       "        <td>09099154Y</td>\n",
       "        <td>CB Girona</td>\n",
       "        <td>Girona</td>\n",
       "        <td>Cataluña</td>\n",
       "        <td>2</td>\n",
       "        <td>G1</td>\n",
       "    </tr>\n",
       "    <tr>\n",
       "        <td>55225589F</td>\n",
       "        <td>CB Fuenla</td>\n",
       "        <td>Fuenlabrada</td>\n",
       "        <td>Madrid</td>\n",
       "        <td>3</td>\n",
       "        <td>F1</td>\n",
       "    </tr>\n",
       "    <tr>\n",
       "        <td>57656799A</td>\n",
       "        <td>CB Fuenla</td>\n",
       "        <td>Fuenlabrada</td>\n",
       "        <td>Madrid</td>\n",
       "        <td>3</td>\n",
       "        <td>F2</td>\n",
       "    </tr>\n",
       "    <tr>\n",
       "        <td>47787543G</td>\n",
       "        <td>CB Pontevedra</td>\n",
       "        <td>Pontevedra</td>\n",
       "        <td>Galicia</td>\n",
       "        <td>3</td>\n",
       "        <td>P1</td>\n",
       "    </tr>\n",
       "    <tr>\n",
       "        <td>09099154Y</td>\n",
       "        <td>CB Pontevedra</td>\n",
       "        <td>Pontevedra</td>\n",
       "        <td>Galicia</td>\n",
       "        <td>3</td>\n",
       "        <td>P1</td>\n",
       "    </tr>\n",
       "    <tr>\n",
       "        <td>58963633N</td>\n",
       "        <td>CB Mostoles</td>\n",
       "        <td>Mostoles</td>\n",
       "        <td>Madrid</td>\n",
       "        <td>3</td>\n",
       "        <td>M1</td>\n",
       "    </tr>\n",
       "    <tr>\n",
       "        <td>58963633N</td>\n",
       "        <td>CB Mostoles</td>\n",
       "        <td>Mostoles</td>\n",
       "        <td>Madrid</td>\n",
       "        <td>4</td>\n",
       "        <td>M1</td>\n",
       "    </tr>\n",
       "    <tr>\n",
       "        <td>02589658J</td>\n",
       "        <td>CB Cordoba</td>\n",
       "        <td>Cordoba</td>\n",
       "        <td>Andalucia</td>\n",
       "        <td>4</td>\n",
       "        <td>C1</td>\n",
       "    </tr>\n",
       "    <tr>\n",
       "        <td>47787543G</td>\n",
       "        <td>CB Girona</td>\n",
       "        <td>Girona</td>\n",
       "        <td>Cataluña</td>\n",
       "        <td>4</td>\n",
       "        <td>G1</td>\n",
       "    </tr>\n",
       "</table>"
      ],
      "text/plain": [
       "[(u'58963633N', u'CB Fuenla', u'Fuenlabrada', u'Madrid', 1, u'F1'),\n",
       " (u'85967585L', u'CB Fuenla', u'Fuenlabrada', u'Madrid', 1, u'F2'),\n",
       " (u'02589658J', u'CB Sevilla', u'Sevilla', u'Andalucia', 1, u'S1'),\n",
       " (u'63272983D', u'CB Pontevedra', u'Pontevedra', u'Galicia', 1, u'P1'),\n",
       " (u'63272983D', u'CB Estudiantes', u'Vigo', u'Galicia', 2, u'V1'),\n",
       " (u'18992232H', u'CB Cordoba', u'Cordoba', u'Andalucia', 2, u'C1'),\n",
       " (u'47787543G', u'CB Girona', u'Girona', u'Catalu\\xf1a', 2, u'G1'),\n",
       " (u'09099154Y', u'CB Girona', u'Girona', u'Catalu\\xf1a', 2, u'G1'),\n",
       " (u'55225589F', u'CB Fuenla', u'Fuenlabrada', u'Madrid', 3, u'F1'),\n",
       " (u'57656799A', u'CB Fuenla', u'Fuenlabrada', u'Madrid', 3, u'F2'),\n",
       " (u'47787543G', u'CB Pontevedra', u'Pontevedra', u'Galicia', 3, u'P1'),\n",
       " (u'09099154Y', u'CB Pontevedra', u'Pontevedra', u'Galicia', 3, u'P1'),\n",
       " (u'58963633N', u'CB Mostoles', u'Mostoles', u'Madrid', 3, u'M1'),\n",
       " (u'58963633N', u'CB Mostoles', u'Mostoles', u'Madrid', 4, u'M1'),\n",
       " (u'02589658J', u'CB Cordoba', u'Cordoba', u'Andalucia', 4, u'C1'),\n",
       " (u'47787543G', u'CB Girona', u'Girona', u'Catalu\\xf1a', 4, u'G1')]"
      ]
     },
     "execution_count": 51,
     "metadata": {},
     "output_type": "execute_result"
    }
   ],
   "source": [
    "%sql SELECT * FROM Entrenan"
   ]
  },
  {
   "cell_type": "markdown",
   "metadata": {},
   "source": [
    "# PARTIDOS\n",
    "EL campo 'ident' lo añado para poder referirme desde otra tabla a un partido en particular. Ya que no lo incluyo en la Primary Key (pues esta la uso para no repetir los datos de un partido ya que un partido entre dos equipos el mismo día a la misma hora en la misma temporada no se pueden dar dos veces), lo hago UNIQUE para que no se repita.\n",
    "\n",
    "Por otra parte no queremos que se dé la posibilidad de que un equipo forme parte de dos partidos el mismo día a la misma hora, para eso utilizo los dos UNIQUE restantes."
   ]
  },
  {
   "cell_type": "code",
   "execution_count": 70,
   "metadata": {
    "collapsed": false
   },
   "outputs": [
    {
     "name": "stdout",
     "output_type": "stream",
     "text": [
      "Done.\n",
      "Done.\n"
     ]
    },
    {
     "data": {
      "text/plain": [
       "[]"
      ]
     },
     "execution_count": 70,
     "metadata": {},
     "output_type": "execute_result"
    }
   ],
   "source": [
    "%%sql\n",
    "CREATE TABLE IF NOT EXISTS Partidos\n",
    "(ident VARCHAR(10),\n",
    " cancha VARCHAR(30),\n",
    " temporada INT,\n",
    " equipo1 VARCHAR(30),\n",
    " ciudad1 VARCHAR(30),\n",
    " com_autonoma1 VARCHAR(30),\n",
    " equipo2 VARCHAR(30),\n",
    " ciudad2 VARCHAR(30),\n",
    " com_autonoma2 VARCHAR(30),\n",
    " hora_ini DATETIME,\n",
    " hora_fin DATETIME,\n",
    " PRIMARY KEY (equipo1, ciudad1, com_autonoma1, equipo2, ciudad2, com_autonoma2, temporada, cancha, hora_ini),\n",
    " FOREIGN KEY (cancha) REFERENCES Canchas(nombre),\n",
    " FOREIGN KEY (equipo1) REFERENCES Equipos(nombre),\n",
    " FOREIGN KEY (ciudad1) REFERENCES Ciudades(nombre),\n",
    " FOREIGN KEY (com_autonoma1) REFERENCES Comunidades_Autonomas(nombre),\n",
    " FOREIGN KEY (equipo2) REFERENCES Equipos(nombre),\n",
    " FOREIGN KEY (ciudad2) REFERENCES Ciudades(nombre),\n",
    " FOREIGN KEY (com_autonoma2) REFERENCES Comunidades_Autonomas(nombre),\n",
    " FOREIGN KEY (temporada) REFERENCES Temporadas(numero),\n",
    " UNIQUE(equipo1, ciudad1, com_autonoma1, hora_ini),\n",
    " UNIQUE(equipo2, ciudad2, com_autonoma2, hora_ini)\n",
    " UNIQUE(ident)\n",
    ");"
   ]
  },
  {
   "cell_type": "code",
   "execution_count": 74,
   "metadata": {
    "collapsed": false
   },
   "outputs": [
    {
     "name": "stdout",
     "output_type": "stream",
     "text": [
      "8 rows affected.\n",
      "Done.\n"
     ]
    },
    {
     "data": {
      "text/html": [
       "<table>\n",
       "    <tr>\n",
       "        <th>ident</th>\n",
       "        <th>cancha</th>\n",
       "        <th>temporada</th>\n",
       "        <th>equipo1</th>\n",
       "        <th>ciudad1</th>\n",
       "        <th>com_autonoma1</th>\n",
       "        <th>equipo2</th>\n",
       "        <th>ciudad2</th>\n",
       "        <th>com_autonoma2</th>\n",
       "        <th>hora_ini</th>\n",
       "        <th>hora_fin</th>\n",
       "    </tr>\n",
       "</table>"
      ],
      "text/plain": [
       "[]"
      ]
     },
     "execution_count": 74,
     "metadata": {},
     "output_type": "execute_result"
    }
   ],
   "source": [
    "%%sql\n",
    "DELETE FROM Partidos;\n",
    "SELECT * FROM Partidos"
   ]
  },
  {
   "cell_type": "code",
   "execution_count": 75,
   "metadata": {
    "collapsed": false
   },
   "outputs": [
    {
     "name": "stdout",
     "output_type": "stream",
     "text": [
      "1 rows affected.\n",
      "1 rows affected.\n",
      "1 rows affected.\n",
      "1 rows affected.\n",
      "1 rows affected.\n",
      "1 rows affected.\n",
      "1 rows affected.\n",
      "1 rows affected.\n"
     ]
    },
    {
     "data": {
      "text/plain": [
       "[]"
      ]
     },
     "execution_count": 75,
     "metadata": {},
     "output_type": "execute_result"
    }
   ],
   "source": [
    "%%sql\n",
    "INSERT INTO Partidos(ident, cancha, temporada, equipo1, ciudad1, com_autonoma1, equipo2, ciudad2, com_autonoma2, hora_ini, hora_fin)\n",
    "VALUES ('P1T1', 'F1', 1, 'CB Fuenla', 'Fuenlabrada', 'Madrid', 'CB Sevilla', 'Sevilla', 'Andalucia', '2013-03-01 09:00:00', '2013-03-01 10:40:00');\n",
    "INSERT INTO Partidos(ident, cancha, temporada, equipo1, ciudad1, com_autonoma1, equipo2, ciudad2, com_autonoma2, hora_ini, hora_fin)\n",
    "VALUES ('P2T1', 'S1', 1, 'CB Sevilla', 'Sevilla', 'Andalucia', 'CB Pontevedra', 'Pontevedra', 'Galicia', '2013-09-01 09:00:00', '2013-09-01 10:40:00');\n",
    "\n",
    "INSERT INTO Partidos(ident, cancha, temporada, equipo1, ciudad1, com_autonoma1, equipo2, ciudad2, com_autonoma2, hora_ini, hora_fin)\n",
    "VALUES ('P1T2', 'V1', 2, 'CB Estudiantes', 'Vigo', 'Galicia', 'CB Girona', 'Girona', 'Cataluña', '2014-03-01 09:00:00', '2014-03-01 10:40:00');\n",
    "INSERT INTO Partidos(ident, cancha, temporada, equipo1, ciudad1, com_autonoma1, equipo2, ciudad2, com_autonoma2, hora_ini, hora_fin)\n",
    "VALUES ('P2T2', 'G1', 2, 'CB Girona', 'Girona', 'Cataluña', 'CB Estudiantes', 'Vigo', 'Galicia', '2014-09-01 09:00:00', '2014-09-01 10:40:00');\n",
    "\n",
    "INSERT INTO Partidos(ident, cancha, temporada, equipo1, ciudad1, com_autonoma1, equipo2, ciudad2, com_autonoma2, hora_ini, hora_fin)\n",
    "VALUES ('P1T3','M1', 3, 'CB Mostoles','Mostoles', 'Madrid', 'CB Pontevedra', 'Pontevedra', 'Galicia', '2015-03-01 09:00:00', '2015-03-01 10:40:00');\n",
    "INSERT INTO Partidos(ident, cancha, temporada, equipo1, ciudad1, com_autonoma1, equipo2, ciudad2, com_autonoma2, hora_ini, hora_fin)\n",
    "VALUES ('P2T3','F1', 3,  'CB Fuenla', 'Fuenlabrada','Madrid', 'CB Mostoles','Mostoles', 'Madrid', '2015-09-01 09:00:00', '2015-09-01 10:40:00');\n",
    "\n",
    "INSERT INTO Partidos(ident, cancha, temporada, equipo1, ciudad1, com_autonoma1, equipo2, ciudad2, com_autonoma2, hora_ini, hora_fin)\n",
    "VALUES ('P1T4','G1', 4, 'CB Girona','Girona', 'Cataluña', 'CB Mostoles', 'Mostoles', 'Madrid', '2016-03-01 09:00:00', '2016-03-01 10:40:00');\n",
    "INSERT INTO Partidos(ident, cancha, temporada, equipo1, ciudad1, com_autonoma1, equipo2, ciudad2, com_autonoma2, hora_ini, hora_fin)\n",
    "VALUES ('P2T4','M1', 4, 'CB Mostoles', 'Mostoles', 'Madrid', 'CB Cordoba','Cordoba', 'Andalucia', '2016-09-01 09:00:00', '2016-09-01 10:40:00');\n"
   ]
  },
  {
   "cell_type": "code",
   "execution_count": 76,
   "metadata": {
    "collapsed": false
   },
   "outputs": [
    {
     "name": "stdout",
     "output_type": "stream",
     "text": [
      "Done.\n"
     ]
    },
    {
     "data": {
      "text/html": [
       "<table>\n",
       "    <tr>\n",
       "        <th>ident</th>\n",
       "        <th>cancha</th>\n",
       "        <th>temporada</th>\n",
       "        <th>equipo1</th>\n",
       "        <th>ciudad1</th>\n",
       "        <th>com_autonoma1</th>\n",
       "        <th>equipo2</th>\n",
       "        <th>ciudad2</th>\n",
       "        <th>com_autonoma2</th>\n",
       "        <th>hora_ini</th>\n",
       "        <th>hora_fin</th>\n",
       "    </tr>\n",
       "    <tr>\n",
       "        <td>P1T1</td>\n",
       "        <td>F1</td>\n",
       "        <td>1</td>\n",
       "        <td>CB Fuenla</td>\n",
       "        <td>Fuenlabrada</td>\n",
       "        <td>Madrid</td>\n",
       "        <td>CB Sevilla</td>\n",
       "        <td>Sevilla</td>\n",
       "        <td>Andalucia</td>\n",
       "        <td>2013-03-01 09:00:00</td>\n",
       "        <td>2013-03-01 10:40:00</td>\n",
       "    </tr>\n",
       "    <tr>\n",
       "        <td>P2T1</td>\n",
       "        <td>S1</td>\n",
       "        <td>1</td>\n",
       "        <td>CB Sevilla</td>\n",
       "        <td>Sevilla</td>\n",
       "        <td>Andalucia</td>\n",
       "        <td>CB Pontevedra</td>\n",
       "        <td>Pontevedra</td>\n",
       "        <td>Galicia</td>\n",
       "        <td>2013-09-01 09:00:00</td>\n",
       "        <td>2013-09-01 10:40:00</td>\n",
       "    </tr>\n",
       "    <tr>\n",
       "        <td>P1T2</td>\n",
       "        <td>V1</td>\n",
       "        <td>2</td>\n",
       "        <td>CB Estudiantes</td>\n",
       "        <td>Vigo</td>\n",
       "        <td>Galicia</td>\n",
       "        <td>CB Girona</td>\n",
       "        <td>Girona</td>\n",
       "        <td>Cataluña</td>\n",
       "        <td>2014-03-01 09:00:00</td>\n",
       "        <td>2014-03-01 10:40:00</td>\n",
       "    </tr>\n",
       "    <tr>\n",
       "        <td>P2T2</td>\n",
       "        <td>G1</td>\n",
       "        <td>2</td>\n",
       "        <td>CB Girona</td>\n",
       "        <td>Girona</td>\n",
       "        <td>Cataluña</td>\n",
       "        <td>CB Estudiantes</td>\n",
       "        <td>Vigo</td>\n",
       "        <td>Galicia</td>\n",
       "        <td>2014-09-01 09:00:00</td>\n",
       "        <td>2014-09-01 10:40:00</td>\n",
       "    </tr>\n",
       "    <tr>\n",
       "        <td>P1T3</td>\n",
       "        <td>M1</td>\n",
       "        <td>3</td>\n",
       "        <td>CB Mostoles</td>\n",
       "        <td>Mostoles</td>\n",
       "        <td>Madrid</td>\n",
       "        <td>CB Pontevedra</td>\n",
       "        <td>Pontevedra</td>\n",
       "        <td>Galicia</td>\n",
       "        <td>2015-03-01 09:00:00</td>\n",
       "        <td>2015-03-01 10:40:00</td>\n",
       "    </tr>\n",
       "    <tr>\n",
       "        <td>P2T3</td>\n",
       "        <td>F1</td>\n",
       "        <td>3</td>\n",
       "        <td>CB Fuenla</td>\n",
       "        <td>Fuenlabrada</td>\n",
       "        <td>Madrid</td>\n",
       "        <td>CB Mostoles</td>\n",
       "        <td>Mostoles</td>\n",
       "        <td>Madrid</td>\n",
       "        <td>2015-09-01 09:00:00</td>\n",
       "        <td>2015-09-01 10:40:00</td>\n",
       "    </tr>\n",
       "    <tr>\n",
       "        <td>P1T4</td>\n",
       "        <td>G1</td>\n",
       "        <td>4</td>\n",
       "        <td>CB Girona</td>\n",
       "        <td>Girona</td>\n",
       "        <td>Cataluña</td>\n",
       "        <td>CB Mostoles</td>\n",
       "        <td>Mostoles</td>\n",
       "        <td>Madrid</td>\n",
       "        <td>2016-03-01 09:00:00</td>\n",
       "        <td>2016-03-01 10:40:00</td>\n",
       "    </tr>\n",
       "    <tr>\n",
       "        <td>P2T4</td>\n",
       "        <td>M1</td>\n",
       "        <td>4</td>\n",
       "        <td>CB Mostoles</td>\n",
       "        <td>Mostoles</td>\n",
       "        <td>Madrid</td>\n",
       "        <td>CB Cordoba</td>\n",
       "        <td>Cordoba</td>\n",
       "        <td>Andalucia</td>\n",
       "        <td>2016-09-01 09:00:00</td>\n",
       "        <td>2016-09-01 10:40:00</td>\n",
       "    </tr>\n",
       "</table>"
      ],
      "text/plain": [
       "[(u'P1T1', u'F1', 1, u'CB Fuenla', u'Fuenlabrada', u'Madrid', u'CB Sevilla', u'Sevilla', u'Andalucia', u'2013-03-01 09:00:00', u'2013-03-01 10:40:00'),\n",
       " (u'P2T1', u'S1', 1, u'CB Sevilla', u'Sevilla', u'Andalucia', u'CB Pontevedra', u'Pontevedra', u'Galicia', u'2013-09-01 09:00:00', u'2013-09-01 10:40:00'),\n",
       " (u'P1T2', u'V1', 2, u'CB Estudiantes', u'Vigo', u'Galicia', u'CB Girona', u'Girona', u'Catalu\\xf1a', u'2014-03-01 09:00:00', u'2014-03-01 10:40:00'),\n",
       " (u'P2T2', u'G1', 2, u'CB Girona', u'Girona', u'Catalu\\xf1a', u'CB Estudiantes', u'Vigo', u'Galicia', u'2014-09-01 09:00:00', u'2014-09-01 10:40:00'),\n",
       " (u'P1T3', u'M1', 3, u'CB Mostoles', u'Mostoles', u'Madrid', u'CB Pontevedra', u'Pontevedra', u'Galicia', u'2015-03-01 09:00:00', u'2015-03-01 10:40:00'),\n",
       " (u'P2T3', u'F1', 3, u'CB Fuenla', u'Fuenlabrada', u'Madrid', u'CB Mostoles', u'Mostoles', u'Madrid', u'2015-09-01 09:00:00', u'2015-09-01 10:40:00'),\n",
       " (u'P1T4', u'G1', 4, u'CB Girona', u'Girona', u'Catalu\\xf1a', u'CB Mostoles', u'Mostoles', u'Madrid', u'2016-03-01 09:00:00', u'2016-03-01 10:40:00'),\n",
       " (u'P2T4', u'M1', 4, u'CB Mostoles', u'Mostoles', u'Madrid', u'CB Cordoba', u'Cordoba', u'Andalucia', u'2016-09-01 09:00:00', u'2016-09-01 10:40:00')]"
      ]
     },
     "execution_count": 76,
     "metadata": {},
     "output_type": "execute_result"
    }
   ],
   "source": [
    "%sql SELECT * FROM Partidos"
   ]
  },
  {
   "cell_type": "markdown",
   "metadata": {},
   "source": [
    "# POSICIONES"
   ]
  },
  {
   "cell_type": "code",
   "execution_count": 86,
   "metadata": {
    "collapsed": false
   },
   "outputs": [
    {
     "name": "stdout",
     "output_type": "stream",
     "text": [
      "Done.\n",
      "Done.\n"
     ]
    },
    {
     "data": {
      "text/plain": [
       "[]"
      ]
     },
     "execution_count": 86,
     "metadata": {},
     "output_type": "execute_result"
    }
   ],
   "source": [
    "%%sql \n",
    "CREATE TABLE IF NOT EXISTS Posiciones\n",
    "(tipo VARCHAR(15),\n",
    " PRIMARY KEY (tipo)\n",
    ");"
   ]
  },
  {
   "cell_type": "code",
   "execution_count": 87,
   "metadata": {
    "collapsed": false
   },
   "outputs": [
    {
     "name": "stdout",
     "output_type": "stream",
     "text": [
      "0 rows affected.\n",
      "Done.\n"
     ]
    },
    {
     "data": {
      "text/html": [
       "<table>\n",
       "    <tr>\n",
       "        <th>tipo</th>\n",
       "    </tr>\n",
       "</table>"
      ],
      "text/plain": [
       "[]"
      ]
     },
     "execution_count": 87,
     "metadata": {},
     "output_type": "execute_result"
    }
   ],
   "source": [
    "%%sql\n",
    "DELETE FROM Posiciones;\n",
    "SELECT * FROM Posiciones"
   ]
  },
  {
   "cell_type": "code",
   "execution_count": 88,
   "metadata": {
    "collapsed": false
   },
   "outputs": [
    {
     "name": "stdout",
     "output_type": "stream",
     "text": [
      "1 rows affected.\n",
      "1 rows affected.\n",
      "1 rows affected.\n",
      "1 rows affected.\n",
      "1 rows affected.\n",
      "1 rows affected.\n"
     ]
    },
    {
     "data": {
      "text/plain": [
       "[]"
      ]
     },
     "execution_count": 88,
     "metadata": {},
     "output_type": "execute_result"
    }
   ],
   "source": [
    "%%sql\n",
    "INSERT INTO Posiciones(tipo)\n",
    "VALUES ('base');\n",
    "INSERT INTO Posiciones(tipo)\n",
    "VALUES ('escolta');\n",
    "INSERT INTO Posiciones(tipo)\n",
    "VALUES ('alero');\n",
    "INSERT INTO Posiciones(tipo)\n",
    "VALUES ('ala-pivot');\n",
    "INSERT INTO Posiciones(tipo)\n",
    "VALUES ('pivot');\n",
    "INSERT INTO Posiciones(tipo)\n",
    "VALUES ('banquillo');"
   ]
  },
  {
   "cell_type": "code",
   "execution_count": 89,
   "metadata": {
    "collapsed": false
   },
   "outputs": [
    {
     "name": "stdout",
     "output_type": "stream",
     "text": [
      "Done.\n"
     ]
    },
    {
     "data": {
      "text/html": [
       "<table>\n",
       "    <tr>\n",
       "        <th>tipo</th>\n",
       "    </tr>\n",
       "    <tr>\n",
       "        <td>base</td>\n",
       "    </tr>\n",
       "    <tr>\n",
       "        <td>escolta</td>\n",
       "    </tr>\n",
       "    <tr>\n",
       "        <td>alero</td>\n",
       "    </tr>\n",
       "    <tr>\n",
       "        <td>ala-pivot</td>\n",
       "    </tr>\n",
       "    <tr>\n",
       "        <td>pivot</td>\n",
       "    </tr>\n",
       "    <tr>\n",
       "        <td>banquillo</td>\n",
       "    </tr>\n",
       "</table>"
      ],
      "text/plain": [
       "[(u'base',),\n",
       " (u'escolta',),\n",
       " (u'alero',),\n",
       " (u'ala-pivot',),\n",
       " (u'pivot',),\n",
       " (u'banquillo',)]"
      ]
     },
     "execution_count": 89,
     "metadata": {},
     "output_type": "execute_result"
    }
   ],
   "source": [
    "%sql SELECT * FROM Posiciones"
   ]
  },
  {
   "cell_type": "markdown",
   "metadata": {},
   "source": [
    "# JUEGAN_EN_POS"
   ]
  },
  {
   "cell_type": "code",
   "execution_count": 96,
   "metadata": {
    "collapsed": false
   },
   "outputs": [
    {
     "name": "stdout",
     "output_type": "stream",
     "text": [
      "Done.\n",
      "Done.\n"
     ]
    },
    {
     "data": {
      "text/plain": [
       "[]"
      ]
     },
     "execution_count": 96,
     "metadata": {},
     "output_type": "execute_result"
    }
   ],
   "source": [
    "%%sql\n",
    "CREATE TABLE IF NOT EXISTS Juegan_En_Pos\n",
    "(jugador VARCHAR(10),\n",
    " posicion VARCHAR(15),\n",
    " partido VARCHAR(10),\n",
    " hora_ini DATETIME,\n",
    " hora_fin DATETIME,\n",
    " PRIMARY KEY (jugador, posicion, partido),\n",
    " FOREIGN KEY (jugador) REFERENCES Jugadores(nif),\n",
    " FOREIGN KEY (posicion) REFERENCES Posiciones(tipo),\n",
    " FOREIGN KEY (partido) REFERENCES Partidos(ident)\n",
    ");"
   ]
  },
  {
   "cell_type": "code",
   "execution_count": 97,
   "metadata": {
    "collapsed": false
   },
   "outputs": [
    {
     "name": "stdout",
     "output_type": "stream",
     "text": [
      "0 rows affected.\n",
      "Done.\n"
     ]
    },
    {
     "data": {
      "text/html": [
       "<table>\n",
       "    <tr>\n",
       "        <th>jugador</th>\n",
       "        <th>posicion</th>\n",
       "        <th>partido</th>\n",
       "        <th>hora_ini</th>\n",
       "        <th>hora_fin</th>\n",
       "    </tr>\n",
       "</table>"
      ],
      "text/plain": [
       "[]"
      ]
     },
     "execution_count": 97,
     "metadata": {},
     "output_type": "execute_result"
    }
   ],
   "source": [
    "%%sql\n",
    "DELETE FROM Juegan_En_Pos;\n",
    "SELECT * FROM Juegan_En_Pos"
   ]
  },
  {
   "cell_type": "code",
   "execution_count": 98,
   "metadata": {
    "collapsed": false
   },
   "outputs": [
    {
     "name": "stdout",
     "output_type": "stream",
     "text": [
      "1 rows affected.\n",
      "1 rows affected.\n",
      "1 rows affected.\n",
      "1 rows affected.\n",
      "1 rows affected.\n",
      "1 rows affected.\n",
      "1 rows affected.\n",
      "1 rows affected.\n"
     ]
    },
    {
     "data": {
      "text/plain": [
       "[]"
      ]
     },
     "execution_count": 98,
     "metadata": {},
     "output_type": "execute_result"
    }
   ],
   "source": [
    "%%sql\n",
    "INSERT INTO Juegan_En_Pos(jugador, posicion, partido, hora_ini, hora_fin)\n",
    "VALUES ('15696688S', 'pivote', 'P1T1', '2013-03-01 09:00:00', '2013-03-01 10:40:00');\n",
    "INSERT INTO Juegan_En_Pos(jugador, posicion, partido, hora_ini, hora_fin)\n",
    "VALUES ('35492852T', 'banquillo', 'P2T1', '2013-09-01 09:00:00', '2013-09-01 10:40:00');\n",
    "INSERT INTO Juegan_En_Pos(jugador, posicion, partido, hora_ini, hora_fin)\n",
    "VALUES ('05885114Q', 'alero', 'P1T2', '2014-03-01 09:00:00', '2014-03-01 10:40:00');\n",
    "INSERT INTO Juegan_En_Pos(jugador, posicion, partido, hora_ini, hora_fin)\n",
    "VALUES ('25885116Q', 'escolta', 'P2T2', '2014-09-01 09:00:00', '2014-09-01 10:40:00');\n",
    "INSERT INTO Juegan_En_Pos(jugador, posicion, partido, hora_ini, hora_fin)\n",
    "VALUES ('25885116Q', 'escolta', 'P1T3', '2015-03-01 09:00:00', '2015-03-01 10:40:00');\n",
    "INSERT INTO Juegan_En_Pos(jugador, posicion, partido, hora_ini, hora_fin)\n",
    "VALUES ('15696688S', 'banquillo', 'P2T3', '2015-09-01 09:00:00', '2015-09-01 10:40:00');\n",
    "INSERT INTO Juegan_En_Pos(jugador, posicion, partido, hora_ini, hora_fin)\n",
    "VALUES ('25885116Q', 'base', 'P1T4', '2016-03-01 09:00:00', '2016-03-01 10:40:00');\n",
    "INSERT INTO Juegan_En_Pos(jugador, posicion, partido, hora_ini, hora_fin)\n",
    "VALUES ('35492852T', 'ala-pivot', 'P2T4', '2016-09-01 09:00:00', '2016-09-01 10:40:00');"
   ]
  },
  {
   "cell_type": "code",
   "execution_count": 99,
   "metadata": {
    "collapsed": false
   },
   "outputs": [
    {
     "name": "stdout",
     "output_type": "stream",
     "text": [
      "Done.\n"
     ]
    },
    {
     "data": {
      "text/html": [
       "<table>\n",
       "    <tr>\n",
       "        <th>jugador</th>\n",
       "        <th>posicion</th>\n",
       "        <th>partido</th>\n",
       "        <th>hora_ini</th>\n",
       "        <th>hora_fin</th>\n",
       "    </tr>\n",
       "    <tr>\n",
       "        <td>15696688S</td>\n",
       "        <td>pivote</td>\n",
       "        <td>P1T1</td>\n",
       "        <td>2013-03-01 09:00:00</td>\n",
       "        <td>2013-03-01 10:40:00</td>\n",
       "    </tr>\n",
       "    <tr>\n",
       "        <td>35492852T</td>\n",
       "        <td>banquillo</td>\n",
       "        <td>P2T1</td>\n",
       "        <td>2013-09-01 09:00:00</td>\n",
       "        <td>2013-09-01 10:40:00</td>\n",
       "    </tr>\n",
       "    <tr>\n",
       "        <td>05885114Q</td>\n",
       "        <td>alero</td>\n",
       "        <td>P1T2</td>\n",
       "        <td>2014-03-01 09:00:00</td>\n",
       "        <td>2014-03-01 10:40:00</td>\n",
       "    </tr>\n",
       "    <tr>\n",
       "        <td>25885116Q</td>\n",
       "        <td>escolta</td>\n",
       "        <td>P2T2</td>\n",
       "        <td>2014-09-01 09:00:00</td>\n",
       "        <td>2014-09-01 10:40:00</td>\n",
       "    </tr>\n",
       "    <tr>\n",
       "        <td>25885116Q</td>\n",
       "        <td>escolta</td>\n",
       "        <td>P1T3</td>\n",
       "        <td>2015-03-01 09:00:00</td>\n",
       "        <td>2015-03-01 10:40:00</td>\n",
       "    </tr>\n",
       "    <tr>\n",
       "        <td>15696688S</td>\n",
       "        <td>banquillo</td>\n",
       "        <td>P2T3</td>\n",
       "        <td>2015-09-01 09:00:00</td>\n",
       "        <td>2015-09-01 10:40:00</td>\n",
       "    </tr>\n",
       "    <tr>\n",
       "        <td>25885116Q</td>\n",
       "        <td>base</td>\n",
       "        <td>P1T4</td>\n",
       "        <td>2016-03-01 09:00:00</td>\n",
       "        <td>2016-03-01 10:40:00</td>\n",
       "    </tr>\n",
       "    <tr>\n",
       "        <td>35492852T</td>\n",
       "        <td>ala-pivot</td>\n",
       "        <td>P2T4</td>\n",
       "        <td>2016-09-01 09:00:00</td>\n",
       "        <td>2016-09-01 10:40:00</td>\n",
       "    </tr>\n",
       "</table>"
      ],
      "text/plain": [
       "[(u'15696688S', u'pivote', u'P1T1', u'2013-03-01 09:00:00', u'2013-03-01 10:40:00'),\n",
       " (u'35492852T', u'banquillo', u'P2T1', u'2013-09-01 09:00:00', u'2013-09-01 10:40:00'),\n",
       " (u'05885114Q', u'alero', u'P1T2', u'2014-03-01 09:00:00', u'2014-03-01 10:40:00'),\n",
       " (u'25885116Q', u'escolta', u'P2T2', u'2014-09-01 09:00:00', u'2014-09-01 10:40:00'),\n",
       " (u'25885116Q', u'escolta', u'P1T3', u'2015-03-01 09:00:00', u'2015-03-01 10:40:00'),\n",
       " (u'15696688S', u'banquillo', u'P2T3', u'2015-09-01 09:00:00', u'2015-09-01 10:40:00'),\n",
       " (u'25885116Q', u'base', u'P1T4', u'2016-03-01 09:00:00', u'2016-03-01 10:40:00'),\n",
       " (u'35492852T', u'ala-pivot', u'P2T4', u'2016-09-01 09:00:00', u'2016-09-01 10:40:00')]"
      ]
     },
     "execution_count": 99,
     "metadata": {},
     "output_type": "execute_result"
    }
   ],
   "source": [
    "%sql SELECT * FROM Juegan_En_Pos"
   ]
  },
  {
   "cell_type": "markdown",
   "metadata": {},
   "source": [
    "# TIEMPOS"
   ]
  },
  {
   "cell_type": "code",
   "execution_count": 102,
   "metadata": {
    "collapsed": false
   },
   "outputs": [
    {
     "name": "stdout",
     "output_type": "stream",
     "text": [
      "Done.\n"
     ]
    },
    {
     "data": {
      "text/plain": [
       "[]"
      ]
     },
     "execution_count": 102,
     "metadata": {},
     "output_type": "execute_result"
    }
   ],
   "source": [
    "%%sql\n",
    "CREATE TABLE IF NOT EXISTS Tiempos\n",
    "(numero INT,\n",
    " PRIMARY KEY (numero)\n",
    ");"
   ]
  },
  {
   "cell_type": "code",
   "execution_count": 103,
   "metadata": {
    "collapsed": false
   },
   "outputs": [
    {
     "name": "stdout",
     "output_type": "stream",
     "text": [
      "0 rows affected.\n",
      "Done.\n"
     ]
    },
    {
     "data": {
      "text/html": [
       "<table>\n",
       "    <tr>\n",
       "        <th>numero</th>\n",
       "    </tr>\n",
       "</table>"
      ],
      "text/plain": [
       "[]"
      ]
     },
     "execution_count": 103,
     "metadata": {},
     "output_type": "execute_result"
    }
   ],
   "source": [
    "%%sql\n",
    "DELETE FROM Tiempos;\n",
    "SELECT * FROM Tiempos"
   ]
  },
  {
   "cell_type": "code",
   "execution_count": 104,
   "metadata": {
    "collapsed": false
   },
   "outputs": [
    {
     "name": "stdout",
     "output_type": "stream",
     "text": [
      "1 rows affected.\n",
      "1 rows affected.\n",
      "1 rows affected.\n",
      "1 rows affected.\n"
     ]
    },
    {
     "data": {
      "text/plain": [
       "[]"
      ]
     },
     "execution_count": 104,
     "metadata": {},
     "output_type": "execute_result"
    }
   ],
   "source": [
    "%%sql\n",
    "INSERT INTO Tiempos(numero)\n",
    "VALUES (1);\n",
    "INSERT INTO Tiempos(numero)\n",
    "VALUES (2);\n",
    "INSERT INTO Tiempos(numero)\n",
    "VALUES (3);\n",
    "INSERT INTO Tiempos(numero)\n",
    "VALUES (4);\n"
   ]
  },
  {
   "cell_type": "code",
   "execution_count": 105,
   "metadata": {
    "collapsed": false
   },
   "outputs": [
    {
     "name": "stdout",
     "output_type": "stream",
     "text": [
      "Done.\n"
     ]
    },
    {
     "data": {
      "text/html": [
       "<table>\n",
       "    <tr>\n",
       "        <th>numero</th>\n",
       "    </tr>\n",
       "    <tr>\n",
       "        <td>1</td>\n",
       "    </tr>\n",
       "    <tr>\n",
       "        <td>2</td>\n",
       "    </tr>\n",
       "    <tr>\n",
       "        <td>3</td>\n",
       "    </tr>\n",
       "    <tr>\n",
       "        <td>4</td>\n",
       "    </tr>\n",
       "</table>"
      ],
      "text/plain": [
       "[(1,), (2,), (3,), (4,)]"
      ]
     },
     "execution_count": 105,
     "metadata": {},
     "output_type": "execute_result"
    }
   ],
   "source": [
    "%sql SELECT * FROM Tiempos"
   ]
  },
  {
   "cell_type": "markdown",
   "metadata": {},
   "source": [
    "# SE_DIVIDE_EN"
   ]
  },
  {
   "cell_type": "code",
   "execution_count": 109,
   "metadata": {
    "collapsed": false
   },
   "outputs": [
    {
     "name": "stdout",
     "output_type": "stream",
     "text": [
      "Done.\n",
      "Done.\n"
     ]
    },
    {
     "data": {
      "text/plain": [
       "[]"
      ]
     },
     "execution_count": 109,
     "metadata": {},
     "output_type": "execute_result"
    }
   ],
   "source": [
    "%%sql\n",
    "DROP TABLE Se_Divide_En;\n",
    "CREATE TABLE IF NOT EXISTS Se_Divide_En\n",
    "(partido VARCHAR(15),\n",
    " tiempo INT,\n",
    " hora_ini DATETIME,\n",
    " hora_fin DATETIME,\n",
    " puntuacion VARCHAR(10),\n",
    " PRIMARY KEY (partido, tiempo),\n",
    " FOREIGN KEY (partido) REFERENCES Partidos(ident),\n",
    " FOREIGN KEY (tiempo) REFERENCES Tiempos(numero)\n",
    ");"
   ]
  },
  {
   "cell_type": "code",
   "execution_count": 110,
   "metadata": {
    "collapsed": false
   },
   "outputs": [
    {
     "name": "stdout",
     "output_type": "stream",
     "text": [
      "0 rows affected.\n",
      "Done.\n"
     ]
    },
    {
     "data": {
      "text/html": [
       "<table>\n",
       "    <tr>\n",
       "        <th>partido</th>\n",
       "        <th>tiempo</th>\n",
       "        <th>hora_ini</th>\n",
       "        <th>hora_fin</th>\n",
       "        <th>puntuacion</th>\n",
       "    </tr>\n",
       "</table>"
      ],
      "text/plain": [
       "[]"
      ]
     },
     "execution_count": 110,
     "metadata": {},
     "output_type": "execute_result"
    }
   ],
   "source": [
    "%%sql\n",
    "DELETE FROM Se_Divide_En;\n",
    "SELECT * FROM Se_Divide_En"
   ]
  },
  {
   "cell_type": "code",
   "execution_count": 111,
   "metadata": {
    "collapsed": false
   },
   "outputs": [
    {
     "name": "stdout",
     "output_type": "stream",
     "text": [
      "1 rows affected.\n",
      "1 rows affected.\n",
      "1 rows affected.\n",
      "1 rows affected.\n"
     ]
    },
    {
     "data": {
      "text/plain": [
       "[]"
      ]
     },
     "execution_count": 111,
     "metadata": {},
     "output_type": "execute_result"
    }
   ],
   "source": [
    "%%sql\n",
    "INSERT INTO Se_Divide_En(partido, tiempo, hora_ini, hora_fin, puntuacion)\n",
    "VALUES ('P1T1', 1, '2013-03-01 09:00:00', '2013-03-01 09:15:00', '22-34');\n",
    "INSERT INTO Se_Divide_En(partido, tiempo, hora_ini, hora_fin, puntuacion)\n",
    "VALUES ('P1T1', 2, '2013-03-01 09:25:00', '2013-03-01 09:40:00', '45-46');\n",
    "INSERT INTO Se_Divide_En(partido, tiempo, hora_ini, hora_fin, puntuacion)\n",
    "VALUES ('P1T1', 3, '2013-03-01 09:50:00', '2013-03-01 10:05:00', '52-60');\n",
    "INSERT INTO Se_Divide_En(partido, tiempo, hora_ini, hora_fin, puntuacion)\n",
    "VALUES ('P1T1', 4, '2013-03-01 10:25:00', '2013-03-01 10:40:00', '68-75');"
   ]
  },
  {
   "cell_type": "code",
   "execution_count": 112,
   "metadata": {
    "collapsed": false
   },
   "outputs": [
    {
     "name": "stdout",
     "output_type": "stream",
     "text": [
      "Done.\n"
     ]
    },
    {
     "data": {
      "text/html": [
       "<table>\n",
       "    <tr>\n",
       "        <th>partido</th>\n",
       "        <th>tiempo</th>\n",
       "        <th>hora_ini</th>\n",
       "        <th>hora_fin</th>\n",
       "        <th>puntuacion</th>\n",
       "    </tr>\n",
       "    <tr>\n",
       "        <td>P1T1</td>\n",
       "        <td>1</td>\n",
       "        <td>2013-03-01 09:00:00</td>\n",
       "        <td>2013-03-01 09:15:00</td>\n",
       "        <td>22-34</td>\n",
       "    </tr>\n",
       "    <tr>\n",
       "        <td>P1T1</td>\n",
       "        <td>2</td>\n",
       "        <td>2013-03-01 09:25:00</td>\n",
       "        <td>2013-03-01 09:40:00</td>\n",
       "        <td>45-46</td>\n",
       "    </tr>\n",
       "    <tr>\n",
       "        <td>P1T1</td>\n",
       "        <td>3</td>\n",
       "        <td>2013-03-01 09:50:00</td>\n",
       "        <td>2013-03-01 10:05:00</td>\n",
       "        <td>52-60</td>\n",
       "    </tr>\n",
       "    <tr>\n",
       "        <td>P1T1</td>\n",
       "        <td>4</td>\n",
       "        <td>2013-03-01 10:25:00</td>\n",
       "        <td>2013-03-01 10:40:00</td>\n",
       "        <td>68-75</td>\n",
       "    </tr>\n",
       "</table>"
      ],
      "text/plain": [
       "[(u'P1T1', 1, u'2013-03-01 09:00:00', u'2013-03-01 09:15:00', u'22-34'),\n",
       " (u'P1T1', 2, u'2013-03-01 09:25:00', u'2013-03-01 09:40:00', u'45-46'),\n",
       " (u'P1T1', 3, u'2013-03-01 09:50:00', u'2013-03-01 10:05:00', u'52-60'),\n",
       " (u'P1T1', 4, u'2013-03-01 10:25:00', u'2013-03-01 10:40:00', u'68-75')]"
      ]
     },
     "execution_count": 112,
     "metadata": {},
     "output_type": "execute_result"
    }
   ],
   "source": [
    "%sql SELECT * FROM Se_Divide_En"
   ]
  },
  {
   "cell_type": "code",
   "execution_count": null,
   "metadata": {
    "collapsed": true
   },
   "outputs": [],
   "source": []
  }
 ],
 "metadata": {
  "kernelspec": {
   "display_name": "Python 3",
   "language": "python",
   "name": "python3"
  },
  "language_info": {
   "codemirror_mode": {
    "name": "ipython",
    "version": 3
   },
   "file_extension": ".py",
   "mimetype": "text/x-python",
   "name": "python",
   "nbconvert_exporter": "python",
   "pygments_lexer": "ipython3",
   "version": "3.5.2"
  }
 },
 "nbformat": 4,
 "nbformat_minor": 1
}
